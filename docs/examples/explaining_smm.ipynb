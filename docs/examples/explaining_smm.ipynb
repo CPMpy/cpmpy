{
 "cells": [
  {
   "cell_type": "markdown",
   "metadata": {},
   "source": [
    "## Send More Money\n",
    "\n",
    "Now let us take a look in detail how easy is to integrate cp programming through the Send More Money example. \n",
    "First we need to import all the tools that we will need to create our CP model:"
   ]
  },
  {
   "cell_type": "code",
   "execution_count": null,
   "metadata": {},
   "outputs": [],
   "source": [
    "from cpmpy import *\n",
    "import numpy as np"
   ]
  },
  {
   "cell_type": "markdown",
   "metadata": {},
   "source": [
    "Secondly, as in every constraint programming model we need to define variables and constraints. Variables are introduced \n",
    "as follows:"
   ]
  },
  {
   "cell_type": "code",
   "execution_count": null,
   "metadata": {},
   "outputs": [],
   "source": [
    "s,e,n,d,m,o,r,y = IntVar(0,9, 8)"
   ]
  },
  {
   "cell_type": "markdown",
   "metadata": {},
   "source": [
    "This line indicates that we are creating 8 integer variables, s,e,n,d,m,o,r,y, with domain between 0 and 9. In general, the sintax to generate integer variables between a and b is"
   ]
  },
  {
   "cell_type": "markdown",
   "metadata": {},
   "source": [
    "ListOfVariables = IntVar(a,b,n)"
   ]
  },
  {
   "cell_type": "markdown",
   "metadata": {},
   "source": [
    "Constraints are included in the model as a list. First, we create a list to add the constraints. Then, we append an 'all different constraint' in a straightforward fashion. Finally, we add the constraint saying SEND + MORE = MONEY. "
   ]
  },
  {
   "cell_type": "code",
   "execution_count": null,
   "metadata": {},
   "outputs": [],
   "source": [
    "constraint = []\n",
    "constraint += [ alldifferent([s,e,n,d,m,o,r,y]) ]\n",
    "constraint += [    sum(   [s,e,n,d] * np.flip(10**np.arange(4)) )\n",
    "                 + sum(   [m,o,r,e] * np.flip(10**np.arange(4)) )\n",
    "                == sum( [m,o,n,e,y] * np.flip(10**np.arange(5)) ) ]"
   ]
  },
  {
   "cell_type": "markdown",
   "metadata": {},
   "source": [
    "Note that we can use numpy library to efficiently state the last constraint. As final modeling step we need to create a Model object. To do this, we need to state the model object with the list of constraints as argument."
   ]
  },
  {
   "cell_type": "code",
   "execution_count": null,
   "metadata": {},
   "outputs": [],
   "source": [
    "model = Model(constraint)"
   ]
  },
  {
   "cell_type": "markdown",
   "metadata": {},
   "source": [
    "We finally solve the CSP with the following command:"
   ]
  },
  {
   "cell_type": "code",
   "execution_count": null,
   "metadata": {},
   "outputs": [],
   "source": [
    "stats = model.solve()"
   ]
  },
  {
   "cell_type": "markdown",
   "metadata": {},
   "source": [
    "where the variable ```stats``` saves the answer of the CSP. In this case: ```True```, stating that the problem was solved by finding a feasible solution, i.e. a solution that satisfies all the constraints."
   ]
  },
  {
   "cell_type": "code",
   "execution_count": null,
   "metadata": {},
   "outputs": [],
   "source": [
    "print(stats)"
   ]
  },
  {
   "cell_type": "markdown",
   "metadata": {},
   "source": [
    "In the case that you may add an objective function, a second argument must be added. This can be a maximization or a minimization. As we aim to maximize the value of the word MONEY."
   ]
  },
  {
   "cell_type": "code",
   "execution_count": null,
   "metadata": {},
   "outputs": [],
   "source": [
    "coefs  = np.flip(10**np.arange(5))\n",
    "objective = np.dot([m,o,n,e,y],coefs)\n",
    "model = Model(constraint, maximize = objective)\n",
    "stats = model.solve()"
   ]
  },
  {
   "cell_type": "markdown",
   "metadata": {},
   "source": [
    "Note that in this COP the exit status changes to ```10562```, indicating that we found an optimal solution, i.e. the best amongst all the feasible solutions."
   ]
  },
  {
   "cell_type": "code",
   "execution_count": null,
   "metadata": {},
   "outputs": [],
   "source": [
    "print(stats)"
   ]
  }
 ],
 "metadata": {
  "kernelspec": {
   "display_name": "Python 3",
   "language": "python",
   "name": "python3"
  },
  "language_info": {
   "codemirror_mode": {
    "name": "ipython",
    "version": 3
   },
   "file_extension": ".py",
   "mimetype": "text/x-python",
   "name": "python",
   "nbconvert_exporter": "python",
   "pygments_lexer": "ipython3",
   "version": "3.7.6"
  }
 },
 "nbformat": 4,
 "nbformat_minor": 4
}
