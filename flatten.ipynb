{
 "metadata": {
  "language_info": {
   "codemirror_mode": {
    "name": "ipython",
    "version": 3
   },
   "file_extension": ".py",
   "mimetype": "text/x-python",
   "name": "python",
   "nbconvert_exporter": "python",
   "pygments_lexer": "ipython3",
   "version": "3.7.9-final"
  },
  "orig_nbformat": 2,
  "kernelspec": {
   "name": "python37964bitpredoptconda9da71119bc9e4632bb11a8b20cead876",
   "display_name": "Python 3.7.9 64-bit ('predopt': conda)",
   "language": "python"
  }
 },
 "nbformat": 4,
 "nbformat_minor": 2,
 "cells": [
  {
   "cell_type": "code",
   "execution_count": 1,
   "metadata": {},
   "outputs": [],
   "source": [
    "import cpmpy as cp\n",
    "from cpmpy.model_tools.flatten_model import flatten_boolexpr"
   ]
  },
  {
   "cell_type": "code",
   "execution_count": 2,
   "metadata": {},
   "outputs": [],
   "source": [
    "import cpmpy as cp\n",
    "from cpmpy.model_tools.flatten_model import flatten_boolexpr\n",
    "a,b,c,d,e =  cp.IntVar(1, 10, shape=(5,))\n",
    "f,g,h = cp.BoolVar((3,))\n",
    "\n",
    "\n",
    "\n"
   ]
  },
  {
   "cell_type": "code",
   "execution_count": 3,
   "metadata": {},
   "outputs": [
    {
     "output_type": "execute_result",
     "data": {
      "text/plain": [
       "(BV0, [(IV0 > 5) == (BV0)])"
      ]
     },
     "metadata": {},
     "execution_count": 3
    }
   ],
   "source": [
    "cons1 = (a > 5) == f\n",
    "fl1 = flatten_boolexpr(cons1)\n",
    "fl1"
   ]
  },
  {
   "cell_type": "code",
   "execution_count": 4,
   "metadata": {},
   "outputs": [
    {
     "output_type": "execute_result",
     "data": {
      "text/plain": [
       "(BV0, [(BV0) == (IV1 < 2)])"
      ]
     },
     "metadata": {},
     "execution_count": 4
    }
   ],
   "source": [
    "cons2 = (f == (b < 2))\n",
    "fl2 = flatten_boolexpr(cons2)\n",
    "fl2"
   ]
  },
  {
   "cell_type": "code",
   "execution_count": 5,
   "metadata": {},
   "outputs": [
    {
     "output_type": "execute_result",
     "data": {
      "text/plain": [
       "(BV5, [[(IV0 > 5) == (BV3)], [(IV1 < 3) == (BV4)], ((BV3) == (BV4)) == (BV5)])"
      ]
     },
     "metadata": {},
     "execution_count": 5
    }
   ],
   "source": [
    "cons3 = ((a > 5) == (b < 3))\n",
    "fl3 = flatten_boolexpr(cons3)\n",
    "fl3"
   ]
  }
 ]
}