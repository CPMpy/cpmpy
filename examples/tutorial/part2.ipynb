{
 "cells": [
  {
   "cell_type": "code",
   "execution_count": 1,
   "id": "invalid-partition",
   "metadata": {},
   "outputs": [],
   "source": [
    "from cpmpy import *\n",
    "import numpy as np"
   ]
  },
  {
   "cell_type": "code",
   "execution_count": null,
   "id": "moderate-patient",
   "metadata": {},
   "outputs": [],
   "source": []
  },
  {
   "cell_type": "code",
   "execution_count": 2,
   "id": "missing-rental",
   "metadata": {},
   "outputs": [
    {
     "name": "stdout",
     "output_type": "stream",
     "text": [
      "[3 0]\n",
      "[2 1]\n",
      "[3 2]\n",
      "[1 0]\n",
      "[3 1]\n",
      "[2 0]\n"
     ]
    }
   ],
   "source": [
    "x = intvar(0,3, shape=2)\n",
    "m = Model(x[0] > x[1])\n",
    "\n",
    "while m.solve():\n",
    "    print(x.value())\n",
    "    m += ~all(x == x.value()) # block solution"
   ]
  },
  {
   "cell_type": "code",
   "execution_count": null,
   "id": "oriented-findings",
   "metadata": {},
   "outputs": [],
   "source": []
  },
  {
   "cell_type": "code",
   "execution_count": 3,
   "id": "moved-hierarchy",
   "metadata": {},
   "outputs": [
    {
     "name": "stdout",
     "output_type": "stream",
     "text": [
      "0 : [3 0]\n",
      "1 : [2 1]\n",
      "2 : [1 0]\n",
      "3 : [3 2]\n",
      "4 : [2 0]\n",
      "5 : [3 1]\n"
     ]
    }
   ],
   "source": [
    "# a diversity measure, hamming distance\n",
    "def hamm(x, y):\n",
    "    return sum(x != y)\n",
    "\n",
    "x = intvar(0,3, shape=2)\n",
    "m = Model(x[0] > x[1])\n",
    "\n",
    "store = []\n",
    "while m.solve():\n",
    "    print(len(store), \":\", x.value())\n",
    "    m += ~all(x == x.value()) # block solution\n",
    "    store.append(x.value())\n",
    "    # maximize number of elements that are different\n",
    "    m.maximize(sum([hamm(x, sol) for sol in store]))\n"
   ]
  },
  {
   "cell_type": "code",
   "execution_count": null,
   "id": "verbal-wright",
   "metadata": {},
   "outputs": [],
   "source": []
  },
  {
   "cell_type": "code",
   "execution_count": 4,
   "id": "accredited-niger",
   "metadata": {},
   "outputs": [],
   "source": [
    "import time\n",
    "from cpmpy.solvers import CPM_ortools"
   ]
  },
  {
   "cell_type": "code",
   "execution_count": 5,
   "id": "everyday-somalia",
   "metadata": {},
   "outputs": [
    {
     "name": "stdout",
     "output_type": "stream",
     "text": [
      "...............................time: 1.9752843379974365\n"
     ]
    }
   ],
   "source": [
    "x = intvar(0,30, shape=30)\n",
    "m = Model([x[i-1] < x[i] for i in range(1, len(x))])\n",
    "\n",
    "t0 = time.time()\n",
    "\n",
    "while m.solve():\n",
    "    print(\".\",end=\"\")\n",
    "    m += ~all(x == x.value()) # block solution\n",
    "print(\"time:\", time.time()-t0)"
   ]
  },
  {
   "cell_type": "code",
   "execution_count": 6,
   "id": "protecting-warrant",
   "metadata": {},
   "outputs": [
    {
     "name": "stdout",
     "output_type": "stream",
     "text": [
      "...............................time: 0.7691185474395752\n"
     ]
    }
   ],
   "source": [
    "x = intvar(0,30, shape=30)\n",
    "m = Model([x[i-1] < x[i] for i in range(1, len(x))])\n",
    "\n",
    "t0 = time.time()\n",
    "m = CPM_ortools(m)\n",
    "while m.solve():\n",
    "    print(\".\",end=\"\")\n",
    "    m += ~all(x == x.value()) # block solution\n",
    "print(\"time:\", time.time()-t0)"
   ]
  },
  {
   "cell_type": "code",
   "execution_count": null,
   "id": "elementary-light",
   "metadata": {},
   "outputs": [],
   "source": []
  },
  {
   "cell_type": "code",
   "execution_count": 7,
   "id": "italian-doctrine",
   "metadata": {},
   "outputs": [
    {
     "name": "stdout",
     "output_type": "stream",
     "text": [
      "\tSAT so in MUS: (x[0]) > (x[1])\n",
      "\tSAT so in MUS: (x[1]) > (x[2])\n",
      "\tSAT so in MUS: (x[2]) > (x[0])\n",
      "\tUNSAT so not in MUS: (x[3]) > (x[0])\n",
      "\tUNSAT so not in MUS: (((x[3]) > (x[1])) -> ((x[3]) > (x[2]))) and ((x[3] == 3) or ((x[1]) == (x[2])))\n"
     ]
    }
   ],
   "source": [
    "x = intvar(0,3, shape=4, name=\"x\")\n",
    "# circular 'bigger then', UNSAT\n",
    "mus_cons = [\n",
    "    x[0] > x[1],\n",
    "    x[1] > x[2],\n",
    "    x[2] > x[0],\n",
    "    \n",
    "    x[3] > x[0],\n",
    "    (x[3] > x[1]).implies(x[3] > x[2]) & ((x[3] == 3) | (x[1] == x[2]))\n",
    "]\n",
    "\n",
    "\n",
    "i = 0 # we wil dynamically shrink mus_vars\n",
    "while i < len(mus_cons):\n",
    "    # add all other remaining constraints\n",
    "    assum_cons = mus_cons[:i] + mus_cons[i+1:]\n",
    "\n",
    "    if Model(assum_cons).solve():\n",
    "        # with all but 'i' it is SAT, so 'i' belongs to the MUS\n",
    "        print(\"\\tSAT so in MUS:\", mus_cons[i])\n",
    "        i += 1\n",
    "    else:\n",
    "        # still UNSAT, 'i' does not belong to the MUS\n",
    "        print(\"\\tUNSAT so not in MUS:\", mus_cons[i])\n",
    "        # overwrite current 'i' and continue\n",
    "        mus_cons = assum_cons"
   ]
  },
  {
   "cell_type": "code",
   "execution_count": null,
   "id": "integral-atmosphere",
   "metadata": {},
   "outputs": [],
   "source": []
  },
  {
   "cell_type": "code",
   "execution_count": 8,
   "id": "freelance-education",
   "metadata": {},
   "outputs": [
    {
     "name": "stdout",
     "output_type": "stream",
     "text": [
      "UNSAT core of size 5\n",
      "\tSAT so in MUS: (x[0]) > (x[1])\n",
      "\tSAT so in MUS: (x[1]) > (x[2])\n",
      "\tSAT so in MUS: (x[2]) > (x[0])\n",
      "\tUNSAT so not in MUS: (x[3]) > (x[0])\n",
      "\tUNSAT so not in MUS: (x[3]) > (x[0])\n"
     ]
    }
   ],
   "source": [
    "x = intvar(0,3, shape=4, name=\"x\")\n",
    "# circular 'bigger then', UNSAT\n",
    "mus_cons = [\n",
    "    x[0] > x[1],\n",
    "    x[1] > x[2],\n",
    "    x[2] > x[0],\n",
    "    \n",
    "    x[3] > x[0],\n",
    "    (x[3] > x[1]).implies(x[3] > x[2]) & ((x[3] == 3) | (x[1] == x[2]))\n",
    "]\n",
    "\n",
    "\n",
    "assum_model = Model()\n",
    "# make assumption indicators, add reified constraints\n",
    "ind = BoolVar(shape=len(mus_cons), name=\"ind\")\n",
    "for i,bv in enumerate(ind):\n",
    "    assum_model += [bv.implies(mus_cons[i])]\n",
    "# to map indicator variable back to soft_constraints\n",
    "indmap = dict((v,i) for (i,v) in enumerate(ind))\n",
    "\n",
    "assum_solver = CPM_ortools(assum_model)\n",
    "assert (not assum_solver.solve(assumptions=ind)), \"Model must be UNSAT\"\n",
    "\n",
    "# unsat core is an unsatisfiable subset\n",
    "mus_vars = assum_solver.get_core()\n",
    "print(\"UNSAT core of size\", len(mus_vars))\n",
    "\n",
    "# now we shrink the unsatisfiable subset further\n",
    "i = 0 # we wil dynamically shrink mus_vars\n",
    "while i < len(mus_vars):\n",
    "    # add all other remaining constraints\n",
    "    assum_vars = mus_vars[:i] + mus_vars[i+1:]\n",
    "\n",
    "    if assum_solver.solve(assumptions=assum_vars):\n",
    "        # with all but 'i' it is SAT, so 'i' belongs to the MUS\n",
    "        print(\"\\tSAT so in MUS:\", mus_cons[i])\n",
    "        i += 1\n",
    "    else:\n",
    "        # still UNSAT, 'i' does not belong to the MUS\n",
    "        print(\"\\tUNSAT so not in MUS:\", mus_cons[i])\n",
    "        # overwrite current 'i' and continue\n",
    "        mus_vars = assum_vars"
   ]
  },
  {
   "cell_type": "code",
   "execution_count": null,
   "id": "random-climate",
   "metadata": {},
   "outputs": [],
   "source": []
  },
  {
   "cell_type": "code",
   "execution_count": 9,
   "id": "incomplete-humidity",
   "metadata": {},
   "outputs": [],
   "source": [
    "from marco_musmss_enumeration import SubsetSolver, MapSolver\n",
    "\n",
    "def do_marco(model):\n",
    "    sub_solver = SubsetSolver(model.constraints)\n",
    "    map_solver = MapSolver(len(model.constraints))\n",
    "\n",
    "    while True:\n",
    "        seed = map_solver.next_seed()\n",
    "        if seed is None:\n",
    "            # all MUS/MSS enumerated\n",
    "            return\n",
    "\n",
    "        if sub_solver.check_subset(seed):\n",
    "            MSS = sub_solver.grow(seed)\n",
    "            yield (\"MSS\", [model.constraints[i] for i in MSS])\n",
    "            map_solver.block_down(MSS)\n",
    "        else:\n",
    "            seed = sub_solver.seed_from_core()\n",
    "            MUS = sub_solver.shrink(seed)\n",
    "            yield (\"MUS\", [model.constraints[i] for i in MUS])\n",
    "            map_solver.block_up(MUS)"
   ]
  },
  {
   "cell_type": "code",
   "execution_count": 10,
   "id": "expanded-induction",
   "metadata": {},
   "outputs": [
    {
     "name": "stdout",
     "output_type": "stream",
     "text": [
      "MUS :\n",
      "\t (x[2]) > (x[0])\n",
      "\t (x[1]) > (x[2])\n",
      "\t (x[0]) > (x[1])\n",
      "MSS :\n",
      "\t (x[1]) > (x[2])\n",
      "\t (x[0]) > (x[1])\n",
      "\t (((x[3]) > (x[1])) -> ((x[3]) > (x[2]))) and ((x[3] == 3) or ((x[1]) == (x[2])))\n",
      "\t (x[3]) > (x[0])\n",
      "MSS :\n",
      "\t (x[0]) > (x[1])\n",
      "\t (((x[3]) > (x[1])) -> ((x[3]) > (x[2]))) and ((x[3] == 3) or ((x[1]) == (x[2])))\n",
      "\t (x[3]) > (x[0])\n",
      "\t (x[2]) > (x[0])\n",
      "MSS :\n",
      "\t (((x[3]) > (x[1])) -> ((x[3]) > (x[2]))) and ((x[3] == 3) or ((x[1]) == (x[2])))\n",
      "\t (x[3]) > (x[0])\n",
      "\t (x[2]) > (x[0])\n",
      "\t (x[1]) > (x[2])\n"
     ]
    }
   ],
   "source": [
    "x = intvar(0,3, shape=4, name=\"x\")\n",
    "# circular 'bigger then', UNSAT\n",
    "m = Model(\n",
    "    x[0] > x[1],\n",
    "    x[1] > x[2],\n",
    "    x[2] > x[0],\n",
    "    \n",
    "    x[3] > x[0],\n",
    "    (x[3] > x[1]).implies(x[3] > x[2]) & ((x[3] == 3) | (x[1] == x[2]))\n",
    ")\n",
    "\n",
    "\n",
    "for kind, exprs in do_marco(m):\n",
    "    print(kind,\":\")\n",
    "    for e in sorted(exprs):\n",
    "        print(\"\\t\", e)"
   ]
  },
  {
   "cell_type": "code",
   "execution_count": null,
   "id": "prompt-second",
   "metadata": {},
   "outputs": [],
   "source": []
  },
  {
   "cell_type": "code",
   "execution_count": 11,
   "id": "otherwise-mediterranean",
   "metadata": {},
   "outputs": [
    {
     "name": "stdout",
     "output_type": "stream",
     "text": [
      "Found Optimal US, total weight: 6\n",
      "\t (x[0]) > (x[1]) w= 2\n",
      "\t (x[1]) > (x[2]) w= 2\n",
      "\t (x[2]) > (x[0]) w= 2\n"
     ]
    }
   ],
   "source": [
    "x = intvar(0,3, shape=4, name=\"x\")\n",
    "# circular 'bigger then', UNSAT\n",
    "mus_cons = [\n",
    "    x[0] > x[1],\n",
    "    x[1] > x[2],\n",
    "    x[2] > x[0],\n",
    "    \n",
    "    x[3] > x[0],\n",
    "    (x[3] > x[1]).implies(x[3] > x[2]) & ((x[3] == 3) | (x[1] == x[2]))\n",
    "]\n",
    "weights = np.array([2,2,2, 5,10])\n",
    "\n",
    "\n",
    "assum_model = Model()\n",
    "# make assumption indicators, add reified constraints\n",
    "ind = BoolVar(shape=len(mus_cons), name=\"ind\")\n",
    "for i,bv in enumerate(ind):\n",
    "    assum_model += [bv.implies(mus_cons[i])]\n",
    "# to map indicator variable back to soft_constraints\n",
    "indmap = dict((v,i) for (i,v) in enumerate(ind))\n",
    "\n",
    "assum_solver = CPM_ortools(assum_model)\n",
    "assert (not assum_solver.solve(assumptions=ind)), \"Model must be UNSAT\"\n",
    "\n",
    "\n",
    "hitset_solver = CPM_ortools(Model(\n",
    "                    minimize=sum(weights*ind)))\n",
    "\n",
    "while(True):\n",
    "    hitset_solver.solve()\n",
    "\n",
    "    # Get hitting set\n",
    "    hs = ind[ind.value() == 1]\n",
    "\n",
    "    if not assum_solver.solve(assumptions=hs):\n",
    "        print(\"Found Optimal US, total weight:\", sum(weights[ind.value() == 1]))\n",
    "        for i in (ind.value() == 1).nonzero()[0]:\n",
    "            print(\"\\t\", mus_cons[i], \"w=\",weights[i])\n",
    "        break\n",
    "\n",
    "    # hs is satisfiable subset, hit one from complement\n",
    "    C = ind[ind.value() == 0]\n",
    "    hitset_solver += (sum(C) >= 1)\n"
   ]
  },
  {
   "cell_type": "code",
   "execution_count": null,
   "id": "completed-studio",
   "metadata": {},
   "outputs": [],
   "source": []
  },
  {
   "cell_type": "code",
   "execution_count": 12,
   "id": "earned-release",
   "metadata": {},
   "outputs": [
    {
     "name": "stdout",
     "output_type": "stream",
     "text": [
      "Solution intersection: {b[2], ~b[0], b[1]}\n",
      "\n",
      "Constraint(s): [~b[0]]\n",
      "  and fact(s): []\n",
      "           ==> ~b[0]\t(cost: 0)\n",
      "\n",
      "Constraint(s): [~b[0], (b[0]) or (b[1])]\n",
      "  and fact(s): []\n",
      "           ==> b[1]\t(cost: 0)\n",
      "\n",
      "Constraint(s): [~b[0], (b[1]) -> ((b[0]) or (b[2]))]\n",
      "  and fact(s): [b[1]]\n",
      "           ==> b[2]\t(cost: 0)\n",
      "\n"
     ]
    }
   ],
   "source": [
    "b = boolvar(3, name=\"b\")\n",
    "m = Model(\n",
    "    b[1].implies(b[0] | b[2]),\n",
    "    b[0] | b[1],\n",
    "    ~b[0],\n",
    ")\n",
    "m.solve()\n",
    "\n",
    "from ocus_explanations import explain_ocus\n",
    "r = explain_ocus(m.constraints, verbose=True)"
   ]
  },
  {
   "cell_type": "code",
   "execution_count": null,
   "id": "signal-conducting",
   "metadata": {},
   "outputs": [],
   "source": []
  },
  {
   "cell_type": "code",
   "execution_count": 13,
   "id": "touched-chance",
   "metadata": {},
   "outputs": [],
   "source": [
    "# FROM examples/advanced/counterfactual_explain.py\n",
    "# cutting plane algorithm\n",
    "\n",
    "def inverse_optimize(d_orig, weights, capacity, x_d, foil_idx):\n",
    "    \"\"\"\n",
    "    Master problem: iteratively find better values for the 'd_orig' vector\n",
    "    (Korikov, A., & Beck, J. C., Counterfactual Explanations via Inverse Constraint Programming (CP2021))\n",
    "    \"\"\"\n",
    "    master_model, d, x = make_master_problem(d_orig, weights, capacity, x_d, foil_idx)\n",
    "    sub_model, x_0 = make_sub_problem(d_orig, weights, capacity)\n",
    "\n",
    "    i = 1\n",
    "    while master_model.solve() is not False:\n",
    "        d_star = d.value() # master solution\n",
    "        if verbose:\n",
    "            print(f\"Iteration {i}, candidate costs: {d_star}\")\n",
    "\n",
    "        # solve subproblem\n",
    "        sub_model.maximize(sum(x_0 * d_star))\n",
    "        sub_model.solve()\n",
    "        if verbose:\n",
    "            print(f\"  Is foil-based solution now optimal? {sum(d_star * x_d)} >=? {sum(d_star * x_0.value())}\")\n",
    "        if sum(d_star * x_d) >= sum(d_star * x_0.value()):\n",
    "            return d_star # is optimal\n",
    "        else:\n",
    "            # add cutting plane to master\n",
    "            master_model += [sum(d * x) >= sum(d * x_0.value())]\n",
    "        i += 1\n",
    "\n",
    "    raise ValueError(\"Master model is UNSAT!\")"
   ]
  },
  {
   "cell_type": "code",
   "execution_count": null,
   "id": "wrong-civilization",
   "metadata": {},
   "outputs": [],
   "source": []
  }
 ],
 "metadata": {
  "kernelspec": {
   "display_name": "Python 3",
   "language": "python",
   "name": "python3"
  },
  "language_info": {
   "codemirror_mode": {
    "name": "ipython",
    "version": 3
   },
   "file_extension": ".py",
   "mimetype": "text/x-python",
   "name": "python",
   "nbconvert_exporter": "python",
   "pygments_lexer": "ipython3",
   "version": "3.9.2"
  }
 },
 "nbformat": 4,
 "nbformat_minor": 5
}
