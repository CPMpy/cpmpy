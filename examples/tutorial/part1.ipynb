{
 "cells": [
  {
   "cell_type": "code",
   "execution_count": 1,
   "id": "invalid-partition",
   "metadata": {},
   "outputs": [],
   "source": [
    "from cpmpy import *\n",
    "import numpy as np"
   ]
  },
  {
   "cell_type": "code",
   "execution_count": null,
   "id": "moderate-patient",
   "metadata": {},
   "outputs": [],
   "source": []
  },
  {
   "cell_type": "code",
   "execution_count": 2,
   "id": "colonial-headquarters",
   "metadata": {},
   "outputs": [
    {
     "data": {
      "text/plain": [
       "15.0"
      ]
     },
     "execution_count": 2,
     "metadata": {},
     "output_type": "execute_result"
    }
   ],
   "source": [
    "model = Model()\n",
    "\n",
    "gr,bl,og,ye,gy = boolvar(shape=5)\n",
    "\n",
    "model += (12*gr + 2*bl + 1*og + 4*ye + 1*gy <= 15)\n",
    "\n",
    "model.maximize(4*gr + 2*bl + 1*og + 10*ye + 2*gy)\n",
    "\n",
    "\n",
    "model.solve()"
   ]
  },
  {
   "cell_type": "code",
   "execution_count": 3,
   "id": "proprietary-thriller",
   "metadata": {},
   "outputs": [
    {
     "name": "stdout",
     "output_type": "stream",
     "text": [
      "0 1 1 1 1\n"
     ]
    }
   ],
   "source": [
    "print(gr.value(), bl.value(), og.value(), ye.value(), gy.value())"
   ]
  },
  {
   "cell_type": "code",
   "execution_count": null,
   "id": "natural-dryer",
   "metadata": {},
   "outputs": [],
   "source": []
  },
  {
   "cell_type": "code",
   "execution_count": 4,
   "id": "impressive-growth",
   "metadata": {},
   "outputs": [
    {
     "name": "stdout",
     "output_type": "stream",
     "text": [
      "BV5\n"
     ]
    }
   ],
   "source": [
    "v = boolvar()\n",
    "print(v)"
   ]
  },
  {
   "cell_type": "code",
   "execution_count": 5,
   "id": "desperate-consideration",
   "metadata": {},
   "outputs": [
    {
     "name": "stdout",
     "output_type": "stream",
     "text": [
      "[BV6 BV7 BV8 BV9 BV10]\n"
     ]
    }
   ],
   "source": [
    "v = boolvar(shape=5)\n",
    "print(v)"
   ]
  },
  {
   "cell_type": "code",
   "execution_count": 6,
   "id": "loved-absolute",
   "metadata": {},
   "outputs": [
    {
     "name": "stdout",
     "output_type": "stream",
     "text": [
      "[IV7 IV8 IV9 IV10 IV11]\n"
     ]
    }
   ],
   "source": [
    "v = intvar(1,9, shape=5)\n",
    "print(v)"
   ]
  },
  {
   "cell_type": "code",
   "execution_count": 7,
   "id": "valuable-island",
   "metadata": {},
   "outputs": [
    {
     "name": "stdout",
     "output_type": "stream",
     "text": [
      "[[IV12 IV13 IV14]\n",
      " [IV15 IV16 IV17]\n",
      " [IV18 IV19 IV20]]\n"
     ]
    }
   ],
   "source": [
    "m = intvar(1,9, shape=(3,3))\n",
    "print(m)"
   ]
  },
  {
   "cell_type": "code",
   "execution_count": 8,
   "id": "liquid-latvia",
   "metadata": {},
   "outputs": [
    {
     "name": "stdout",
     "output_type": "stream",
     "text": [
      "[[[BV11 BV12 BV13 BV14]\n",
      "  [BV15 BV16 BV17 BV18]\n",
      "  [BV19 BV20 BV21 BV22]]\n",
      "\n",
      " [[BV23 BV24 BV25 BV26]\n",
      "  [BV27 BV28 BV29 BV30]\n",
      "  [BV31 BV32 BV33 BV34]]]\n"
     ]
    }
   ],
   "source": [
    "t = boolvar(shape=(2,3,4))\n",
    "print(t)"
   ]
  },
  {
   "cell_type": "code",
   "execution_count": 9,
   "id": "automated-packet",
   "metadata": {},
   "outputs": [
    {
     "name": "stdout",
     "output_type": "stream",
     "text": [
      "[[[x[0,0,0] x[0,0,1] x[0,0,2]]\n",
      "  [x[0,1,0] x[0,1,1] x[0,1,2]]\n",
      "  [x[0,2,0] x[0,2,1] x[0,2,2]]]\n",
      "\n",
      " [[x[1,0,0] x[1,0,1] x[1,0,2]]\n",
      "  [x[1,1,0] x[1,1,1] x[1,1,2]]\n",
      "  [x[1,2,0] x[1,2,1] x[1,2,2]]]\n",
      "\n",
      " [[x[2,0,0] x[2,0,1] x[2,0,2]]\n",
      "  [x[2,1,0] x[2,1,1] x[2,1,2]]\n",
      "  [x[2,2,0] x[2,2,1] x[2,2,2]]]\n",
      "\n",
      " [[x[3,0,0] x[3,0,1] x[3,0,2]]\n",
      "  [x[3,1,0] x[3,1,1] x[3,1,2]]\n",
      "  [x[3,2,0] x[3,2,1] x[3,2,2]]]\n",
      "\n",
      " [[x[4,0,0] x[4,0,1] x[4,0,2]]\n",
      "  [x[4,1,0] x[4,1,1] x[4,1,2]]\n",
      "  [x[4,2,0] x[4,2,1] x[4,2,2]]]\n",
      "\n",
      " [[x[5,0,0] x[5,0,1] x[5,0,2]]\n",
      "  [x[5,1,0] x[5,1,1] x[5,1,2]]\n",
      "  [x[5,2,0] x[5,2,1] x[5,2,2]]]\n",
      "\n",
      " [[x[6,0,0] x[6,0,1] x[6,0,2]]\n",
      "  [x[6,1,0] x[6,1,1] x[6,1,2]]\n",
      "  [x[6,2,0] x[6,2,1] x[6,2,2]]]\n",
      "\n",
      " [[x[7,0,0] x[7,0,1] x[7,0,2]]\n",
      "  [x[7,1,0] x[7,1,1] x[7,1,2]]\n",
      "  [x[7,2,0] x[7,2,1] x[7,2,2]]]\n",
      "\n",
      " [[x[8,0,0] x[8,0,1] x[8,0,2]]\n",
      "  [x[8,1,0] x[8,1,1] x[8,1,2]]\n",
      "  [x[8,2,0] x[8,2,1] x[8,2,2]]]\n",
      "\n",
      " [[x[9,0,0] x[9,0,1] x[9,0,2]]\n",
      "  [x[9,1,0] x[9,1,1] x[9,1,2]]\n",
      "  [x[9,2,0] x[9,2,1] x[9,2,2]]]\n",
      "\n",
      " [[x[10,0,0] x[10,0,1] x[10,0,2]]\n",
      "  [x[10,1,0] x[10,1,1] x[10,1,2]]\n",
      "  [x[10,2,0] x[10,2,1] x[10,2,2]]]\n",
      "\n",
      " [[x[11,0,0] x[11,0,1] x[11,0,2]]\n",
      "  [x[11,1,0] x[11,1,1] x[11,1,2]]\n",
      "  [x[11,2,0] x[11,2,1] x[11,2,2]]]\n",
      "\n",
      " [[x[12,0,0] x[12,0,1] x[12,0,2]]\n",
      "  [x[12,1,0] x[12,1,1] x[12,1,2]]\n",
      "  [x[12,2,0] x[12,2,1] x[12,2,2]]]\n",
      "\n",
      " [[x[13,0,0] x[13,0,1] x[13,0,2]]\n",
      "  [x[13,1,0] x[13,1,1] x[13,1,2]]\n",
      "  [x[13,2,0] x[13,2,1] x[13,2,2]]]\n",
      "\n",
      " [[x[14,0,0] x[14,0,1] x[14,0,2]]\n",
      "  [x[14,1,0] x[14,1,1] x[14,1,2]]\n",
      "  [x[14,2,0] x[14,2,1] x[14,2,2]]]\n",
      "\n",
      " [[x[15,0,0] x[15,0,1] x[15,0,2]]\n",
      "  [x[15,1,0] x[15,1,1] x[15,1,2]]\n",
      "  [x[15,2,0] x[15,2,1] x[15,2,2]]]\n",
      "\n",
      " [[x[16,0,0] x[16,0,1] x[16,0,2]]\n",
      "  [x[16,1,0] x[16,1,1] x[16,1,2]]\n",
      "  [x[16,2,0] x[16,2,1] x[16,2,2]]]\n",
      "\n",
      " [[x[17,0,0] x[17,0,1] x[17,0,2]]\n",
      "  [x[17,1,0] x[17,1,1] x[17,1,2]]\n",
      "  [x[17,2,0] x[17,2,1] x[17,2,2]]]\n",
      "\n",
      " [[x[18,0,0] x[18,0,1] x[18,0,2]]\n",
      "  [x[18,1,0] x[18,1,1] x[18,1,2]]\n",
      "  [x[18,2,0] x[18,2,1] x[18,2,2]]]\n",
      "\n",
      " [[x[19,0,0] x[19,0,1] x[19,0,2]]\n",
      "  [x[19,1,0] x[19,1,1] x[19,1,2]]\n",
      "  [x[19,2,0] x[19,2,1] x[19,2,2]]]]\n"
     ]
    }
   ],
   "source": [
    "puzzle_start = np.array([\n",
    "    [0,3,6],\n",
    "    [2,4,8],\n",
    "    [1,7,5]])\n",
    "\n",
    "(dim,dim2) = puzzle_start.shape\n",
    "assert (dim == dim2), \"puzzle needs square shape\"\n",
    "n = dim*dim2 - 1 # e.g. an 8-puzzle\n",
    "\n",
    "# State of puzzle at every step\n",
    "K = 20\n",
    "x = intvar(0,n, shape=(K,dim,dim), name=\"x\")\n",
    "print(x)"
   ]
  },
  {
   "cell_type": "code",
   "execution_count": null,
   "id": "found-study",
   "metadata": {},
   "outputs": [],
   "source": []
  },
  {
   "cell_type": "code",
   "execution_count": 10,
   "id": "proud-ethiopia",
   "metadata": {},
   "outputs": [
    {
     "name": "stdout",
     "output_type": "stream",
     "text": [
      "(IV21) + (IV22)\n"
     ]
    }
   ],
   "source": [
    "x,y,z = intvar(1,9, shape=3)\n",
    "print( x + y )"
   ]
  },
  {
   "cell_type": "code",
   "execution_count": 11,
   "id": "cross-briefs",
   "metadata": {},
   "outputs": [
    {
     "name": "stdout",
     "output_type": "stream",
     "text": [
      "(IV21) * (IV22)\n"
     ]
    }
   ],
   "source": [
    "print( x * y )"
   ]
  },
  {
   "cell_type": "code",
   "execution_count": 12,
   "id": "automotive-douglas",
   "metadata": {},
   "outputs": [
    {
     "name": "stdout",
     "output_type": "stream",
     "text": [
      "abs([(IV21) + (-(IV22))])\n"
     ]
    }
   ],
   "source": [
    "print( abs(x - y) )"
   ]
  },
  {
   "cell_type": "code",
   "execution_count": 13,
   "id": "robust-southeast",
   "metadata": {},
   "outputs": [
    {
     "name": "stdout",
     "output_type": "stream",
     "text": [
      "sum([a[0], a[1], a[2], a[3], a[4]])\n"
     ]
    }
   ],
   "source": [
    "a = intvar(1,9, shape=5, name=\"a\")\n",
    "print( sum(a) )"
   ]
  },
  {
   "cell_type": "code",
   "execution_count": 14,
   "id": "inside-administration",
   "metadata": {},
   "outputs": [
    {
     "name": "stdout",
     "output_type": "stream",
     "text": [
      "(abs([sum([a[0], a[1], a[2], a[3], a[4], -((IV21) + (IV22))])])) == (IV23)\n"
     ]
    }
   ],
   "source": [
    "c = ( abs(sum(a) - (x+y)) == z )\n",
    "print( c )"
   ]
  },
  {
   "cell_type": "code",
   "execution_count": 15,
   "id": "complete-maine",
   "metadata": {},
   "outputs": [
    {
     "data": {
      "text/plain": [
       "cpmpy.expressions.core.Comparison"
      ]
     },
     "execution_count": 15,
     "metadata": {},
     "output_type": "execute_result"
    }
   ],
   "source": [
    "type(c)"
   ]
  },
  {
   "cell_type": "code",
   "execution_count": 16,
   "id": "rising-carpet",
   "metadata": {},
   "outputs": [
    {
     "data": {
      "text/plain": [
       "'=='"
      ]
     },
     "execution_count": 16,
     "metadata": {},
     "output_type": "execute_result"
    }
   ],
   "source": [
    "c.name"
   ]
  },
  {
   "cell_type": "code",
   "execution_count": 17,
   "id": "cooperative-riverside",
   "metadata": {},
   "outputs": [
    {
     "data": {
      "text/plain": [
       "IV23"
      ]
     },
     "execution_count": 17,
     "metadata": {},
     "output_type": "execute_result"
    }
   ],
   "source": [
    "c.args[1]"
   ]
  },
  {
   "cell_type": "code",
   "execution_count": 18,
   "id": "interracial-custody",
   "metadata": {},
   "outputs": [
    {
     "data": {
      "text/plain": [
       "cpmpy.expressions.core.Operator"
      ]
     },
     "execution_count": 18,
     "metadata": {},
     "output_type": "execute_result"
    }
   ],
   "source": [
    "type(c.args[0])"
   ]
  },
  {
   "cell_type": "code",
   "execution_count": 19,
   "id": "primary-edward",
   "metadata": {},
   "outputs": [
    {
     "data": {
      "text/plain": [
       "'abs'"
      ]
     },
     "execution_count": 19,
     "metadata": {},
     "output_type": "execute_result"
    }
   ],
   "source": [
    "c.args[0].name"
   ]
  },
  {
   "cell_type": "code",
   "execution_count": null,
   "id": "prime-tuition",
   "metadata": {},
   "outputs": [],
   "source": []
  },
  {
   "cell_type": "code",
   "execution_count": 20,
   "id": "above-duncan",
   "metadata": {},
   "outputs": [
    {
     "name": "stdout",
     "output_type": "stream",
     "text": [
      "[[x[0,0] x[0,1] x[0,2] x[0,3]]\n",
      " [x[1,0] x[1,1] x[1,2] x[1,3]]\n",
      " [x[2,0] x[2,1] x[2,2] x[2,3]]\n",
      " [x[3,0] x[3,1] x[3,2] x[3,3]]]\n"
     ]
    }
   ],
   "source": [
    "x = boolvar(shape=(4,4), name=\"x\")\n",
    "print(x)"
   ]
  },
  {
   "cell_type": "code",
   "execution_count": 21,
   "id": "detailed-danish",
   "metadata": {},
   "outputs": [
    {
     "name": "stdout",
     "output_type": "stream",
     "text": [
      "[x[0,0] x[0,1] x[0,2] x[0,3]]\n"
     ]
    }
   ],
   "source": [
    "print(x[0,:])"
   ]
  },
  {
   "cell_type": "code",
   "execution_count": 22,
   "id": "electoral-memphis",
   "metadata": {},
   "outputs": [
    {
     "name": "stdout",
     "output_type": "stream",
     "text": [
      "[x[0,0] x[1,0] x[2,0] x[3,0]]\n"
     ]
    }
   ],
   "source": [
    "print(x[:,0])"
   ]
  },
  {
   "cell_type": "code",
   "execution_count": 23,
   "id": "pacific-relief",
   "metadata": {},
   "outputs": [
    {
     "name": "stdout",
     "output_type": "stream",
     "text": [
      "[[x[0,1] x[0,2]]\n",
      " [x[1,1] x[1,2]]\n",
      " [x[2,1] x[2,2]]\n",
      " [x[3,1] x[3,2]]]\n"
     ]
    }
   ],
   "source": [
    "print(x[:,1:-1])"
   ]
  },
  {
   "cell_type": "code",
   "execution_count": null,
   "id": "elementary-hobby",
   "metadata": {},
   "outputs": [],
   "source": []
  },
  {
   "cell_type": "code",
   "execution_count": 24,
   "id": "adapted-respect",
   "metadata": {},
   "outputs": [
    {
     "name": "stdout",
     "output_type": "stream",
     "text": [
      "[x[0] x[1] x[2] x[3]]\n"
     ]
    }
   ],
   "source": [
    "x = boolvar(shape=4, name=\"x\")\n",
    "print(x)"
   ]
  },
  {
   "cell_type": "code",
   "execution_count": 25,
   "id": "opposite-function",
   "metadata": {},
   "outputs": [
    {
     "name": "stdout",
     "output_type": "stream",
     "text": [
      "[x[0] x[2]]\n"
     ]
    }
   ],
   "source": [
    "sel = np.array([True, False, True, False])\n",
    "print(x[sel])"
   ]
  },
  {
   "cell_type": "code",
   "execution_count": 26,
   "id": "nutritional-builder",
   "metadata": {},
   "outputs": [
    {
     "name": "stdout",
     "output_type": "stream",
     "text": [
      "[x[0] x[2]]\n"
     ]
    }
   ],
   "source": [
    "print(x[np.arange(4) % 2 == 0])"
   ]
  },
  {
   "cell_type": "code",
   "execution_count": 27,
   "id": "retired-client",
   "metadata": {},
   "outputs": [
    {
     "name": "stdout",
     "output_type": "stream",
     "text": [
      "[x[1] x[3]]\n"
     ]
    }
   ],
   "source": [
    "idx = [1,3]\n",
    "print(x[idx])"
   ]
  },
  {
   "cell_type": "code",
   "execution_count": null,
   "id": "cathedral-concept",
   "metadata": {},
   "outputs": [],
   "source": []
  },
  {
   "cell_type": "code",
   "execution_count": 28,
   "id": "delayed-inspiration",
   "metadata": {},
   "outputs": [
    {
     "name": "stdout",
     "output_type": "stream",
     "text": [
      "[(x[0]) + (y[0]) (x[1]) + (y[1]) (x[2]) + (y[2])]\n"
     ]
    }
   ],
   "source": [
    "x = intvar(1,9, shape=3, name=\"x\")\n",
    "y = intvar(1,9, shape=3, name=\"y\")\n",
    "print(x + y)"
   ]
  },
  {
   "cell_type": "code",
   "execution_count": 29,
   "id": "hindu-illinois",
   "metadata": {},
   "outputs": [
    {
     "name": "stdout",
     "output_type": "stream",
     "text": [
      "[x[0] == 1 x[1] == 2 x[2] == 3]\n"
     ]
    }
   ],
   "source": [
    "print(x == [1,2,3])"
   ]
  },
  {
   "cell_type": "code",
   "execution_count": null,
   "id": "suited-superior",
   "metadata": {},
   "outputs": [],
   "source": []
  },
  {
   "cell_type": "code",
   "execution_count": 30,
   "id": "portuguese-mileage",
   "metadata": {},
   "outputs": [
    {
     "name": "stdout",
     "output_type": "stream",
     "text": [
      "[x[0] == 1 x[1] == 1 x[2] == 1]\n"
     ]
    }
   ],
   "source": [
    "print(x == 1)"
   ]
  },
  {
   "cell_type": "code",
   "execution_count": null,
   "id": "recent-ballet",
   "metadata": {},
   "outputs": [],
   "source": []
  },
  {
   "cell_type": "code",
   "execution_count": 31,
   "id": "indie-utilization",
   "metadata": {},
   "outputs": [],
   "source": [
    "import numpy as np\n",
    "from cpmpy import *\n",
    "\n",
    "e = 0 # value for empty cells\n",
    "given = np.array([\n",
    "    [e, e, e,  2, e, 5,  e, e, e],\n",
    "    [e, 9, e,  e, e, e,  7, 3, e],\n",
    "    [e, e, 2,  e, e, 9,  e, 6, e],\n",
    "\n",
    "    [2, e, e,  e, e, e,  4, e, 9],\n",
    "    [e, e, e,  e, 7, e,  e, e, e],\n",
    "    [6, e, 9,  e, e, e,  e, e, 1],\n",
    "\n",
    "    [e, 8, e,  4, e, e,  1, e, e],\n",
    "    [e, 6, 3,  e, e, e,  e, 8, e],\n",
    "    [e, e, e,  6, e, 8,  e, e, e]])\n",
    "\n",
    "\n",
    "# Variables\n",
    "puzzle = intvar(1,9, shape=given.shape, name=\"puzzle\")"
   ]
  },
  {
   "cell_type": "code",
   "execution_count": 32,
   "id": "smart-thesaurus",
   "metadata": {},
   "outputs": [
    {
     "data": {
      "text/plain": [
       "True"
      ]
     },
     "execution_count": 32,
     "metadata": {},
     "output_type": "execute_result"
    }
   ],
   "source": [
    "model = Model()\n",
    "n = given.shape[0]\n",
    "\n",
    "# Constraints on rows and columns\n",
    "for i in range(n):\n",
    "    model += AllDifferent([puzzle[i,j] for j in range(n)])\n",
    "    model += AllDifferent([puzzle[j,i] for j in range(n)])\n",
    "\n",
    "# Constraints on blocks\n",
    "for i in range(0,9, 3):\n",
    "    for j in range(0,9, 3):\n",
    "        model += AllDifferent([puzzle[r,c]\n",
    "                               for r in range(i,i+3)\n",
    "                               for c in range(j,j+3)])\n",
    "\n",
    "# Constraints on values (cells that are not empty)\n",
    "for r in range(n):\n",
    "    for c in range(n):\n",
    "        if given[r,c] != e:\n",
    "            model += puzzle[r,c] == given[r,c]\n",
    "\n",
    "model.solve()"
   ]
  },
  {
   "cell_type": "code",
   "execution_count": 33,
   "id": "listed-french",
   "metadata": {},
   "outputs": [
    {
     "data": {
      "text/plain": [
       "True"
      ]
     },
     "execution_count": 33,
     "metadata": {},
     "output_type": "execute_result"
    }
   ],
   "source": [
    "model = Model()\n",
    "\n",
    "\n",
    "# Constraints on rows and columns\n",
    "model += [AllDifferent(row) for row in puzzle]\n",
    "model += [AllDifferent(col) for col in puzzle.T]\n",
    "\n",
    "\n",
    "# Constraints on blocks\n",
    "for i in range(0,9, 3):\n",
    "    for j in range(0,9, 3):\n",
    "        model += AllDifferent(puzzle[i:i+3, j:j+3])\n",
    "\n",
    "        \n",
    "        \n",
    "# Constraints on values (cells that are not empty)\n",
    "model += [puzzle[given!=e] == given[given!=e]]\n",
    "\n",
    "\n",
    "\n",
    "\n",
    "model.solve()"
   ]
  },
  {
   "cell_type": "code",
   "execution_count": null,
   "id": "indie-point",
   "metadata": {},
   "outputs": [],
   "source": []
  },
  {
   "cell_type": "code",
   "execution_count": 34,
   "id": "employed-merit",
   "metadata": {},
   "outputs": [],
   "source": [
    "jobs_data = cpm_array([ # (job, machine) = duration\n",
    "    [3,2,2], # job 0\n",
    "    [2,1,4], # job 1\n",
    "    [0,4,3], # job 2 (duration 0 = not used)\n",
    "])\n",
    "max_dur = sum(jobs_data.flat)\n",
    "\n",
    "n_jobs, n_machines = jobs_data.shape\n",
    "all_jobs = range(n_jobs)\n",
    "all_machines = range(n_machines)\n",
    "\n",
    "\n",
    "# Variables\n",
    "start_time = intvar(0, max_dur, shape=(n_machines,n_jobs), name=\"start\")\n",
    "end_time = intvar(0, max_dur, shape=(n_machines,n_jobs), name=\"stop\")"
   ]
  },
  {
   "cell_type": "code",
   "execution_count": 35,
   "id": "located-nowhere",
   "metadata": {},
   "outputs": [],
   "source": [
    "from itertools import combinations"
   ]
  },
  {
   "cell_type": "code",
   "execution_count": 36,
   "id": "raising-buyer",
   "metadata": {},
   "outputs": [
    {
     "data": {
      "text/plain": [
       "12.0"
      ]
     },
     "execution_count": 36,
     "metadata": {},
     "output_type": "execute_result"
    }
   ],
   "source": [
    "model = Model()\n",
    "# end = start + dur\n",
    "for j in all_jobs:\n",
    "    for m in all_machines:\n",
    "        model += (end_time[m,j] == start_time[m,j] + jobs_data[j,m])\n",
    "\n",
    "# Precedence constraint per job\n",
    "for j in all_jobs:\n",
    "    for m1,m2 in combinations(all_machines,2): # [0,1,2]->[(0,1),(0,2),(1,2)]\n",
    "        model += (end_time[m1,j] <= start_time[m2,j])\n",
    "\n",
    "# No overlap constraint: one starts before other one ends\n",
    "for m in all_machines:\n",
    "    for j1,j2 in combinations(all_jobs, 2):\n",
    "        model += (start_time[m,j1] >= end_time[m,j2]) | \\\n",
    "                 (start_time[m,j2] >= end_time[m,j1])\n",
    "\n",
    "# Objective: makespan\n",
    "makespan = Maximum([end_time[m,j] for m in all_machines for j in all_jobs])\n",
    "model.minimize(makespan)\n",
    "model.solve()"
   ]
  },
  {
   "cell_type": "code",
   "execution_count": 37,
   "id": "dominican-opinion",
   "metadata": {},
   "outputs": [
    {
     "data": {
      "text/plain": [
       "12.0"
      ]
     },
     "execution_count": 37,
     "metadata": {},
     "output_type": "execute_result"
    }
   ],
   "source": [
    "model = Model()\n",
    "# end = start + dur\n",
    "model += (end_time == start_time + jobs_data.T)\n",
    "\n",
    "\n",
    "\n",
    "# Precedence constraint per job\n",
    "for m1,m2 in combinations(all_machines,2):\n",
    "    model += (end_time[m1,:] <= start_time[m2,:])\n",
    "\n",
    "    \n",
    "# No overlap constraint: one starts before other one ends\n",
    "for j1,j2 in combinations(all_jobs, 2):\n",
    "    model += (start_time[:,j1] >= end_time[:,j2]) | \\\n",
    "             (start_time[:,j2] >= end_time[:,j1])\n",
    "\n",
    "    \n",
    "# Objective: makespan\n",
    "makespan = max(end_time)\n",
    "model.minimize(makespan)\n",
    "model.solve()"
   ]
  },
  {
   "cell_type": "code",
   "execution_count": 38,
   "id": "naked-trash",
   "metadata": {},
   "outputs": [
    {
     "data": {
      "text/plain": [
       "12.0"
      ]
     },
     "execution_count": 38,
     "metadata": {},
     "output_type": "execute_result"
    }
   ],
   "source": [
    "model = Model()\n",
    "# FOR THE EXPERTS: NOT A CONSTRAINT!\n",
    "end_time = start_time + jobs_data.T\n",
    "\n",
    "# Precedence constraint per job\n",
    "for m1,m2 in combinations(all_machines,2): # [(0,1), (0,2), (1,2)]\n",
    "    model += (end_time[m1,:] <= start_time[m2,:])\n",
    "\n",
    "# No overlap constraint: one starts before other one ends\n",
    "for j1,j2 in combinations(all_jobs, 2):\n",
    "    model += (start_time[:,j1] >= end_time[:,j2]) | \\\n",
    "             (start_time[:,j2] >= end_time[:,j1])\n",
    "\n",
    "# Objective: makespan, NOT A CP VARIABLE!\n",
    "makespan = max(end_time)\n",
    "model.minimize(makespan)\n",
    "model.solve()"
   ]
  },
  {
   "cell_type": "code",
   "execution_count": 39,
   "id": "prostate-polymer",
   "metadata": {},
   "outputs": [
    {
     "name": "stdout",
     "output_type": "stream",
     "text": [
      "Makespan: 12\n",
      "Schedule:\n",
      "[[ 1  1  0  0  0 -8 -8 -8 -8 -8 -8 -8]\n",
      " [-8 -8  1  2  2  2  2  0  0 -8 -8 -8]\n",
      " [-8 -8 -8  1  1  1  1  2  2  2  0  0]]\n"
     ]
    }
   ],
   "source": [
    "print(\"Makespan:\",makespan.value())\n",
    "print(\"Schedule:\")\n",
    "grid = -8*np.ones((n_machines, makespan.value()), dtype=int)\n",
    "\n",
    "for j in all_jobs:\n",
    "    for m in all_machines:\n",
    "        grid[m,start_time[m,j].value():end_time[m,j].value()] = j\n",
    "print(grid)"
   ]
  },
  {
   "cell_type": "code",
   "execution_count": 40,
   "id": "cleared-april",
   "metadata": {},
   "outputs": [],
   "source": [
    "from PIL import Image, ImageDraw, ImageFont\n",
    "\n",
    "# based on Alexander Schiendorfer's https://github.com/Alexander-Schiendorfer/cp-examples\n",
    "def visualize_scheduling(start, end):\n",
    "    nMachines, nJobs = start.shape\n",
    "    makespan = max(end.value())\n",
    "    \n",
    "    # Draw solution\n",
    "    # Define start location image & unit sizes\n",
    "    start_x, start_y = 30, 40\n",
    "    pixel_unit = 50\n",
    "    pixel_task_height = 100\n",
    "    vert_pad = 10\n",
    "\n",
    "    imwidth, imheight = makespan * pixel_unit + 2 * start_x, start_y + start_x + nMachines * (pixel_task_height + vert_pad)\n",
    "\n",
    "    # Create new Image object\n",
    "    img = Image.new(\"RGB\", (imwidth, imheight), (255, 255,255))\n",
    "\n",
    "    # Create rectangle image\n",
    "    img1 = ImageDraw.Draw(img)\n",
    "\n",
    "    # Get a font\n",
    "    try:\n",
    "        myFont = ImageFont.truetype(\"arialbd.ttf\", 20)\n",
    "    except:\n",
    "        myFont = ImageFont.load_default()\n",
    "\n",
    "    # Draw makespan label\n",
    "    center_x, center_y = imwidth / 2, start_y / 2\n",
    "    msg =  f\"Makespan: {makespan}\"\n",
    "    w, h = img1.textsize(msg, font=myFont)\n",
    "    img1.text((center_x - w / 2, center_y - h / 2), msg, fill=\"black\", font=myFont)\n",
    "\n",
    "    task_cs = [\"#4bacc6\", \"#f79646\", \"#9bbb59\"]\n",
    "    task_border_cs = [\"#357d91\", \"#b66d31\", \"#71893f\"]\n",
    "\n",
    "    # Draw three rectangles for machines\n",
    "    machine_upper_lefts = []\n",
    "    for i in range(nMachines):\n",
    "        start_m_x, start_m_y = start_x, start_y + i * (pixel_task_height + vert_pad)\n",
    "        end_m_x, end_m_y = start_m_x + makespan * pixel_unit, start_m_y + pixel_task_height\n",
    "        machine_upper_lefts += [(start_m_x, start_m_y)]\n",
    "\n",
    "        shape = [(start_m_x, start_m_y), (end_m_x, end_m_y)]\n",
    "        img1.rectangle(shape, fill =\"#d3d3d3\")\n",
    "\n",
    "    # Draw tasks for each job\n",
    "    inner_sep = 5\n",
    "    for j in range(nJobs):\n",
    "        job_name = str(j)\n",
    "        for m in range(nMachines):\n",
    "            if start[m,j].value() == end[m,j].value():\n",
    "                continue # skip\n",
    "            start_m_x, start_m_y = machine_upper_lefts[m]\n",
    "\n",
    "            start_rect_x, start_rect_y = start_m_x + start[m,j].value() * pixel_unit, start_m_y + inner_sep\n",
    "            end_rect_x, end_rect_y = start_m_x + end[m,j].value() * pixel_unit, start_m_y + pixel_task_height - inner_sep\n",
    "\n",
    "            shape = [(start_rect_x, start_rect_y), (end_rect_x, end_rect_y)]\n",
    "            img1.rectangle(shape, fill=task_cs[j], outline=task_border_cs[j])\n",
    "\n",
    "            # Write a label for each task of each job\n",
    "            msg =  f\"{job_name}\"\n",
    "            text_w, text_h = img1.textsize(msg, font=myFont)\n",
    "            center_x, center_y = (start_rect_x + end_rect_x) / 2, (start_rect_y + end_rect_y) / 2\n",
    "            img1.text((center_x - text_w / 2, center_y - text_h / 2), msg, fill=\"white\", font=myFont)\n",
    "\n",
    "    img.show()\n",
    "visualize_scheduling(start_time, end_time)"
   ]
  },
  {
   "cell_type": "code",
   "execution_count": null,
   "id": "industrial-perth",
   "metadata": {},
   "outputs": [],
   "source": []
  },
  {
   "cell_type": "code",
   "execution_count": 41,
   "id": "finished-suffering",
   "metadata": {},
   "outputs": [],
   "source": [
    "# '0' is empty spot\n",
    "puzzle_start = np.array([\n",
    "    [3,7,5],\n",
    "    [1,6,4],\n",
    "    [8,2,0]])\n",
    "puzzle_end = np.array([\n",
    "    [1,2,3],\n",
    "    [4,5,6],\n",
    "    [7,8,0]])\n",
    "\n",
    "def n_puzzle(puzzle_start, puzzle_end, K):\n",
    "    print(\"Max steps:\", K)\n",
    "    m = Model()\n",
    "\n",
    "    (dim,dim2) = puzzle_start.shape\n",
    "    assert (dim == dim2), \"puzzle needs square shape\"\n",
    "    n = dim*dim2 - 1 # e.g. an 8-puzzle\n",
    "\n",
    "    # State of puzzle at every step\n",
    "    x = intvar(0,n, shape=(K,dim,dim), name=\"x\")\n",
    "\n",
    "    \n",
    "    \n",
    "    # Start state constraint\n",
    "    m += (x[0] == puzzle_start)\n",
    "\n",
    "    # End state constraint\n",
    "    m += (x[-1] == puzzle_end)\n",
    "\n",
    "    # define neighbors = allowed moves for the '0'\n",
    "    def neigh(i,j):\n",
    "        # same, left,right, down,up, if within bounds\n",
    "        for (rr, cc) in [(0,0),(-1,0),(1,0),(0,-1),(0,1)]:\n",
    "            if 0 <= i+rr and i+rr < dim and 0 <= j+cc and j+cc < dim:\n",
    "                yield (i+rr,j+cc)\n",
    "\n",
    "    # Transition: define next (t) based on prev (t-1) + invariants\n",
    "    for t in range(1, K):\n",
    "        # Invariant: in each step, all cells are different\n",
    "        m += AllDifferent(x[t])\n",
    "\n",
    "        # Invariant: only the '0' position can move\n",
    "        m += ((x[t-1] == x[t]) | (x[t-1] == 0) | (x[t] == 0))\n",
    "        \n",
    "        # for each position, determine reachability of the '0' position\n",
    "        for i in range(dim):\n",
    "            for j in range(dim):\n",
    "                m += (x[t,i,j] == 0).implies(any(x[t-1,r,c] == 0 for r,c in neigh(i,j)))\n",
    "\n",
    "    return (m,x)"
   ]
  },
  {
   "cell_type": "code",
   "execution_count": 42,
   "id": "contrary-collective",
   "metadata": {},
   "outputs": [
    {
     "name": "stdout",
     "output_type": "stream",
     "text": [
      "Max steps: 10\n",
      "ExitStatus.UNSATISFIABLE (0.012480883000000002 seconds)\n"
     ]
    }
   ],
   "source": [
    "(m,x) = n_puzzle(puzzle_start, puzzle_end, 10)\n",
    "m.solve()\n",
    "print(m.status())"
   ]
  },
  {
   "cell_type": "code",
   "execution_count": 43,
   "id": "under-airplane",
   "metadata": {},
   "outputs": [
    {
     "name": "stdout",
     "output_type": "stream",
     "text": [
      "Max steps: 100\n",
      "ExitStatus.OPTIMAL (2.14282603 seconds)\n"
     ]
    }
   ],
   "source": [
    "(m,x) = n_puzzle(puzzle_start, puzzle_end, 100)\n",
    "m.solve()\n",
    "print(m.status())"
   ]
  },
  {
   "cell_type": "code",
   "execution_count": 44,
   "id": "detected-repeat",
   "metadata": {},
   "outputs": [
    {
     "name": "stdout",
     "output_type": "stream",
     "text": [
      "Max steps: 5\n",
      "ExitStatus.UNSATISFIABLE (0.0026593280000000003 seconds)\n",
      "Max steps: 8\n",
      "ExitStatus.UNSATISFIABLE (0.006788166 seconds)\n",
      "Max steps: 11\n",
      "ExitStatus.UNSATISFIABLE (0.011380891 seconds)\n",
      "Max steps: 14\n",
      "ExitStatus.UNSATISFIABLE (0.019847455 seconds)\n",
      "Max steps: 17\n",
      "ExitStatus.UNSATISFIABLE (0.030068019 seconds)\n",
      "Max steps: 20\n",
      "ExitStatus.OPTIMAL (0.110666621 seconds)\n"
     ]
    }
   ],
   "source": [
    "K0 = 5\n",
    "step = 3\n",
    "\n",
    "(m,x) = n_puzzle(puzzle_start, puzzle_end, K0)\n",
    "while not m.solve():\n",
    "    print(m.status())\n",
    "    K0 = K0 + step\n",
    "    (m,x) = n_puzzle(puzzle_start, puzzle_end, K0)\n",
    "\n",
    "print(m.status())"
   ]
  },
  {
   "cell_type": "code",
   "execution_count": 45,
   "id": "political-reaction",
   "metadata": {},
   "outputs": [
    {
     "name": "stdout",
     "output_type": "stream",
     "text": [
      "Max steps: 14\n"
     ]
    },
    {
     "data": {
      "text/plain": [
       "ExitStatus.UNSATISFIABLE (0.018878105000000003 seconds)"
      ]
     },
     "execution_count": 45,
     "metadata": {},
     "output_type": "execute_result"
    }
   ],
   "source": [
    "(m,x) = n_puzzle(puzzle_start, puzzle_end, 14)\n",
    "m.solve()\n",
    "m.status()"
   ]
  },
  {
   "cell_type": "code",
   "execution_count": 51,
   "id": "different-estonia",
   "metadata": {},
   "outputs": [
    {
     "name": "stdout",
     "output_type": "stream",
     "text": [
      "Max steps: 20\n",
      "Runtime with default params 0.111637436\n",
      "Running {'cp_model_probing_level': 3, 'linearization_level': 2, 'symmetry_level': 2}\n",
      "Fastest in 0.0793 seconds, config: {'cp_model_probing_level': 0, 'linearization_level': 1, 'symmetry_level': 0}\n"
     ]
    }
   ],
   "source": [
    "(m,x) = n_puzzle(puzzle_start, puzzle_end, 20)\n",
    "\n",
    "m.solve()\n",
    "base_runtime = m.status().runtime\n",
    "print(\"Runtime with default params\", base_runtime)\n",
    "\n",
    "from cpmpy.solvers import CPM_ortools, param_combinations\n",
    "\n",
    "all_params = {'cp_model_probing_level': [0,1,2,3],\n",
    "              'linearization_level': [0,1,2],\n",
    "              'symmetry_level': [0,1,2]}\n",
    "\n",
    "configs = [] # (runtime, param)\n",
    "for params in param_combinations(all_params):\n",
    "    s = CPM_ortools(m)\n",
    "    print(\"Running\", params, end='\\r')\n",
    "    s.solve(time_limit=base_runtime*1.05, **params) # timeout of 105% of base_runtime\n",
    "    configs.append( (s.status().runtime, params) )\n",
    "\n",
    "best = sorted(configs)[0]\n",
    "print(\"\\nFastest in\", round(best[0],4), \"seconds, config:\", best[1])"
   ]
  },
  {
   "cell_type": "code",
   "execution_count": 50,
   "id": "separate-actress",
   "metadata": {},
   "outputs": [
    {
     "name": "stdout",
     "output_type": "stream",
     "text": [
      "Max steps: 100\n",
      "ExitStatus.OPTIMAL (0.38202016600000005 seconds)\n"
     ]
    }
   ],
   "source": [
    "(m,x) = n_puzzle(puzzle_start, puzzle_end, 100)\n",
    "m = CPM_ortools(m)\n",
    "m.solve(**best[1])\n",
    "print(m.status())"
   ]
  },
  {
   "cell_type": "code",
   "execution_count": null,
   "id": "touched-chance",
   "metadata": {},
   "outputs": [],
   "source": []
  }
 ],
 "metadata": {
  "kernelspec": {
   "display_name": "Python 3",
   "language": "python",
   "name": "python3"
  },
  "language_info": {
   "codemirror_mode": {
    "name": "ipython",
    "version": 3
   },
   "file_extension": ".py",
   "mimetype": "text/x-python",
   "name": "python",
   "nbconvert_exporter": "python",
   "pygments_lexer": "ipython3",
   "version": "3.9.2"
  }
 },
 "nbformat": 4,
 "nbformat_minor": 5
}
