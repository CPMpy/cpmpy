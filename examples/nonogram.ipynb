{
 "cells": [
  {
   "cell_type": "markdown",
   "metadata": {
    "pycharm": {
     "name": "#%% md\n"
    }
   },
   "source": [
    "# Solving nonogram puzzles in CPMpy\n",
    "\n",
    "The nonogram puzzle consists of coloring a set of squares.\n",
    "The nonogram puzzle board consists of a recangle of squares.\n",
    "The goal of the puzzle is to fill in the squares according to some constraints such that a picture is displayed.\n",
    "For each row in the grid, a sequence of \"colored squares\" is indicated using a tuple of integers.\n",
    "Each integer represents the length of a \"colored group\". \n",
    "Between each colored group one or more uncolored squares should be present in the solution of the problem.\n",
    "\n",
    "For example: when playing on a 10x10 board, the tuple (2,1,4) for a given row has the following solution: BBWBWWBBBB but also BBWWBWBBBB.\n",
    "\n",
    "The same rules apply to each column. The solution of a nonogram is unique.\n"
   ]
  },
  {
   "cell_type": "code",
   "execution_count": 1,
   "metadata": {
    "pycharm": {
     "name": "#%%\n"
    }
   },
   "outputs": [],
   "source": [
    "import urllib\n",
    "from PIL import Image\n",
    "import requests\n",
    "import numpy as np\n",
    "from io import BytesIO\n",
    "\n",
    "\n",
    "\n",
    "# get picture from web\n",
    "# for reasonable runtime, limit to size +-200x200 pixels\n",
    "url = \"https://github.com/CPMpy/cpmpy/blob/directconstraint_only/examples/pixil-frame.png?raw=true\" # T-rex\n",
    "# url = \"https://pbs.twimg.com/profile_images/711593363624095747/lJV3XX-H_400x400.jpg\" # Alan Turing\n",
    "\n",
    "r = requests.get(url, stream=True)\n",
    "img = np.array(Image.open(BytesIO(r.content)))\n",
    "\n",
    "# convert to binary\n",
    "img = img.mean(axis=2)\n",
    "thresh = (img.max() - img.min()) / 2\n",
    "img[img < thresh] = 0\n",
    "img[img >= thresh] = 1"
   ]
  },
  {
   "cell_type": "code",
   "execution_count": 2,
   "metadata": {
    "pycharm": {
     "name": "#%%\n"
    }
   },
   "outputs": [],
   "source": [
    "# convert image to nonogram clues\n",
    "row_rules = []\n",
    "for row in img:\n",
    "    idx = np.concatenate(([0],np.flatnonzero(row[:-1]!=row[1:])+1,[row.size]))\n",
    "    out = zip(row[idx[:-1]],np.diff(idx))\n",
    "    row_rules.append([nb for (val, nb) in out if val == 1])\n",
    "\n",
    "col_rules = []\n",
    "for col in img.T:\n",
    "    idx = np.concatenate(([0],np.flatnonzero(col[:-1]!=col[1:])+1,[col.size]))\n",
    "    out = zip(col[idx[:-1]],np.diff(idx))\n",
    "    col_rules.append([nb for (val, nb) in out if val == 1])"
   ]
  },
  {
   "cell_type": "markdown",
   "metadata": {},
   "source": [
    "We can represent each row (resp column) as an automaton.\n",
    "For example, the rule (1,2) for a board with dimension 5 corresponds to the following automaton:\n",
    "![automaton](https://github.com/CPMpy/cpmpy/blob/directconstraint_only/examples/automaton.png?raw=true)"
   ]
  },
  {
   "cell_type": "code",
   "execution_count": 3,
   "metadata": {
    "pycharm": {
     "name": "#%%\n"
    }
   },
   "outputs": [],
   "source": [
    "def transition_function(pattern):\n",
    "    \"\"\"\n",
    "        Pattern is a vector containing the lengths of blocks with value 1\n",
    "        Returns transition function with format (start_state, char, end_state)\n",
    "    \"\"\"\n",
    "    func = []\n",
    "    n_states = 0\n",
    "    for block_length in pattern:\n",
    "        if block_length == 0:\n",
    "            continue\n",
    "        # can stay in same state for emtpy cell\n",
    "        func += [(n_states, 0, n_states)]\n",
    "        # group contains exact number of filled cells\n",
    "        for _ in range(block_length):\n",
    "            func += [(n_states, 1, n_states+1)]\n",
    "            n_states += 1\n",
    "        # go to next subgroup after group is finished\n",
    "        func += [(n_states, 0, n_states+1)]\n",
    "        n_states += 1\n",
    "\n",
    "    func += [(n_states, 0, n_states)]\n",
    "        # line can end empty or filled\n",
    "    return func, [n_states-1,n_states]"
   ]
  },
  {
   "cell_type": "code",
   "execution_count": 4,
   "metadata": {
    "pycharm": {
     "name": "#%%\n"
    }
   },
   "outputs": [],
   "source": [
    "from cpmpy import *\n",
    "\n",
    "def nonogram(row_rules, col_rules, **kwargs):\n",
    "\n",
    "    model = Model()\n",
    "\n",
    "    n_rows, n_cols = len(row_rules), len(col_rules)\n",
    "    board = intvar(0,1,shape=(n_rows,n_cols), name=\"board\")\n",
    "\n",
    "    # add row constraints\n",
    "    for r, pattern in enumerate(row_rules):\n",
    "        automaton_func, final_states = transition_function(pattern)\n",
    "        # OR-tools version of the 'Regular' constraint\n",
    "        model += DirectConstraint(\n",
    "            \"AddAutomaton\",\n",
    "            (board[r], 0, final_states, automaton_func),\n",
    "            novar=[1,2,3],\n",
    "        )\n",
    "\n",
    "    # add column constraints\n",
    "    for c, pattern in enumerate(col_rules):\n",
    "        automaton_func, final_states = transition_function(pattern)\n",
    "        # OR-tools version of the 'Regular' constraint\n",
    "        model += DirectConstraint(\n",
    "            \"AddAutomaton\",\n",
    "            (board[:,c], 0, final_states, automaton_func),\n",
    "            novar=[1,2,3],\n",
    "        )\n",
    "\n",
    "    return model, (board,)"
   ]
  },
  {
   "cell_type": "code",
   "execution_count": 5,
   "metadata": {
    "pycharm": {
     "name": "#%%\n"
    }
   },
   "outputs": [],
   "source": [
    "model, (board,) = nonogram(row_rules, col_rules)\n",
    "\n",
    "# Depending on the size of the image, solving may take a long time\n",
    "assert model.solve(solver=\"ortools\")"
   ]
  },
  {
   "cell_type": "code",
   "execution_count": 6,
   "metadata": {
    "pycharm": {
     "name": "#%%\n"
    }
   },
   "outputs": [
    {
     "name": "stderr",
     "output_type": "stream",
     "text": [
      "/var/folders/b_/fbfx8w992m9_7pm37zz2vmg00000gn/T/ipykernel_59986/2290791997.py:10: UserWarning: Matplotlib is currently using module://matplotlib_inline.backend_inline, which is a non-GUI backend, so cannot show the figure.\n",
      "  fig.show()\n"
     ]
    },
    {
     "data": {
      "image/png": "[encoded data removed]",
      "text/plain": [
       "<Figure size 700x700 with 1 Axes>"
      ]
     },
     "metadata": {},
     "output_type": "display_data"
    }
   ],
   "source": [
    "import matplotlib.pyplot as plt\n",
    "fig, ax = plt.subplots(1,1,figsize=(7,7))\n",
    "\n",
    "ax.imshow(board.value(),cmap=\"binary\")\n",
    "\n",
    "# show nonogram rules? (only for small images)\n",
    "ax.set_xticks(range(len(col_rules)), [\"\\n\".join([str(i) for i in r]) for r in col_rules])\n",
    "ax.set_yticks(range(len(row_rules)), [\",\".join([str(i) for i in r]) for r in row_rules])\n",
    "\n",
    "fig.show()"
   ]
  }
 ],
 "metadata": {
  "kernelspec": {
   "display_name": "Python 3 (ipykernel)",
   "language": "python",
   "name": "python3"
  },
  "language_info": {
   "codemirror_mode": {
    "name": "ipython",
    "version": 3
   },
   "file_extension": ".py",
   "mimetype": "text/x-python",
   "name": "python",
   "nbconvert_exporter": "python",
   "pygments_lexer": "ipython3",
   "version": "3.10.9"
  }
 },
 "nbformat": 4,
 "nbformat_minor": 1
}
