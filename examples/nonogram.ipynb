{
 "cells": [
  {
   "cell_type": "markdown",
   "metadata": {
    "pycharm": {
     "name": "#%% md\n"
    }
   },
   "source": [
    "# Solving nonogram puzzles in CPMpy\n",
    "\n",
    "The nonogram puzzle consists of coloring a set of squares.\n",
    "The nonogram puzzle board consists of a recangle of squares.\n",
    "The goal of the puzzle is to fill in the squares according to some constraints such that a picture is displayed.\n",
    "For each row in the grid, a sequence of \"colored squares\" is indicated using a tuple of integers.\n",
    "Each integer represents the length of a \"colored group\". \n",
    "Between each colored group one or more uncolored squares should be present in the solution of the problem.\n",
    "\n",
    "For example: when playing on a 10x10 board, the tuple (2,1,4) for a given row has the following solution: BBWBWWBBBB but also BBWWBWBBBB.\n",
    "\n",
    "The same rules apply to each column. The solution of a nonogram is unique.\n"
   ]
  },
  {
   "cell_type": "markdown",
   "metadata": {},
   "source": [
    "## Generating nonogram constraints from an image\n",
    "\n",
    "We first have some code that takes an image (matrix of pixels) as input and generates the corresponding nonogram row and column constraints."
   ]
  },
  {
   "cell_type": "code",
   "execution_count": 15,
   "metadata": {
    "pycharm": {
     "name": "#%%\n"
    }
   },
   "outputs": [],
   "source": [
    "import urllib\n",
    "from PIL import Image\n",
    "import requests\n",
    "import numpy as np\n",
    "from io import BytesIO\n",
    "\n",
    "\n",
    "def picture_to_nonogram_constraints(url):\n",
    "    r = requests.get(url, stream=True)\n",
    "    img = np.array(Image.open(BytesIO(r.content)))\n",
    "\n",
    "    # convert to black/white: binary\n",
    "    img = img.mean(axis=2)\n",
    "    thresh = (img.max() - img.min()) / 2\n",
    "    img[img < thresh] = 0\n",
    "    img[img >= thresh] = 1\n",
    "\n",
    "    # convert image to nonogram clues\n",
    "    row_rules = []\n",
    "    for row in img:\n",
    "        idx = np.concatenate(([0],np.flatnonzero(row[:-1]!=row[1:])+1,[row.size]))\n",
    "        out = zip(row[idx[:-1]],np.diff(idx))\n",
    "        row_rules.append([nb for (val, nb) in out if val == 1])\n",
    "\n",
    "    col_rules = []\n",
    "    for col in img.T:\n",
    "        idx = np.concatenate(([0],np.flatnonzero(col[:-1]!=col[1:])+1,[col.size]))\n",
    "        out = zip(col[idx[:-1]],np.diff(idx))\n",
    "        col_rules.append([nb for (val, nb) in out if val == 1])\n",
    "    \n",
    "    return row_rules, col_rules"
   ]
  },
  {
   "cell_type": "markdown",
   "metadata": {},
   "source": [
    "Show the nonogram constraints for the image"
   ]
  },
  {
   "cell_type": "code",
   "execution_count": 22,
   "metadata": {
    "pycharm": {
     "name": "#%%\n"
    }
   },
   "outputs": [
    {
     "name": "stdout",
     "output_type": "stream",
     "text": [
      "\t []\t []\t [6]\t [5]\t [5]\t [5]\t [6]\t [11]\t [10, 1]\t [10]\t [10]\t [17]\t [21]\t [1, 14, 1]\t [15]\t [14]\t [7, 1]\t [7, 2]\t [5, 1]\t [5, 1]\t [5, 1]\t [5]\t [4]\t []\t []\n",
      "[]\n",
      "[]\n",
      "[]\n",
      "[10]\n",
      "[2, 9]\n",
      "[12]\n",
      "[12]\n",
      "[12]\n",
      "[7]\n",
      "[10]\n",
      "[1, 6]\n",
      "[1, 7]\n",
      "[2, 10]\n",
      "[3, 9, 1]\n",
      "[14]\n",
      "[14]\n",
      "[13]\n",
      "[11]\n",
      "[9]\n",
      "[7]\n",
      "[3, 2]\n",
      "[2, 1]\n",
      "[1, 1]\n",
      "[2, 2]\n",
      "[]\n"
     ]
    }
   ],
   "source": [
    "# get picture from web\n",
    "# for fast runtime, limit to size +-200x200 pixels\n",
    "url = \"https://github.com/CPMpy/cpmpy/blob/directconstraint_only/examples/pixil-frame.png?raw=true\" # T-rex\n",
    "# url = \"https://pbs.twimg.com/profile_images/711593363624095747/lJV3XX-H_400x400.jpg\" # Alan Turing\n",
    "\n",
    "row_rules, col_rules = picture_to_nonogram_constraints(url)\n",
    "# TODO, THIS IS NOT A PROPER VISUALISATION...\n",
    "# IDEALLY IT WOULD BE IN A TABLE or so...\n",
    "for cr in col_rules:\n",
    "    print(\"\\t\",cr, end=\"\")\n",
    "print(\"\")\n",
    "for rr in row_rules:\n",
    "    print(rr)"
   ]
  },
  {
   "cell_type": "markdown",
   "metadata": {},
   "source": [
    "# Solving it with constraint programming\n",
    "\n",
    "To solve it with a CP solver, we can for example represent each row (resp column) as an automaton.\n",
    "For example, the rule (1,2) for a board with dimension 5 corresponds to the following automaton:\n",
    "![automaton](https://github.com/CPMpy/cpmpy/blob/directconstraint_only/examples/automaton.png?raw=true)\n",
    "\n",
    "CPMpy itself does not have an 'automaton' global constraint. However, some solvers do. OrTools is such a solver, which accepts a specific input (TODO: describe what its 4 expected parameters are)\n",
    "\n",
    "In this notebook, we demonstrate that you can use such solver specific constraints conveniently thourgh the `DirectConstraint` class.\n",
    "\n",
    "First, we define a function to compute the state transitions:"
   ]
  },
  {
   "cell_type": "code",
   "execution_count": 25,
   "metadata": {
    "pycharm": {
     "name": "#%%\n"
    }
   },
   "outputs": [],
   "source": [
    "from cpmpy import *\n",
    "\n",
    "def transition_function(pattern):\n",
    "    \"\"\"\n",
    "        Pattern is a vector containing the lengths of blocks with value 1\n",
    "        Returns transition function with format (start_state, char, end_state)\n",
    "    \"\"\"\n",
    "    func = []\n",
    "    n_states = 0\n",
    "    for block_length in pattern:\n",
    "        if block_length == 0:\n",
    "            continue\n",
    "        # can stay in same state for emtpy cell\n",
    "        func += [(n_states, 0, n_states)]\n",
    "        # group contains exact number of filled cells\n",
    "        for _ in range(block_length):\n",
    "            func += [(n_states, 1, n_states+1)]\n",
    "            n_states += 1\n",
    "        # go to next subgroup after group is finished\n",
    "        func += [(n_states, 0, n_states+1)]\n",
    "        n_states += 1\n",
    "\n",
    "    func += [(n_states, 0, n_states)]\n",
    "        # line can end empty or filled\n",
    "    return func, [n_states-1,n_states]\n",
    "\n",
    "def nonogram_rule_to_ort_automaton(lst, pattern):\n",
    "    automaton_func, final_states = transition_function(pattern)\n",
    "    \n",
    "    # OR-tools version of the 'Regular' constraint\n",
    "    return DirectConstraint(\"AddAutomaton\", (lst, 0, final_states, automaton_func),\n",
    "                            novar=[1,2,3])  # only 'lst' contains variables, needs reverse mapping"
   ]
  },
  {
   "cell_type": "markdown",
   "metadata": {},
   "source": [
    "Now the actual nonogram constraint model, which includes the above on-the-fly generated DirectConstraints"
   ]
  },
  {
   "cell_type": "code",
   "execution_count": 27,
   "metadata": {
    "pycharm": {
     "name": "#%%\n"
    }
   },
   "outputs": [],
   "source": [
    "def nonogram(row_rules, col_rules, **kwargs):\n",
    "\n",
    "    model = Model()\n",
    "\n",
    "    n_rows, n_cols = len(row_rules), len(col_rules)\n",
    "    board = intvar(0,1,shape=(n_rows,n_cols), name=\"board\")\n",
    "\n",
    "    # add row constraints\n",
    "    for r, pattern in enumerate(row_rules):\n",
    "        model += nonogram_rule_to_ort_automaton(board[r], pattern)\n",
    "\n",
    "    # add column constraints\n",
    "    for c, pattern in enumerate(col_rules):\n",
    "        model += nonogram_rule_to_ort_automaton(board[:,c], pattern)\n",
    "\n",
    "    return model, (board,)"
   ]
  },
  {
   "cell_type": "code",
   "execution_count": 28,
   "metadata": {
    "pycharm": {
     "name": "#%%\n"
    }
   },
   "outputs": [],
   "source": [
    "model, (board,) = nonogram(row_rules, col_rules)\n",
    "\n",
    "# Depending on the size of the image, solving may take a long time\n",
    "assert model.solve(solver=\"ortools\")"
   ]
  },
  {
   "cell_type": "code",
   "execution_count": 29,
   "metadata": {
    "pycharm": {
     "name": "#%%\n"
    }
   },
   "outputs": [
    {
     "name": "stderr",
     "output_type": "stream",
     "text": [
      "<ipython-input-29-90452986b996>:7: MatplotlibDeprecationWarning: Passing the minor parameter of set_ticks() positionally is deprecated since Matplotlib 3.2; the parameter will become keyword-only two minor releases later.\n",
      "  ax.set_xticks(range(len(col_rules)), [\"\\n\".join([str(i) for i in r]) for r in col_rules])\n",
      "<ipython-input-29-90452986b996>:8: MatplotlibDeprecationWarning: Passing the minor parameter of set_ticks() positionally is deprecated since Matplotlib 3.2; the parameter will become keyword-only two minor releases later.\n",
      "  ax.set_yticks(range(len(row_rules)), [\",\".join([str(i) for i in r]) for r in row_rules])\n",
      "<ipython-input-29-90452986b996>:10: UserWarning: Matplotlib is currently using module://ipykernel.pylab.backend_inline, which is a non-GUI backend, so cannot show the figure.\n",
      "  fig.show()\n"
     ]
    },
    {
     "data": {
      "image/png": "[encoded data removed]",
      "text/plain": [
       "<Figure size 504x504 with 1 Axes>"
      ]
     },
     "metadata": {
      "needs_background": "light"
     },
     "output_type": "display_data"
    }
   ],
   "source": [
    "import matplotlib.pyplot as plt\n",
    "fig, ax = plt.subplots(1,1,figsize=(7,7))\n",
    "\n",
    "ax.imshow(board.value(),cmap=\"binary\")\n",
    "\n",
    "# show nonogram rules? (only for small images)\n",
    "ax.set_xticks(range(len(col_rules)), [\"\\n\".join([str(i) for i in r]) for r in col_rules])\n",
    "ax.set_yticks(range(len(row_rules)), [\",\".join([str(i) for i in r]) for r in row_rules])\n",
    "\n",
    "fig.show()"
   ]
  },
  {
   "cell_type": "code",
   "execution_count": 30,
   "metadata": {},
   "outputs": [
    {
     "name": "stdout",
     "output_type": "stream",
     "text": [
      "Repeating just the column constraints for you to crosscheck:\n",
      "\t []\t []\t [6]\t [5]\t [5]\t [5]\t [6]\t [11]\t [10, 1]\t [10]\t [10]\t [17]\t [21]\t [1, 14, 1]\t [15]\t [14]\t [7, 1]\t [7, 2]\t [5, 1]\t [5, 1]\t [5, 1]\t [5]\t [4]\t []\t []"
     ]
    }
   ],
   "source": [
    "print(\"Repeating just the column constraints for you to crosscheck:\")\n",
    "for cr in col_rules:\n",
    "    print(\"\\t\",cr, end=\"\")"
   ]
  },
  {
   "cell_type": "code",
   "execution_count": 32,
   "metadata": {},
   "outputs": [
    {
     "data": {
      "text/plain": [
       "1"
      ]
     },
     "execution_count": 32,
     "metadata": {},
     "output_type": "execute_result"
    }
   ],
   "source": [
    "# and that there is only 1 solution:\n",
    "model.solveAll()"
   ]
  }
 ],
 "metadata": {
  "kernelspec": {
   "display_name": "Python 3",
   "language": "python",
   "name": "python3"
  },
  "language_info": {
   "codemirror_mode": {
    "name": "ipython",
    "version": 3
   },
   "file_extension": ".py",
   "mimetype": "text/x-python",
   "name": "python",
   "nbconvert_exporter": "python",
   "pygments_lexer": "ipython3",
   "version": "3.9.2"
  }
 },
 "nbformat": 4,
 "nbformat_minor": 1
}
