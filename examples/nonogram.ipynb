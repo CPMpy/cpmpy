{
 "cells": [
  {
   "cell_type": "markdown",
   "metadata": {
    "pycharm": {
     "name": "#%% md\n"
    }
   },
   "source": [
    "# Solving nonogram puzzles in CPMpy\n",
    "The nonogram puzzle consists of filling in a set of squares.\n",
    "In this puzzle type, the numbers are a form of discrete tomography that measures how many unbroken lines of filled-in squares there are in any given row or column. [ref: wikipedia]"
   ]
  },
  {
   "cell_type": "code",
   "execution_count": 1,
   "metadata": {
    "pycharm": {
     "name": "#%%\n"
    }
   },
   "outputs": [],
   "source": [
    "import urllib\n",
    "from PIL import Image\n",
    "import numpy as np\n",
    "\n",
    "# get picture from web\n",
    "# for reasonable runtime, limit to size +-200x200 pixels\n",
    "url = \"https://pbs.twimg.com/profile_images/711593363624095747/lJV3XX-H_400x400.jpg\"\n",
    "img = np.array(Image.open(urllib.request.urlopen(url)))\n",
    "\n",
    "# convert to binary\n",
    "img = img.mean(axis=2)\n",
    "thresh = (img.max() - img.min()) / 2\n",
    "img[img < thresh] = 0\n",
    "img[img >= thresh] = 1"
   ]
  },
  {
   "cell_type": "code",
   "execution_count": 2,
   "metadata": {
    "pycharm": {
     "name": "#%%\n"
    }
   },
   "outputs": [],
   "source": [
    "# convert image to nonogram clues\n",
    "row_rules = []\n",
    "for row in img:\n",
    "    idx = np.concatenate(([0],np.flatnonzero(row[:-1]!=row[1:])+1,[row.size]))\n",
    "    out = zip(row[idx[:-1]],np.diff(idx))\n",
    "    row_rules.append([nb for (val, nb) in out if val == 1])\n",
    "\n",
    "col_rules = []\n",
    "for col in img.T:\n",
    "    idx = np.concatenate(([0],np.flatnonzero(col[:-1]!=col[1:])+1,[col.size]))\n",
    "    out = zip(col[idx[:-1]],np.diff(idx))\n",
    "    col_rules.append([nb for (val, nb) in out if val == 1])"
   ]
  },
  {
   "cell_type": "code",
   "execution_count": 3,
   "metadata": {
    "pycharm": {
     "name": "#%%\n"
    }
   },
   "outputs": [],
   "source": [
    "def transition_function(pattern):\n",
    "    \"\"\"\n",
    "        Pattern is a vector containing the lengths of blocks with value 1\n",
    "        Returns transition function with format (start_state, char, end_state)\n",
    "    \"\"\"\n",
    "    func = []\n",
    "    n_states = 0\n",
    "    for block_length in pattern:\n",
    "        if block_length == 0:\n",
    "            continue\n",
    "        # can stay in same state for emtpy cell\n",
    "        func += [(n_states, 0, n_states)]\n",
    "        # group contains exact number of filled cells\n",
    "        for _ in range(block_length):\n",
    "            func += [(n_states, 1, n_states+1)]\n",
    "            n_states += 1\n",
    "        # go to next subgroup after group is finished\n",
    "        func += [(n_states, 0, n_states+1)]\n",
    "        n_states += 1\n",
    "\n",
    "    func += [(n_states, 0, n_states)]\n",
    "        # line can end empty or filled\n",
    "    return func, [n_states-1,n_states]"
   ]
  },
  {
   "cell_type": "code",
   "execution_count": 4,
   "metadata": {
    "pycharm": {
     "name": "#%%\n"
    }
   },
   "outputs": [],
   "source": [
    "from cpmpy import *\n",
    "\n",
    "def nonogram(row_rules, col_rules, **kwargs):\n",
    "\n",
    "    model = Model()\n",
    "\n",
    "    n_rows, n_cols = len(row_rules), len(col_rules)\n",
    "    board = intvar(0,1,shape=(n_rows,n_cols), name=\"board\")\n",
    "\n",
    "    # add row constraints\n",
    "    for r, pattern in enumerate(row_rules):\n",
    "        automaton_func, final_states = transition_function(pattern)\n",
    "        # OR-tools version of the 'Regular' constraint\n",
    "        model += DirectConstraint(\n",
    "            \"AddAutomaton\",\n",
    "            (board[r], 0, final_states, automaton_func),\n",
    "            novar=[1,2,3],\n",
    "        )\n",
    "\n",
    "    # add column constraints\n",
    "    for c, pattern in enumerate(col_rules):\n",
    "        automaton_func, final_states = transition_function(pattern)\n",
    "        # OR-tools version of the 'Regular' constraint\n",
    "        model += DirectConstraint(\n",
    "            \"AddAutomaton\",\n",
    "            (board[:,c], 0, final_states, automaton_func),\n",
    "            novar=[1,2,3],\n",
    "        )\n",
    "\n",
    "    return model, (board,)"
   ]
  },
  {
   "cell_type": "code",
   "execution_count": 5,
   "metadata": {
    "pycharm": {
     "name": "#%%\n"
    }
   },
   "outputs": [],
   "source": [
    "model, (board,) = nonogram(row_rules, col_rules)\n",
    "\n",
    "# Depending on the size of the image, solving may take a long time\n",
    "assert model.solve(solver=\"ortools\")"
   ]
  },
  {
   "cell_type": "code",
   "execution_count": 6,
   "metadata": {
    "pycharm": {
     "name": "#%%\n"
    }
   },
   "outputs": [
    {
     "data": {
      "image/png": "[encoded data removed]",
      "text/plain": [
       "<Figure size 432x288 with 1 Axes>"
      ]
     },
     "metadata": {
      "needs_background": "light"
     },
     "output_type": "display_data"
    }
   ],
   "source": [
    "import matplotlib.pyplot as plt\n",
    "plt.imshow(board.value(),cmap=\"binary\")\n",
    "plt.show()"
   ]
  },
  {
   "cell_type": "code",
   "execution_count": null,
   "metadata": {},
   "outputs": [],
   "source": []
  }
 ],
 "metadata": {
  "kernelspec": {
   "display_name": "Python 3",
   "language": "python",
   "name": "python3"
  },
  "language_info": {
   "codemirror_mode": {
    "name": "ipython",
    "version": 3
   },
   "file_extension": ".py",
   "mimetype": "text/x-python",
   "name": "python",
   "nbconvert_exporter": "python",
   "pygments_lexer": "ipython3",
   "version": "3.9.2"
  }
 },
 "nbformat": 4,
 "nbformat_minor": 1
}
