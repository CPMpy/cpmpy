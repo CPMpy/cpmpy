{
 "cells": [
  {
   "cell_type": "markdown",
   "metadata": {},
   "source": [
    "# Travelling Salesman Problem (TSP) Example\n",
    "\n",
    "This example requires you to install _matplotlib_. \n",
    "\n",
    "## Loading the libraries"
   ]
  },
  {
   "cell_type": "code",
   "execution_count": 1,
   "metadata": {},
   "outputs": [],
   "source": [
    "! pip install matplotlib --quiet"
   ]
  },
  {
   "cell_type": "code",
   "execution_count": 2,
   "metadata": {},
   "outputs": [],
   "source": [
    "from cpmpy import *\n",
    "import numpy as np\n",
    "import math"
   ]
  },
  {
   "cell_type": "markdown",
   "metadata": {},
   "source": [
    "## The TSP\n",
    "\n",
    "The travelling salesman problem (TSP) asks the following question: Given a list of cities and the distances between each pair of cities, what is the shortest possible route that visits each city exactly once and returns to the origin city?\n",
    "\n",
    "Let us take a look on how to solve an instance with 12 cities whose locations are given in the following array, i.e., <code>locations[i]</code> denotes the location of city <code>i</code>."
   ]
  },
  {
   "cell_type": "code",
   "execution_count": 3,
   "metadata": {},
   "outputs": [],
   "source": [
    "locations= [\n",
    "        (288, 149), (288, 129), (270, 133), (256, 141), (256, 163), (246, 157),\n",
    "        (236, 169), (228, 169), (228, 148), (220, 164), (212, 172), (204, 159)\n",
    "]"
   ]
  },
  {
   "cell_type": "markdown",
   "metadata": {},
   "source": [
    "We start by creating a function that builds a distance matrix, whose element <code>distance_matrix[i][j]</code> is the Euclidean distance between cities <code>i</code> and <code>j</code>. "
   ]
  },
  {
   "cell_type": "code",
   "execution_count": 4,
   "metadata": {},
   "outputs": [],
   "source": [
    "def compute_euclidean_distance_matrix(locations):\n",
    "    \"\"\"Creates callback to return distance between points.\"\"\"\n",
    "    n_city = len(locations)\n",
    "    distances = np.zeros((n_city,n_city))\n",
    "    for from_counter, from_node in enumerate(locations):\n",
    "        for to_counter, to_node in enumerate(locations):\n",
    "            if from_counter != to_counter:\n",
    "                distances[from_counter][to_counter] = (int(\n",
    "                    math.hypot((from_node[0] - to_node[0]),\n",
    "                               (from_node[1] - to_node[1]))))\n",
    "    return distances.astype(int)"
   ]
  },
  {
   "cell_type": "code",
   "execution_count": 5,
   "metadata": {},
   "outputs": [],
   "source": [
    "distance_matrix = compute_euclidean_distance_matrix(locations)\n",
    "n_city = len(locations)"
   ]
  },
  {
   "cell_type": "markdown",
   "metadata": {},
   "source": [
    "## Decision Variables\n",
    "\n",
    "We define the decision variables as integers in an array <code>x</code>, where <code>x[i]=j</code> means that city <code>j</code> is visited immediately after <code>i</code>.  \n",
    "Hence each <code>x[i]</code> will take a value of at least 0 and at most <code>n_city-1</code>, with <code>x</code> of length <code>n_city</code>."
   ]
  },
  {
   "cell_type": "code",
   "execution_count": 6,
   "metadata": {},
   "outputs": [],
   "source": [
    "x = intvar(0, n_city-1, shape=n_city) "
   ]
  },
  {
   "cell_type": "markdown",
   "metadata": {},
   "source": [
    "## Constraints"
   ]
  },
  {
   "cell_type": "markdown",
   "metadata": {},
   "source": [
    "In order to ensure that all cities are visited and that the resulting route forms a cycle, we only need to use the <code>circuit</code> constraint!  \n",
    "A <code>circuit(x)</code> constraint holds iff the arcs <code>i → x[i]</code> form\n",
    "a Hamiltonian circuit: each vertex is visited exactly once."
   ]
  },
  {
   "cell_type": "code",
   "execution_count": 7,
   "metadata": {},
   "outputs": [],
   "source": [
    "model = Model(circuit(x))"
   ]
  },
  {
   "cell_type": "markdown",
   "metadata": {},
   "source": [
    "## Objective\n",
    "\n",
    "A necessary step before defining the objective function is to ensure that we can index the distance matrix with a variable.   \n",
    "While this is not allowed for standard numpy arrays, this can be done after converting the array to a cpmpy-numpy array. (See FAQ in [README.md](https://github.com/tias/cppy/blob/master/README.md))."
   ]
  },
  {
   "cell_type": "code",
   "execution_count": 8,
   "metadata": {},
   "outputs": [],
   "source": [
    "distance_matrix = cpm_array(distance_matrix)"
   ]
  },
  {
   "cell_type": "markdown",
   "metadata": {},
   "source": [
    "We define the objective to be the total travel distance, and we wish to minimize it."
   ]
  },
  {
   "cell_type": "code",
   "execution_count": 9,
   "metadata": {},
   "outputs": [],
   "source": [
    "travel_distance = sum(distance_matrix[i, x[i]] for i in range(n_city))\n",
    "model.minimize(travel_distance)"
   ]
  },
  {
   "cell_type": "markdown",
   "metadata": {},
   "source": [
    "## Solving\n",
    "\n",
    "We can now combine the constraints and objective in a CP model, and use a solver to solve the problem."
   ]
  },
  {
   "cell_type": "code",
   "execution_count": 10,
   "metadata": {},
   "outputs": [
    {
     "name": "stdout",
     "output_type": "stream",
     "text": [
      "Dist: True solution: [ 1  2  3  8  0  4  5  6 11  7  9 10]\n"
     ]
    }
   ],
   "source": [
    "val = model.solve()\n",
    "print(\"Dist:\",val,\"solution:\",x.value())"
   ]
  },
  {
   "cell_type": "code",
   "execution_count": 11,
   "metadata": {},
   "outputs": [
    {
     "name": "stdout",
     "output_type": "stream",
     "text": [
      "ExitStatus.OPTIMAL (0.030709809 seconds)\n"
     ]
    }
   ],
   "source": [
    "# the solver status can also be checked\n",
    "print(model.status())"
   ]
  },
  {
   "cell_type": "markdown",
   "metadata": {},
   "source": [
    "The resulting route can be easily decoded by running the following function."
   ]
  },
  {
   "cell_type": "code",
   "execution_count": 12,
   "metadata": {},
   "outputs": [
    {
     "name": "stdout",
     "output_type": "stream",
     "text": [
      "0 --> 1 --> 2 --> 3 --> 8 --> 11 --> 10 --> 9 --> 7 --> 6 --> 5 --> 4 --> 0\n"
     ]
    }
   ],
   "source": [
    "def display(sol):\n",
    "    x = 0\n",
    "    msg = \"0\"\n",
    "    while sol[x] != 0:\n",
    "        x = sol[x]\n",
    "        msg += f\" --> {x}\"\n",
    "    print(msg + \" --> 0\")\n",
    "\n",
    "display(x.value())"
   ]
  },
  {
   "cell_type": "markdown",
   "metadata": {},
   "source": [
    "Or we can plot it..."
   ]
  },
  {
   "cell_type": "code",
   "execution_count": 13,
   "metadata": {},
   "outputs": [
    {
     "data": {
      "image/png": "[encoded data removed]",
      "text/plain": [
       "<Figure size 640x480 with 1 Axes>"
      ]
     },
     "metadata": {},
     "output_type": "display_data"
    }
   ],
   "source": [
    "import matplotlib.pyplot as plt\n",
    "\n",
    "def plot_tsp(coords, sol):\n",
    "    coords = np.array(coords)\n",
    "    plt.plot(coords[:,0], coords[:,1], 'co')\n",
    "    \n",
    "    for source,dest in enumerate(sol):\n",
    "        x,y = coords[source]\n",
    "        dx,dy = coords[dest] - coords[source]\n",
    "        plt.arrow(x,y,dx,dy, width=0.5, length_includes_head = True)\n",
    "    \n",
    "    return plt.show()\n",
    "    \n",
    "\n",
    "plot_tsp(locations, x.value())"
   ]
  }
 ],
 "metadata": {
  "kernelspec": {
   "display_name": "Python 3 (ipykernel)",
   "language": "python",
   "name": "python3"
  },
  "language_info": {
   "codemirror_mode": {
    "name": "ipython",
    "version": 3
   },
   "file_extension": ".py",
   "mimetype": "text/x-python",
   "name": "python",
   "nbconvert_exporter": "python",
   "pygments_lexer": "ipython3",
   "version": "3.10.9"
  }
 },
 "nbformat": 4,
 "nbformat_minor": 2
}
