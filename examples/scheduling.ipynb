{
 "cells": [
  {
   "cell_type": "markdown",
   "id": "british-isolation",
   "metadata": {},
   "source": [
    "# Scheduling problem in CPMPy, with visualization\n",
    "\n",
    "Based on Alexander Schiendorfer's, but with simplified visualization\n",
    "https://github.com/Alexander-Schiendorfer/cp-examples/tree/main/scheduling\n",
    "\n",
    "Given some jobs with corresponding tasks performed on multiple machines, \n",
    "the program finds a schedule that satisfies all priority constraints while minimizing the overall timespan.\n",
    "\n",
    "This example requires you to install _pandas_ and _plotly_."
   ]
  },
  {
   "cell_type": "code",
   "execution_count": 1,
   "id": "51f3286b",
   "metadata": {},
   "outputs": [],
   "source": [
    "! pip install pandas plotly --quiet"
   ]
  },
  {
   "cell_type": "code",
   "execution_count": 2,
   "id": "sunrise-optimum",
   "metadata": {},
   "outputs": [],
   "source": [
    "import numpy as np\n",
    "import pandas as pd\n",
    "import plotly.express as px\n",
    "from cpmpy import *"
   ]
  },
  {
   "cell_type": "code",
   "execution_count": 3,
   "id": "greatest-prescription",
   "metadata": {},
   "outputs": [],
   "source": [
    "# the CPMpy model and variables\n",
    "def model_scheduling(jobs, lastT, dur, taskToMach):\n",
    "    dur = np.array(dur)\n",
    "    taskToMach = np.array(taskToMach)\n",
    "    nJobs, nTasks = taskToMach.shape  # jobs are rows, tasks are columns\n",
    "\n",
    "    # Decision variables\n",
    "    start = intvar(0, lastT, shape=(nJobs, nTasks), name=\"start\")  # Start time of each task\n",
    "    end = intvar(0, lastT, shape=(nJobs, nTasks), name=\"end\")  # End time of each task\n",
    "\n",
    "    m = Model()\n",
    "\n",
    "    # The end of every task is the sum of its start and duration\n",
    "    m += (end == start + dur)\n",
    "\n",
    "    # No overlap on the same machine\n",
    "    for j in range(nJobs):\n",
    "        for t in range(nTasks):\n",
    "            m += [ (end[j, t] <= start[j2, t2]) | (end[j2, t2] <= start[j, t])\n",
    "                   for j2 in range(nJobs) for t2 in range(nTasks)\n",
    "                   if taskToMach[j, t] == taskToMach[j2, t2] and j != j2]\n",
    "\n",
    "    # Precedences: do tasks in order for all jobs\n",
    "    for t in range(nTasks - 1):\n",
    "        m += [start[:, t + 1] >= end[:, t]]\n",
    "\n",
    "    # Minimize the makespan,\n",
    "    # the makespan is defined as the total needed time to finish all jobs\n",
    "    m.minimize(max(end))\n",
    "\n",
    "    # Optional constraints\n",
    "    # The 2nd task of job B has to come before all 2nd tasks of other jobs\n",
    "    for i in range(nJobs):\n",
    "        if i != 1:\n",
    "            m += (start[i, 1] >= start[1, 1])\n",
    "\n",
    "    return m, (start, end)"
   ]
  },
  {
   "cell_type": "code",
   "execution_count": 4,
   "id": "average-shark",
   "metadata": {},
   "outputs": [],
   "source": [
    "# the visualisation: make dataframe, use excellent barchart from plotly express\n",
    "def visualize_scheduling(jobs, taskToMach, start, end):\n",
    "    taskToMach = np.array(taskToMach)\n",
    "    nJobs, nTasks = taskToMach.shape  # jobs are rows, tasks are columns\n",
    "\n",
    "    jobNames = np.repeat(jobs, nTasks)\n",
    "    fullNames = np.array([[f\"Task {j}{t}\" for t in range(nTasks)] for j in jobs])\n",
    "    df = pd.DataFrame({'Start': start.flatten(),\n",
    "                       'End': end.flatten(),\n",
    "                       'Machine': taskToMach.flatten().astype(str),\n",
    "                       'Job': jobNames.flatten(),\n",
    "                       'Name': fullNames.flatten(),\n",
    "                       })\n",
    "    df['Time'] = df['End'] - df['Start']  # Length on x-axis\n",
    "\n",
    "    fig = px.bar(df, orientation='h',\n",
    "                 base=\"Start\", x=\"Time\", y=\"Machine\", color=\"Job\", text=\"Name\")\n",
    "    return fig.show()"
   ]
  },
  {
   "cell_type": "code",
   "execution_count": 5,
   "id": "worst-thompson",
   "metadata": {},
   "outputs": [],
   "source": [
    "# Example data for job shop scheduling\n",
    "jobs = ['A', 'B', 'C', 'D']  # Different jobs\n",
    "lastT = 20  # Time limit\n",
    "# implicit: 3 tasks per job, columns of the subsequent:\n",
    "dur = [[5, 2, 3],\n",
    "       [4, 5, 1],\n",
    "       [3, 4, 2],\n",
    "       [1, 1, 1]]  # Per job (row), amount of time (value) needed for each task (column)\n",
    "taskToMach = [[1, 2, 3],\n",
    "              [2, 1, 3],\n",
    "              [2, 3, 1],\n",
    "              [3, 2, 1]] # Per job (row), on what machine (value) each task has to be performed (column)"
   ]
  },
  {
   "cell_type": "code",
   "execution_count": null,
   "id": "planned-phenomenon",
   "metadata": {},
   "outputs": [
    {
     "name": "stdout",
     "output_type": "stream",
     "text": [
      "Makespan: 15\n",
      "Start times: [[ 0  8 12]\n",
      " [ 0  5 11]\n",
      " [ 4  7 11]\n",
      " [ 0  7 10]]\n",
      "End times: [[ 5 10 15]\n",
      " [ 4 10 12]\n",
      " [ 7 11 13]\n",
      " [ 1  8 11]]\n"
     ]
    }
   ],
   "source": [
    "# model, solve, visualize\n",
    "(model, (start,end)) = model_scheduling(jobs, lastT, dur, taskToMach)\n",
    "\n",
    "sat = model.solve()\n",
    "if not sat: raise Exception(\"No solution found.\")\n",
    "\n",
    "# text output\n",
    "print(\"Makespan:\", max(end.value()))\n",
    "print(\"Start times:\", start.value())\n",
    "print(\"End times:\", end.value())\n",
    "\n",
    "# visualization\n",
    "visualize_scheduling(jobs, taskToMach, start.value(), end.value())"
   ]
  }
 ],
 "metadata": {
  "kernelspec": {
   "display_name": "Python 3 (ipykernel)",
   "language": "python",
   "name": "python3"
  },
  "language_info": {
   "codemirror_mode": {
    "name": "ipython",
    "version": 3
   },
   "file_extension": ".py",
   "mimetype": "text/x-python",
   "name": "python",
   "nbconvert_exporter": "python",
   "pygments_lexer": "ipython3",
   "version": "3.10.9"
  }
 },
 "nbformat": 4,
 "nbformat_minor": 5
}
