{
 "cells": [
  {
   "cell_type": "code",
   "execution_count": 1,
   "metadata": {
    "ExecuteTime": {
     "end_time": "2024-11-21T08:11:36.472448Z",
     "start_time": "2024-11-21T08:11:36.110846Z"
    },
    "pycharm": {
     "name": "#%%\n"
    }
   },
   "outputs": [],
   "source": [
    "import cpmpy as cp"
   ]
  },
  {
   "cell_type": "code",
   "execution_count": 26,
   "metadata": {
    "ExecuteTime": {
     "end_time": "2024-11-21T08:11:37.397537Z",
     "start_time": "2024-11-21T08:11:37.394246Z"
    },
    "pycharm": {
     "name": "#%%\n"
    }
   },
   "outputs": [],
   "source": [
    "n = 9 # number of blocks\n",
    "k = 3 # number of piles\n",
    "\n",
    "start = [2, 0, 9, 6, 3, 1, 5, 4, 0]\n",
    "goal =  [3, 8, 4, 5, 0, 9, 0, 0, 1]\n",
    "\n",
    "# n = 5\n",
    "# k = 3\n",
    "# start = [5, 0, 2, 0, 4]\n",
    "# goal = [2, 3, 0, 5, 0]\n"
   ]
  },
  {
   "cell_type": "code",
   "execution_count": null,
   "metadata": {},
   "outputs": [],
   "source": []
  },
  {
   "cell_type": "code",
   "execution_count": null,
   "metadata": {
    "pycharm": {
     "name": "#%%\n"
    }
   },
   "outputs": [],
   "source": [
    "\n",
    "import cpmpy as cp\n",
    "from cpmpy.tools.explain import mus\n",
    "\n",
    "FROM, TO = 0,1\n",
    "nCubes, horizon = n + 1, n * k + 1  # nCubes includes the dummy cube 0\n",
    "\n",
    "state = cp.intvar(0,n,   shape=(nCubes, horizon), name=\"state\")\n",
    "count = cp.intvar(0,k,   shape=(nCubes, horizon), name=\"count\")\n",
    "done = cp.boolvar(       shape=horizon, name=\"done\")\n",
    "move = cp.intvar(0,n+1,  shape=(horizon,2), name=\"move\")\n",
    "locked = cp.boolvar(     shape=(nCubes, horizon), name=\"locked\")\n",
    "\n",
    "model = cp.Model()\n",
    "model.minimize(horizon - cp.sum(done))\n",
    "\n",
    "# dummy block is always on top\n",
    "\n",
    "model += state[0,:] == 0\n",
    "\n",
    "# define start state\n",
    "model += state[1:, 0] == start\n",
    "\n",
    "# end state (redundant constraint)\n",
    "model += state[1:,-1] == goal\n",
    "\n",
    "# define doneness\n",
    "for t in range(horizon):\n",
    "    model += cp.all(state[1:, t] == goal) == done[t]\n",
    "\n",
    "# ensure we have two phases\n",
    "model += cp.Increasing(done)\n",
    "\n",
    "# define moves\n",
    "for t in range(horizon):\n",
    "    model += move[t,TO] == state[move[t, FROM],t]\n",
    "\n",
    "       \n",
    "for t in range(1, horizon):\n",
    "    is_done = done[t-1]\n",
    "    \n",
    "    model += cp.IfThenElse(done[t-1],\n",
    "                           cp.all(state[1:, t-1] == state[1:, t]), # don't move\n",
    "                           # if a block is changed, it has moved\n",
    "                           cp.all([(state[b,t-1] != state[b,t]) == (b == move[t,FROM]) for b in range(nCubes)]) & \n",
    "                           # if a block is moved, it should have been free\n",
    "                           (count[move[t, FROM], t-1] == 0)\n",
    "    )\n",
    "\n",
    "    # no more moves once finished\n",
    "    model += is_done.implies(move[t,FROM] == 0)\n",
    "\n",
    "# count nb of times a block occurs\n",
    "model += count[0, :] >= 1\n",
    "model += count[1:, :] <= 1\n",
    "\n",
    "for t in range(horizon):\n",
    "    model += cp.GlobalCardinalityCount(state[1:, t], list(range(0,nCubes)), count[:, t], closed=True)\n",
    "\n",
    "    \n",
    "# redundant constraints, speeding up search\n",
    "# prevent do-undo moves\n",
    "for t in range(1,horizon-1):\n",
    "\n",
    "    model += (~done[t]).implies(cp.all([move[t, FROM] != move[t+1, FROM],\n",
    "                                        move[t, TO]   != move[t+1, FROM],\n",
    "                                        move[t, TO]   != move[t+1, TO],\n",
    "                                        move[t, FROM] != move[t, TO]]))\n",
    "\n",
    "# some cubes are locked in end position\n",
    "for t in range(horizon):\n",
    "    for b in range(1,n):\n",
    "        model += locked[b,t] == ((state[b,t] == goal[b]) & (locked[goal[b]][t] if goal[b] != 0 else True))\n",
    "        \n",
    "# don't move locked blocks\n",
    "for t in range(horizon-1):\n",
    "    for b in range(1,n):\n",
    "        model += locked[b,t].implies(state[b,t+1] == goal[b])\n",
    "        model += locked[b,t].implies(move[t+1, FROM] != b)\n",
    "\n",
    "\n",
    "######################################\n",
    "if model.solve(solver=\"choco\") is False:\n",
    "    print(\"UNSAT\")\n",
    "    print(\"Finding MUS\")\n",
    "    for c in mus(model.constraints):\n",
    "        print(\"-\", c)\n",
    "\n",
    "else:\n",
    "    print(model.status())\n",
    "    obj = model.objective_value()\n",
    "    print(model.objective_value())"
   ]
  },
  {
   "cell_type": "code",
   "execution_count": 25,
   "metadata": {
    "pycharm": {
     "name": "#%%\n"
    },
    "scrolled": false
   },
   "outputs": [
    {
     "name": "stdout",
     "output_type": "stream",
     "text": [
      "[[[1, 5, 4], [3, 2]]]\n"
     ]
    },
    {
     "data": {
      "application/vnd.plotly.v1+json": {
       "config": {
        "plotlyServerURL": "https://plot.ly"
       },
       "data": [
        {
         "fill": "toself",
         "fillcolor": "#9467bd",
         "line": {
          "color": "black"
         },
         "mode": "lines",
         "type": "scatter",
         "x": [
          -0.4,
          0.4,
          0.4,
          -0.4,
          -0.4
         ],
         "y": [
          0,
          0,
          1,
          1,
          0
         ]
        },
        {
         "mode": "text",
         "text": "4",
         "type": "scatter",
         "x": [
          0
         ],
         "y": [
          0.4
         ]
        },
        {
         "fill": "toself",
         "fillcolor": "#8c564b",
         "line": {
          "color": "black"
         },
         "mode": "lines",
         "type": "scatter",
         "x": [
          -0.4,
          0.4,
          0.4,
          -0.4,
          -0.4
         ],
         "y": [
          1,
          1,
          2,
          2,
          1
         ]
        },
        {
         "mode": "text",
         "text": "5",
         "type": "scatter",
         "x": [
          0
         ],
         "y": [
          1.4
         ]
        },
        {
         "fill": "toself",
         "fillcolor": "#ff7f0e",
         "line": {
          "color": "black"
         },
         "mode": "lines",
         "type": "scatter",
         "x": [
          -0.4,
          0.4,
          0.4,
          -0.4,
          -0.4
         ],
         "y": [
          2,
          2,
          3,
          3,
          2
         ]
        },
        {
         "mode": "text",
         "text": "1",
         "type": "scatter",
         "x": [
          0
         ],
         "y": [
          2.4
         ]
        },
        {
         "fill": "toself",
         "fillcolor": "#2ca02c",
         "line": {
          "color": "black"
         },
         "mode": "lines",
         "type": "scatter",
         "x": [
          0.6,
          1.4,
          1.4,
          0.6,
          0.6
         ],
         "y": [
          0,
          0,
          1,
          1,
          0
         ]
        },
        {
         "mode": "text",
         "text": "2",
         "type": "scatter",
         "x": [
          1
         ],
         "y": [
          0.4
         ]
        },
        {
         "fill": "toself",
         "fillcolor": "#d62728",
         "line": {
          "color": "black"
         },
         "mode": "lines",
         "type": "scatter",
         "x": [
          0.6,
          1.4,
          1.4,
          0.6,
          0.6
         ],
         "y": [
          1,
          1,
          2,
          2,
          1
         ]
        },
        {
         "mode": "text",
         "text": "3",
         "type": "scatter",
         "x": [
          1
         ],
         "y": [
          1.4
         ]
        }
       ],
       "frames": [
        {
         "data": [
          {
           "fill": "toself",
           "fillcolor": "#9467bd",
           "line": {
            "color": "black"
           },
           "mode": "lines",
           "type": "scatter",
           "x": [
            -0.4,
            0.4,
            0.4,
            -0.4,
            -0.4
           ],
           "y": [
            0,
            0,
            1,
            1,
            0
           ]
          },
          {
           "mode": "text",
           "text": "4",
           "type": "scatter",
           "x": [
            0
           ],
           "y": [
            0.4
           ]
          },
          {
           "fill": "toself",
           "fillcolor": "#8c564b",
           "line": {
            "color": "black"
           },
           "mode": "lines",
           "type": "scatter",
           "x": [
            -0.4,
            0.4,
            0.4,
            -0.4,
            -0.4
           ],
           "y": [
            1,
            1,
            2,
            2,
            1
           ]
          },
          {
           "mode": "text",
           "text": "5",
           "type": "scatter",
           "x": [
            0
           ],
           "y": [
            1.4
           ]
          },
          {
           "fill": "toself",
           "fillcolor": "#ff7f0e",
           "line": {
            "color": "black"
           },
           "mode": "lines",
           "type": "scatter",
           "x": [
            -0.4,
            0.4,
            0.4,
            -0.4,
            -0.4
           ],
           "y": [
            2,
            2,
            3,
            3,
            2
           ]
          },
          {
           "mode": "text",
           "text": "1",
           "type": "scatter",
           "x": [
            0
           ],
           "y": [
            2.4
           ]
          },
          {
           "fill": "toself",
           "fillcolor": "#2ca02c",
           "line": {
            "color": "black"
           },
           "mode": "lines",
           "type": "scatter",
           "x": [
            0.6,
            1.4,
            1.4,
            0.6,
            0.6
           ],
           "y": [
            0,
            0,
            1,
            1,
            0
           ]
          },
          {
           "mode": "text",
           "text": "2",
           "type": "scatter",
           "x": [
            1
           ],
           "y": [
            0.4
           ]
          },
          {
           "fill": "toself",
           "fillcolor": "#d62728",
           "line": {
            "color": "black"
           },
           "mode": "lines",
           "type": "scatter",
           "x": [
            0.6,
            1.4,
            1.4,
            0.6,
            0.6
           ],
           "y": [
            1,
            1,
            2,
            2,
            1
           ]
          },
          {
           "mode": "text",
           "text": "3",
           "type": "scatter",
           "x": [
            1
           ],
           "y": [
            1.4
           ]
          }
         ]
        },
        {
         "data": [
          {
           "fill": "toself",
           "fillcolor": "#9467bd",
           "line": {
            "color": "black"
           },
           "mode": "lines",
           "type": "scatter",
           "x": [
            -0.4,
            0.4,
            0.4,
            -0.4,
            -0.4
           ],
           "y": [
            0,
            0,
            1,
            1,
            0
           ]
          },
          {
           "mode": "text",
           "text": "4",
           "type": "scatter",
           "x": [
            0
           ],
           "y": [
            0.4
           ]
          },
          {
           "fill": "toself",
           "fillcolor": "#8c564b",
           "line": {
            "color": "black"
           },
           "mode": "lines",
           "type": "scatter",
           "x": [
            -0.4,
            0.4,
            0.4,
            -0.4,
            -0.4
           ],
           "y": [
            1,
            1,
            2,
            2,
            1
           ]
          },
          {
           "mode": "text",
           "text": "5",
           "type": "scatter",
           "x": [
            0
           ],
           "y": [
            1.4
           ]
          },
          {
           "fill": "toself",
           "fillcolor": "#ff7f0e",
           "line": {
            "color": "black"
           },
           "mode": "lines",
           "type": "scatter",
           "x": [
            -0.4,
            0.4,
            0.4,
            -0.4,
            -0.4
           ],
           "y": [
            2,
            2,
            3,
            3,
            2
           ]
          },
          {
           "mode": "text",
           "text": "1",
           "type": "scatter",
           "x": [
            0
           ],
           "y": [
            2.4
           ]
          },
          {
           "fill": "toself",
           "fillcolor": "#2ca02c",
           "line": {
            "color": "black"
           },
           "mode": "lines",
           "type": "scatter",
           "x": [
            0.6,
            1.4,
            1.4,
            0.6,
            0.6
           ],
           "y": [
            0,
            0,
            1,
            1,
            0
           ]
          },
          {
           "mode": "text",
           "text": "2",
           "type": "scatter",
           "x": [
            1
           ],
           "y": [
            0.4
           ]
          },
          {
           "fill": "toself",
           "fillcolor": "#d62728",
           "line": {
            "color": "black"
           },
           "mode": "lines",
           "type": "scatter",
           "x": [
            0.6,
            1.4,
            1.4,
            0.6,
            0.6
           ],
           "y": [
            1,
            1,
            2,
            2,
            1
           ]
          },
          {
           "mode": "text",
           "text": "3",
           "type": "scatter",
           "x": [
            1
           ],
           "y": [
            1.4
           ]
          }
         ]
        },
        {
         "data": [
          {
           "fill": "toself",
           "fillcolor": "#9467bd",
           "line": {
            "color": "black"
           },
           "mode": "lines",
           "type": "scatter",
           "x": [
            -0.4,
            0.4,
            0.4,
            -0.4,
            -0.4
           ],
           "y": [
            0,
            0,
            1,
            1,
            0
           ]
          },
          {
           "mode": "text",
           "text": "4",
           "type": "scatter",
           "x": [
            0
           ],
           "y": [
            0.4
           ]
          },
          {
           "fill": "toself",
           "fillcolor": "#8c564b",
           "line": {
            "color": "black"
           },
           "mode": "lines",
           "type": "scatter",
           "x": [
            -0.4,
            0.4,
            0.4,
            -0.4,
            -0.4
           ],
           "y": [
            1,
            1,
            2,
            2,
            1
           ]
          },
          {
           "mode": "text",
           "text": "5",
           "type": "scatter",
           "x": [
            0
           ],
           "y": [
            1.4
           ]
          },
          {
           "fill": "toself",
           "fillcolor": "#ff7f0e",
           "line": {
            "color": "black"
           },
           "mode": "lines",
           "type": "scatter",
           "x": [
            -0.4,
            0.4,
            0.4,
            -0.4,
            -0.4
           ],
           "y": [
            2,
            2,
            3,
            3,
            2
           ]
          },
          {
           "mode": "text",
           "text": "1",
           "type": "scatter",
           "x": [
            0
           ],
           "y": [
            2.4
           ]
          },
          {
           "fill": "toself",
           "fillcolor": "#2ca02c",
           "line": {
            "color": "black"
           },
           "mode": "lines",
           "type": "scatter",
           "x": [
            0.6,
            1.4,
            1.4,
            0.6,
            0.6
           ],
           "y": [
            0,
            0,
            1,
            1,
            0
           ]
          },
          {
           "mode": "text",
           "text": "2",
           "type": "scatter",
           "x": [
            1
           ],
           "y": [
            0.4
           ]
          },
          {
           "fill": "toself",
           "fillcolor": "#d62728",
           "line": {
            "color": "black"
           },
           "mode": "lines",
           "type": "scatter",
           "x": [
            1.6,
            2.4000000000000004,
            2.4000000000000004,
            1.6,
            1.6
           ],
           "y": [
            0,
            0,
            1,
            1,
            0
           ]
          },
          {
           "mode": "text",
           "text": "3",
           "type": "scatter",
           "x": [
            2
           ],
           "y": [
            0.4
           ]
          }
         ]
        },
        {
         "data": [
          {
           "fill": "toself",
           "fillcolor": "#9467bd",
           "line": {
            "color": "black"
           },
           "mode": "lines",
           "type": "scatter",
           "x": [
            -0.4,
            0.4,
            0.4,
            -0.4,
            -0.4
           ],
           "y": [
            0,
            0,
            1,
            1,
            0
           ]
          },
          {
           "mode": "text",
           "text": "4",
           "type": "scatter",
           "x": [
            0
           ],
           "y": [
            0.4
           ]
          },
          {
           "fill": "toself",
           "fillcolor": "#8c564b",
           "line": {
            "color": "black"
           },
           "mode": "lines",
           "type": "scatter",
           "x": [
            -0.4,
            0.4,
            0.4,
            -0.4,
            -0.4
           ],
           "y": [
            1,
            1,
            2,
            2,
            1
           ]
          },
          {
           "mode": "text",
           "text": "5",
           "type": "scatter",
           "x": [
            0
           ],
           "y": [
            1.4
           ]
          },
          {
           "fill": "toself",
           "fillcolor": "#ff7f0e",
           "line": {
            "color": "black"
           },
           "mode": "lines",
           "type": "scatter",
           "x": [
            -0.4,
            0.4,
            0.4,
            -0.4,
            -0.4
           ],
           "y": [
            2,
            2,
            3,
            3,
            2
           ]
          },
          {
           "mode": "text",
           "text": "1",
           "type": "scatter",
           "x": [
            0
           ],
           "y": [
            2.4
           ]
          },
          {
           "fill": "toself",
           "fillcolor": "#d62728",
           "line": {
            "color": "black"
           },
           "mode": "lines",
           "type": "scatter",
           "x": [
            1.6,
            2.4000000000000004,
            2.4000000000000004,
            1.6,
            1.6
           ],
           "y": [
            0,
            0,
            1,
            1,
            0
           ]
          },
          {
           "mode": "text",
           "text": "3",
           "type": "scatter",
           "x": [
            2
           ],
           "y": [
            0.4
           ]
          },
          {
           "fill": "toself",
           "fillcolor": "#2ca02c",
           "line": {
            "color": "black"
           },
           "mode": "lines",
           "type": "scatter",
           "x": [
            1.6,
            2.4000000000000004,
            2.4000000000000004,
            1.6,
            1.6
           ],
           "y": [
            1,
            1,
            2,
            2,
            1
           ]
          },
          {
           "mode": "text",
           "text": "2",
           "type": "scatter",
           "x": [
            2
           ],
           "y": [
            1.4
           ]
          }
         ]
        },
        {
         "data": [
          {
           "fill": "toself",
           "fillcolor": "#9467bd",
           "line": {
            "color": "black"
           },
           "mode": "lines",
           "type": "scatter",
           "x": [
            -0.4,
            0.4,
            0.4,
            -0.4,
            -0.4
           ],
           "y": [
            0,
            0,
            1,
            1,
            0
           ]
          },
          {
           "mode": "text",
           "text": "4",
           "type": "scatter",
           "x": [
            0
           ],
           "y": [
            0.4
           ]
          },
          {
           "fill": "toself",
           "fillcolor": "#8c564b",
           "line": {
            "color": "black"
           },
           "mode": "lines",
           "type": "scatter",
           "x": [
            -0.4,
            0.4,
            0.4,
            -0.4,
            -0.4
           ],
           "y": [
            1,
            1,
            2,
            2,
            1
           ]
          },
          {
           "mode": "text",
           "text": "5",
           "type": "scatter",
           "x": [
            0
           ],
           "y": [
            1.4
           ]
          },
          {
           "fill": "toself",
           "fillcolor": "#d62728",
           "line": {
            "color": "black"
           },
           "mode": "lines",
           "type": "scatter",
           "x": [
            1.6,
            2.4000000000000004,
            2.4000000000000004,
            1.6,
            1.6
           ],
           "y": [
            0,
            0,
            1,
            1,
            0
           ]
          },
          {
           "mode": "text",
           "text": "3",
           "type": "scatter",
           "x": [
            2
           ],
           "y": [
            0.4
           ]
          },
          {
           "fill": "toself",
           "fillcolor": "#2ca02c",
           "line": {
            "color": "black"
           },
           "mode": "lines",
           "type": "scatter",
           "x": [
            1.6,
            2.4000000000000004,
            2.4000000000000004,
            1.6,
            1.6
           ],
           "y": [
            1,
            1,
            2,
            2,
            1
           ]
          },
          {
           "mode": "text",
           "text": "2",
           "type": "scatter",
           "x": [
            2
           ],
           "y": [
            1.4
           ]
          },
          {
           "fill": "toself",
           "fillcolor": "#ff7f0e",
           "line": {
            "color": "black"
           },
           "mode": "lines",
           "type": "scatter",
           "x": [
            1.6,
            2.4000000000000004,
            2.4000000000000004,
            1.6,
            1.6
           ],
           "y": [
            2,
            2,
            3,
            3,
            2
           ]
          },
          {
           "mode": "text",
           "text": "1",
           "type": "scatter",
           "x": [
            2
           ],
           "y": [
            2.4
           ]
          }
         ]
        },
        {
         "data": [
          {
           "fill": "toself",
           "fillcolor": "#9467bd",
           "line": {
            "color": "black"
           },
           "mode": "lines",
           "type": "scatter",
           "x": [
            -0.4,
            0.4,
            0.4,
            -0.4,
            -0.4
           ],
           "y": [
            0,
            0,
            1,
            1,
            0
           ]
          },
          {
           "mode": "text",
           "text": "4",
           "type": "scatter",
           "x": [
            0
           ],
           "y": [
            0.4
           ]
          },
          {
           "fill": "toself",
           "fillcolor": "#d62728",
           "line": {
            "color": "black"
           },
           "mode": "lines",
           "type": "scatter",
           "x": [
            1.6,
            2.4000000000000004,
            2.4000000000000004,
            1.6,
            1.6
           ],
           "y": [
            0,
            0,
            1,
            1,
            0
           ]
          },
          {
           "mode": "text",
           "text": "3",
           "type": "scatter",
           "x": [
            2
           ],
           "y": [
            0.4
           ]
          },
          {
           "fill": "toself",
           "fillcolor": "#2ca02c",
           "line": {
            "color": "black"
           },
           "mode": "lines",
           "type": "scatter",
           "x": [
            1.6,
            2.4000000000000004,
            2.4000000000000004,
            1.6,
            1.6
           ],
           "y": [
            1,
            1,
            2,
            2,
            1
           ]
          },
          {
           "mode": "text",
           "text": "2",
           "type": "scatter",
           "x": [
            2
           ],
           "y": [
            1.4
           ]
          },
          {
           "fill": "toself",
           "fillcolor": "#ff7f0e",
           "line": {
            "color": "black"
           },
           "mode": "lines",
           "type": "scatter",
           "x": [
            1.6,
            2.4000000000000004,
            2.4000000000000004,
            1.6,
            1.6
           ],
           "y": [
            2,
            2,
            3,
            3,
            2
           ]
          },
          {
           "mode": "text",
           "text": "1",
           "type": "scatter",
           "x": [
            2
           ],
           "y": [
            2.4
           ]
          },
          {
           "fill": "toself",
           "fillcolor": "#8c564b",
           "line": {
            "color": "black"
           },
           "mode": "lines",
           "type": "scatter",
           "x": [
            2.6,
            3.4000000000000004,
            3.4000000000000004,
            2.6,
            2.6
           ],
           "y": [
            0,
            0,
            1,
            1,
            0
           ]
          },
          {
           "mode": "text",
           "text": "5",
           "type": "scatter",
           "x": [
            3
           ],
           "y": [
            0.4
           ]
          }
         ]
        },
        {
         "data": [
          {
           "fill": "toself",
           "fillcolor": "#d62728",
           "line": {
            "color": "black"
           },
           "mode": "lines",
           "type": "scatter",
           "x": [
            1.6,
            2.4000000000000004,
            2.4000000000000004,
            1.6,
            1.6
           ],
           "y": [
            0,
            0,
            1,
            1,
            0
           ]
          },
          {
           "mode": "text",
           "text": "3",
           "type": "scatter",
           "x": [
            2
           ],
           "y": [
            0.4
           ]
          },
          {
           "fill": "toself",
           "fillcolor": "#2ca02c",
           "line": {
            "color": "black"
           },
           "mode": "lines",
           "type": "scatter",
           "x": [
            1.6,
            2.4000000000000004,
            2.4000000000000004,
            1.6,
            1.6
           ],
           "y": [
            1,
            1,
            2,
            2,
            1
           ]
          },
          {
           "mode": "text",
           "text": "2",
           "type": "scatter",
           "x": [
            2
           ],
           "y": [
            1.4
           ]
          },
          {
           "fill": "toself",
           "fillcolor": "#ff7f0e",
           "line": {
            "color": "black"
           },
           "mode": "lines",
           "type": "scatter",
           "x": [
            1.6,
            2.4000000000000004,
            2.4000000000000004,
            1.6,
            1.6
           ],
           "y": [
            2,
            2,
            3,
            3,
            2
           ]
          },
          {
           "mode": "text",
           "text": "1",
           "type": "scatter",
           "x": [
            2
           ],
           "y": [
            2.4
           ]
          },
          {
           "fill": "toself",
           "fillcolor": "#8c564b",
           "line": {
            "color": "black"
           },
           "mode": "lines",
           "type": "scatter",
           "x": [
            2.6,
            3.4000000000000004,
            3.4000000000000004,
            2.6,
            2.6
           ],
           "y": [
            0,
            0,
            1,
            1,
            0
           ]
          },
          {
           "mode": "text",
           "text": "5",
           "type": "scatter",
           "x": [
            3
           ],
           "y": [
            0.4
           ]
          },
          {
           "fill": "toself",
           "fillcolor": "#9467bd",
           "line": {
            "color": "black"
           },
           "mode": "lines",
           "type": "scatter",
           "x": [
            2.6,
            3.4000000000000004,
            3.4000000000000004,
            2.6,
            2.6
           ],
           "y": [
            1,
            1,
            2,
            2,
            1
           ]
          },
          {
           "mode": "text",
           "text": "4",
           "type": "scatter",
           "x": [
            3
           ],
           "y": [
            1.4
           ]
          }
         ]
        },
        {
         "data": [
          {
           "fill": "toself",
           "fillcolor": "#d62728",
           "line": {
            "color": "black"
           },
           "mode": "lines",
           "type": "scatter",
           "x": [
            1.6,
            2.4000000000000004,
            2.4000000000000004,
            1.6,
            1.6
           ],
           "y": [
            0,
            0,
            1,
            1,
            0
           ]
          },
          {
           "mode": "text",
           "text": "3",
           "type": "scatter",
           "x": [
            2
           ],
           "y": [
            0.4
           ]
          },
          {
           "fill": "toself",
           "fillcolor": "#2ca02c",
           "line": {
            "color": "black"
           },
           "mode": "lines",
           "type": "scatter",
           "x": [
            1.6,
            2.4000000000000004,
            2.4000000000000004,
            1.6,
            1.6
           ],
           "y": [
            1,
            1,
            2,
            2,
            1
           ]
          },
          {
           "mode": "text",
           "text": "2",
           "type": "scatter",
           "x": [
            2
           ],
           "y": [
            1.4
           ]
          },
          {
           "fill": "toself",
           "fillcolor": "#ff7f0e",
           "line": {
            "color": "black"
           },
           "mode": "lines",
           "type": "scatter",
           "x": [
            1.6,
            2.4000000000000004,
            2.4000000000000004,
            1.6,
            1.6
           ],
           "y": [
            2,
            2,
            3,
            3,
            2
           ]
          },
          {
           "mode": "text",
           "text": "1",
           "type": "scatter",
           "x": [
            2
           ],
           "y": [
            2.4
           ]
          },
          {
           "fill": "toself",
           "fillcolor": "#8c564b",
           "line": {
            "color": "black"
           },
           "mode": "lines",
           "type": "scatter",
           "x": [
            2.6,
            3.4000000000000004,
            3.4000000000000004,
            2.6,
            2.6
           ],
           "y": [
            0,
            0,
            1,
            1,
            0
           ]
          },
          {
           "mode": "text",
           "text": "5",
           "type": "scatter",
           "x": [
            3
           ],
           "y": [
            0.4
           ]
          },
          {
           "fill": "toself",
           "fillcolor": "#9467bd",
           "line": {
            "color": "black"
           },
           "mode": "lines",
           "type": "scatter",
           "x": [
            2.6,
            3.4000000000000004,
            3.4000000000000004,
            2.6,
            2.6
           ],
           "y": [
            1,
            1,
            2,
            2,
            1
           ]
          },
          {
           "mode": "text",
           "text": "4",
           "type": "scatter",
           "x": [
            3
           ],
           "y": [
            1.4
           ]
          }
         ]
        },
        {
         "data": [
          {
           "fill": "toself",
           "fillcolor": "#d62728",
           "line": {
            "color": "black"
           },
           "mode": "lines",
           "type": "scatter",
           "x": [
            1.6,
            2.4000000000000004,
            2.4000000000000004,
            1.6,
            1.6
           ],
           "y": [
            0,
            0,
            1,
            1,
            0
           ]
          },
          {
           "mode": "text",
           "text": "3",
           "type": "scatter",
           "x": [
            2
           ],
           "y": [
            0.4
           ]
          },
          {
           "fill": "toself",
           "fillcolor": "#2ca02c",
           "line": {
            "color": "black"
           },
           "mode": "lines",
           "type": "scatter",
           "x": [
            1.6,
            2.4000000000000004,
            2.4000000000000004,
            1.6,
            1.6
           ],
           "y": [
            1,
            1,
            2,
            2,
            1
           ]
          },
          {
           "mode": "text",
           "text": "2",
           "type": "scatter",
           "x": [
            2
           ],
           "y": [
            1.4
           ]
          },
          {
           "fill": "toself",
           "fillcolor": "#ff7f0e",
           "line": {
            "color": "black"
           },
           "mode": "lines",
           "type": "scatter",
           "x": [
            1.6,
            2.4000000000000004,
            2.4000000000000004,
            1.6,
            1.6
           ],
           "y": [
            2,
            2,
            3,
            3,
            2
           ]
          },
          {
           "mode": "text",
           "text": "1",
           "type": "scatter",
           "x": [
            2
           ],
           "y": [
            2.4
           ]
          },
          {
           "fill": "toself",
           "fillcolor": "#8c564b",
           "line": {
            "color": "black"
           },
           "mode": "lines",
           "type": "scatter",
           "x": [
            2.6,
            3.4000000000000004,
            3.4000000000000004,
            2.6,
            2.6
           ],
           "y": [
            0,
            0,
            1,
            1,
            0
           ]
          },
          {
           "mode": "text",
           "text": "5",
           "type": "scatter",
           "x": [
            3
           ],
           "y": [
            0.4
           ]
          },
          {
           "fill": "toself",
           "fillcolor": "#9467bd",
           "line": {
            "color": "black"
           },
           "mode": "lines",
           "type": "scatter",
           "x": [
            2.6,
            3.4000000000000004,
            3.4000000000000004,
            2.6,
            2.6
           ],
           "y": [
            1,
            1,
            2,
            2,
            1
           ]
          },
          {
           "mode": "text",
           "text": "4",
           "type": "scatter",
           "x": [
            3
           ],
           "y": [
            1.4
           ]
          }
         ]
        },
        {
         "data": [
          {
           "fill": "toself",
           "fillcolor": "#d62728",
           "line": {
            "color": "black"
           },
           "mode": "lines",
           "type": "scatter",
           "x": [
            1.6,
            2.4000000000000004,
            2.4000000000000004,
            1.6,
            1.6
           ],
           "y": [
            0,
            0,
            1,
            1,
            0
           ]
          },
          {
           "mode": "text",
           "text": "3",
           "type": "scatter",
           "x": [
            2
           ],
           "y": [
            0.4
           ]
          },
          {
           "fill": "toself",
           "fillcolor": "#2ca02c",
           "line": {
            "color": "black"
           },
           "mode": "lines",
           "type": "scatter",
           "x": [
            1.6,
            2.4000000000000004,
            2.4000000000000004,
            1.6,
            1.6
           ],
           "y": [
            1,
            1,
            2,
            2,
            1
           ]
          },
          {
           "mode": "text",
           "text": "2",
           "type": "scatter",
           "x": [
            2
           ],
           "y": [
            1.4
           ]
          },
          {
           "fill": "toself",
           "fillcolor": "#ff7f0e",
           "line": {
            "color": "black"
           },
           "mode": "lines",
           "type": "scatter",
           "x": [
            1.6,
            2.4000000000000004,
            2.4000000000000004,
            1.6,
            1.6
           ],
           "y": [
            2,
            2,
            3,
            3,
            2
           ]
          },
          {
           "mode": "text",
           "text": "1",
           "type": "scatter",
           "x": [
            2
           ],
           "y": [
            2.4
           ]
          },
          {
           "fill": "toself",
           "fillcolor": "#8c564b",
           "line": {
            "color": "black"
           },
           "mode": "lines",
           "type": "scatter",
           "x": [
            2.6,
            3.4000000000000004,
            3.4000000000000004,
            2.6,
            2.6
           ],
           "y": [
            0,
            0,
            1,
            1,
            0
           ]
          },
          {
           "mode": "text",
           "text": "5",
           "type": "scatter",
           "x": [
            3
           ],
           "y": [
            0.4
           ]
          },
          {
           "fill": "toself",
           "fillcolor": "#9467bd",
           "line": {
            "color": "black"
           },
           "mode": "lines",
           "type": "scatter",
           "x": [
            2.6,
            3.4000000000000004,
            3.4000000000000004,
            2.6,
            2.6
           ],
           "y": [
            1,
            1,
            2,
            2,
            1
           ]
          },
          {
           "mode": "text",
           "text": "4",
           "type": "scatter",
           "x": [
            3
           ],
           "y": [
            1.4
           ]
          }
         ]
        },
        {
         "data": [
          {
           "fill": "toself",
           "fillcolor": "#d62728",
           "line": {
            "color": "black"
           },
           "mode": "lines",
           "type": "scatter",
           "x": [
            1.6,
            2.4000000000000004,
            2.4000000000000004,
            1.6,
            1.6
           ],
           "y": [
            0,
            0,
            1,
            1,
            0
           ]
          },
          {
           "mode": "text",
           "text": "3",
           "type": "scatter",
           "x": [
            2
           ],
           "y": [
            0.4
           ]
          },
          {
           "fill": "toself",
           "fillcolor": "#2ca02c",
           "line": {
            "color": "black"
           },
           "mode": "lines",
           "type": "scatter",
           "x": [
            1.6,
            2.4000000000000004,
            2.4000000000000004,
            1.6,
            1.6
           ],
           "y": [
            1,
            1,
            2,
            2,
            1
           ]
          },
          {
           "mode": "text",
           "text": "2",
           "type": "scatter",
           "x": [
            2
           ],
           "y": [
            1.4
           ]
          },
          {
           "fill": "toself",
           "fillcolor": "#ff7f0e",
           "line": {
            "color": "black"
           },
           "mode": "lines",
           "type": "scatter",
           "x": [
            1.6,
            2.4000000000000004,
            2.4000000000000004,
            1.6,
            1.6
           ],
           "y": [
            2,
            2,
            3,
            3,
            2
           ]
          },
          {
           "mode": "text",
           "text": "1",
           "type": "scatter",
           "x": [
            2
           ],
           "y": [
            2.4
           ]
          },
          {
           "fill": "toself",
           "fillcolor": "#8c564b",
           "line": {
            "color": "black"
           },
           "mode": "lines",
           "type": "scatter",
           "x": [
            2.6,
            3.4000000000000004,
            3.4000000000000004,
            2.6,
            2.6
           ],
           "y": [
            0,
            0,
            1,
            1,
            0
           ]
          },
          {
           "mode": "text",
           "text": "5",
           "type": "scatter",
           "x": [
            3
           ],
           "y": [
            0.4
           ]
          },
          {
           "fill": "toself",
           "fillcolor": "#9467bd",
           "line": {
            "color": "black"
           },
           "mode": "lines",
           "type": "scatter",
           "x": [
            2.6,
            3.4000000000000004,
            3.4000000000000004,
            2.6,
            2.6
           ],
           "y": [
            1,
            1,
            2,
            2,
            1
           ]
          },
          {
           "mode": "text",
           "text": "4",
           "type": "scatter",
           "x": [
            3
           ],
           "y": [
            1.4
           ]
          }
         ]
        },
        {
         "data": [
          {
           "fill": "toself",
           "fillcolor": "#d62728",
           "line": {
            "color": "black"
           },
           "mode": "lines",
           "type": "scatter",
           "x": [
            1.6,
            2.4000000000000004,
            2.4000000000000004,
            1.6,
            1.6
           ],
           "y": [
            0,
            0,
            1,
            1,
            0
           ]
          },
          {
           "mode": "text",
           "text": "3",
           "type": "scatter",
           "x": [
            2
           ],
           "y": [
            0.4
           ]
          },
          {
           "fill": "toself",
           "fillcolor": "#2ca02c",
           "line": {
            "color": "black"
           },
           "mode": "lines",
           "type": "scatter",
           "x": [
            1.6,
            2.4000000000000004,
            2.4000000000000004,
            1.6,
            1.6
           ],
           "y": [
            1,
            1,
            2,
            2,
            1
           ]
          },
          {
           "mode": "text",
           "text": "2",
           "type": "scatter",
           "x": [
            2
           ],
           "y": [
            1.4
           ]
          },
          {
           "fill": "toself",
           "fillcolor": "#ff7f0e",
           "line": {
            "color": "black"
           },
           "mode": "lines",
           "type": "scatter",
           "x": [
            1.6,
            2.4000000000000004,
            2.4000000000000004,
            1.6,
            1.6
           ],
           "y": [
            2,
            2,
            3,
            3,
            2
           ]
          },
          {
           "mode": "text",
           "text": "1",
           "type": "scatter",
           "x": [
            2
           ],
           "y": [
            2.4
           ]
          },
          {
           "fill": "toself",
           "fillcolor": "#8c564b",
           "line": {
            "color": "black"
           },
           "mode": "lines",
           "type": "scatter",
           "x": [
            2.6,
            3.4000000000000004,
            3.4000000000000004,
            2.6,
            2.6
           ],
           "y": [
            0,
            0,
            1,
            1,
            0
           ]
          },
          {
           "mode": "text",
           "text": "5",
           "type": "scatter",
           "x": [
            3
           ],
           "y": [
            0.4
           ]
          },
          {
           "fill": "toself",
           "fillcolor": "#9467bd",
           "line": {
            "color": "black"
           },
           "mode": "lines",
           "type": "scatter",
           "x": [
            2.6,
            3.4000000000000004,
            3.4000000000000004,
            2.6,
            2.6
           ],
           "y": [
            1,
            1,
            2,
            2,
            1
           ]
          },
          {
           "mode": "text",
           "text": "4",
           "type": "scatter",
           "x": [
            3
           ],
           "y": [
            1.4
           ]
          }
         ]
        },
        {
         "data": [
          {
           "fill": "toself",
           "fillcolor": "#d62728",
           "line": {
            "color": "black"
           },
           "mode": "lines",
           "type": "scatter",
           "x": [
            1.6,
            2.4000000000000004,
            2.4000000000000004,
            1.6,
            1.6
           ],
           "y": [
            0,
            0,
            1,
            1,
            0
           ]
          },
          {
           "mode": "text",
           "text": "3",
           "type": "scatter",
           "x": [
            2
           ],
           "y": [
            0.4
           ]
          },
          {
           "fill": "toself",
           "fillcolor": "#2ca02c",
           "line": {
            "color": "black"
           },
           "mode": "lines",
           "type": "scatter",
           "x": [
            1.6,
            2.4000000000000004,
            2.4000000000000004,
            1.6,
            1.6
           ],
           "y": [
            1,
            1,
            2,
            2,
            1
           ]
          },
          {
           "mode": "text",
           "text": "2",
           "type": "scatter",
           "x": [
            2
           ],
           "y": [
            1.4
           ]
          },
          {
           "fill": "toself",
           "fillcolor": "#ff7f0e",
           "line": {
            "color": "black"
           },
           "mode": "lines",
           "type": "scatter",
           "x": [
            1.6,
            2.4000000000000004,
            2.4000000000000004,
            1.6,
            1.6
           ],
           "y": [
            2,
            2,
            3,
            3,
            2
           ]
          },
          {
           "mode": "text",
           "text": "1",
           "type": "scatter",
           "x": [
            2
           ],
           "y": [
            2.4
           ]
          },
          {
           "fill": "toself",
           "fillcolor": "#8c564b",
           "line": {
            "color": "black"
           },
           "mode": "lines",
           "type": "scatter",
           "x": [
            2.6,
            3.4000000000000004,
            3.4000000000000004,
            2.6,
            2.6
           ],
           "y": [
            0,
            0,
            1,
            1,
            0
           ]
          },
          {
           "mode": "text",
           "text": "5",
           "type": "scatter",
           "x": [
            3
           ],
           "y": [
            0.4
           ]
          },
          {
           "fill": "toself",
           "fillcolor": "#9467bd",
           "line": {
            "color": "black"
           },
           "mode": "lines",
           "type": "scatter",
           "x": [
            2.6,
            3.4000000000000004,
            3.4000000000000004,
            2.6,
            2.6
           ],
           "y": [
            1,
            1,
            2,
            2,
            1
           ]
          },
          {
           "mode": "text",
           "text": "4",
           "type": "scatter",
           "x": [
            3
           ],
           "y": [
            1.4
           ]
          }
         ]
        },
        {
         "data": [
          {
           "fill": "toself",
           "fillcolor": "#d62728",
           "line": {
            "color": "black"
           },
           "mode": "lines",
           "type": "scatter",
           "x": [
            1.6,
            2.4000000000000004,
            2.4000000000000004,
            1.6,
            1.6
           ],
           "y": [
            0,
            0,
            1,
            1,
            0
           ]
          },
          {
           "mode": "text",
           "text": "3",
           "type": "scatter",
           "x": [
            2
           ],
           "y": [
            0.4
           ]
          },
          {
           "fill": "toself",
           "fillcolor": "#2ca02c",
           "line": {
            "color": "black"
           },
           "mode": "lines",
           "type": "scatter",
           "x": [
            1.6,
            2.4000000000000004,
            2.4000000000000004,
            1.6,
            1.6
           ],
           "y": [
            1,
            1,
            2,
            2,
            1
           ]
          },
          {
           "mode": "text",
           "text": "2",
           "type": "scatter",
           "x": [
            2
           ],
           "y": [
            1.4
           ]
          },
          {
           "fill": "toself",
           "fillcolor": "#ff7f0e",
           "line": {
            "color": "black"
           },
           "mode": "lines",
           "type": "scatter",
           "x": [
            1.6,
            2.4000000000000004,
            2.4000000000000004,
            1.6,
            1.6
           ],
           "y": [
            2,
            2,
            3,
            3,
            2
           ]
          },
          {
           "mode": "text",
           "text": "1",
           "type": "scatter",
           "x": [
            2
           ],
           "y": [
            2.4
           ]
          },
          {
           "fill": "toself",
           "fillcolor": "#8c564b",
           "line": {
            "color": "black"
           },
           "mode": "lines",
           "type": "scatter",
           "x": [
            2.6,
            3.4000000000000004,
            3.4000000000000004,
            2.6,
            2.6
           ],
           "y": [
            0,
            0,
            1,
            1,
            0
           ]
          },
          {
           "mode": "text",
           "text": "5",
           "type": "scatter",
           "x": [
            3
           ],
           "y": [
            0.4
           ]
          },
          {
           "fill": "toself",
           "fillcolor": "#9467bd",
           "line": {
            "color": "black"
           },
           "mode": "lines",
           "type": "scatter",
           "x": [
            2.6,
            3.4000000000000004,
            3.4000000000000004,
            2.6,
            2.6
           ],
           "y": [
            1,
            1,
            2,
            2,
            1
           ]
          },
          {
           "mode": "text",
           "text": "4",
           "type": "scatter",
           "x": [
            3
           ],
           "y": [
            1.4
           ]
          }
         ]
        },
        {
         "data": [
          {
           "fill": "toself",
           "fillcolor": "#d62728",
           "line": {
            "color": "black"
           },
           "mode": "lines",
           "type": "scatter",
           "x": [
            1.6,
            2.4000000000000004,
            2.4000000000000004,
            1.6,
            1.6
           ],
           "y": [
            0,
            0,
            1,
            1,
            0
           ]
          },
          {
           "mode": "text",
           "text": "3",
           "type": "scatter",
           "x": [
            2
           ],
           "y": [
            0.4
           ]
          },
          {
           "fill": "toself",
           "fillcolor": "#2ca02c",
           "line": {
            "color": "black"
           },
           "mode": "lines",
           "type": "scatter",
           "x": [
            1.6,
            2.4000000000000004,
            2.4000000000000004,
            1.6,
            1.6
           ],
           "y": [
            1,
            1,
            2,
            2,
            1
           ]
          },
          {
           "mode": "text",
           "text": "2",
           "type": "scatter",
           "x": [
            2
           ],
           "y": [
            1.4
           ]
          },
          {
           "fill": "toself",
           "fillcolor": "#ff7f0e",
           "line": {
            "color": "black"
           },
           "mode": "lines",
           "type": "scatter",
           "x": [
            1.6,
            2.4000000000000004,
            2.4000000000000004,
            1.6,
            1.6
           ],
           "y": [
            2,
            2,
            3,
            3,
            2
           ]
          },
          {
           "mode": "text",
           "text": "1",
           "type": "scatter",
           "x": [
            2
           ],
           "y": [
            2.4
           ]
          },
          {
           "fill": "toself",
           "fillcolor": "#8c564b",
           "line": {
            "color": "black"
           },
           "mode": "lines",
           "type": "scatter",
           "x": [
            2.6,
            3.4000000000000004,
            3.4000000000000004,
            2.6,
            2.6
           ],
           "y": [
            0,
            0,
            1,
            1,
            0
           ]
          },
          {
           "mode": "text",
           "text": "5",
           "type": "scatter",
           "x": [
            3
           ],
           "y": [
            0.4
           ]
          },
          {
           "fill": "toself",
           "fillcolor": "#9467bd",
           "line": {
            "color": "black"
           },
           "mode": "lines",
           "type": "scatter",
           "x": [
            2.6,
            3.4000000000000004,
            3.4000000000000004,
            2.6,
            2.6
           ],
           "y": [
            1,
            1,
            2,
            2,
            1
           ]
          },
          {
           "mode": "text",
           "text": "4",
           "type": "scatter",
           "x": [
            3
           ],
           "y": [
            1.4
           ]
          }
         ]
        },
        {
         "data": [
          {
           "fill": "toself",
           "fillcolor": "#d62728",
           "line": {
            "color": "black"
           },
           "mode": "lines",
           "type": "scatter",
           "x": [
            1.6,
            2.4000000000000004,
            2.4000000000000004,
            1.6,
            1.6
           ],
           "y": [
            0,
            0,
            1,
            1,
            0
           ]
          },
          {
           "mode": "text",
           "text": "3",
           "type": "scatter",
           "x": [
            2
           ],
           "y": [
            0.4
           ]
          },
          {
           "fill": "toself",
           "fillcolor": "#2ca02c",
           "line": {
            "color": "black"
           },
           "mode": "lines",
           "type": "scatter",
           "x": [
            1.6,
            2.4000000000000004,
            2.4000000000000004,
            1.6,
            1.6
           ],
           "y": [
            1,
            1,
            2,
            2,
            1
           ]
          },
          {
           "mode": "text",
           "text": "2",
           "type": "scatter",
           "x": [
            2
           ],
           "y": [
            1.4
           ]
          },
          {
           "fill": "toself",
           "fillcolor": "#ff7f0e",
           "line": {
            "color": "black"
           },
           "mode": "lines",
           "type": "scatter",
           "x": [
            1.6,
            2.4000000000000004,
            2.4000000000000004,
            1.6,
            1.6
           ],
           "y": [
            2,
            2,
            3,
            3,
            2
           ]
          },
          {
           "mode": "text",
           "text": "1",
           "type": "scatter",
           "x": [
            2
           ],
           "y": [
            2.4
           ]
          },
          {
           "fill": "toself",
           "fillcolor": "#8c564b",
           "line": {
            "color": "black"
           },
           "mode": "lines",
           "type": "scatter",
           "x": [
            2.6,
            3.4000000000000004,
            3.4000000000000004,
            2.6,
            2.6
           ],
           "y": [
            0,
            0,
            1,
            1,
            0
           ]
          },
          {
           "mode": "text",
           "text": "5",
           "type": "scatter",
           "x": [
            3
           ],
           "y": [
            0.4
           ]
          },
          {
           "fill": "toself",
           "fillcolor": "#9467bd",
           "line": {
            "color": "black"
           },
           "mode": "lines",
           "type": "scatter",
           "x": [
            2.6,
            3.4000000000000004,
            3.4000000000000004,
            2.6,
            2.6
           ],
           "y": [
            1,
            1,
            2,
            2,
            1
           ]
          },
          {
           "mode": "text",
           "text": "4",
           "type": "scatter",
           "x": [
            3
           ],
           "y": [
            1.4
           ]
          }
         ]
        },
        {
         "data": [
          {
           "fill": "toself",
           "fillcolor": "#d62728",
           "line": {
            "color": "black"
           },
           "mode": "lines",
           "type": "scatter",
           "x": [
            1.6,
            2.4000000000000004,
            2.4000000000000004,
            1.6,
            1.6
           ],
           "y": [
            0,
            0,
            1,
            1,
            0
           ]
          },
          {
           "mode": "text",
           "text": "3",
           "type": "scatter",
           "x": [
            2
           ],
           "y": [
            0.4
           ]
          },
          {
           "fill": "toself",
           "fillcolor": "#2ca02c",
           "line": {
            "color": "black"
           },
           "mode": "lines",
           "type": "scatter",
           "x": [
            1.6,
            2.4000000000000004,
            2.4000000000000004,
            1.6,
            1.6
           ],
           "y": [
            1,
            1,
            2,
            2,
            1
           ]
          },
          {
           "mode": "text",
           "text": "2",
           "type": "scatter",
           "x": [
            2
           ],
           "y": [
            1.4
           ]
          },
          {
           "fill": "toself",
           "fillcolor": "#ff7f0e",
           "line": {
            "color": "black"
           },
           "mode": "lines",
           "type": "scatter",
           "x": [
            1.6,
            2.4000000000000004,
            2.4000000000000004,
            1.6,
            1.6
           ],
           "y": [
            2,
            2,
            3,
            3,
            2
           ]
          },
          {
           "mode": "text",
           "text": "1",
           "type": "scatter",
           "x": [
            2
           ],
           "y": [
            2.4
           ]
          },
          {
           "fill": "toself",
           "fillcolor": "#8c564b",
           "line": {
            "color": "black"
           },
           "mode": "lines",
           "type": "scatter",
           "x": [
            2.6,
            3.4000000000000004,
            3.4000000000000004,
            2.6,
            2.6
           ],
           "y": [
            0,
            0,
            1,
            1,
            0
           ]
          },
          {
           "mode": "text",
           "text": "5",
           "type": "scatter",
           "x": [
            3
           ],
           "y": [
            0.4
           ]
          },
          {
           "fill": "toself",
           "fillcolor": "#9467bd",
           "line": {
            "color": "black"
           },
           "mode": "lines",
           "type": "scatter",
           "x": [
            2.6,
            3.4000000000000004,
            3.4000000000000004,
            2.6,
            2.6
           ],
           "y": [
            1,
            1,
            2,
            2,
            1
           ]
          },
          {
           "mode": "text",
           "text": "4",
           "type": "scatter",
           "x": [
            3
           ],
           "y": [
            1.4
           ]
          }
         ]
        }
       ],
       "layout": {
        "template": {
         "data": {
          "bar": [
           {
            "error_x": {
             "color": "#2a3f5f"
            },
            "error_y": {
             "color": "#2a3f5f"
            },
            "marker": {
             "line": {
              "color": "#E5ECF6",
              "width": 0.5
             },
             "pattern": {
              "fillmode": "overlay",
              "size": 10,
              "solidity": 0.2
             }
            },
            "type": "bar"
           }
          ],
          "barpolar": [
           {
            "marker": {
             "line": {
              "color": "#E5ECF6",
              "width": 0.5
             },
             "pattern": {
              "fillmode": "overlay",
              "size": 10,
              "solidity": 0.2
             }
            },
            "type": "barpolar"
           }
          ],
          "carpet": [
           {
            "aaxis": {
             "endlinecolor": "#2a3f5f",
             "gridcolor": "white",
             "linecolor": "white",
             "minorgridcolor": "white",
             "startlinecolor": "#2a3f5f"
            },
            "baxis": {
             "endlinecolor": "#2a3f5f",
             "gridcolor": "white",
             "linecolor": "white",
             "minorgridcolor": "white",
             "startlinecolor": "#2a3f5f"
            },
            "type": "carpet"
           }
          ],
          "choropleth": [
           {
            "colorbar": {
             "outlinewidth": 0,
             "ticks": ""
            },
            "type": "choropleth"
           }
          ],
          "contour": [
           {
            "colorbar": {
             "outlinewidth": 0,
             "ticks": ""
            },
            "colorscale": [
             [
              0,
              "#0d0887"
             ],
             [
              0.1111111111111111,
              "#46039f"
             ],
             [
              0.2222222222222222,
              "#7201a8"
             ],
             [
              0.3333333333333333,
              "#9c179e"
             ],
             [
              0.4444444444444444,
              "#bd3786"
             ],
             [
              0.5555555555555556,
              "#d8576b"
             ],
             [
              0.6666666666666666,
              "#ed7953"
             ],
             [
              0.7777777777777778,
              "#fb9f3a"
             ],
             [
              0.8888888888888888,
              "#fdca26"
             ],
             [
              1,
              "#f0f921"
             ]
            ],
            "type": "contour"
           }
          ],
          "contourcarpet": [
           {
            "colorbar": {
             "outlinewidth": 0,
             "ticks": ""
            },
            "type": "contourcarpet"
           }
          ],
          "heatmap": [
           {
            "colorbar": {
             "outlinewidth": 0,
             "ticks": ""
            },
            "colorscale": [
             [
              0,
              "#0d0887"
             ],
             [
              0.1111111111111111,
              "#46039f"
             ],
             [
              0.2222222222222222,
              "#7201a8"
             ],
             [
              0.3333333333333333,
              "#9c179e"
             ],
             [
              0.4444444444444444,
              "#bd3786"
             ],
             [
              0.5555555555555556,
              "#d8576b"
             ],
             [
              0.6666666666666666,
              "#ed7953"
             ],
             [
              0.7777777777777778,
              "#fb9f3a"
             ],
             [
              0.8888888888888888,
              "#fdca26"
             ],
             [
              1,
              "#f0f921"
             ]
            ],
            "type": "heatmap"
           }
          ],
          "heatmapgl": [
           {
            "colorbar": {
             "outlinewidth": 0,
             "ticks": ""
            },
            "colorscale": [
             [
              0,
              "#0d0887"
             ],
             [
              0.1111111111111111,
              "#46039f"
             ],
             [
              0.2222222222222222,
              "#7201a8"
             ],
             [
              0.3333333333333333,
              "#9c179e"
             ],
             [
              0.4444444444444444,
              "#bd3786"
             ],
             [
              0.5555555555555556,
              "#d8576b"
             ],
             [
              0.6666666666666666,
              "#ed7953"
             ],
             [
              0.7777777777777778,
              "#fb9f3a"
             ],
             [
              0.8888888888888888,
              "#fdca26"
             ],
             [
              1,
              "#f0f921"
             ]
            ],
            "type": "heatmapgl"
           }
          ],
          "histogram": [
           {
            "marker": {
             "pattern": {
              "fillmode": "overlay",
              "size": 10,
              "solidity": 0.2
             }
            },
            "type": "histogram"
           }
          ],
          "histogram2d": [
           {
            "colorbar": {
             "outlinewidth": 0,
             "ticks": ""
            },
            "colorscale": [
             [
              0,
              "#0d0887"
             ],
             [
              0.1111111111111111,
              "#46039f"
             ],
             [
              0.2222222222222222,
              "#7201a8"
             ],
             [
              0.3333333333333333,
              "#9c179e"
             ],
             [
              0.4444444444444444,
              "#bd3786"
             ],
             [
              0.5555555555555556,
              "#d8576b"
             ],
             [
              0.6666666666666666,
              "#ed7953"
             ],
             [
              0.7777777777777778,
              "#fb9f3a"
             ],
             [
              0.8888888888888888,
              "#fdca26"
             ],
             [
              1,
              "#f0f921"
             ]
            ],
            "type": "histogram2d"
           }
          ],
          "histogram2dcontour": [
           {
            "colorbar": {
             "outlinewidth": 0,
             "ticks": ""
            },
            "colorscale": [
             [
              0,
              "#0d0887"
             ],
             [
              0.1111111111111111,
              "#46039f"
             ],
             [
              0.2222222222222222,
              "#7201a8"
             ],
             [
              0.3333333333333333,
              "#9c179e"
             ],
             [
              0.4444444444444444,
              "#bd3786"
             ],
             [
              0.5555555555555556,
              "#d8576b"
             ],
             [
              0.6666666666666666,
              "#ed7953"
             ],
             [
              0.7777777777777778,
              "#fb9f3a"
             ],
             [
              0.8888888888888888,
              "#fdca26"
             ],
             [
              1,
              "#f0f921"
             ]
            ],
            "type": "histogram2dcontour"
           }
          ],
          "mesh3d": [
           {
            "colorbar": {
             "outlinewidth": 0,
             "ticks": ""
            },
            "type": "mesh3d"
           }
          ],
          "parcoords": [
           {
            "line": {
             "colorbar": {
              "outlinewidth": 0,
              "ticks": ""
             }
            },
            "type": "parcoords"
           }
          ],
          "pie": [
           {
            "automargin": true,
            "type": "pie"
           }
          ],
          "scatter": [
           {
            "fillpattern": {
             "fillmode": "overlay",
             "size": 10,
             "solidity": 0.2
            },
            "type": "scatter"
           }
          ],
          "scatter3d": [
           {
            "line": {
             "colorbar": {
              "outlinewidth": 0,
              "ticks": ""
             }
            },
            "marker": {
             "colorbar": {
              "outlinewidth": 0,
              "ticks": ""
             }
            },
            "type": "scatter3d"
           }
          ],
          "scattercarpet": [
           {
            "marker": {
             "colorbar": {
              "outlinewidth": 0,
              "ticks": ""
             }
            },
            "type": "scattercarpet"
           }
          ],
          "scattergeo": [
           {
            "marker": {
             "colorbar": {
              "outlinewidth": 0,
              "ticks": ""
             }
            },
            "type": "scattergeo"
           }
          ],
          "scattergl": [
           {
            "marker": {
             "colorbar": {
              "outlinewidth": 0,
              "ticks": ""
             }
            },
            "type": "scattergl"
           }
          ],
          "scattermapbox": [
           {
            "marker": {
             "colorbar": {
              "outlinewidth": 0,
              "ticks": ""
             }
            },
            "type": "scattermapbox"
           }
          ],
          "scatterpolar": [
           {
            "marker": {
             "colorbar": {
              "outlinewidth": 0,
              "ticks": ""
             }
            },
            "type": "scatterpolar"
           }
          ],
          "scatterpolargl": [
           {
            "marker": {
             "colorbar": {
              "outlinewidth": 0,
              "ticks": ""
             }
            },
            "type": "scatterpolargl"
           }
          ],
          "scatterternary": [
           {
            "marker": {
             "colorbar": {
              "outlinewidth": 0,
              "ticks": ""
             }
            },
            "type": "scatterternary"
           }
          ],
          "surface": [
           {
            "colorbar": {
             "outlinewidth": 0,
             "ticks": ""
            },
            "colorscale": [
             [
              0,
              "#0d0887"
             ],
             [
              0.1111111111111111,
              "#46039f"
             ],
             [
              0.2222222222222222,
              "#7201a8"
             ],
             [
              0.3333333333333333,
              "#9c179e"
             ],
             [
              0.4444444444444444,
              "#bd3786"
             ],
             [
              0.5555555555555556,
              "#d8576b"
             ],
             [
              0.6666666666666666,
              "#ed7953"
             ],
             [
              0.7777777777777778,
              "#fb9f3a"
             ],
             [
              0.8888888888888888,
              "#fdca26"
             ],
             [
              1,
              "#f0f921"
             ]
            ],
            "type": "surface"
           }
          ],
          "table": [
           {
            "cells": {
             "fill": {
              "color": "#EBF0F8"
             },
             "line": {
              "color": "white"
             }
            },
            "header": {
             "fill": {
              "color": "#C8D4E3"
             },
             "line": {
              "color": "white"
             }
            },
            "type": "table"
           }
          ]
         },
         "layout": {
          "annotationdefaults": {
           "arrowcolor": "#2a3f5f",
           "arrowhead": 0,
           "arrowwidth": 1
          },
          "autotypenumbers": "strict",
          "coloraxis": {
           "colorbar": {
            "outlinewidth": 0,
            "ticks": ""
           }
          },
          "colorscale": {
           "diverging": [
            [
             0,
             "#8e0152"
            ],
            [
             0.1,
             "#c51b7d"
            ],
            [
             0.2,
             "#de77ae"
            ],
            [
             0.3,
             "#f1b6da"
            ],
            [
             0.4,
             "#fde0ef"
            ],
            [
             0.5,
             "#f7f7f7"
            ],
            [
             0.6,
             "#e6f5d0"
            ],
            [
             0.7,
             "#b8e186"
            ],
            [
             0.8,
             "#7fbc41"
            ],
            [
             0.9,
             "#4d9221"
            ],
            [
             1,
             "#276419"
            ]
           ],
           "sequential": [
            [
             0,
             "#0d0887"
            ],
            [
             0.1111111111111111,
             "#46039f"
            ],
            [
             0.2222222222222222,
             "#7201a8"
            ],
            [
             0.3333333333333333,
             "#9c179e"
            ],
            [
             0.4444444444444444,
             "#bd3786"
            ],
            [
             0.5555555555555556,
             "#d8576b"
            ],
            [
             0.6666666666666666,
             "#ed7953"
            ],
            [
             0.7777777777777778,
             "#fb9f3a"
            ],
            [
             0.8888888888888888,
             "#fdca26"
            ],
            [
             1,
             "#f0f921"
            ]
           ],
           "sequentialminus": [
            [
             0,
             "#0d0887"
            ],
            [
             0.1111111111111111,
             "#46039f"
            ],
            [
             0.2222222222222222,
             "#7201a8"
            ],
            [
             0.3333333333333333,
             "#9c179e"
            ],
            [
             0.4444444444444444,
             "#bd3786"
            ],
            [
             0.5555555555555556,
             "#d8576b"
            ],
            [
             0.6666666666666666,
             "#ed7953"
            ],
            [
             0.7777777777777778,
             "#fb9f3a"
            ],
            [
             0.8888888888888888,
             "#fdca26"
            ],
            [
             1,
             "#f0f921"
            ]
           ]
          },
          "colorway": [
           "#636efa",
           "#EF553B",
           "#00cc96",
           "#ab63fa",
           "#FFA15A",
           "#19d3f3",
           "#FF6692",
           "#B6E880",
           "#FF97FF",
           "#FECB52"
          ],
          "font": {
           "color": "#2a3f5f"
          },
          "geo": {
           "bgcolor": "white",
           "lakecolor": "white",
           "landcolor": "#E5ECF6",
           "showlakes": true,
           "showland": true,
           "subunitcolor": "white"
          },
          "hoverlabel": {
           "align": "left"
          },
          "hovermode": "closest",
          "mapbox": {
           "style": "light"
          },
          "paper_bgcolor": "white",
          "plot_bgcolor": "#E5ECF6",
          "polar": {
           "angularaxis": {
            "gridcolor": "white",
            "linecolor": "white",
            "ticks": ""
           },
           "bgcolor": "#E5ECF6",
           "radialaxis": {
            "gridcolor": "white",
            "linecolor": "white",
            "ticks": ""
           }
          },
          "scene": {
           "xaxis": {
            "backgroundcolor": "#E5ECF6",
            "gridcolor": "white",
            "gridwidth": 2,
            "linecolor": "white",
            "showbackground": true,
            "ticks": "",
            "zerolinecolor": "white"
           },
           "yaxis": {
            "backgroundcolor": "#E5ECF6",
            "gridcolor": "white",
            "gridwidth": 2,
            "linecolor": "white",
            "showbackground": true,
            "ticks": "",
            "zerolinecolor": "white"
           },
           "zaxis": {
            "backgroundcolor": "#E5ECF6",
            "gridcolor": "white",
            "gridwidth": 2,
            "linecolor": "white",
            "showbackground": true,
            "ticks": "",
            "zerolinecolor": "white"
           }
          },
          "shapedefaults": {
           "line": {
            "color": "#2a3f5f"
           }
          },
          "ternary": {
           "aaxis": {
            "gridcolor": "white",
            "linecolor": "white",
            "ticks": ""
           },
           "baxis": {
            "gridcolor": "white",
            "linecolor": "white",
            "ticks": ""
           },
           "bgcolor": "#E5ECF6",
           "caxis": {
            "gridcolor": "white",
            "linecolor": "white",
            "ticks": ""
           }
          },
          "title": {
           "x": 0.05
          },
          "xaxis": {
           "automargin": true,
           "gridcolor": "white",
           "linecolor": "white",
           "ticks": "",
           "title": {
            "standoff": 15
           },
           "zerolinecolor": "white",
           "zerolinewidth": 2
          },
          "yaxis": {
           "automargin": true,
           "gridcolor": "white",
           "linecolor": "white",
           "ticks": "",
           "title": {
            "standoff": 15
           },
           "zerolinecolor": "white",
           "zerolinewidth": 2
          }
         }
        },
        "title": {
         "text": "Blocks world"
        },
        "updatemenus": [
         {
          "buttons": [
           {
            "args": [
             null,
             {
              "frame": {
               "duration": 1000,
               "redraw": false
              }
             }
            ],
            "label": "Play",
            "method": "animate"
           }
          ],
          "type": "buttons"
         }
        ],
        "xaxis": {
         "autorange": false,
         "range": [
          -0.5,
          3
         ]
        },
        "yaxis": {
         "autorange": false,
         "range": [
          0,
          5
         ]
        }
       }
      },
      "text/html": [
       "<div>                            <div id=\"a8fd6a25-2c61-4f00-b6ba-4debdd1d4d0f\" class=\"plotly-graph-div\" style=\"height:525px; width:100%;\"></div>            <script type=\"text/javascript\">                require([\"plotly\"], function(Plotly) {                    window.PLOTLYENV=window.PLOTLYENV || {};                                    if (document.getElementById(\"a8fd6a25-2c61-4f00-b6ba-4debdd1d4d0f\")) {                    Plotly.newPlot(                        \"a8fd6a25-2c61-4f00-b6ba-4debdd1d4d0f\",                        [{\"fill\":\"toself\",\"fillcolor\":\"#9467bd\",\"line\":{\"color\":\"black\"},\"mode\":\"lines\",\"x\":[-0.4,0.4,0.4,-0.4,-0.4],\"y\":[0,0,1,1,0],\"type\":\"scatter\"},{\"mode\":\"text\",\"text\":\"4\",\"x\":[0.0],\"y\":[0.4],\"type\":\"scatter\"},{\"fill\":\"toself\",\"fillcolor\":\"#8c564b\",\"line\":{\"color\":\"black\"},\"mode\":\"lines\",\"x\":[-0.4,0.4,0.4,-0.4,-0.4],\"y\":[1,1,2,2,1],\"type\":\"scatter\"},{\"mode\":\"text\",\"text\":\"5\",\"x\":[0.0],\"y\":[1.4],\"type\":\"scatter\"},{\"fill\":\"toself\",\"fillcolor\":\"#ff7f0e\",\"line\":{\"color\":\"black\"},\"mode\":\"lines\",\"x\":[-0.4,0.4,0.4,-0.4,-0.4],\"y\":[2,2,3,3,2],\"type\":\"scatter\"},{\"mode\":\"text\",\"text\":\"1\",\"x\":[0.0],\"y\":[2.4],\"type\":\"scatter\"},{\"fill\":\"toself\",\"fillcolor\":\"#2ca02c\",\"line\":{\"color\":\"black\"},\"mode\":\"lines\",\"x\":[0.6,1.4,1.4,0.6,0.6],\"y\":[0,0,1,1,0],\"type\":\"scatter\"},{\"mode\":\"text\",\"text\":\"2\",\"x\":[1.0],\"y\":[0.4],\"type\":\"scatter\"},{\"fill\":\"toself\",\"fillcolor\":\"#d62728\",\"line\":{\"color\":\"black\"},\"mode\":\"lines\",\"x\":[0.6,1.4,1.4,0.6,0.6],\"y\":[1,1,2,2,1],\"type\":\"scatter\"},{\"mode\":\"text\",\"text\":\"3\",\"x\":[1.0],\"y\":[1.4],\"type\":\"scatter\"}],                        {\"title\":{\"text\":\"Blocks world\"},\"updatemenus\":[{\"buttons\":[{\"args\":[null,{\"frame\":{\"duration\":1000,\"redraw\":false}}],\"label\":\"Play\",\"method\":\"animate\"}],\"type\":\"buttons\"}],\"xaxis\":{\"autorange\":false,\"range\":[-0.5,3]},\"yaxis\":{\"autorange\":false,\"range\":[0,5]},\"template\":{\"data\":{\"histogram2dcontour\":[{\"type\":\"histogram2dcontour\",\"colorbar\":{\"outlinewidth\":0,\"ticks\":\"\"},\"colorscale\":[[0.0,\"#0d0887\"],[0.1111111111111111,\"#46039f\"],[0.2222222222222222,\"#7201a8\"],[0.3333333333333333,\"#9c179e\"],[0.4444444444444444,\"#bd3786\"],[0.5555555555555556,\"#d8576b\"],[0.6666666666666666,\"#ed7953\"],[0.7777777777777778,\"#fb9f3a\"],[0.8888888888888888,\"#fdca26\"],[1.0,\"#f0f921\"]]}],\"choropleth\":[{\"type\":\"choropleth\",\"colorbar\":{\"outlinewidth\":0,\"ticks\":\"\"}}],\"histogram2d\":[{\"type\":\"histogram2d\",\"colorbar\":{\"outlinewidth\":0,\"ticks\":\"\"},\"colorscale\":[[0.0,\"#0d0887\"],[0.1111111111111111,\"#46039f\"],[0.2222222222222222,\"#7201a8\"],[0.3333333333333333,\"#9c179e\"],[0.4444444444444444,\"#bd3786\"],[0.5555555555555556,\"#d8576b\"],[0.6666666666666666,\"#ed7953\"],[0.7777777777777778,\"#fb9f3a\"],[0.8888888888888888,\"#fdca26\"],[1.0,\"#f0f921\"]]}],\"heatmap\":[{\"type\":\"heatmap\",\"colorbar\":{\"outlinewidth\":0,\"ticks\":\"\"},\"colorscale\":[[0.0,\"#0d0887\"],[0.1111111111111111,\"#46039f\"],[0.2222222222222222,\"#7201a8\"],[0.3333333333333333,\"#9c179e\"],[0.4444444444444444,\"#bd3786\"],[0.5555555555555556,\"#d8576b\"],[0.6666666666666666,\"#ed7953\"],[0.7777777777777778,\"#fb9f3a\"],[0.8888888888888888,\"#fdca26\"],[1.0,\"#f0f921\"]]}],\"heatmapgl\":[{\"type\":\"heatmapgl\",\"colorbar\":{\"outlinewidth\":0,\"ticks\":\"\"},\"colorscale\":[[0.0,\"#0d0887\"],[0.1111111111111111,\"#46039f\"],[0.2222222222222222,\"#7201a8\"],[0.3333333333333333,\"#9c179e\"],[0.4444444444444444,\"#bd3786\"],[0.5555555555555556,\"#d8576b\"],[0.6666666666666666,\"#ed7953\"],[0.7777777777777778,\"#fb9f3a\"],[0.8888888888888888,\"#fdca26\"],[1.0,\"#f0f921\"]]}],\"contourcarpet\":[{\"type\":\"contourcarpet\",\"colorbar\":{\"outlinewidth\":0,\"ticks\":\"\"}}],\"contour\":[{\"type\":\"contour\",\"colorbar\":{\"outlinewidth\":0,\"ticks\":\"\"},\"colorscale\":[[0.0,\"#0d0887\"],[0.1111111111111111,\"#46039f\"],[0.2222222222222222,\"#7201a8\"],[0.3333333333333333,\"#9c179e\"],[0.4444444444444444,\"#bd3786\"],[0.5555555555555556,\"#d8576b\"],[0.6666666666666666,\"#ed7953\"],[0.7777777777777778,\"#fb9f3a\"],[0.8888888888888888,\"#fdca26\"],[1.0,\"#f0f921\"]]}],\"surface\":[{\"type\":\"surface\",\"colorbar\":{\"outlinewidth\":0,\"ticks\":\"\"},\"colorscale\":[[0.0,\"#0d0887\"],[0.1111111111111111,\"#46039f\"],[0.2222222222222222,\"#7201a8\"],[0.3333333333333333,\"#9c179e\"],[0.4444444444444444,\"#bd3786\"],[0.5555555555555556,\"#d8576b\"],[0.6666666666666666,\"#ed7953\"],[0.7777777777777778,\"#fb9f3a\"],[0.8888888888888888,\"#fdca26\"],[1.0,\"#f0f921\"]]}],\"mesh3d\":[{\"type\":\"mesh3d\",\"colorbar\":{\"outlinewidth\":0,\"ticks\":\"\"}}],\"scatter\":[{\"fillpattern\":{\"fillmode\":\"overlay\",\"size\":10,\"solidity\":0.2},\"type\":\"scatter\"}],\"parcoords\":[{\"type\":\"parcoords\",\"line\":{\"colorbar\":{\"outlinewidth\":0,\"ticks\":\"\"}}}],\"scatterpolargl\":[{\"type\":\"scatterpolargl\",\"marker\":{\"colorbar\":{\"outlinewidth\":0,\"ticks\":\"\"}}}],\"bar\":[{\"error_x\":{\"color\":\"#2a3f5f\"},\"error_y\":{\"color\":\"#2a3f5f\"},\"marker\":{\"line\":{\"color\":\"#E5ECF6\",\"width\":0.5},\"pattern\":{\"fillmode\":\"overlay\",\"size\":10,\"solidity\":0.2}},\"type\":\"bar\"}],\"scattergeo\":[{\"type\":\"scattergeo\",\"marker\":{\"colorbar\":{\"outlinewidth\":0,\"ticks\":\"\"}}}],\"scatterpolar\":[{\"type\":\"scatterpolar\",\"marker\":{\"colorbar\":{\"outlinewidth\":0,\"ticks\":\"\"}}}],\"histogram\":[{\"marker\":{\"pattern\":{\"fillmode\":\"overlay\",\"size\":10,\"solidity\":0.2}},\"type\":\"histogram\"}],\"scattergl\":[{\"type\":\"scattergl\",\"marker\":{\"colorbar\":{\"outlinewidth\":0,\"ticks\":\"\"}}}],\"scatter3d\":[{\"type\":\"scatter3d\",\"line\":{\"colorbar\":{\"outlinewidth\":0,\"ticks\":\"\"}},\"marker\":{\"colorbar\":{\"outlinewidth\":0,\"ticks\":\"\"}}}],\"scattermapbox\":[{\"type\":\"scattermapbox\",\"marker\":{\"colorbar\":{\"outlinewidth\":0,\"ticks\":\"\"}}}],\"scatterternary\":[{\"type\":\"scatterternary\",\"marker\":{\"colorbar\":{\"outlinewidth\":0,\"ticks\":\"\"}}}],\"scattercarpet\":[{\"type\":\"scattercarpet\",\"marker\":{\"colorbar\":{\"outlinewidth\":0,\"ticks\":\"\"}}}],\"carpet\":[{\"aaxis\":{\"endlinecolor\":\"#2a3f5f\",\"gridcolor\":\"white\",\"linecolor\":\"white\",\"minorgridcolor\":\"white\",\"startlinecolor\":\"#2a3f5f\"},\"baxis\":{\"endlinecolor\":\"#2a3f5f\",\"gridcolor\":\"white\",\"linecolor\":\"white\",\"minorgridcolor\":\"white\",\"startlinecolor\":\"#2a3f5f\"},\"type\":\"carpet\"}],\"table\":[{\"cells\":{\"fill\":{\"color\":\"#EBF0F8\"},\"line\":{\"color\":\"white\"}},\"header\":{\"fill\":{\"color\":\"#C8D4E3\"},\"line\":{\"color\":\"white\"}},\"type\":\"table\"}],\"barpolar\":[{\"marker\":{\"line\":{\"color\":\"#E5ECF6\",\"width\":0.5},\"pattern\":{\"fillmode\":\"overlay\",\"size\":10,\"solidity\":0.2}},\"type\":\"barpolar\"}],\"pie\":[{\"automargin\":true,\"type\":\"pie\"}]},\"layout\":{\"autotypenumbers\":\"strict\",\"colorway\":[\"#636efa\",\"#EF553B\",\"#00cc96\",\"#ab63fa\",\"#FFA15A\",\"#19d3f3\",\"#FF6692\",\"#B6E880\",\"#FF97FF\",\"#FECB52\"],\"font\":{\"color\":\"#2a3f5f\"},\"hovermode\":\"closest\",\"hoverlabel\":{\"align\":\"left\"},\"paper_bgcolor\":\"white\",\"plot_bgcolor\":\"#E5ECF6\",\"polar\":{\"bgcolor\":\"#E5ECF6\",\"angularaxis\":{\"gridcolor\":\"white\",\"linecolor\":\"white\",\"ticks\":\"\"},\"radialaxis\":{\"gridcolor\":\"white\",\"linecolor\":\"white\",\"ticks\":\"\"}},\"ternary\":{\"bgcolor\":\"#E5ECF6\",\"aaxis\":{\"gridcolor\":\"white\",\"linecolor\":\"white\",\"ticks\":\"\"},\"baxis\":{\"gridcolor\":\"white\",\"linecolor\":\"white\",\"ticks\":\"\"},\"caxis\":{\"gridcolor\":\"white\",\"linecolor\":\"white\",\"ticks\":\"\"}},\"coloraxis\":{\"colorbar\":{\"outlinewidth\":0,\"ticks\":\"\"}},\"colorscale\":{\"sequential\":[[0.0,\"#0d0887\"],[0.1111111111111111,\"#46039f\"],[0.2222222222222222,\"#7201a8\"],[0.3333333333333333,\"#9c179e\"],[0.4444444444444444,\"#bd3786\"],[0.5555555555555556,\"#d8576b\"],[0.6666666666666666,\"#ed7953\"],[0.7777777777777778,\"#fb9f3a\"],[0.8888888888888888,\"#fdca26\"],[1.0,\"#f0f921\"]],\"sequentialminus\":[[0.0,\"#0d0887\"],[0.1111111111111111,\"#46039f\"],[0.2222222222222222,\"#7201a8\"],[0.3333333333333333,\"#9c179e\"],[0.4444444444444444,\"#bd3786\"],[0.5555555555555556,\"#d8576b\"],[0.6666666666666666,\"#ed7953\"],[0.7777777777777778,\"#fb9f3a\"],[0.8888888888888888,\"#fdca26\"],[1.0,\"#f0f921\"]],\"diverging\":[[0,\"#8e0152\"],[0.1,\"#c51b7d\"],[0.2,\"#de77ae\"],[0.3,\"#f1b6da\"],[0.4,\"#fde0ef\"],[0.5,\"#f7f7f7\"],[0.6,\"#e6f5d0\"],[0.7,\"#b8e186\"],[0.8,\"#7fbc41\"],[0.9,\"#4d9221\"],[1,\"#276419\"]]},\"xaxis\":{\"gridcolor\":\"white\",\"linecolor\":\"white\",\"ticks\":\"\",\"title\":{\"standoff\":15},\"zerolinecolor\":\"white\",\"automargin\":true,\"zerolinewidth\":2},\"yaxis\":{\"gridcolor\":\"white\",\"linecolor\":\"white\",\"ticks\":\"\",\"title\":{\"standoff\":15},\"zerolinecolor\":\"white\",\"automargin\":true,\"zerolinewidth\":2},\"scene\":{\"xaxis\":{\"backgroundcolor\":\"#E5ECF6\",\"gridcolor\":\"white\",\"linecolor\":\"white\",\"showbackground\":true,\"ticks\":\"\",\"zerolinecolor\":\"white\",\"gridwidth\":2},\"yaxis\":{\"backgroundcolor\":\"#E5ECF6\",\"gridcolor\":\"white\",\"linecolor\":\"white\",\"showbackground\":true,\"ticks\":\"\",\"zerolinecolor\":\"white\",\"gridwidth\":2},\"zaxis\":{\"backgroundcolor\":\"#E5ECF6\",\"gridcolor\":\"white\",\"linecolor\":\"white\",\"showbackground\":true,\"ticks\":\"\",\"zerolinecolor\":\"white\",\"gridwidth\":2}},\"shapedefaults\":{\"line\":{\"color\":\"#2a3f5f\"}},\"annotationdefaults\":{\"arrowcolor\":\"#2a3f5f\",\"arrowhead\":0,\"arrowwidth\":1},\"geo\":{\"bgcolor\":\"white\",\"landcolor\":\"#E5ECF6\",\"subunitcolor\":\"white\",\"showland\":true,\"showlakes\":true,\"lakecolor\":\"white\"},\"title\":{\"x\":0.05},\"mapbox\":{\"style\":\"light\"}}}},                        {\"responsive\": true}                    ).then(function(){\n",
       "                            Plotly.addFrames('a8fd6a25-2c61-4f00-b6ba-4debdd1d4d0f', [{\"data\":[{\"fill\":\"toself\",\"fillcolor\":\"#9467bd\",\"line\":{\"color\":\"black\"},\"mode\":\"lines\",\"x\":[-0.4,0.4,0.4,-0.4,-0.4],\"y\":[0,0,1,1,0],\"type\":\"scatter\"},{\"mode\":\"text\",\"text\":\"4\",\"x\":[0.0],\"y\":[0.4],\"type\":\"scatter\"},{\"fill\":\"toself\",\"fillcolor\":\"#8c564b\",\"line\":{\"color\":\"black\"},\"mode\":\"lines\",\"x\":[-0.4,0.4,0.4,-0.4,-0.4],\"y\":[1,1,2,2,1],\"type\":\"scatter\"},{\"mode\":\"text\",\"text\":\"5\",\"x\":[0.0],\"y\":[1.4],\"type\":\"scatter\"},{\"fill\":\"toself\",\"fillcolor\":\"#ff7f0e\",\"line\":{\"color\":\"black\"},\"mode\":\"lines\",\"x\":[-0.4,0.4,0.4,-0.4,-0.4],\"y\":[2,2,3,3,2],\"type\":\"scatter\"},{\"mode\":\"text\",\"text\":\"1\",\"x\":[0.0],\"y\":[2.4],\"type\":\"scatter\"},{\"fill\":\"toself\",\"fillcolor\":\"#2ca02c\",\"line\":{\"color\":\"black\"},\"mode\":\"lines\",\"x\":[0.6,1.4,1.4,0.6,0.6],\"y\":[0,0,1,1,0],\"type\":\"scatter\"},{\"mode\":\"text\",\"text\":\"2\",\"x\":[1.0],\"y\":[0.4],\"type\":\"scatter\"},{\"fill\":\"toself\",\"fillcolor\":\"#d62728\",\"line\":{\"color\":\"black\"},\"mode\":\"lines\",\"x\":[0.6,1.4,1.4,0.6,0.6],\"y\":[1,1,2,2,1],\"type\":\"scatter\"},{\"mode\":\"text\",\"text\":\"3\",\"x\":[1.0],\"y\":[1.4],\"type\":\"scatter\"}]},{\"data\":[{\"fill\":\"toself\",\"fillcolor\":\"#9467bd\",\"line\":{\"color\":\"black\"},\"mode\":\"lines\",\"x\":[-0.4,0.4,0.4,-0.4,-0.4],\"y\":[0,0,1,1,0],\"type\":\"scatter\"},{\"mode\":\"text\",\"text\":\"4\",\"x\":[0.0],\"y\":[0.4],\"type\":\"scatter\"},{\"fill\":\"toself\",\"fillcolor\":\"#8c564b\",\"line\":{\"color\":\"black\"},\"mode\":\"lines\",\"x\":[-0.4,0.4,0.4,-0.4,-0.4],\"y\":[1,1,2,2,1],\"type\":\"scatter\"},{\"mode\":\"text\",\"text\":\"5\",\"x\":[0.0],\"y\":[1.4],\"type\":\"scatter\"},{\"fill\":\"toself\",\"fillcolor\":\"#ff7f0e\",\"line\":{\"color\":\"black\"},\"mode\":\"lines\",\"x\":[-0.4,0.4,0.4,-0.4,-0.4],\"y\":[2,2,3,3,2],\"type\":\"scatter\"},{\"mode\":\"text\",\"text\":\"1\",\"x\":[0.0],\"y\":[2.4],\"type\":\"scatter\"},{\"fill\":\"toself\",\"fillcolor\":\"#2ca02c\",\"line\":{\"color\":\"black\"},\"mode\":\"lines\",\"x\":[0.6,1.4,1.4,0.6,0.6],\"y\":[0,0,1,1,0],\"type\":\"scatter\"},{\"mode\":\"text\",\"text\":\"2\",\"x\":[1.0],\"y\":[0.4],\"type\":\"scatter\"},{\"fill\":\"toself\",\"fillcolor\":\"#d62728\",\"line\":{\"color\":\"black\"},\"mode\":\"lines\",\"x\":[0.6,1.4,1.4,0.6,0.6],\"y\":[1,1,2,2,1],\"type\":\"scatter\"},{\"mode\":\"text\",\"text\":\"3\",\"x\":[1.0],\"y\":[1.4],\"type\":\"scatter\"}]},{\"data\":[{\"fill\":\"toself\",\"fillcolor\":\"#9467bd\",\"line\":{\"color\":\"black\"},\"mode\":\"lines\",\"x\":[-0.4,0.4,0.4,-0.4,-0.4],\"y\":[0,0,1,1,0],\"type\":\"scatter\"},{\"mode\":\"text\",\"text\":\"4\",\"x\":[0.0],\"y\":[0.4],\"type\":\"scatter\"},{\"fill\":\"toself\",\"fillcolor\":\"#8c564b\",\"line\":{\"color\":\"black\"},\"mode\":\"lines\",\"x\":[-0.4,0.4,0.4,-0.4,-0.4],\"y\":[1,1,2,2,1],\"type\":\"scatter\"},{\"mode\":\"text\",\"text\":\"5\",\"x\":[0.0],\"y\":[1.4],\"type\":\"scatter\"},{\"fill\":\"toself\",\"fillcolor\":\"#ff7f0e\",\"line\":{\"color\":\"black\"},\"mode\":\"lines\",\"x\":[-0.4,0.4,0.4,-0.4,-0.4],\"y\":[2,2,3,3,2],\"type\":\"scatter\"},{\"mode\":\"text\",\"text\":\"1\",\"x\":[0.0],\"y\":[2.4],\"type\":\"scatter\"},{\"fill\":\"toself\",\"fillcolor\":\"#2ca02c\",\"line\":{\"color\":\"black\"},\"mode\":\"lines\",\"x\":[0.6,1.4,1.4,0.6,0.6],\"y\":[0,0,1,1,0],\"type\":\"scatter\"},{\"mode\":\"text\",\"text\":\"2\",\"x\":[1.0],\"y\":[0.4],\"type\":\"scatter\"},{\"fill\":\"toself\",\"fillcolor\":\"#d62728\",\"line\":{\"color\":\"black\"},\"mode\":\"lines\",\"x\":[1.6,2.4000000000000004,2.4000000000000004,1.6,1.6],\"y\":[0,0,1,1,0],\"type\":\"scatter\"},{\"mode\":\"text\",\"text\":\"3\",\"x\":[2.0],\"y\":[0.4],\"type\":\"scatter\"}]},{\"data\":[{\"fill\":\"toself\",\"fillcolor\":\"#9467bd\",\"line\":{\"color\":\"black\"},\"mode\":\"lines\",\"x\":[-0.4,0.4,0.4,-0.4,-0.4],\"y\":[0,0,1,1,0],\"type\":\"scatter\"},{\"mode\":\"text\",\"text\":\"4\",\"x\":[0.0],\"y\":[0.4],\"type\":\"scatter\"},{\"fill\":\"toself\",\"fillcolor\":\"#8c564b\",\"line\":{\"color\":\"black\"},\"mode\":\"lines\",\"x\":[-0.4,0.4,0.4,-0.4,-0.4],\"y\":[1,1,2,2,1],\"type\":\"scatter\"},{\"mode\":\"text\",\"text\":\"5\",\"x\":[0.0],\"y\":[1.4],\"type\":\"scatter\"},{\"fill\":\"toself\",\"fillcolor\":\"#ff7f0e\",\"line\":{\"color\":\"black\"},\"mode\":\"lines\",\"x\":[-0.4,0.4,0.4,-0.4,-0.4],\"y\":[2,2,3,3,2],\"type\":\"scatter\"},{\"mode\":\"text\",\"text\":\"1\",\"x\":[0.0],\"y\":[2.4],\"type\":\"scatter\"},{\"fill\":\"toself\",\"fillcolor\":\"#d62728\",\"line\":{\"color\":\"black\"},\"mode\":\"lines\",\"x\":[1.6,2.4000000000000004,2.4000000000000004,1.6,1.6],\"y\":[0,0,1,1,0],\"type\":\"scatter\"},{\"mode\":\"text\",\"text\":\"3\",\"x\":[2.0],\"y\":[0.4],\"type\":\"scatter\"},{\"fill\":\"toself\",\"fillcolor\":\"#2ca02c\",\"line\":{\"color\":\"black\"},\"mode\":\"lines\",\"x\":[1.6,2.4000000000000004,2.4000000000000004,1.6,1.6],\"y\":[1,1,2,2,1],\"type\":\"scatter\"},{\"mode\":\"text\",\"text\":\"2\",\"x\":[2.0],\"y\":[1.4],\"type\":\"scatter\"}]},{\"data\":[{\"fill\":\"toself\",\"fillcolor\":\"#9467bd\",\"line\":{\"color\":\"black\"},\"mode\":\"lines\",\"x\":[-0.4,0.4,0.4,-0.4,-0.4],\"y\":[0,0,1,1,0],\"type\":\"scatter\"},{\"mode\":\"text\",\"text\":\"4\",\"x\":[0.0],\"y\":[0.4],\"type\":\"scatter\"},{\"fill\":\"toself\",\"fillcolor\":\"#8c564b\",\"line\":{\"color\":\"black\"},\"mode\":\"lines\",\"x\":[-0.4,0.4,0.4,-0.4,-0.4],\"y\":[1,1,2,2,1],\"type\":\"scatter\"},{\"mode\":\"text\",\"text\":\"5\",\"x\":[0.0],\"y\":[1.4],\"type\":\"scatter\"},{\"fill\":\"toself\",\"fillcolor\":\"#d62728\",\"line\":{\"color\":\"black\"},\"mode\":\"lines\",\"x\":[1.6,2.4000000000000004,2.4000000000000004,1.6,1.6],\"y\":[0,0,1,1,0],\"type\":\"scatter\"},{\"mode\":\"text\",\"text\":\"3\",\"x\":[2.0],\"y\":[0.4],\"type\":\"scatter\"},{\"fill\":\"toself\",\"fillcolor\":\"#2ca02c\",\"line\":{\"color\":\"black\"},\"mode\":\"lines\",\"x\":[1.6,2.4000000000000004,2.4000000000000004,1.6,1.6],\"y\":[1,1,2,2,1],\"type\":\"scatter\"},{\"mode\":\"text\",\"text\":\"2\",\"x\":[2.0],\"y\":[1.4],\"type\":\"scatter\"},{\"fill\":\"toself\",\"fillcolor\":\"#ff7f0e\",\"line\":{\"color\":\"black\"},\"mode\":\"lines\",\"x\":[1.6,2.4000000000000004,2.4000000000000004,1.6,1.6],\"y\":[2,2,3,3,2],\"type\":\"scatter\"},{\"mode\":\"text\",\"text\":\"1\",\"x\":[2.0],\"y\":[2.4],\"type\":\"scatter\"}]},{\"data\":[{\"fill\":\"toself\",\"fillcolor\":\"#9467bd\",\"line\":{\"color\":\"black\"},\"mode\":\"lines\",\"x\":[-0.4,0.4,0.4,-0.4,-0.4],\"y\":[0,0,1,1,0],\"type\":\"scatter\"},{\"mode\":\"text\",\"text\":\"4\",\"x\":[0.0],\"y\":[0.4],\"type\":\"scatter\"},{\"fill\":\"toself\",\"fillcolor\":\"#d62728\",\"line\":{\"color\":\"black\"},\"mode\":\"lines\",\"x\":[1.6,2.4000000000000004,2.4000000000000004,1.6,1.6],\"y\":[0,0,1,1,0],\"type\":\"scatter\"},{\"mode\":\"text\",\"text\":\"3\",\"x\":[2.0],\"y\":[0.4],\"type\":\"scatter\"},{\"fill\":\"toself\",\"fillcolor\":\"#2ca02c\",\"line\":{\"color\":\"black\"},\"mode\":\"lines\",\"x\":[1.6,2.4000000000000004,2.4000000000000004,1.6,1.6],\"y\":[1,1,2,2,1],\"type\":\"scatter\"},{\"mode\":\"text\",\"text\":\"2\",\"x\":[2.0],\"y\":[1.4],\"type\":\"scatter\"},{\"fill\":\"toself\",\"fillcolor\":\"#ff7f0e\",\"line\":{\"color\":\"black\"},\"mode\":\"lines\",\"x\":[1.6,2.4000000000000004,2.4000000000000004,1.6,1.6],\"y\":[2,2,3,3,2],\"type\":\"scatter\"},{\"mode\":\"text\",\"text\":\"1\",\"x\":[2.0],\"y\":[2.4],\"type\":\"scatter\"},{\"fill\":\"toself\",\"fillcolor\":\"#8c564b\",\"line\":{\"color\":\"black\"},\"mode\":\"lines\",\"x\":[2.6,3.4000000000000004,3.4000000000000004,2.6,2.6],\"y\":[0,0,1,1,0],\"type\":\"scatter\"},{\"mode\":\"text\",\"text\":\"5\",\"x\":[3.0],\"y\":[0.4],\"type\":\"scatter\"}]},{\"data\":[{\"fill\":\"toself\",\"fillcolor\":\"#d62728\",\"line\":{\"color\":\"black\"},\"mode\":\"lines\",\"x\":[1.6,2.4000000000000004,2.4000000000000004,1.6,1.6],\"y\":[0,0,1,1,0],\"type\":\"scatter\"},{\"mode\":\"text\",\"text\":\"3\",\"x\":[2.0],\"y\":[0.4],\"type\":\"scatter\"},{\"fill\":\"toself\",\"fillcolor\":\"#2ca02c\",\"line\":{\"color\":\"black\"},\"mode\":\"lines\",\"x\":[1.6,2.4000000000000004,2.4000000000000004,1.6,1.6],\"y\":[1,1,2,2,1],\"type\":\"scatter\"},{\"mode\":\"text\",\"text\":\"2\",\"x\":[2.0],\"y\":[1.4],\"type\":\"scatter\"},{\"fill\":\"toself\",\"fillcolor\":\"#ff7f0e\",\"line\":{\"color\":\"black\"},\"mode\":\"lines\",\"x\":[1.6,2.4000000000000004,2.4000000000000004,1.6,1.6],\"y\":[2,2,3,3,2],\"type\":\"scatter\"},{\"mode\":\"text\",\"text\":\"1\",\"x\":[2.0],\"y\":[2.4],\"type\":\"scatter\"},{\"fill\":\"toself\",\"fillcolor\":\"#8c564b\",\"line\":{\"color\":\"black\"},\"mode\":\"lines\",\"x\":[2.6,3.4000000000000004,3.4000000000000004,2.6,2.6],\"y\":[0,0,1,1,0],\"type\":\"scatter\"},{\"mode\":\"text\",\"text\":\"5\",\"x\":[3.0],\"y\":[0.4],\"type\":\"scatter\"},{\"fill\":\"toself\",\"fillcolor\":\"#9467bd\",\"line\":{\"color\":\"black\"},\"mode\":\"lines\",\"x\":[2.6,3.4000000000000004,3.4000000000000004,2.6,2.6],\"y\":[1,1,2,2,1],\"type\":\"scatter\"},{\"mode\":\"text\",\"text\":\"4\",\"x\":[3.0],\"y\":[1.4],\"type\":\"scatter\"}]},{\"data\":[{\"fill\":\"toself\",\"fillcolor\":\"#d62728\",\"line\":{\"color\":\"black\"},\"mode\":\"lines\",\"x\":[1.6,2.4000000000000004,2.4000000000000004,1.6,1.6],\"y\":[0,0,1,1,0],\"type\":\"scatter\"},{\"mode\":\"text\",\"text\":\"3\",\"x\":[2.0],\"y\":[0.4],\"type\":\"scatter\"},{\"fill\":\"toself\",\"fillcolor\":\"#2ca02c\",\"line\":{\"color\":\"black\"},\"mode\":\"lines\",\"x\":[1.6,2.4000000000000004,2.4000000000000004,1.6,1.6],\"y\":[1,1,2,2,1],\"type\":\"scatter\"},{\"mode\":\"text\",\"text\":\"2\",\"x\":[2.0],\"y\":[1.4],\"type\":\"scatter\"},{\"fill\":\"toself\",\"fillcolor\":\"#ff7f0e\",\"line\":{\"color\":\"black\"},\"mode\":\"lines\",\"x\":[1.6,2.4000000000000004,2.4000000000000004,1.6,1.6],\"y\":[2,2,3,3,2],\"type\":\"scatter\"},{\"mode\":\"text\",\"text\":\"1\",\"x\":[2.0],\"y\":[2.4],\"type\":\"scatter\"},{\"fill\":\"toself\",\"fillcolor\":\"#8c564b\",\"line\":{\"color\":\"black\"},\"mode\":\"lines\",\"x\":[2.6,3.4000000000000004,3.4000000000000004,2.6,2.6],\"y\":[0,0,1,1,0],\"type\":\"scatter\"},{\"mode\":\"text\",\"text\":\"5\",\"x\":[3.0],\"y\":[0.4],\"type\":\"scatter\"},{\"fill\":\"toself\",\"fillcolor\":\"#9467bd\",\"line\":{\"color\":\"black\"},\"mode\":\"lines\",\"x\":[2.6,3.4000000000000004,3.4000000000000004,2.6,2.6],\"y\":[1,1,2,2,1],\"type\":\"scatter\"},{\"mode\":\"text\",\"text\":\"4\",\"x\":[3.0],\"y\":[1.4],\"type\":\"scatter\"}]},{\"data\":[{\"fill\":\"toself\",\"fillcolor\":\"#d62728\",\"line\":{\"color\":\"black\"},\"mode\":\"lines\",\"x\":[1.6,2.4000000000000004,2.4000000000000004,1.6,1.6],\"y\":[0,0,1,1,0],\"type\":\"scatter\"},{\"mode\":\"text\",\"text\":\"3\",\"x\":[2.0],\"y\":[0.4],\"type\":\"scatter\"},{\"fill\":\"toself\",\"fillcolor\":\"#2ca02c\",\"line\":{\"color\":\"black\"},\"mode\":\"lines\",\"x\":[1.6,2.4000000000000004,2.4000000000000004,1.6,1.6],\"y\":[1,1,2,2,1],\"type\":\"scatter\"},{\"mode\":\"text\",\"text\":\"2\",\"x\":[2.0],\"y\":[1.4],\"type\":\"scatter\"},{\"fill\":\"toself\",\"fillcolor\":\"#ff7f0e\",\"line\":{\"color\":\"black\"},\"mode\":\"lines\",\"x\":[1.6,2.4000000000000004,2.4000000000000004,1.6,1.6],\"y\":[2,2,3,3,2],\"type\":\"scatter\"},{\"mode\":\"text\",\"text\":\"1\",\"x\":[2.0],\"y\":[2.4],\"type\":\"scatter\"},{\"fill\":\"toself\",\"fillcolor\":\"#8c564b\",\"line\":{\"color\":\"black\"},\"mode\":\"lines\",\"x\":[2.6,3.4000000000000004,3.4000000000000004,2.6,2.6],\"y\":[0,0,1,1,0],\"type\":\"scatter\"},{\"mode\":\"text\",\"text\":\"5\",\"x\":[3.0],\"y\":[0.4],\"type\":\"scatter\"},{\"fill\":\"toself\",\"fillcolor\":\"#9467bd\",\"line\":{\"color\":\"black\"},\"mode\":\"lines\",\"x\":[2.6,3.4000000000000004,3.4000000000000004,2.6,2.6],\"y\":[1,1,2,2,1],\"type\":\"scatter\"},{\"mode\":\"text\",\"text\":\"4\",\"x\":[3.0],\"y\":[1.4],\"type\":\"scatter\"}]},{\"data\":[{\"fill\":\"toself\",\"fillcolor\":\"#d62728\",\"line\":{\"color\":\"black\"},\"mode\":\"lines\",\"x\":[1.6,2.4000000000000004,2.4000000000000004,1.6,1.6],\"y\":[0,0,1,1,0],\"type\":\"scatter\"},{\"mode\":\"text\",\"text\":\"3\",\"x\":[2.0],\"y\":[0.4],\"type\":\"scatter\"},{\"fill\":\"toself\",\"fillcolor\":\"#2ca02c\",\"line\":{\"color\":\"black\"},\"mode\":\"lines\",\"x\":[1.6,2.4000000000000004,2.4000000000000004,1.6,1.6],\"y\":[1,1,2,2,1],\"type\":\"scatter\"},{\"mode\":\"text\",\"text\":\"2\",\"x\":[2.0],\"y\":[1.4],\"type\":\"scatter\"},{\"fill\":\"toself\",\"fillcolor\":\"#ff7f0e\",\"line\":{\"color\":\"black\"},\"mode\":\"lines\",\"x\":[1.6,2.4000000000000004,2.4000000000000004,1.6,1.6],\"y\":[2,2,3,3,2],\"type\":\"scatter\"},{\"mode\":\"text\",\"text\":\"1\",\"x\":[2.0],\"y\":[2.4],\"type\":\"scatter\"},{\"fill\":\"toself\",\"fillcolor\":\"#8c564b\",\"line\":{\"color\":\"black\"},\"mode\":\"lines\",\"x\":[2.6,3.4000000000000004,3.4000000000000004,2.6,2.6],\"y\":[0,0,1,1,0],\"type\":\"scatter\"},{\"mode\":\"text\",\"text\":\"5\",\"x\":[3.0],\"y\":[0.4],\"type\":\"scatter\"},{\"fill\":\"toself\",\"fillcolor\":\"#9467bd\",\"line\":{\"color\":\"black\"},\"mode\":\"lines\",\"x\":[2.6,3.4000000000000004,3.4000000000000004,2.6,2.6],\"y\":[1,1,2,2,1],\"type\":\"scatter\"},{\"mode\":\"text\",\"text\":\"4\",\"x\":[3.0],\"y\":[1.4],\"type\":\"scatter\"}]},{\"data\":[{\"fill\":\"toself\",\"fillcolor\":\"#d62728\",\"line\":{\"color\":\"black\"},\"mode\":\"lines\",\"x\":[1.6,2.4000000000000004,2.4000000000000004,1.6,1.6],\"y\":[0,0,1,1,0],\"type\":\"scatter\"},{\"mode\":\"text\",\"text\":\"3\",\"x\":[2.0],\"y\":[0.4],\"type\":\"scatter\"},{\"fill\":\"toself\",\"fillcolor\":\"#2ca02c\",\"line\":{\"color\":\"black\"},\"mode\":\"lines\",\"x\":[1.6,2.4000000000000004,2.4000000000000004,1.6,1.6],\"y\":[1,1,2,2,1],\"type\":\"scatter\"},{\"mode\":\"text\",\"text\":\"2\",\"x\":[2.0],\"y\":[1.4],\"type\":\"scatter\"},{\"fill\":\"toself\",\"fillcolor\":\"#ff7f0e\",\"line\":{\"color\":\"black\"},\"mode\":\"lines\",\"x\":[1.6,2.4000000000000004,2.4000000000000004,1.6,1.6],\"y\":[2,2,3,3,2],\"type\":\"scatter\"},{\"mode\":\"text\",\"text\":\"1\",\"x\":[2.0],\"y\":[2.4],\"type\":\"scatter\"},{\"fill\":\"toself\",\"fillcolor\":\"#8c564b\",\"line\":{\"color\":\"black\"},\"mode\":\"lines\",\"x\":[2.6,3.4000000000000004,3.4000000000000004,2.6,2.6],\"y\":[0,0,1,1,0],\"type\":\"scatter\"},{\"mode\":\"text\",\"text\":\"5\",\"x\":[3.0],\"y\":[0.4],\"type\":\"scatter\"},{\"fill\":\"toself\",\"fillcolor\":\"#9467bd\",\"line\":{\"color\":\"black\"},\"mode\":\"lines\",\"x\":[2.6,3.4000000000000004,3.4000000000000004,2.6,2.6],\"y\":[1,1,2,2,1],\"type\":\"scatter\"},{\"mode\":\"text\",\"text\":\"4\",\"x\":[3.0],\"y\":[1.4],\"type\":\"scatter\"}]},{\"data\":[{\"fill\":\"toself\",\"fillcolor\":\"#d62728\",\"line\":{\"color\":\"black\"},\"mode\":\"lines\",\"x\":[1.6,2.4000000000000004,2.4000000000000004,1.6,1.6],\"y\":[0,0,1,1,0],\"type\":\"scatter\"},{\"mode\":\"text\",\"text\":\"3\",\"x\":[2.0],\"y\":[0.4],\"type\":\"scatter\"},{\"fill\":\"toself\",\"fillcolor\":\"#2ca02c\",\"line\":{\"color\":\"black\"},\"mode\":\"lines\",\"x\":[1.6,2.4000000000000004,2.4000000000000004,1.6,1.6],\"y\":[1,1,2,2,1],\"type\":\"scatter\"},{\"mode\":\"text\",\"text\":\"2\",\"x\":[2.0],\"y\":[1.4],\"type\":\"scatter\"},{\"fill\":\"toself\",\"fillcolor\":\"#ff7f0e\",\"line\":{\"color\":\"black\"},\"mode\":\"lines\",\"x\":[1.6,2.4000000000000004,2.4000000000000004,1.6,1.6],\"y\":[2,2,3,3,2],\"type\":\"scatter\"},{\"mode\":\"text\",\"text\":\"1\",\"x\":[2.0],\"y\":[2.4],\"type\":\"scatter\"},{\"fill\":\"toself\",\"fillcolor\":\"#8c564b\",\"line\":{\"color\":\"black\"},\"mode\":\"lines\",\"x\":[2.6,3.4000000000000004,3.4000000000000004,2.6,2.6],\"y\":[0,0,1,1,0],\"type\":\"scatter\"},{\"mode\":\"text\",\"text\":\"5\",\"x\":[3.0],\"y\":[0.4],\"type\":\"scatter\"},{\"fill\":\"toself\",\"fillcolor\":\"#9467bd\",\"line\":{\"color\":\"black\"},\"mode\":\"lines\",\"x\":[2.6,3.4000000000000004,3.4000000000000004,2.6,2.6],\"y\":[1,1,2,2,1],\"type\":\"scatter\"},{\"mode\":\"text\",\"text\":\"4\",\"x\":[3.0],\"y\":[1.4],\"type\":\"scatter\"}]},{\"data\":[{\"fill\":\"toself\",\"fillcolor\":\"#d62728\",\"line\":{\"color\":\"black\"},\"mode\":\"lines\",\"x\":[1.6,2.4000000000000004,2.4000000000000004,1.6,1.6],\"y\":[0,0,1,1,0],\"type\":\"scatter\"},{\"mode\":\"text\",\"text\":\"3\",\"x\":[2.0],\"y\":[0.4],\"type\":\"scatter\"},{\"fill\":\"toself\",\"fillcolor\":\"#2ca02c\",\"line\":{\"color\":\"black\"},\"mode\":\"lines\",\"x\":[1.6,2.4000000000000004,2.4000000000000004,1.6,1.6],\"y\":[1,1,2,2,1],\"type\":\"scatter\"},{\"mode\":\"text\",\"text\":\"2\",\"x\":[2.0],\"y\":[1.4],\"type\":\"scatter\"},{\"fill\":\"toself\",\"fillcolor\":\"#ff7f0e\",\"line\":{\"color\":\"black\"},\"mode\":\"lines\",\"x\":[1.6,2.4000000000000004,2.4000000000000004,1.6,1.6],\"y\":[2,2,3,3,2],\"type\":\"scatter\"},{\"mode\":\"text\",\"text\":\"1\",\"x\":[2.0],\"y\":[2.4],\"type\":\"scatter\"},{\"fill\":\"toself\",\"fillcolor\":\"#8c564b\",\"line\":{\"color\":\"black\"},\"mode\":\"lines\",\"x\":[2.6,3.4000000000000004,3.4000000000000004,2.6,2.6],\"y\":[0,0,1,1,0],\"type\":\"scatter\"},{\"mode\":\"text\",\"text\":\"5\",\"x\":[3.0],\"y\":[0.4],\"type\":\"scatter\"},{\"fill\":\"toself\",\"fillcolor\":\"#9467bd\",\"line\":{\"color\":\"black\"},\"mode\":\"lines\",\"x\":[2.6,3.4000000000000004,3.4000000000000004,2.6,2.6],\"y\":[1,1,2,2,1],\"type\":\"scatter\"},{\"mode\":\"text\",\"text\":\"4\",\"x\":[3.0],\"y\":[1.4],\"type\":\"scatter\"}]},{\"data\":[{\"fill\":\"toself\",\"fillcolor\":\"#d62728\",\"line\":{\"color\":\"black\"},\"mode\":\"lines\",\"x\":[1.6,2.4000000000000004,2.4000000000000004,1.6,1.6],\"y\":[0,0,1,1,0],\"type\":\"scatter\"},{\"mode\":\"text\",\"text\":\"3\",\"x\":[2.0],\"y\":[0.4],\"type\":\"scatter\"},{\"fill\":\"toself\",\"fillcolor\":\"#2ca02c\",\"line\":{\"color\":\"black\"},\"mode\":\"lines\",\"x\":[1.6,2.4000000000000004,2.4000000000000004,1.6,1.6],\"y\":[1,1,2,2,1],\"type\":\"scatter\"},{\"mode\":\"text\",\"text\":\"2\",\"x\":[2.0],\"y\":[1.4],\"type\":\"scatter\"},{\"fill\":\"toself\",\"fillcolor\":\"#ff7f0e\",\"line\":{\"color\":\"black\"},\"mode\":\"lines\",\"x\":[1.6,2.4000000000000004,2.4000000000000004,1.6,1.6],\"y\":[2,2,3,3,2],\"type\":\"scatter\"},{\"mode\":\"text\",\"text\":\"1\",\"x\":[2.0],\"y\":[2.4],\"type\":\"scatter\"},{\"fill\":\"toself\",\"fillcolor\":\"#8c564b\",\"line\":{\"color\":\"black\"},\"mode\":\"lines\",\"x\":[2.6,3.4000000000000004,3.4000000000000004,2.6,2.6],\"y\":[0,0,1,1,0],\"type\":\"scatter\"},{\"mode\":\"text\",\"text\":\"5\",\"x\":[3.0],\"y\":[0.4],\"type\":\"scatter\"},{\"fill\":\"toself\",\"fillcolor\":\"#9467bd\",\"line\":{\"color\":\"black\"},\"mode\":\"lines\",\"x\":[2.6,3.4000000000000004,3.4000000000000004,2.6,2.6],\"y\":[1,1,2,2,1],\"type\":\"scatter\"},{\"mode\":\"text\",\"text\":\"4\",\"x\":[3.0],\"y\":[1.4],\"type\":\"scatter\"}]},{\"data\":[{\"fill\":\"toself\",\"fillcolor\":\"#d62728\",\"line\":{\"color\":\"black\"},\"mode\":\"lines\",\"x\":[1.6,2.4000000000000004,2.4000000000000004,1.6,1.6],\"y\":[0,0,1,1,0],\"type\":\"scatter\"},{\"mode\":\"text\",\"text\":\"3\",\"x\":[2.0],\"y\":[0.4],\"type\":\"scatter\"},{\"fill\":\"toself\",\"fillcolor\":\"#2ca02c\",\"line\":{\"color\":\"black\"},\"mode\":\"lines\",\"x\":[1.6,2.4000000000000004,2.4000000000000004,1.6,1.6],\"y\":[1,1,2,2,1],\"type\":\"scatter\"},{\"mode\":\"text\",\"text\":\"2\",\"x\":[2.0],\"y\":[1.4],\"type\":\"scatter\"},{\"fill\":\"toself\",\"fillcolor\":\"#ff7f0e\",\"line\":{\"color\":\"black\"},\"mode\":\"lines\",\"x\":[1.6,2.4000000000000004,2.4000000000000004,1.6,1.6],\"y\":[2,2,3,3,2],\"type\":\"scatter\"},{\"mode\":\"text\",\"text\":\"1\",\"x\":[2.0],\"y\":[2.4],\"type\":\"scatter\"},{\"fill\":\"toself\",\"fillcolor\":\"#8c564b\",\"line\":{\"color\":\"black\"},\"mode\":\"lines\",\"x\":[2.6,3.4000000000000004,3.4000000000000004,2.6,2.6],\"y\":[0,0,1,1,0],\"type\":\"scatter\"},{\"mode\":\"text\",\"text\":\"5\",\"x\":[3.0],\"y\":[0.4],\"type\":\"scatter\"},{\"fill\":\"toself\",\"fillcolor\":\"#9467bd\",\"line\":{\"color\":\"black\"},\"mode\":\"lines\",\"x\":[2.6,3.4000000000000004,3.4000000000000004,2.6,2.6],\"y\":[1,1,2,2,1],\"type\":\"scatter\"},{\"mode\":\"text\",\"text\":\"4\",\"x\":[3.0],\"y\":[1.4],\"type\":\"scatter\"}]},{\"data\":[{\"fill\":\"toself\",\"fillcolor\":\"#d62728\",\"line\":{\"color\":\"black\"},\"mode\":\"lines\",\"x\":[1.6,2.4000000000000004,2.4000000000000004,1.6,1.6],\"y\":[0,0,1,1,0],\"type\":\"scatter\"},{\"mode\":\"text\",\"text\":\"3\",\"x\":[2.0],\"y\":[0.4],\"type\":\"scatter\"},{\"fill\":\"toself\",\"fillcolor\":\"#2ca02c\",\"line\":{\"color\":\"black\"},\"mode\":\"lines\",\"x\":[1.6,2.4000000000000004,2.4000000000000004,1.6,1.6],\"y\":[1,1,2,2,1],\"type\":\"scatter\"},{\"mode\":\"text\",\"text\":\"2\",\"x\":[2.0],\"y\":[1.4],\"type\":\"scatter\"},{\"fill\":\"toself\",\"fillcolor\":\"#ff7f0e\",\"line\":{\"color\":\"black\"},\"mode\":\"lines\",\"x\":[1.6,2.4000000000000004,2.4000000000000004,1.6,1.6],\"y\":[2,2,3,3,2],\"type\":\"scatter\"},{\"mode\":\"text\",\"text\":\"1\",\"x\":[2.0],\"y\":[2.4],\"type\":\"scatter\"},{\"fill\":\"toself\",\"fillcolor\":\"#8c564b\",\"line\":{\"color\":\"black\"},\"mode\":\"lines\",\"x\":[2.6,3.4000000000000004,3.4000000000000004,2.6,2.6],\"y\":[0,0,1,1,0],\"type\":\"scatter\"},{\"mode\":\"text\",\"text\":\"5\",\"x\":[3.0],\"y\":[0.4],\"type\":\"scatter\"},{\"fill\":\"toself\",\"fillcolor\":\"#9467bd\",\"line\":{\"color\":\"black\"},\"mode\":\"lines\",\"x\":[2.6,3.4000000000000004,3.4000000000000004,2.6,2.6],\"y\":[1,1,2,2,1],\"type\":\"scatter\"},{\"mode\":\"text\",\"text\":\"4\",\"x\":[3.0],\"y\":[1.4],\"type\":\"scatter\"}]},{\"data\":[{\"fill\":\"toself\",\"fillcolor\":\"#d62728\",\"line\":{\"color\":\"black\"},\"mode\":\"lines\",\"x\":[1.6,2.4000000000000004,2.4000000000000004,1.6,1.6],\"y\":[0,0,1,1,0],\"type\":\"scatter\"},{\"mode\":\"text\",\"text\":\"3\",\"x\":[2.0],\"y\":[0.4],\"type\":\"scatter\"},{\"fill\":\"toself\",\"fillcolor\":\"#2ca02c\",\"line\":{\"color\":\"black\"},\"mode\":\"lines\",\"x\":[1.6,2.4000000000000004,2.4000000000000004,1.6,1.6],\"y\":[1,1,2,2,1],\"type\":\"scatter\"},{\"mode\":\"text\",\"text\":\"2\",\"x\":[2.0],\"y\":[1.4],\"type\":\"scatter\"},{\"fill\":\"toself\",\"fillcolor\":\"#ff7f0e\",\"line\":{\"color\":\"black\"},\"mode\":\"lines\",\"x\":[1.6,2.4000000000000004,2.4000000000000004,1.6,1.6],\"y\":[2,2,3,3,2],\"type\":\"scatter\"},{\"mode\":\"text\",\"text\":\"1\",\"x\":[2.0],\"y\":[2.4],\"type\":\"scatter\"},{\"fill\":\"toself\",\"fillcolor\":\"#8c564b\",\"line\":{\"color\":\"black\"},\"mode\":\"lines\",\"x\":[2.6,3.4000000000000004,3.4000000000000004,2.6,2.6],\"y\":[0,0,1,1,0],\"type\":\"scatter\"},{\"mode\":\"text\",\"text\":\"5\",\"x\":[3.0],\"y\":[0.4],\"type\":\"scatter\"},{\"fill\":\"toself\",\"fillcolor\":\"#9467bd\",\"line\":{\"color\":\"black\"},\"mode\":\"lines\",\"x\":[2.6,3.4000000000000004,3.4000000000000004,2.6,2.6],\"y\":[1,1,2,2,1],\"type\":\"scatter\"},{\"mode\":\"text\",\"text\":\"4\",\"x\":[3.0],\"y\":[1.4],\"type\":\"scatter\"}]}]);\n",
       "                        }).then(function(){\n",
       "                            \n",
       "var gd = document.getElementById('a8fd6a25-2c61-4f00-b6ba-4debdd1d4d0f');\n",
       "var x = new MutationObserver(function (mutations, observer) {{\n",
       "        var display = window.getComputedStyle(gd).display;\n",
       "        if (!display || display === 'none') {{\n",
       "            console.log([gd, 'removed!']);\n",
       "            Plotly.purge(gd);\n",
       "            observer.disconnect();\n",
       "        }}\n",
       "}});\n",
       "\n",
       "// Listen for the removal of the full notebook cells\n",
       "var notebookContainer = gd.closest('#notebook-container');\n",
       "if (notebookContainer) {{\n",
       "    x.observe(notebookContainer, {childList: true});\n",
       "}}\n",
       "\n",
       "// Listen for the clearing of the current output cell\n",
       "var outputEl = gd.closest('.output');\n",
       "if (outputEl) {{\n",
       "    x.observe(outputEl, {childList: true});\n",
       "}}\n",
       "\n",
       "                        })                };                });            </script>        </div>"
      ]
     },
     "metadata": {},
     "output_type": "display_data"
    }
   ],
   "source": [
    "import plotly.graph_objects as go\n",
    "import numpy as np\n",
    "import matplotlib.pyplot as plt\n",
    "from copy import deepcopy\n",
    "\n",
    "def get_piles(state):\n",
    "    state = [x - 1 for x in state]\n",
    "    towers = []\n",
    "    for next_idx in range(len(state)):\n",
    "        if next_idx in state: continue\n",
    "        tower = [next_idx+1]\n",
    "        while next_idx >= 0:\n",
    "            x = state[next_idx]\n",
    "            tower.append(int(x+1))\n",
    "            next_idx = x\n",
    "        towers.append(tower[:-1])\n",
    "    return sorted(towers, key=lambda x :x[0])\n",
    "\n",
    "def get_towers(start, moves):\n",
    "    \n",
    "\n",
    "    towers = [get_piles(start)]\n",
    "    print(towers)\n",
    "    for f,t in moves:\n",
    "        new_state = deepcopy(towers[-1])\n",
    "        if f == 0: \n",
    "            pass\n",
    "        elif t == 0: # move to new tower\n",
    "            from_tower = max(new_state, key=lambda p : p[0] == f if len(p) else False)\n",
    "            from_tower.pop(0)\n",
    "            new_state.append([f])\n",
    "        else:\n",
    "            from_tower = max(new_state, key=lambda p : p[0] == f if len(p) else False)\n",
    "            to_tower = max(new_state, key=lambda p : p[0] == t if len(p) else False)\n",
    "            assert from_tower[0] == f, f\"Unable to execute move {(f,t)} with towers {new_state}\"\n",
    "            assert to_tower[0] == t, f\"Unable to execute move {(f,t)} with towers {new_state}\"\n",
    "            to_tower.insert(0, from_tower.pop(0))\n",
    "                \n",
    "        towers.append(new_state)\n",
    "    \n",
    "    return towers\n",
    "        \n",
    "towers = get_towers(start, move.value())\n",
    "\n",
    "colors = [\n",
    "    '#1f77b4',  # blue\n",
    "    '#ff7f0e',  # orange\n",
    "    '#2ca02c',  # green\n",
    "    '#d62728',  # red\n",
    "    '#9467bd',  # purple\n",
    "    '#8c564b',  # brown\n",
    "    '#e377c2',  # pink\n",
    "    '#7f7f7f',  # gray\n",
    "    '#bcbd22',  # yellow\n",
    "    '#17becf'   # cyan\n",
    "]\n",
    "\n",
    "\n",
    "def draw_piles(piles):\n",
    "    \n",
    "    for p_idx, pile in enumerate(piles):\n",
    "        for b_idx, block in enumerate(reversed(pile)):\n",
    "            x0, y0 = p_idx-0.4 , b_idx\n",
    "            x1, y1 = x0+0.8, y0+1\n",
    "            yield go.Scatter(\n",
    "                    x=[x0, x1, x1, x0, x0],\n",
    "                    y=[y0, y0, y1, y1, y0],\n",
    "                    mode='lines',\n",
    "                    line=dict(color=\"black\"),\n",
    "                    fill='toself',\n",
    "                    fillcolor=colors[block]\n",
    "                    )\n",
    "            yield go.Scatter(\n",
    "                    x=[x0 +0.4], y=[y0+0.4],\n",
    "                    mode='text',\n",
    "                    text=str(block)\n",
    "                    )\n",
    "\n",
    "fig = go.Figure(\n",
    "    data=list(draw_state(state.value()[1:, 0])),\n",
    "    layout=go.Layout(\n",
    "        xaxis=dict(range=[-0.5, 3], autorange=False),\n",
    "        yaxis=dict(range=[0, 5], autorange=False),\n",
    "        title=dict(text=\"Blocks world\"),\n",
    "        updatemenus=[dict(type=\"buttons\", \n",
    "                          buttons=[dict(label=\"Play\",\n",
    "                                        method=\"animate\",\n",
    "                                        args=[None, {\"frame\": {\"duration\": 1000, \"redraw\": False}}])])]\n",
    "    ),\n",
    "    frames=[go.Frame(data=list(draw_piles(piles))) for piles in towers]\n",
    ")\n",
    "\n",
    "fig.show()\n",
    "# draw_state([2, 0, 9, 6, 3, 1, 5, 4, 0])\n"
   ]
  },
  {
   "cell_type": "code",
   "execution_count": null,
   "metadata": {},
   "outputs": [],
   "source": [
    "import plotly.graph_objects as go\n",
    "import numpy as np\n",
    "\n",
    "# Function to convert the state into piles\n",
    "def get_piles_from_state(state):\n",
    "    k = len(state)\n",
    "    # Create a list of lists for the piles\n",
    "    piles = [[] for _ in range(k)]\n",
    "    is_on_top = [True] * k  # To track which blocks are on top\n",
    "    \n",
    "    # Iterate over the state and assign blocks to piles\n",
    "    for i, s in enumerate(state):\n",
    "        if s == 0:  # Block i is on top of a pile\n",
    "            piles[i].append(i + 1)\n",
    "        else:\n",
    "            piles[s - 1].append(i + 1)  # Place block i on block (s-1)\n",
    "            is_on_top[s - 1] = False  # Mark block (s-1) as not on top\n",
    "    \n",
    "    # Ensure the piles are correctly ordered (top-down)\n",
    "    for i in range(k):\n",
    "        if is_on_top[i] and not piles[i]:  # Empty piles that have no block\n",
    "            piles[i] = [i + 1]\n",
    "    \n",
    "    return [pile for pile in piles if pile]  # Remove empty piles\n",
    "\n",
    "# Function to draw a frame from a given state\n",
    "def draw_frame(state, width=1.0, height=1.0, gap=0.1):\n",
    "    piles = get_piles_from_state(state)\n",
    "    num_piles = len(piles)\n",
    "    \n",
    "    # Determine the layout of the plot\n",
    "    fig = go.Figure()\n",
    "    for pile_index, pile in enumerate(piles):\n",
    "        for block_index, block in enumerate(reversed(pile)):\n",
    "            # Calculate the position of each block\n",
    "            x0 = pile_index * (width + gap)\n",
    "            y0 = block_index * (height + gap)\n",
    "            \n",
    "            # Draw the block as a rectangle with the block number\n",
    "            fig.add_shape(type='rect',\n",
    "                          x0=x0, y0=y0,\n",
    "                          x1=x0 + width, y1=y0 + height,\n",
    "                          line=dict(color='black'),\n",
    "                          fillcolor='skyblue')\n",
    "            \n",
    "            # Add the block number as text in the middle of the rectangle\n",
    "            fig.add_trace(go.Scatter(\n",
    "                x=[x0 + width / 2],\n",
    "                y=[y0 + height / 2],\n",
    "                text=str(block),\n",
    "                mode='text',\n",
    "                textfont=dict(size=14)\n",
    "            ))\n",
    "\n",
    "    # Layout settings\n",
    "    fig.update_layout(\n",
    "        xaxis=dict(visible=False),\n",
    "        yaxis=dict(visible=False),\n",
    "        width=800,\n",
    "        height=400,\n",
    "        showlegend=False,\n",
    "        margin=dict(l=10, r=10, t=10, b=10)\n",
    "    )\n",
    "\n",
    "    return fig\n",
    "\n",
    "# Sample states for animation (sequence of states)\n",
    "states = [\n",
    "    [0, 0, 0, 0],  # Initial configuration\n",
    "    [2, 0, 0, 0],  # Block 1 moves on Block 2\n",
    "    [2, 3, 0, 0],  # Block 2 moves on Block 3\n",
    "    [0, 3, 1, 0]   # Block 3 moves on Block 4\n",
    "]\n",
    "\n",
    "# Create the figure\n",
    "fig = go.Figure(\n",
    "    data=\n",
    "    layout=go.Layout(\n",
    "        title=\"Blocks World Animation\",\n",
    "        updatemenus=[dict(\n",
    "            type=\"buttons\",\n",
    "            buttons=[dict(label=\"Play\",\n",
    "                          method=\"animate\",\n",
    "                          args=[None, dict(frame=dict(duration=1, redraw=True), fromcurrent=True)])]\n",
    "        )]\n",
    "    ),\n",
    "    frames=[go.Frame(data=draw_frame(state).data) for state in states]\n",
    ")\n",
    "\n",
    "# Show the animation\n",
    "fig.show()\n"
   ]
  },
  {
   "cell_type": "code",
   "execution_count": null,
   "metadata": {
    "pycharm": {
     "name": "#%%\n"
    }
   },
   "outputs": [],
   "source": []
  }
 ],
 "metadata": {
  "kernelspec": {
   "display_name": "Python 3 (ipykernel)",
   "language": "python",
   "name": "python3"
  },
  "language_info": {
   "codemirror_mode": {
    "name": "ipython",
    "version": 3
   },
   "file_extension": ".py",
   "mimetype": "text/x-python",
   "name": "python",
   "nbconvert_exporter": "python",
   "pygments_lexer": "ipython3",
   "version": "3.10.15"
  }
 },
 "nbformat": 4,
 "nbformat_minor": 1
}
