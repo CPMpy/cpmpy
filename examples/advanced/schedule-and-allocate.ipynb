{
 "cells": [
  {
   "cell_type": "code",
   "id": "initial_id",
   "metadata": {
    "collapsed": true,
    "ExecuteTime": {
     "end_time": "2024-10-31T11:09:34.493241Z",
     "start_time": "2024-10-31T11:09:34.490671Z"
    }
   },
   "source": [
    "import cpmpy as cp\n",
    "import numpy as np\n",
    "np.random.seed(0)\n",
    "\n",
    "from numpy.random import randint, random"
   ],
   "outputs": [],
   "execution_count": 104
  },
  {
   "metadata": {
    "ExecuteTime": {
     "end_time": "2024-10-31T11:09:34.518773Z",
     "start_time": "2024-10-31T11:09:34.510569Z"
    }
   },
   "cell_type": "code",
   "source": [
    "n_task = 100\n",
    "n_teams = 8\n",
    "\n",
    "# generate parameters for tasks\n",
    "durations = randint(5,25, size=n_task)\n",
    "\n",
    "# not all teams can do the same set of tasks\n",
    "team_compat = [set(randint(0,n_teams,size=n_teams)) for _ in range(n_task)]\n",
    "\n",
    "# generate precedences\n",
    "# this can actually generate a cycle of precedences, but let's hope it does not...\n",
    "before = [randint(0,n_task) if random() > 0.5 else None for _ in range(n_task)]\n",
    "\n",
    "for t in range(n_task):\n",
    "    print(f\"Task {t} can be performed by any of {team_compat[t]}\")"
   ],
   "id": "4a47c16e80148f9e",
   "outputs": [
    {
     "name": "stdout",
     "output_type": "stream",
     "text": [
      "Task 0 can be performed by any of {0, 1, 2, 5, 7}\n",
      "Task 1 can be performed by any of {1, 2, 3, 7}\n",
      "Task 2 can be performed by any of {2, 3, 6}\n",
      "Task 3 can be performed by any of {1, 2, 3, 4, 6}\n",
      "Task 4 can be performed by any of {0, 1, 2, 3, 4, 6}\n",
      "Task 5 can be performed by any of {0, 3, 6}\n",
      "Task 6 can be performed by any of {0, 2, 3, 4, 5, 6}\n",
      "Task 7 can be performed by any of {0, 2, 3, 5, 6}\n",
      "Task 8 can be performed by any of {0, 2, 3, 7}\n",
      "Task 9 can be performed by any of {0, 3, 4, 5, 6}\n",
      "Task 10 can be performed by any of {1, 3, 4, 5, 6}\n",
      "Task 11 can be performed by any of {0, 1, 5, 6}\n",
      "Task 12 can be performed by any of {0, 1, 3, 4, 5, 6}\n",
      "Task 13 can be performed by any of {0, 1, 3, 4, 5, 6, 7}\n",
      "Task 14 can be performed by any of {0, 1, 2, 5, 7}\n",
      "Task 15 can be performed by any of {1, 3, 5, 6, 7}\n",
      "Task 16 can be performed by any of {0, 2, 3, 4, 5, 6, 7}\n",
      "Task 17 can be performed by any of {2, 3, 4, 6, 7}\n",
      "Task 18 can be performed by any of {0, 3, 4, 5, 7}\n",
      "Task 19 can be performed by any of {0, 2, 3, 4, 5, 6, 7}\n",
      "Task 20 can be performed by any of {1, 2, 3, 5, 6, 7}\n",
      "Task 21 can be performed by any of {1, 3, 4, 5, 7}\n",
      "Task 22 can be performed by any of {1, 2, 3, 4, 6, 7}\n",
      "Task 23 can be performed by any of {1, 2, 3, 5, 7}\n",
      "Task 24 can be performed by any of {0, 1, 2, 4, 5}\n",
      "Task 25 can be performed by any of {0, 2, 3, 4, 5, 6, 7}\n",
      "Task 26 can be performed by any of {0, 1, 5, 6}\n",
      "Task 27 can be performed by any of {0, 3, 4}\n",
      "Task 28 can be performed by any of {1, 2, 3, 4, 5, 6, 7}\n",
      "Task 29 can be performed by any of {1, 2, 4, 5}\n",
      "Task 30 can be performed by any of {2, 4, 5, 7}\n",
      "Task 31 can be performed by any of {1, 3, 5, 6, 7}\n",
      "Task 32 can be performed by any of {1, 2, 3, 4, 6, 7}\n",
      "Task 33 can be performed by any of {0, 1, 2, 3, 5, 6}\n",
      "Task 34 can be performed by any of {0, 1, 2, 3, 4, 6}\n",
      "Task 35 can be performed by any of {0, 2, 4, 6, 7}\n",
      "Task 36 can be performed by any of {0, 3, 5, 6}\n",
      "Task 37 can be performed by any of {0, 2, 3, 5, 7}\n",
      "Task 38 can be performed by any of {0, 1, 3, 4, 7}\n",
      "Task 39 can be performed by any of {0, 1, 2, 4, 6}\n",
      "Task 40 can be performed by any of {0, 2, 3, 4, 5, 6, 7}\n",
      "Task 41 can be performed by any of {0, 3, 5, 7}\n",
      "Task 42 can be performed by any of {2, 4, 5, 6, 7}\n",
      "Task 43 can be performed by any of {1, 2, 3, 5}\n",
      "Task 44 can be performed by any of {2, 3, 4, 5, 6, 7}\n",
      "Task 45 can be performed by any of {0, 1, 2, 5, 6, 7}\n",
      "Task 46 can be performed by any of {0, 1, 2, 3, 4, 6}\n",
      "Task 47 can be performed by any of {1, 2, 4, 5, 6, 7}\n",
      "Task 48 can be performed by any of {0, 5, 6, 7}\n",
      "Task 49 can be performed by any of {0, 1, 3, 4, 6, 7}\n",
      "Task 50 can be performed by any of {0, 1, 2, 4, 5, 7}\n",
      "Task 51 can be performed by any of {0, 1, 4, 6, 7}\n",
      "Task 52 can be performed by any of {1, 3, 4, 5, 7}\n",
      "Task 53 can be performed by any of {1, 3, 5, 6, 7}\n",
      "Task 54 can be performed by any of {0, 1, 3, 4, 6}\n",
      "Task 55 can be performed by any of {0, 1, 2, 3, 4, 5, 6}\n",
      "Task 56 can be performed by any of {0, 2, 4, 5, 7}\n",
      "Task 57 can be performed by any of {0, 3, 4, 6, 7}\n",
      "Task 58 can be performed by any of {1, 2, 3, 4, 7}\n",
      "Task 59 can be performed by any of {1, 2, 3, 4}\n",
      "Task 60 can be performed by any of {0, 1, 2, 4, 7}\n",
      "Task 61 can be performed by any of {0, 1, 2, 3, 4, 5, 6}\n",
      "Task 62 can be performed by any of {0, 1, 2, 3, 4, 5}\n",
      "Task 63 can be performed by any of {0, 1, 5, 6, 7}\n",
      "Task 64 can be performed by any of {3, 4, 5, 6, 7}\n",
      "Task 65 can be performed by any of {0, 3, 4, 5, 6, 7}\n",
      "Task 66 can be performed by any of {1, 3, 4, 5, 6, 7}\n",
      "Task 67 can be performed by any of {0, 1, 3, 6}\n",
      "Task 68 can be performed by any of {0, 2, 3, 7}\n",
      "Task 69 can be performed by any of {0, 1, 3, 4, 6}\n",
      "Task 70 can be performed by any of {1, 2, 3, 4, 5}\n",
      "Task 71 can be performed by any of {1, 2, 3, 4, 5, 7}\n",
      "Task 72 can be performed by any of {1, 2, 4, 5, 6}\n",
      "Task 73 can be performed by any of {1, 2, 3, 6, 7}\n",
      "Task 74 can be performed by any of {2, 3, 4, 6, 7}\n",
      "Task 75 can be performed by any of {0, 2, 4, 5, 7}\n",
      "Task 76 can be performed by any of {3, 5, 6, 7}\n",
      "Task 77 can be performed by any of {1, 2, 3, 4, 5, 6, 7}\n",
      "Task 78 can be performed by any of {1, 2, 3, 4, 5, 6}\n",
      "Task 79 can be performed by any of {2, 4, 5, 6, 7}\n",
      "Task 80 can be performed by any of {0, 1, 2, 4}\n",
      "Task 81 can be performed by any of {0, 2, 3, 5}\n",
      "Task 82 can be performed by any of {0, 1, 2, 3, 4, 5, 7}\n",
      "Task 83 can be performed by any of {0, 3, 4, 5, 6}\n",
      "Task 84 can be performed by any of {2, 3, 4, 5, 6}\n",
      "Task 85 can be performed by any of {1, 3, 4, 5, 6}\n",
      "Task 86 can be performed by any of {0, 1, 2, 3, 5, 7}\n",
      "Task 87 can be performed by any of {0, 1, 5, 6}\n",
      "Task 88 can be performed by any of {1, 4, 5, 6, 7}\n",
      "Task 89 can be performed by any of {0, 2, 3, 6, 7}\n",
      "Task 90 can be performed by any of {2, 3, 5, 7}\n",
      "Task 91 can be performed by any of {1, 2, 3, 5, 6}\n",
      "Task 92 can be performed by any of {0, 1, 2, 3, 4, 5, 6, 7}\n",
      "Task 93 can be performed by any of {0, 1, 2, 4, 5, 7}\n",
      "Task 94 can be performed by any of {1, 2, 3, 5, 6, 7}\n",
      "Task 95 can be performed by any of {0, 1, 4, 5, 6, 7}\n",
      "Task 96 can be performed by any of {0, 1, 2, 3, 4, 6, 7}\n",
      "Task 97 can be performed by any of {0, 1, 2, 3, 4, 6}\n",
      "Task 98 can be performed by any of {0, 1, 2, 3, 4, 6, 7}\n",
      "Task 99 can be performed by any of {0, 1, 2, 3, 4, 5}\n"
     ]
    }
   ],
   "execution_count": 105
  },
  {
   "metadata": {
    "ExecuteTime": {
     "end_time": "2024-10-31T11:09:34.624617Z",
     "start_time": "2024-10-31T11:09:34.622440Z"
    }
   },
   "cell_type": "code",
   "source": "",
   "id": "c31a229d8f29e15c",
   "outputs": [],
   "execution_count": null
  },
  {
   "metadata": {},
   "cell_type": "markdown",
   "source": [
    "## Creating the model\n",
    "\n",
    "We use a Boolean matrix `alloc` where `alloc[i,j]` indicates whether task `i` is assigned to team `j`.\n",
    "\n",
    "The model consists of two main constraint types:\n",
    "1. Team compatibility, encoded by enforcing the `alloc[i,j]` to `False` for incompatible teams\n",
    "2. No-overlap constraints between tasks asssigned to the same team. \n",
    " \n",
    "The latter of these constraints are encoded using optional interval variables.\n"
   ],
   "id": "3bdea504c65e3f24"
  },
  {
   "metadata": {
    "ExecuteTime": {
     "end_time": "2024-10-31T11:09:34.718887Z",
     "start_time": "2024-10-31T11:09:34.668756Z"
    }
   },
   "cell_type": "code",
   "source": [
    "model = cp.Model()\n",
    "alloc = cp.boolvar(shape=(n_task, n_teams), name=\"alloc\")\n",
    "\n",
    "# each task has to be assigned to 1 team\n",
    "model += [cp.sum(alloc[task,:]) == 1 for task in range(n_task)]\n",
    "\n",
    "# team compatibility\n",
    "for task, compatible_teams in enumerate(team_compat):\n",
    "    incompatible = set(range(n_teams)) - compatible_teams\n",
    "    model += [alloc[task, team] == False for team in incompatible]\n",
    "\n",
    "# precedences\n",
    "start = cp.intvar(0,durations.sum(), shape=n_task)\n",
    "end = cp.intvar(0, durations.sum(), shape=n_task)\n",
    "\n",
    "for task, must_before in enumerate(before):\n",
    "    if must_before is not None:\n",
    "        model += start[task] >= end[must_before]\n",
    "        \n",
    "# non-overlap\n",
    "for team in range(n_teams):\n",
    "    team_intervals = cp.directvar(\"NewOptionalIntervalVar\",\n",
    "                                 (start, durations, end, alloc[:,team]),\n",
    "                                 insert_name_at_index=4,\n",
    "                                 shape=n_task,\n",
    "                                 novar=(1,))\n",
    "    \n",
    "    model += cp.DirectConstraint(\"AddNoOverlap\", (team_intervals,))\n",
    "    \n",
    "# minimize the makespan\n",
    "model.minimize(cp.max(end))"
   ],
   "id": "12294fdac07b98dc",
   "outputs": [],
   "execution_count": 106
  },
  {
   "metadata": {
    "ExecuteTime": {
     "end_time": "2024-10-31T11:09:35.364867Z",
     "start_time": "2024-10-31T11:09:34.734189Z"
    }
   },
   "cell_type": "code",
   "source": "model.solve(solver=\"ortools\")",
   "id": "83da003d36d4b140",
   "outputs": [
    {
     "data": {
      "text/plain": [
       "True"
      ]
     },
     "execution_count": 107,
     "metadata": {},
     "output_type": "execute_result"
    }
   ],
   "execution_count": 107
  },
  {
   "metadata": {
    "ExecuteTime": {
     "end_time": "2024-10-31T11:09:35.386618Z",
     "start_time": "2024-10-31T11:09:35.379255Z"
    }
   },
   "cell_type": "code",
   "source": [
    "import pandas as pd\n",
    "\n",
    "allocated = np.sum(np.arange(n_teams) * alloc.value(), axis=1)\n",
    "solution = pd.DataFrame(data=np.array([start.value(), durations, allocated]).T,\n",
    "                        columns=[\"Start\", \"Duration\", \"Team\"])\n",
    "\n",
    "solution[\"Task\"] = \"Task \" + solution.index.astype(str)\n",
    "\n",
    "solution"
   ],
   "id": "88cc2674698fade6",
   "outputs": [
    {
     "data": {
      "text/plain": [
       "    Start  Duration  Team     Task\n",
       "0      20        17     5   Task 0\n",
       "1      59        20     1   Task 1\n",
       "2      96         5     2   Task 2\n",
       "3      28         8     4   Task 3\n",
       "4      23         8     1   Task 4\n",
       "..    ...       ...   ...      ...\n",
       "95    167         7     6  Task 95\n",
       "96     61        21     7  Task 96\n",
       "97      0         8     4  Task 97\n",
       "98     18         7     3  Task 98\n",
       "99    121        15     1  Task 99\n",
       "\n",
       "[100 rows x 4 columns]"
      ],
      "text/html": [
       "<div>\n",
       "<style scoped>\n",
       "    .dataframe tbody tr th:only-of-type {\n",
       "        vertical-align: middle;\n",
       "    }\n",
       "\n",
       "    .dataframe tbody tr th {\n",
       "        vertical-align: top;\n",
       "    }\n",
       "\n",
       "    .dataframe thead th {\n",
       "        text-align: right;\n",
       "    }\n",
       "</style>\n",
       "<table border=\"1\" class=\"dataframe\">\n",
       "  <thead>\n",
       "    <tr style=\"text-align: right;\">\n",
       "      <th></th>\n",
       "      <th>Start</th>\n",
       "      <th>Duration</th>\n",
       "      <th>Team</th>\n",
       "      <th>Task</th>\n",
       "    </tr>\n",
       "  </thead>\n",
       "  <tbody>\n",
       "    <tr>\n",
       "      <th>0</th>\n",
       "      <td>20</td>\n",
       "      <td>17</td>\n",
       "      <td>5</td>\n",
       "      <td>Task 0</td>\n",
       "    </tr>\n",
       "    <tr>\n",
       "      <th>1</th>\n",
       "      <td>59</td>\n",
       "      <td>20</td>\n",
       "      <td>1</td>\n",
       "      <td>Task 1</td>\n",
       "    </tr>\n",
       "    <tr>\n",
       "      <th>2</th>\n",
       "      <td>96</td>\n",
       "      <td>5</td>\n",
       "      <td>2</td>\n",
       "      <td>Task 2</td>\n",
       "    </tr>\n",
       "    <tr>\n",
       "      <th>3</th>\n",
       "      <td>28</td>\n",
       "      <td>8</td>\n",
       "      <td>4</td>\n",
       "      <td>Task 3</td>\n",
       "    </tr>\n",
       "    <tr>\n",
       "      <th>4</th>\n",
       "      <td>23</td>\n",
       "      <td>8</td>\n",
       "      <td>1</td>\n",
       "      <td>Task 4</td>\n",
       "    </tr>\n",
       "    <tr>\n",
       "      <th>...</th>\n",
       "      <td>...</td>\n",
       "      <td>...</td>\n",
       "      <td>...</td>\n",
       "      <td>...</td>\n",
       "    </tr>\n",
       "    <tr>\n",
       "      <th>95</th>\n",
       "      <td>167</td>\n",
       "      <td>7</td>\n",
       "      <td>6</td>\n",
       "      <td>Task 95</td>\n",
       "    </tr>\n",
       "    <tr>\n",
       "      <th>96</th>\n",
       "      <td>61</td>\n",
       "      <td>21</td>\n",
       "      <td>7</td>\n",
       "      <td>Task 96</td>\n",
       "    </tr>\n",
       "    <tr>\n",
       "      <th>97</th>\n",
       "      <td>0</td>\n",
       "      <td>8</td>\n",
       "      <td>4</td>\n",
       "      <td>Task 97</td>\n",
       "    </tr>\n",
       "    <tr>\n",
       "      <th>98</th>\n",
       "      <td>18</td>\n",
       "      <td>7</td>\n",
       "      <td>3</td>\n",
       "      <td>Task 98</td>\n",
       "    </tr>\n",
       "    <tr>\n",
       "      <th>99</th>\n",
       "      <td>121</td>\n",
       "      <td>15</td>\n",
       "      <td>1</td>\n",
       "      <td>Task 99</td>\n",
       "    </tr>\n",
       "  </tbody>\n",
       "</table>\n",
       "<p>100 rows × 4 columns</p>\n",
       "</div>"
      ]
     },
     "execution_count": 108,
     "metadata": {},
     "output_type": "execute_result"
    }
   ],
   "execution_count": 108
  },
  {
   "metadata": {
    "ExecuteTime": {
     "end_time": "2024-10-31T11:09:35.525045Z",
     "start_time": "2024-10-31T11:09:35.444605Z"
    }
   },
   "cell_type": "code",
   "source": [
    "import matplotlib.pyplot as plt\n",
    "\n",
    "cmap = plt.get_cmap(\"Set3\")\n",
    "\n",
    "def plot_ghantt(df):\n",
    "    fig, ax = plt.subplots()\n",
    "    \n",
    "    for team in range(n_teams):\n",
    "        team_tasks = df[df['Team'] == team]\n",
    "        ax.broken_barh(list(zip(team_tasks[\"Start\"], team_tasks[\"Duration\"])),\n",
    "                       (team-0.4, 0.8), \n",
    "                       facecolors=cmap(team),\n",
    "                       edgecolor=\"black\")\n",
    "    \n",
    "        \n",
    "    # ax.set_xlim(0, max(df['Start'] + df['Duration']))\n",
    "plot_ghantt(solution)"
   ],
   "id": "a31dfd8c2cf881fe",
   "outputs": [
    {
     "data": {
      "text/plain": [
       "<Figure size 640x480 with 1 Axes>"
      ],
      "image/png": "[encoded data removed]"
     },
     "metadata": {},
     "output_type": "display_data"
    }
   ],
   "execution_count": 109
  },
  {
   "metadata": {
    "ExecuteTime": {
     "end_time": "2024-10-31T11:09:35.569957Z",
     "start_time": "2024-10-31T11:09:35.568070Z"
    }
   },
   "cell_type": "code",
   "source": "",
   "id": "599259aed280ee40",
   "outputs": [],
   "execution_count": null
  }
 ],
 "metadata": {
  "kernelspec": {
   "display_name": "Python 3",
   "language": "python",
   "name": "python3"
  },
  "language_info": {
   "codemirror_mode": {
    "name": "ipython",
    "version": 2
   },
   "file_extension": ".py",
   "mimetype": "text/x-python",
   "name": "python",
   "nbconvert_exporter": "python",
   "pygments_lexer": "ipython2",
   "version": "2.7.6"
  }
 },
 "nbformat": 4,
 "nbformat_minor": 5
}
