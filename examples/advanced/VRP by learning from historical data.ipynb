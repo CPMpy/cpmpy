{
 "cells": [
  {
   "cell_type": "markdown",
   "metadata": {},
   "source": [
    "# VRP by learning from historical data\n",
    "\n",
    "In the Vehicle Routing Problem (VRP), the goal is to find a closed path of minimal length   \n",
    "for a fleet of vehicles visiting a set of locations.  \n",
    "If there is only ***one*** vehicle, the problem reduces to the TSP.  \n",
    "\n",
    "In this example, we will:\n",
    "\n",
    "1. Generate historical instances (sets of stops)\n",
    "2. Compute the distance-based optimal routing for each historical instance\n",
    "3. Simulate the route planner's (hidden) preferences\n",
    "4. Using (3), compute the user-preferred routing for each instance\n",
    "5. Learn a model from the user-preferred routings (\"historical data\")\n",
    "6. Apply learned model to test instances and compare predictions against distance-based solutions"
   ]
  },
  {
   "cell_type": "code",
   "execution_count": 1,
   "metadata": {},
   "outputs": [],
   "source": [
    "# import libraries\n",
    "\n",
    "import random\n",
    "import pandas as pd\n",
    "import numpy as np\n",
    "import matplotlib.pyplot as plt\n",
    "import matplotlib.patches as patches\n",
    "from matplotlib.patches import Polygon\n",
    "import time\n",
    "from collections import Counter\n",
    "import operator\n",
    "import math\n",
    "\n",
    "from cpmpy import *"
   ]
  },
  {
   "cell_type": "markdown",
   "metadata": {},
   "source": [
    "### CPMpy VRP Model"
   ]
  },
  {
   "cell_type": "code",
   "execution_count": 2,
   "metadata": {},
   "outputs": [],
   "source": [
    "def solve_vrp(stops, distance_matrix, n_vehicle, q):\n",
    "    \n",
    "    n_city = len(stops)\n",
    "\n",
    "    demand = [1 for i in range(len(hist_stops[0]))]\n",
    "    \n",
    "    x = intvar(0, 1, shape=distance_matrix.shape)   # x[i,j] = 1 means that a vehicle goes from node i to node j \n",
    "    y = intvar(0, q, shape=distance_matrix.shape)   # y[i,j] is a flow of load through arc (i,j)\n",
    "    \n",
    "    model = Model(\n",
    "        sum(x[0,:]) == n_vehicle,                   # constraint on number of vehicles (from depot)\n",
    "         \n",
    "        [sum(x[i,:])==1 for i in range(1,n_city)],  # vehicle leaves and enter each node i exactly once\n",
    "        [sum(x[:,i])==1 for i in range(1,n_city)],\n",
    "        \n",
    "        [sum(x[i,i] for i in range(n_city))==0],    # no self visits\n",
    "\n",
    "        # from depot takes no load\n",
    "        sum(y[0,:]) == 0,\n",
    "        # flow out of node i through all outgoing arcs is equal to \n",
    "        # flow into node i through all ingoing arcs + load capacity @ node i\n",
    "        [sum(y[i,:])==sum(y[:,i])+demand[i] for i in range(1,n_city)],\n",
    "    )\n",
    "    \n",
    "    # capacity constraint at each node (conditional on visit)\n",
    "    for i in range(n_city):\n",
    "        for j in range(n_city):\n",
    "            model += y[i,j] <= q*x[i,j]\n",
    "            \n",
    "    # the objective is to minimze the travelled distance \n",
    "    # sum(x*dist) does not work because 2D array, use .sum()\n",
    "    model.minimize((x*distance_matrix).sum())\n",
    "    \n",
    "    val = model.solve()\n",
    "    \n",
    "    sol = x.value()\n",
    "    \n",
    "    firsts = np.where(sol[0]==1)[0]\n",
    "    \n",
    "    routing = []\n",
    "    for i in range(len(firsts)):\n",
    "        temp_route = [0, firsts[i]]\n",
    "        while temp_route[-1] != 0:\n",
    "            temp_route.append(np.where(sol[temp_route[-1]]==1)[0][0])\n",
    "        route = [stops[k] for k in temp_route]\n",
    "        routing.append(route)\n",
    "        \n",
    "    return routing"
   ]
  },
  {
   "cell_type": "markdown",
   "metadata": {},
   "source": [
    "### Visualization of preferences\n",
    "\n",
    "Entire delivery area is divided into three cities; planner preference is to assign one vehicle per city"
   ]
  },
  {
   "cell_type": "code",
   "execution_count": 3,
   "metadata": {},
   "outputs": [
    {
     "data": {
      "image/png": "[encoded data removed]",
      "text/plain": [
       "<Figure size 360x360 with 1 Axes>"
      ]
     },
     "metadata": {
      "needs_background": "light"
     },
     "output_type": "display_data"
    }
   ],
   "source": [
    "def plot_routing(routing_to_map, instance_num, hist_stops, full_x, full_y):\n",
    "    \n",
    "    y1 = np.array([[0,0], [0,70], [35,35]])\n",
    "    y2 = np.array([[35,35], [0,70], [70,70], [70,35]])\n",
    "    y3 = np.array([[35,35], [70,35], [70,0], [0,0]])\n",
    "    p1 = Polygon(y1, facecolor = 'y', alpha = 0.2)\n",
    "    p2 = Polygon(y2, facecolor = 'b', alpha = 0.2)\n",
    "    p3 = Polygon(y3, facecolor = 'r', alpha = 0.2 )\n",
    "\n",
    "    plt.gca().add_patch(p1)\n",
    "    plt.gca().add_patch(p2)\n",
    "    plt.gca().add_patch(p3)\n",
    "\n",
    "    style = 'Simple, tail_width=0.5, head_width=10, head_length=6'\n",
    "    loc_x = []\n",
    "    loc_y = []\n",
    "    for i in range(len(hist_stops[instance_num])):\n",
    "        loc_x.append(full_x[hist_stops[instance_num][i]])\n",
    "        loc_y.append(full_y[hist_stops[instance_num][i]])\n",
    "\n",
    "    plt.scatter(loc_x[1:], loc_y[1:])\n",
    "\n",
    "    for route in routing_to_map:\n",
    "        for i in range(len(route)-1):\n",
    "            m = list(hist_stops[instance_num]).index(route[i])\n",
    "            n = list(hist_stops[instance_num]).index(route[i+1])\n",
    "            plt.gca().add_patch(patches.FancyArrowPatch((loc_x[m], loc_y[m]), (loc_x[n], loc_y[n]), \n",
    "                    connectionstyle=\"arc3,rad=0.1\", arrowstyle=style, color='gray', alpha=0.8))\n",
    "    for i in range(len(hist_stops[instance_num])):\n",
    "        plt.annotate(hist_stops[instance_num][i], (loc_x[i]+0.5, loc_y[i]+0.5), fontsize=11, alpha=0.6)\n",
    "        # show depot (red square)\n",
    "    plt.plot(loc_x[0], loc_y[0], c = 'r', marker = 's')\n",
    "    plt.axis('equal');\n",
    "    \n",
    "plt.figure(figsize=(5,5))\n",
    "plot_routing([[0]], 0, [[0]] , [35], [35])"
   ]
  },
  {
   "cell_type": "markdown",
   "metadata": {},
   "source": [
    "### Data generation"
   ]
  },
  {
   "cell_type": "code",
   "execution_count": 4,
   "metadata": {},
   "outputs": [
    {
     "data": {
      "text/plain": [
       "[[0, 13, 14, 8, 5, 3, 4, 2, 9],\n",
       " [0, 9, 10, 4, 8, 2, 7, 13, 12],\n",
       " [0, 6, 9, 12, 11, 3, 10, 8, 13],\n",
       " [0, 8, 9, 11, 3, 6, 16, 7, 1],\n",
       " [0, 12, 6, 11, 2, 13, 14, 8, 9]]"
      ]
     },
     "execution_count": 4,
     "metadata": {},
     "output_type": "execute_result"
    }
   ],
   "source": [
    "# x and y coordinates of all available stops\n",
    "full_x = [35, 41, 35, 55, 55, 15, 25, 20, 10, 55, 30, 20, 50, 30, 15, 30, 10]\n",
    "full_y = [35, 49, 17, 45, 20, 30, 30, 50, 43, 60, 60, 65, 35, 25, 10,  5, 20]\n",
    "\n",
    "# generate hist_length instances for training and testing \n",
    "# by sampling from all available stops;\n",
    "# each instance is of length num_of_stops\n",
    "\n",
    "hist_length = 150\n",
    "num_of_stops = 8\n",
    "\n",
    "hist_stops = []\n",
    "random.seed(1)\n",
    "for i in range(hist_length):\n",
    "    init_list = []\n",
    "    while len(init_list) < num_of_stops:\n",
    "        sample = int(random.gauss(len(full_x)/2, len(full_x)/4))\n",
    "        if sample > 0 and sample < len(full_x) and sample not in init_list:\n",
    "            init_list.append(sample)\n",
    "    init_list.insert(0,0)\n",
    "    hist_stops.append(init_list)\n",
    "\n",
    "hist_stops[:5]"
   ]
  },
  {
   "cell_type": "markdown",
   "metadata": {},
   "source": [
    "### Compute pure distance and user-preferred solutions"
   ]
  },
  {
   "cell_type": "code",
   "execution_count": 5,
   "metadata": {},
   "outputs": [
    {
     "name": "stdout",
     "output_type": "stream",
     "text": [
      "Pure distance solutions solved. instance 149\n",
      "User-preferred solutions solved. instance 1496\n"
     ]
    }
   ],
   "source": [
    "# create full distance matrix\n",
    "# distance matrix is needed to compute for pure distance (traditional software) solution\n",
    "\n",
    "full_dist_mat = np.hypot(np.array([full_x])-np.array([full_x]).T, np.array([full_y])-np.array([full_y]).T)\n",
    "        \n",
    "# create full preference matrix\n",
    "# the goal of this step is to simulate the \"hidden\" preferences of the route planners\n",
    "\n",
    "full_pref_mat = np.empty((len(full_dist_mat), len(full_dist_mat)))\n",
    "for i in range(len(full_pref_mat)):\n",
    "    for j in range(len(full_pref_mat)):\n",
    "        if any([\n",
    "        all([full_y[i]>=35, full_y[j]>=35, full_y[i]>=-full_x[i]+70, full_y[j]>=-full_x[j]+70]), # city 1\n",
    "        all([full_y[i]>=full_x[i], full_y[j]>=full_x[j], full_y[i]<=-full_x[i]+70, full_y[j]<=-full_x[j]+70]), # city 2\n",
    "        all([full_y[i]<=35, full_y[j]<=35, full_y[i]<=full_x[i], full_y[j]<=full_x[j]])  # city 3\n",
    "        ]): \n",
    "            full_pref_mat[i][j] = 0.5*np.hypot(full_x[i]-full_x[j], full_y[i]-full_y[j])\n",
    "        else:\n",
    "            full_pref_mat[i][j] = 1.5*np.hypot(full_x[i]-full_x[j], full_y[i]-full_y[j])\n",
    "            \n",
    "# compute for pure distance solutions\n",
    "\n",
    "dist_sols = []\n",
    "for i in range(len(hist_stops)):\n",
    "    print(\"Pure distance solution. Solving instance\", i, end=\"\\r\")\n",
    "    dist_sols.append(solve_vrp(hist_stops[i], full_dist_mat[np.ix_(hist_stops[i], hist_stops[i])].astype(int), 3, 3))\n",
    "print(\"Pure distance solutions solved.\")\n",
    "\n",
    "# compute for preferred solutions with added counterclockwise preference\n",
    "# planner preference is to have one vehicle/route per city, \n",
    "# and also for the routes to be in a counterclockwise direction\n",
    "\n",
    "pref_sols_temp = []\n",
    "for i in range(len(hist_stops)):\n",
    "    print(\"User-preferred solution. Solving instance\", i, end=\"\\r\")\n",
    "    pref_sols_temp.append(solve_vrp(hist_stops[i], full_pref_mat[np.ix_(hist_stops[i], hist_stops[i])].astype(int), 3, 3))\n",
    "print(\"User-preferred solutions solved.\")\n",
    "    \n",
    "def angle_between(p1, p2):\n",
    "    ang1 = np.arctan2(*p1[::-1])\n",
    "    ang2 = np.arctan2(*p2[::-1])\n",
    "    return np.rad2deg((ang1 - ang2) % (2 * np.pi))\n",
    "\n",
    "# add counterclockwise preference\n",
    "pref_sols = []\n",
    "for i in range(len(pref_sols_temp)):\n",
    "    current_routing = pref_sols_temp[i]\n",
    "    rev_routing = []\n",
    "    for route in current_routing:\n",
    "        entry_pt = (full_x[route[1]]-35, full_y[route[1]]-35)\n",
    "        exit_pt = (full_x[route[-2]]-35, full_y[route[-2]]-35)\n",
    "        if angle_between(entry_pt, exit_pt) < angle_between(exit_pt, entry_pt) :\n",
    "            route = route[::-1]\n",
    "        rev_routing.append(route)\n",
    "    pref_sols.append(rev_routing)"
   ]
  },
  {
   "cell_type": "markdown",
   "metadata": {},
   "source": [
    "### Learning from historical data\n",
    "\n",
    "Markovian approach: learn transition probability matrix from historical solutions  \n",
    "then use matrix to find the maximum likelihood routing"
   ]
  },
  {
   "cell_type": "code",
   "execution_count": 6,
   "metadata": {},
   "outputs": [],
   "source": [
    "def flatten(something):\n",
    "    if isinstance(something, (list, tuple, set, range)):\n",
    "        for sub in something:\n",
    "            yield from flatten(sub)\n",
    "    else:\n",
    "        yield something\n",
    "        \n",
    "def create_pmatrix(num_of_allstops, historical_solutions, test_inst_stops):\n",
    "    \n",
    "    # num_of_allstops includes depot\n",
    "    mat_dim = num_of_allstops\n",
    "    freq_matrix = np.zeros((mat_dim, mat_dim))\n",
    "\n",
    "    for (i, data_inst) in enumerate(historical_solutions):\n",
    "        \n",
    "        set_tt = set(flatten(test_inst_stops))\n",
    "        set_tr = set(flatten(data_inst))\n",
    "        \n",
    "        weight = 1 # uniform weights\n",
    "#         weight = 0.7*(1-0.7)**(len(historical_solutions)-(i+1)) # exponential weights\n",
    "#         weight = (len(set_tt.intersection(set_tr))/len(set(set_tt).union(set_tr)))**2 # similarity-based weights\n",
    "    \n",
    "#     for data_inst in historical_solutions:\n",
    "        for route in data_inst:\n",
    "            for i in range(len(route)-1):\n",
    "                freq_matrix[route[i]][route[i+1]] += weight\n",
    "\n",
    "    proba_matrix = freq_matrix[np.ix_(test_inst_stops, test_inst_stops)]\n",
    "    proba_matrix = proba_matrix + 1 # smoothing\n",
    "    proba_matrix = proba_matrix/proba_matrix.sum(axis=-1,keepdims=True) # normalization\n",
    "    proba_matrix = -np.log(proba_matrix) # take negative logarithm\n",
    "    \n",
    "    return proba_matrix\n",
    "\n",
    "def routing_distance(given_routing, full_dist_mat):\n",
    "    total_dist = 0\n",
    "    for route in given_routing:\n",
    "        for i in range(len(route)-1):\n",
    "            total_dist += full_dist_mat[route[i]][route[i+1]]\n",
    "    return total_dist"
   ]
  },
  {
   "cell_type": "markdown",
   "metadata": {},
   "source": [
    "### Evaluation/Testing"
   ]
  },
  {
   "cell_type": "code",
   "execution_count": 7,
   "metadata": {},
   "outputs": [],
   "source": [
    "# mixing_parameter takes a value between [0,1]\n",
    "# measure of how much to weight distances versus preferences\n",
    "# choose 0 to get pure distance solutions; 1 for pure preferences\n",
    "\n",
    "mixing_parameter = 0.2"
   ]
  },
  {
   "cell_type": "code",
   "execution_count": 8,
   "metadata": {},
   "outputs": [
    {
     "name": "stderr",
     "output_type": "stream",
     "text": [
      "C:\\Users\\rocs_\\Anaconda3\\lib\\site-packages\\ipykernel_launcher.py:12: RuntimeWarning: divide by zero encountered in true_divide\n",
      "  if sys.path[0] == '':\n",
      "C:\\Users\\rocs_\\Anaconda3\\lib\\site-packages\\ipykernel_launcher.py:15: RuntimeWarning: divide by zero encountered in log\n",
      "  from ipykernel import kernelapp as app\n"
     ]
    }
   ],
   "source": [
    "hist_len = len(pref_sols)\n",
    "n_test = 20\n",
    "\n",
    "df_mixed_results = pd.DataFrame(columns = ['Instance','Target','Solution'])\n",
    "\n",
    "for x in range(hist_len-n_test, hist_len):\n",
    "    \n",
    "    arc_proba_mat = create_pmatrix(len(full_x), pref_sols[:x], hist_stops[x])\n",
    "    \n",
    "    dist_proba_mat = full_dist_mat[np.ix_(hist_stops[x], hist_stops[x])] \n",
    "    dist_proba_mat = dist_proba_mat/dist_proba_mat.sum(axis=1, keepdims=1)\n",
    "    dist_proba_mat = 1/dist_proba_mat\n",
    "    dist_proba_mat[~np.isfinite(dist_proba_mat)] = 0\n",
    "    dist_proba_mat = dist_proba_mat/dist_proba_mat.sum(axis=1, keepdims=1)\n",
    "    dist_proba_mat = -np.log(dist_proba_mat)\n",
    "    dist_proba_mat[dist_proba_mat==np.inf] = 0\n",
    "    dist_proba_mat[dist_proba_mat==0] = 2*np.max(dist_proba_mat)\n",
    "        \n",
    "    mixed_mat = (100*(mixing_parameter*arc_proba_mat + (1-mixing_parameter)*dist_proba_mat)).astype(int)\n",
    "    \n",
    "    test_solution = solve_vrp(hist_stops[x], mixed_mat, 3, 3)\n",
    "    \n",
    "    df_mixed_results.loc[len(df_mixed_results)] = [x, pref_sols[x], test_solution]"
   ]
  },
  {
   "cell_type": "code",
   "execution_count": 9,
   "metadata": {},
   "outputs": [
    {
     "data": {
      "image/png": "[encoded data removed]",
      "text/plain": [
       "<Figure size 1368x432 with 3 Axes>"
      ]
     },
     "metadata": {
      "needs_background": "light"
     },
     "output_type": "display_data"
    }
   ],
   "source": [
    "df_idx = 1 # choose test instance number (between [0,19]) to visualize\n",
    "\n",
    "hist_idx = df_mixed_results['Instance'][df_idx]\n",
    "\n",
    "plt.figure(figsize=(19,6))\n",
    "\n",
    "# sp1\n",
    "plt.subplot(131).set_title(f\"Target Solution\"\n",
    "                           \"\\n\"\n",
    "                           f\"Total Distance: {routing_distance(df_mixed_results['Target'][df_idx], full_dist_mat)}\")\n",
    "plot_routing(df_mixed_results['Target'][df_idx], hist_idx, hist_stops, full_x, full_y)\n",
    "\n",
    "# sp2\n",
    "plt.subplot(132).set_title(f\"Pure Distance Solution\"\n",
    "                           \"\\n\"\n",
    "                           f\"Total Distance: {routing_distance(dist_sols[hist_idx], full_dist_mat)}\")\n",
    "plot_routing(dist_sols[hist_idx], hist_idx, hist_stops, full_x, full_y)\n",
    "\n",
    "# sp3\n",
    "plt.subplot(133).set_title(f\"Markov Solution\"\n",
    "                           \"\\n\"\n",
    "                           f\"Total Distance: {routing_distance(df_mixed_results['Solution'][df_idx], full_dist_mat)}\")\n",
    "plot_routing(df_mixed_results['Solution'][df_idx], hist_idx, hist_stops, full_x, full_y)"
   ]
  }
 ],
 "metadata": {
  "kernelspec": {
   "display_name": "Python 3",
   "language": "python",
   "name": "python3"
  },
  "language_info": {
   "codemirror_mode": {
    "name": "ipython",
    "version": 3
   },
   "file_extension": ".py",
   "mimetype": "text/x-python",
   "name": "python",
   "nbconvert_exporter": "python",
   "pygments_lexer": "ipython3",
   "version": "3.7.4"
  }
 },
 "nbformat": 4,
 "nbformat_minor": 2
}
