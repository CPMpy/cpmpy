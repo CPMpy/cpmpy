{
 "cells": [
  {
   "cell_type": "markdown",
   "metadata": {},
   "source": [
    "# VRP by learning from historical data\n",
    "\n",
    "In the Vehicle Routing Problem (VRP), the goal is to find a closed path of minimal length   \n",
    "for a fleet of vehicles visiting a set of locations.  \n",
    "If there is only ***one*** vehicle, the problem reduces to the TSP.  \n",
    "\n",
    "In this example, we will:\n",
    "\n",
    "1. Show how CPMpy can be used to solve a given VRP instance\n",
    "2. Create historical instances\n",
    "3. Simulate the hidden preferences of a route planner\n",
    "4. Using (3), compute the user-preferred routing for each instance\n",
    "5. Learn/train a model from the user-preferred routings (\"historical data\")\n",
    "6. Apply learned model to a chosen test instance \n",
    "7. Visualize and compare model prediction against user-preferred and distance-based solution"
   ]
  },
  {
   "cell_type": "code",
   "execution_count": 1,
   "metadata": {},
   "outputs": [],
   "source": [
    "# import libraries\n",
    "\n",
    "import random\n",
    "import pandas as pd\n",
    "import numpy as np\n",
    "import matplotlib.pyplot as plt\n",
    "import matplotlib.patches as patches\n",
    "from matplotlib.patches import Polygon\n",
    "\n",
    "from cpmpy import *"
   ]
  },
  {
   "cell_type": "markdown",
   "metadata": {},
   "source": [
    "### CPMpy VRP Model"
   ]
  },
  {
   "cell_type": "code",
   "execution_count": 2,
   "metadata": {},
   "outputs": [],
   "source": [
    "def solve_vrp(stops, distance_matrix, n_vehicle, q):\n",
    "    \n",
    "    n_city = len(stops)\n",
    "\n",
    "    demand = [1 for i in range(len(stops))]\n",
    "    \n",
    "    x = intvar(0, 1, shape=distance_matrix.shape)   # x[i,j] = 1 means that a vehicle goes from node i to node j \n",
    "    y = intvar(0, q, shape=distance_matrix.shape)   # y[i,j] is a flow of load through arc (i,j)\n",
    "    \n",
    "    model = Model(\n",
    "        sum(x[0,:]) == n_vehicle,                   # constraint on number of vehicles (from depot)\n",
    "         \n",
    "        [sum(x[i,:])==1 for i in range(1,n_city)],  # vehicle leaves and enter each node i exactly once\n",
    "        [sum(x[:,i])==1 for i in range(1,n_city)],\n",
    "        \n",
    "        [sum(x[i,i] for i in range(n_city))==0],    # no self visits\n",
    "\n",
    "        # from depot takes no load\n",
    "        sum(y[0,:]) == 0,\n",
    "        # flow out of node i through all outgoing arcs is equal to \n",
    "        # flow into node i through all ingoing arcs + load capacity @ node i\n",
    "        [sum(y[i,:])==sum(y[:,i])+demand[i] for i in range(1,n_city)],\n",
    "    )\n",
    "    \n",
    "    # capacity constraint at each node (conditional on visit)\n",
    "    for i in range(n_city):\n",
    "        for j in range(n_city):\n",
    "            model += y[i,j] <= q*x[i,j]\n",
    "            \n",
    "    # the objective is to minimze the travelled distance \n",
    "    # sum(x*dist) does not work because 2D array, use .sum()\n",
    "    model.minimize((x*distance_matrix).sum())\n",
    "    \n",
    "    model.solve()\n",
    "    \n",
    "    sol = x.value()\n",
    "        \n",
    "    return sol"
   ]
  },
  {
   "cell_type": "markdown",
   "metadata": {},
   "source": [
    "### Example solution for one VRP instance"
   ]
  },
  {
   "cell_type": "code",
   "execution_count": 3,
   "metadata": {},
   "outputs": [
    {
     "name": "stdout",
     "output_type": "stream",
     "text": [
      "Solution as a Boolean matrix:\n",
      "\n",
      " [[0 0 0 1 0 1 0 1 0]\n",
      " [1 0 0 0 0 0 0 0 0]\n",
      " [0 0 0 0 1 0 0 0 0]\n",
      " [0 0 1 0 0 0 0 0 0]\n",
      " [1 0 0 0 0 0 0 0 0]\n",
      " [0 1 0 0 0 0 0 0 0]\n",
      " [0 0 0 0 0 0 0 0 1]\n",
      " [0 0 0 0 0 0 1 0 0]\n",
      " [1 0 0 0 0 0 0 0 0]]\n",
      "\n",
      "Solution converted to a routing:  [[0, 3, 2, 4, 0], [0, 5, 1, 0], [0, 7, 6, 8, 0]]\n"
     ]
    }
   ],
   "source": [
    "# x and y coordinates of one instance\n",
    "inst_stops  = [ 0,  1,  2,  3,  4,  5,  6,  7,  8] \n",
    "inst_x      = [35, 55, 15, 25, 10, 41, 15, 30, 10]\n",
    "inst_y      = [35, 45, 30, 30, 43, 49, 10, 25, 20]\n",
    "\n",
    "dist_matrix = np.hypot(np.array([inst_x])-np.array([inst_x]).T, np.array([inst_y])-np.array([inst_y]).T).astype(int)\n",
    "\n",
    "inst_sol = solve_vrp(inst_stops, dist_matrix, 3, 3)\n",
    "print(\"Solution as a Boolean matrix:\\n\\n\", inst_sol)\n",
    "\n",
    "def route_tolist(stops, sol):    \n",
    "    firsts = np.where(sol[0]==1)[0]\n",
    "    routing = []\n",
    "    for i in range(len(firsts)):\n",
    "        temp_route = [0, firsts[i]]\n",
    "        while temp_route[-1] != 0:\n",
    "            temp_route.append(np.where(sol[temp_route[-1]]==1)[0][0])\n",
    "        route = [stops[k] for k in temp_route]\n",
    "        routing.append(route)\n",
    "    return routing\n",
    "\n",
    "print(\"\\nSolution converted to a routing: \", route_tolist(inst_stops, inst_sol))"
   ]
  },
  {
   "cell_type": "markdown",
   "metadata": {},
   "source": [
    "### Visualization of preferences\n",
    "\n",
    "Entire delivery area is divided into three cities; planner preference is to assign one vehicle per city."
   ]
  },
  {
   "cell_type": "code",
   "execution_count": 4,
   "metadata": {},
   "outputs": [
    {
     "data": {
      "image/png": "[encoded data removed]",
      "text/plain": [
       "<Figure size 360x360 with 1 Axes>"
      ]
     },
     "metadata": {
      "needs_background": "light"
     },
     "output_type": "display_data"
    }
   ],
   "source": [
    "def plot_routing(routing_to_map, instance_num, hist_stops, full_x, full_y):\n",
    "    \n",
    "    y1 = np.array([[0,0], [0,70], [35,35]])\n",
    "    y2 = np.array([[35,35], [0,70], [70,70], [70,35]])\n",
    "    y3 = np.array([[35,35], [70,35], [70,0], [0,0]])\n",
    "    p1 = Polygon(y1, facecolor = 'y', alpha = 0.2)\n",
    "    p2 = Polygon(y2, facecolor = 'b', alpha = 0.2)\n",
    "    p3 = Polygon(y3, facecolor = 'r', alpha = 0.2 )\n",
    "    plt.gca().add_patch(p1)\n",
    "    plt.gca().add_patch(p2)\n",
    "    plt.gca().add_patch(p3)\n",
    "\n",
    "    style = 'Simple, tail_width=0.5, head_width=10, head_length=6'\n",
    "    loc_x = []\n",
    "    loc_y = []\n",
    "    for i in range(len(hist_stops[instance_num])):\n",
    "        loc_x.append(full_x[hist_stops[instance_num][i]])\n",
    "        loc_y.append(full_y[hist_stops[instance_num][i]])\n",
    "\n",
    "    plt.scatter(loc_x[1:], loc_y[1:])\n",
    "\n",
    "    for route in routing_to_map:\n",
    "        for i in range(len(route)-1):\n",
    "            m = list(hist_stops[instance_num]).index(route[i])\n",
    "            n = list(hist_stops[instance_num]).index(route[i+1])\n",
    "            plt.gca().add_patch(patches.FancyArrowPatch((loc_x[m], loc_y[m]), (loc_x[n], loc_y[n]), \n",
    "                    connectionstyle=\"arc3,rad=0.1\", arrowstyle=style, color='gray', alpha=0.8))\n",
    "    for i in range(len(hist_stops[instance_num])):\n",
    "        plt.annotate(hist_stops[instance_num][i], (loc_x[i]+0.5, loc_y[i]+0.5), fontsize=11, alpha=0.6)\n",
    "        # show depot (red square)\n",
    "    plt.plot(loc_x[0], loc_y[0], c = 'r', marker = 's')\n",
    "    plt.axis('equal');\n",
    "    \n",
    "plt.figure(figsize=(5,5))\n",
    "plot_routing([[0]], 0, [[0]] , [35], [35])"
   ]
  },
  {
   "cell_type": "markdown",
   "metadata": {},
   "source": [
    "### Data generation"
   ]
  },
  {
   "cell_type": "code",
   "execution_count": 5,
   "metadata": {},
   "outputs": [
    {
     "data": {
      "text/plain": [
       "[[0, 13, 14, 8, 5, 3, 4, 2, 9],\n",
       " [0, 9, 10, 4, 8, 2, 7, 13, 12],\n",
       " [0, 6, 9, 12, 11, 3, 10, 8, 13],\n",
       " [0, 8, 9, 11, 3, 6, 16, 7, 1],\n",
       " [0, 12, 6, 11, 2, 13, 14, 8, 9]]"
      ]
     },
     "execution_count": 5,
     "metadata": {},
     "output_type": "execute_result"
    }
   ],
   "source": [
    "# x and y coordinates of all available stops\n",
    "full_x = [35, 41, 35, 55, 55, 15, 25, 20, 10, 55, 30, 20, 50, 30, 15, 30, 10]\n",
    "full_y = [35, 49, 17, 45, 20, 30, 30, 50, 43, 60, 60, 65, 35, 25, 10,  5, 20]\n",
    "\n",
    "# generate hist_length instances for training and testing by sampling from all available stops\n",
    "# each instance is of length num_of_stops\n",
    "# Gaussian sampling is used to simulate real-life situations where companies have both regular and irregular clients\n",
    "\n",
    "hist_length = 150\n",
    "num_of_stops = 8\n",
    "\n",
    "hist_stops = []\n",
    "random.seed(1)\n",
    "for i in range(hist_length):\n",
    "    init_list = []\n",
    "    while len(init_list) < num_of_stops:\n",
    "        sample = int(random.gauss(len(full_x)/2, len(full_x)/4))\n",
    "        if sample > 0 and sample < len(full_x) and sample not in init_list:\n",
    "            init_list.append(sample)\n",
    "    init_list.insert(0,0)\n",
    "    hist_stops.append(init_list)\n",
    "\n",
    "hist_stops[:5]"
   ]
  },
  {
   "cell_type": "markdown",
   "metadata": {},
   "source": [
    "### Computing for user-preferred solutions\n",
    "\n",
    "This step will create the historical data; data will be used to train the model."
   ]
  },
  {
   "cell_type": "code",
   "execution_count": 6,
   "metadata": {},
   "outputs": [
    {
     "name": "stdout",
     "output_type": "stream",
     "text": [
      "User-preferred solutions solved. instance 149 27 108\n"
     ]
    },
    {
     "data": {
      "text/plain": [
       "[[[0, 14, 2, 4, 0], [0, 8, 5, 13, 0], [0, 3, 9, 0]],\n",
       " [[0, 4, 12, 9, 0], [0, 10, 7, 8, 0], [0, 13, 2, 0]],\n",
       " [[0, 12, 3, 9, 0], [0, 10, 11, 0], [0, 8, 6, 13, 0]],\n",
       " [[0, 11, 7, 8, 0], [0, 6, 16, 0], [0, 3, 9, 1, 0]],\n",
       " [[0, 12, 9, 11, 0], [0, 13, 14, 2, 0], [0, 8, 6, 0]]]"
      ]
     },
     "execution_count": 6,
     "metadata": {},
     "output_type": "execute_result"
    }
   ],
   "source": [
    "# create full distance matrix\n",
    "# distance matrix is needed to compute for pure distance (traditional software) solution\n",
    "\n",
    "full_dist_mat = np.hypot(np.array([full_x])-np.array([full_x]).T, np.array([full_y])-np.array([full_y]).T)\n",
    "        \n",
    "# create full preference matrix\n",
    "# the goal of this step is to simulate the \"hidden\" preferences of the route planners\n",
    "\n",
    "full_pref_mat = np.empty((len(full_dist_mat), len(full_dist_mat)))\n",
    "for i in range(len(full_pref_mat)):\n",
    "    for j in range(len(full_pref_mat)):\n",
    "        if any([\n",
    "        all([full_y[i]>=35, full_y[j]>=35, full_y[i]>=-full_x[i]+70, full_y[j]>=-full_x[j]+70]), # city 1\n",
    "        all([full_y[i]>=full_x[i], full_y[j]>=full_x[j], full_y[i]<=-full_x[i]+70, full_y[j]<=-full_x[j]+70]), # city 2\n",
    "        all([full_y[i]<=35, full_y[j]<=35, full_y[i]<=full_x[i], full_y[j]<=full_x[j]])  # city 3\n",
    "        ]): \n",
    "            full_pref_mat[i][j] = 0.5*np.hypot(full_x[i]-full_x[j], full_y[i]-full_y[j])\n",
    "        else:\n",
    "            full_pref_mat[i][j] = 1.5*np.hypot(full_x[i]-full_x[j], full_y[i]-full_y[j])\n",
    "            \n",
    "# compute for preferred solutions with added counterclockwise preference\n",
    "# planner preference is to have one vehicle/route per city, \n",
    "# and also for the routes to be in a counterclockwise direction\n",
    "\n",
    "pref_sols_temp = []\n",
    "for i in range(len(hist_stops)):\n",
    "    print(\"User-preferred solution. Solving instance\", i, end=\"\\r\")\n",
    "    pref_inst_sol = solve_vrp(hist_stops[i], full_pref_mat[np.ix_(hist_stops[i], hist_stops[i])].astype(int), 3, 3)\n",
    "    pref_sols_temp.append([route_tolist(hist_stops[i], pref_inst_sol), pref_inst_sol])\n",
    "print(\"User-preferred solutions solved.\")\n",
    "    \n",
    "def angle_between(p1, p2):\n",
    "    ang1 = np.arctan2(*p1[::-1])\n",
    "    ang2 = np.arctan2(*p2[::-1])\n",
    "    return np.rad2deg((ang1 - ang2) % (2 * np.pi))\n",
    "\n",
    "# add counterclockwise preference\n",
    "pref_sols = []\n",
    "for i in range(len(pref_sols_temp)):\n",
    "    current_routing = pref_sols_temp[i][0]\n",
    "    rev_routing = []\n",
    "    for route in current_routing:\n",
    "        entry_pt = (full_x[route[1]]-35, full_y[route[1]]-35)\n",
    "        exit_pt = (full_x[route[-2]]-35, full_y[route[-2]]-35)\n",
    "        if angle_between(entry_pt, exit_pt) < angle_between(exit_pt, entry_pt) :\n",
    "            route = route[::-1]\n",
    "        rev_routing.append(route)\n",
    "    pref_sols.append(rev_routing)\n",
    "    \n",
    "pref_sols[:5]"
   ]
  },
  {
   "cell_type": "markdown",
   "metadata": {},
   "source": [
    "### Learning from historical data\n",
    "\n",
    "Markovian approach: learn transition probability matrix from historical solutions  \n",
    "then use matrix to find the maximum likelihood routing."
   ]
  },
  {
   "cell_type": "code",
   "execution_count": 7,
   "metadata": {},
   "outputs": [],
   "source": [
    "def flatten(something):\n",
    "    if isinstance(something, (list, tuple, set, range)):\n",
    "        for sub in something:\n",
    "            yield from flatten(sub)\n",
    "    else:\n",
    "        yield something\n",
    "        \n",
    "def create_pmatrix(num_of_allstops, historical_solutions, test_inst_stops):\n",
    "    \n",
    "    # num_of_allstops includes depot\n",
    "    mat_dim = num_of_allstops\n",
    "    freq_matrix = np.zeros((mat_dim, mat_dim))\n",
    "\n",
    "    for (i, data_inst) in enumerate(historical_solutions):\n",
    "        \n",
    "        weight = 1 # uniform weights\n",
    "\n",
    "        for route in data_inst:\n",
    "            for i in range(len(route)-1):\n",
    "                freq_matrix[route[i]][route[i+1]] += weight\n",
    "\n",
    "    proba_matrix = freq_matrix[np.ix_(test_inst_stops, test_inst_stops)]\n",
    "    proba_matrix = proba_matrix + 1 # smoothing\n",
    "    proba_matrix = proba_matrix/proba_matrix.sum(axis=-1,keepdims=True) # normalization\n",
    "    proba_matrix = -np.log(proba_matrix) # take negative logarithm\n",
    "    \n",
    "    return proba_matrix"
   ]
  },
  {
   "cell_type": "markdown",
   "metadata": {},
   "source": [
    "### Evaluation/Testing\n",
    "\n",
    "Here, we first select a test instance.  \n",
    "A model will be trained using all *previous* instances.  \n",
    "Test instance will be solved using trained model."
   ]
  },
  {
   "cell_type": "code",
   "execution_count": 8,
   "metadata": {},
   "outputs": [],
   "source": [
    "# mixing_parameter takes a value between [0,1]\n",
    "# measure of how much to weight distances versus preferences\n",
    "# choose 0 to get pure distance solutions; 1 for pure preferences\n",
    "\n",
    "mixing_parameter = 0.2\n",
    "\n",
    "# choose an instance between 130 to 149 to have sufficient data for training\n",
    "\n",
    "test_inst = 141"
   ]
  },
  {
   "cell_type": "code",
   "execution_count": 9,
   "metadata": {},
   "outputs": [
    {
     "name": "stderr",
     "output_type": "stream",
     "text": [
      "C:\\Users\\rocs_\\Anaconda3\\lib\\site-packages\\ipykernel_launcher.py:5: RuntimeWarning: divide by zero encountered in true_divide\n",
      "  \"\"\"\n",
      "C:\\Users\\rocs_\\Anaconda3\\lib\\site-packages\\ipykernel_launcher.py:8: RuntimeWarning: divide by zero encountered in log\n",
      "  \n"
     ]
    }
   ],
   "source": [
    "arc_proba_mat = create_pmatrix(len(full_x), pref_sols[:test_inst], hist_stops[test_inst])\n",
    "\n",
    "dist_proba_mat = full_dist_mat[np.ix_(hist_stops[test_inst], hist_stops[test_inst])] \n",
    "dist_proba_mat = dist_proba_mat/dist_proba_mat.sum(axis=1, keepdims=1)\n",
    "dist_proba_mat = 1/dist_proba_mat\n",
    "dist_proba_mat[~np.isfinite(dist_proba_mat)] = 0\n",
    "dist_proba_mat = dist_proba_mat/dist_proba_mat.sum(axis=1, keepdims=1)\n",
    "dist_proba_mat = -np.log(dist_proba_mat)\n",
    "dist_proba_mat[dist_proba_mat==np.inf] = 0\n",
    "dist_proba_mat[dist_proba_mat==0] = 2*np.max(dist_proba_mat)\n",
    "\n",
    "mixed_mat = (100*(mixing_parameter*arc_proba_mat + (1-mixing_parameter)*dist_proba_mat)).astype(int)\n",
    "\n",
    "test_sol = solve_vrp(hist_stops[test_inst], mixed_mat, 3, 3)"
   ]
  },
  {
   "cell_type": "markdown",
   "metadata": {},
   "source": [
    "### Visualization and comparison of results"
   ]
  },
  {
   "cell_type": "code",
   "execution_count": 10,
   "metadata": {},
   "outputs": [
    {
     "data": {
      "image/png": "[encoded data removed]",
      "text/plain": [
       "<Figure size 1368x432 with 3 Axes>"
      ]
     },
     "metadata": {
      "needs_background": "light"
     },
     "output_type": "display_data"
    }
   ],
   "source": [
    "dist_sol = solve_vrp(hist_stops[test_inst], \n",
    "                     full_dist_mat[np.ix_(hist_stops[test_inst], hist_stops[test_inst])].astype(int), 3, 3)\n",
    "\n",
    "plt.figure(figsize=(19,6))\n",
    "\n",
    "# sp1\n",
    "plt.subplot(131).set_title(f\"Target Solution \\n\"\n",
    "            f\"Total Distance: {(pref_sols_temp[test_inst][1]*full_dist_mat[np.ix_(hist_stops[test_inst], hist_stops[test_inst])]).sum()}\")\n",
    "plot_routing(pref_sols[test_inst], test_inst, hist_stops, full_x, full_y)\n",
    "\n",
    "# sp2\n",
    "plt.subplot(132).set_title(f\"Pure Distance Solution \\n\"\n",
    "            f\"Total Distance: {(dist_sol*full_dist_mat[np.ix_(hist_stops[test_inst], hist_stops[test_inst])]).sum()}\")\n",
    "plot_routing(route_tolist(hist_stops[test_inst], dist_sol), test_inst, hist_stops, full_x, full_y)\n",
    "\n",
    "# sp3\n",
    "plt.subplot(133).set_title(f\"Markov Solution \\n\"\n",
    "            f\"Total Distance: {(test_sol*full_dist_mat[np.ix_(hist_stops[test_inst], hist_stops[test_inst])]).sum()}\")\n",
    "plot_routing(route_tolist(hist_stops[test_inst], test_sol), test_inst, hist_stops, full_x, full_y)"
   ]
  }
 ],
 "metadata": {
  "kernelspec": {
   "display_name": "Python 3",
   "language": "python",
   "name": "python3"
  },
  "language_info": {
   "codemirror_mode": {
    "name": "ipython",
    "version": 3
   },
   "file_extension": ".py",
   "mimetype": "text/x-python",
   "name": "python",
   "nbconvert_exporter": "python",
   "pygments_lexer": "ipython3",
   "version": "3.7.4"
  }
 },
 "nbformat": 4,
 "nbformat_minor": 2
}
