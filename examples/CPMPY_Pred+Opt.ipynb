{
 "cells": [
  {
   "cell_type": "code",
   "execution_count": null,
   "metadata": {},
   "outputs": [],
   "source": [
    "from cpmpy import *\n",
    "## torch for training neural network\n",
    "import torch\n",
    "from torch import nn, optim\n",
    "import torch.utils.data as data_utils\n",
    "import numpy as np\n",
    "import pandas as pd\n",
    "## sklean module for data transforming and model running\n",
    "from sklearn.preprocessing import StandardScaler\n",
    "from sklearn.metrics import mean_squared_error as mse\n",
    "from sklearn.model_selection import cross_validate\n",
    "from sklearn.metrics import make_scorer\n",
    "import sklearn\n",
    "#seaborn for creating nice plot\n",
    "import seaborn as sns\n",
    "# sns.set_theme()\n",
    "sns.set_context(\"notebook\", font_scale=1.5, rc={\"lines.linewidth\": 2.5})\n",
    "import os"
   ]
  },
  {
   "cell_type": "code",
   "execution_count": 2,
   "metadata": {},
   "outputs": [],
   "source": [
    "if not os.path.exists('Data.npz'):\n",
    "    torch.hub.download_url_to_file(\"https://github.com/JayMan91/aaai_predit_then_optimize/raw/master/Data.npz\", \"Data.npz\")"
   ]
  },
  {
   "cell_type": "markdown",
   "metadata": {},
   "source": [
    "#### First we  load the data. We have training and test data."
   ]
  },
  {
   "cell_type": "code",
   "execution_count": 3,
   "metadata": {},
   "outputs": [
    {
     "name": "stdout",
     "output_type": "stream",
     "text": [
      "(26496, 8) (11376, 8)\n"
     ]
    }
   ],
   "source": [
    "data = np.load(\"Data.npz\")\n",
    "x_train,  x_test, y_train,y_test = data['X_1gtrain'],data['X_1gtest'],data['y_train'],data['y_test']\n",
    "x_train = x_train[:,1:]\n",
    "x_test = x_test[:,1:]\n",
    "print(x_train.shape,x_test.shape)"
   ]
  },
  {
   "cell_type": "markdown",
   "metadata": {},
   "source": [
    "#### 8 features: HolidayFlag, DayOfWeek, WeekOfYear, Month, ForecastWindProduction, Forecasted SystemLoad,  Forecasted Energy price, Forecasted CO2Intensity\n",
    "#### And the predictor variable: Energy Price"
   ]
  },
  {
   "cell_type": "markdown",
   "metadata": {},
   "source": [
    "#### First we standardize the feature variables. We also reshape the data in groups of 48 so that each group is an instance."
   ]
  },
  {
   "cell_type": "code",
   "execution_count": 4,
   "metadata": {},
   "outputs": [
    {
     "name": "stdout",
     "output_type": "stream",
     "text": [
      "Number of instances in training (552, 48, 8) and testing (50, 48, 8)\n"
     ]
    }
   ],
   "source": [
    "scaler = StandardScaler()\n",
    "x_train = scaler.fit_transform(x_train)\n",
    "x_test = scaler.transform(x_test)\n",
    "x_train = x_train.reshape(-1,48,x_train.shape[1])\n",
    "y_train = y_train.reshape(-1,48)\n",
    "x_test = x_test.reshape(-1,48,x_test.shape[1])\n",
    "y_test = y_test.reshape(-1,48)\n",
    "x_test = x_test[:50]\n",
    "y_test = y_test[:50]\n",
    "print(\"Number of instances in training {} and testing {}\".format(x_train.shape, x_test.shape))\n",
    "## we now randomize the training and test data\n",
    "x = np.concatenate((x_train, x_test), axis=0)\n",
    "y = np.concatenate((y_train,y_test), axis=0)\n",
    "x,y = sklearn.utils.shuffle(x,y,random_state=0)"
   ]
  },
  {
   "cell_type": "markdown",
   "metadata": {},
   "source": [
    "#### As we see, we have 552 training instances and test on 50 instances."
   ]
  },
  {
   "cell_type": "markdown",
   "metadata": {},
   "source": [
    "### We will use this data in the context of knapsack problem. The predicted  Energy Price forms the value of knapsack. In our setup, each knapsack instance consists of 48 items. "
   ]
  },
  {
   "cell_type": "code",
   "execution_count": 5,
   "metadata": {},
   "outputs": [
    {
     "name": "stdout",
     "output_type": "stream",
     "text": [
      "240\n"
     ]
    }
   ],
   "source": [
    "weights = [data['weights'].tolist()]\n",
    "weights = np.array(weights)\n",
    "n_items = 48\n",
    "capacity = 60\n",
    "print(np.sum(weights))"
   ]
  },
  {
   "cell_type": "markdown",
   "metadata": {},
   "source": [
    "### The weights are the costs of each item. The weights are kept same for each instance. The summation of 48 weights are 240. The knapsack capacity in this example is 60"
   ]
  },
  {
   "cell_type": "markdown",
   "metadata": {},
   "source": [
    "## Now, first write the knpacak solver on CPMPY"
   ]
  },
  {
   "cell_type": "markdown",
   "metadata": {},
   "source": [
    "#### Now we create an wrapper object, which repeatedly solve the knapsack problem where the cost are fed as pytorch tensor"
   ]
  },
  {
   "cell_type": "code",
   "execution_count": 6,
   "metadata": {},
   "outputs": [],
   "source": [
    "class problem_solver:\n",
    "    def __init__(self,weights,capacity,n_items):\n",
    "        self.weights = weights\n",
    "        self.capacity =  capacity\n",
    "        self.n_items = n_items\n",
    "        self.x = boolvar(shape=n_items, name=\"x\")\n",
    "        self.model = Model(sum(self.x*weights[0]) <= capacity)\n",
    "        \n",
    "    def solve_knapsack(self,cost):\n",
    "        cost_ = (1000*cost).astype(int)\n",
    "        # We have to convert the cost variable into integer, as ORtools only accepts integer variable\n",
    "        self.model.maximize((self.x*cost_).sum())\n",
    "        self.model.solve()\n",
    "        return self.x.value()\n",
    "        \n",
    "        \n",
    "    def solve_from_pytorch(self,cost_inpytorch):\n",
    "        # cost_inpytorch is a pytorch tensor object\n",
    "        cost_ = cost_inpytorch.detach().numpy()\n",
    "        x = self.solve_knapsack(cost_)\n",
    "        return torch.from_numpy(x).float()"
   ]
  },
  {
   "cell_type": "markdown",
   "metadata": {},
   "source": [
    "### Next, we create a solver instance with the specified weights and capacity"
   ]
  },
  {
   "cell_type": "code",
   "execution_count": 7,
   "metadata": {},
   "outputs": [],
   "source": [
    "knapsack_solver = problem_solver(weights,capacity,n_items)"
   ]
  },
  {
   "cell_type": "markdown",
   "metadata": {},
   "source": [
    "### The desirable goal to minimze the regret,\n",
    "### Regret is the loss in the objective value for using the solution of predicted value rather than the solution of true value (which we do not know).\n"
   ]
  },
  {
   "cell_type": "markdown",
   "metadata": {},
   "source": [
    "### If $c$ are the true values and $\\hat{c}$ are the predicted values and $w^\\star(c)$ and $w^\\star(\\hat{c})$ are their solutions. \n",
    "### Then regret $=c^\\top( w^\\star(c) -w^\\star(\\hat{c}) )$"
   ]
  },
  {
   "cell_type": "code",
   "execution_count": 8,
   "metadata": {},
   "outputs": [],
   "source": [
    "## A function to compute regret\n",
    "def regret_score(y,y_pred):\n",
    "        total_loss =0 \n",
    "        for i in range(len(y)):\n",
    "            sol_true = knapsack_solver.solve_knapsack(y[i])\n",
    "            sol = knapsack_solver.solve_knapsack(y_pred[i])\n",
    "            total_loss +=  ((sol_true - sol).dot(y[i]))\n",
    "        return total_loss/len(y)"
   ]
  },
  {
   "cell_type": "markdown",
   "metadata": {},
   "source": [
    "#### We will use the sklearn module for model training and scoring. For that we need a scoring function which will compute average regret of the instances. "
   ]
  },
  {
   "cell_type": "code",
   "execution_count": 9,
   "metadata": {},
   "outputs": [],
   "source": [
    "@torch.no_grad()\n",
    "def score_fucn(model,X,y):\n",
    "    model.eval()\n",
    "    y_pred = model(torch.from_numpy(X).float()).squeeze()\n",
    "    regret = regret_score(y,y_pred)\n",
    "    model.train()\n",
    "    return regret"
   ]
  },
  {
   "cell_type": "markdown",
   "metadata": {},
   "source": [
    "#### We will also need a dataloder module, which will segregate the training data into batches"
   ]
  },
  {
   "cell_type": "code",
   "execution_count": 10,
   "metadata": {},
   "outputs": [],
   "source": [
    "class Dataloader():\n",
    "    def __init__(self, X,y):\n",
    "        self.X = X.astype(np.float32)\n",
    "        self.y = y.astype(np.float32)\n",
    "\n",
    "        \n",
    "        sol = []\n",
    "        for i in range(len(y)):\n",
    "            x_sol = knapsack_solver.solve_knapsack(y[i])            \n",
    "            sol.append( x_sol)\n",
    "        self.sol = np.array(sol)\n",
    "        \n",
    "    def __len__(self):\n",
    "        return len(self.y)\n",
    "    \n",
    "    def __getitem__(self, idx):\n",
    "        return  self.X[idx],self.y[idx],self.sol[idx]"
   ]
  },
  {
   "cell_type": "markdown",
   "metadata": {},
   "source": [
    "## Two-stage Regression Model"
   ]
  },
  {
   "cell_type": "code",
   "execution_count": 11,
   "metadata": {},
   "outputs": [],
   "source": [
    "class reg:\n",
    "    def __init__(self, net = nn.Linear(8,1),\n",
    "                 epochs=8,optim=optim.Adam,batch_size=24,lr=1,**kwg):\n",
    "        self.net = net\n",
    "        self.epochs = epochs\n",
    "        self.batch_size = batch_size\n",
    "\n",
    "        self.kwg = kwg\n",
    "        self.optim = optim\n",
    "        self.lr = lr\n",
    "\n",
    "    def get_params(self, deep=True):\n",
    "        para_dict =  {\"net\": self.net, \"epochs\": self.epochs,\n",
    "        \"batch_size\":self.batch_size,\n",
    "        \"optim\":self.optim,\"lr\":self.lr}\n",
    "        return para_dict\n",
    "    def set_params(self, **parameters):\n",
    "        for parameter, value in parameters.items():\n",
    "            setattr(self, parameter, value)\n",
    "        return self\n",
    "\n",
    "    def fit(self,X,y):\n",
    "        self.model = self.net\n",
    "        self.optimizer = self.optim(self.model.parameters(),lr=self.lr, **self.kwg)\n",
    "        criterion = nn.MSELoss(reduction='mean')\n",
    "\n",
    "        train_df = Dataloader(X,y)\n",
    "        for e in range(self.epochs):\n",
    "            train_dl = data_utils.DataLoader(train_df, batch_size=self.batch_size,shuffle=True)\n",
    "            for x_train,y_train,sol_train in train_dl:\n",
    "                self.optimizer.zero_grad()\n",
    "                y_pred = self.model(x_train).squeeze()\n",
    "                loss= criterion(y_pred,y_train)\n",
    "                loss.retain_grad()\n",
    "                y_pred.retain_grad()\n",
    "                loss.backward()                \n",
    "                self.optimizer.step()\n",
    "\n",
    "    def score(self,X,y):\n",
    "        return score_fucn(self.model,X,y)\n",
    "\n",
    "    def predict(self,X):\n",
    "        self.model.eval()\n",
    "        y_pred = self.model(torch.from_numpy(X).float()).squeeze()\n",
    "        self.model.train()\n",
    "        return y_pred.detach().numpy()        \n",
    "\n"
   ]
  },
  {
   "cell_type": "markdown",
   "metadata": {},
   "source": [
    "#### A wrapper module to to train and test multiple times. We will use the inbuilt cross_validate module to train and test `n_run` times."
   ]
  },
  {
   "cell_type": "code",
   "execution_count": 12,
   "metadata": {},
   "outputs": [],
   "source": [
    "def repeatrun(n_train, n_test,n_run=10):\n",
    "    i = 0\n",
    "    while i < n_run:\n",
    "        idx1 = np.arange(0, n_train , dtype=int)\n",
    "        idx2 = np.arange(n_train, n_train+n_test, dtype=int)\n",
    "        yield idx1, idx2\n",
    "        i += 1\n"
   ]
  },
  {
   "cell_type": "markdown",
   "metadata": {},
   "source": [
    "### Now we will run the two-stage model and save the regret and MSE  on test and train data\n",
    "#### We will be running for multiple epochs to form a leanring curve. So this will take some time."
   ]
  },
  {
   "cell_type": "code",
   "execution_count": null,
   "metadata": {},
   "outputs": [],
   "source": [
    "regression_df = pd.DataFrame()\n",
    "for epoch in range(1,11,2):\n",
    "    scoring = {'Regret': make_scorer(regret_score),\n",
    "                'MSE': make_scorer(mse)}\n",
    "    model = reg(optim=optim.SGD, epochs=epoch,lr= 0.01)\n",
    "    cv = repeatrun(len(y_train),len(y_test))\n",
    "    scores = cross_validate(model, x,y, scoring=scoring,cv=cv, return_train_score=True)\n",
    "    scores = pd.DataFrame.from_dict(scores)\n",
    "    scores['epoch'] = epoch\n",
    "    regression_df = regression_df.append(scores)\n",
    "regression_df['model'] =\"Two-stage\"\n",
    "regression_df.reset_index(inplace=True)\n"
   ]
  },
  {
   "cell_type": "markdown",
   "metadata": {},
   "source": [
    "####  load earlier result"
   ]
  },
  {
   "cell_type": "code",
   "execution_count": 13,
   "metadata": {},
   "outputs": [],
   "source": [
    "#regression_df.to_pickle('regression.pkl')\n",
    "regression_df = pd.read_pickle('regression.pkl')"
   ]
  },
  {
   "cell_type": "markdown",
   "metadata": {},
   "source": [
    "### First examine the learning curve"
   ]
  },
  {
   "cell_type": "code",
   "execution_count": 14,
   "metadata": {},
   "outputs": [
    {
     "data": {
      "text/plain": [
       "<matplotlib.axes._subplots.AxesSubplot at 0x7f5f574e2438>"
      ]
     },
     "execution_count": 14,
     "metadata": {},
     "output_type": "execute_result"
    },
    {
     "data": {
      "image/png": "[encoded data removed]",
      "text/plain": [
       "<Figure size 432x288 with 1 Axes>"
      ]
     },
     "metadata": {
      "needs_background": "light"
     },
     "output_type": "display_data"
    }
   ],
   "source": [
    "# This needs title: learning curve\n",
    "sns.lineplot(y='train_MSE', x='epoch',\n",
    "#                  markers=['o', 'v', 'D', 'P', 'X', 'h', 'H',  'd', '^', '8','<', '>', '*', 's', 'p',], \n",
    "                 dashes=False,legend=\"full\",data = regression_df)"
   ]
  },
  {
   "cell_type": "markdown",
   "metadata": {},
   "source": [
    "### The MSE is going down as expected"
   ]
  },
  {
   "cell_type": "code",
   "execution_count": 15,
   "metadata": {},
   "outputs": [
    {
     "data": {
      "text/plain": [
       "<matplotlib.axes._subplots.AxesSubplot at 0x7f5f4b581400>"
      ]
     },
     "execution_count": 15,
     "metadata": {},
     "output_type": "execute_result"
    },
    {
     "data": {
      "image/png": "[encoded data removed]",
      "text/plain": [
       "<Figure size 432x288 with 1 Axes>"
      ]
     },
     "metadata": {
      "needs_background": "light"
     },
     "output_type": "display_data"
    }
   ],
   "source": [
    "\n",
    "\n",
    "sns.lineplot(y='train_Regret', x='epoch',\n",
    "#                  markers=['o', 'v', 'D', 'P', 'X', 'h', 'H',  'd', '^', '8','<', '>', '*', 's', 'p',], \n",
    "                 dashes=False,legend=\"full\",data = regression_df)"
   ]
  },
  {
   "cell_type": "markdown",
   "metadata": {},
   "source": [
    "### But regret is going up"
   ]
  },
  {
   "cell_type": "markdown",
   "metadata": {},
   "source": [
    "## Smart Predict and Optimize Regression Model Model"
   ]
  },
  {
   "cell_type": "code",
   "execution_count": 16,
   "metadata": {},
   "outputs": [],
   "source": [
    "class SPO:\n",
    "    def __init__(self, net = nn.Linear(8,1),\n",
    "                 epochs=8,optim=optim.Adam,batch_size=24,lr=1,\n",
    "                 **kwg):\n",
    "        self.net = net\n",
    "        self.epochs = epochs\n",
    "        self.batch_size = batch_size\n",
    "        self.kwg = kwg\n",
    "        self.optim = optim\n",
    "        self.lr = lr\n",
    "\n",
    "    def get_params(self, deep=True):\n",
    "        para_dict =  {\"net\": self.net, \"epochs\": self.epochs,\n",
    "        \"batch_size\":self.batch_size,\"optim\":self.optim,\n",
    "        \"lr\":self.lr}\n",
    "        return para_dict\n",
    "    def set_params(self, **parameters):\n",
    "        for parameter, value in parameters.items():\n",
    "            setattr(self, parameter, value)\n",
    "        return self\n",
    "\n",
    "\n",
    "    def fit(self,X,y):\n",
    "        self.model = self.net\n",
    "        self.optimizer = self.optim(self.model.parameters(),lr=self.lr, **self.kwg)\n",
    "        \n",
    "        train_df = Dataloader(X,y)\n",
    "        for e in range(self.epochs):\n",
    "            train_dl = data_utils.DataLoader(train_df, batch_size=self.batch_size,shuffle=True)\n",
    "            for x_train,y_train,sol_train in train_dl:\n",
    "                self.optimizer.zero_grad()\n",
    "                y_pred = self.model(x_train).squeeze()\n",
    "                \n",
    "                # The difference from the Two-stage approah is that,\n",
    "                # the loss function considers what happen after solving the knapsack instances\n",
    "                y_spo = 2*y_pred - y_train\n",
    "                grad_list = []\n",
    "                # we have to solve the knpsack problem for all training instances with the predicted energy price\n",
    "                for i in range(len(y_train)):\n",
    "                    sol_spo = knapsack_solver.solve_from_pytorch(y_spo[i])\n",
    "                    # We compute the (sub)gradients directly, see SPO paper\n",
    "                    grad = sol_spo - sol_train[i]\n",
    "                    grad_list.append(grad)\n",
    "                grad = torch.stack(grad_list,0)\n",
    "                y_pred.retain_grad()\n",
    "                # gradients do not come from a loss , but we use SPO subgradients   \n",
    "                y_pred.backward(gradient=grad)\n",
    "                # This is where SPO differes from the Two-stage model\n",
    "                self.optimizer.step()\n",
    "\n",
    "    def score(self,X,y):\n",
    "        return score_fucn(self.model,X,y)\n",
    "\n",
    "    def predict(self,X):\n",
    "        self.model.eval()\n",
    "        y_pred = self.model(torch.from_numpy(X).float()).squeeze()\n",
    "        self.model.train()\n",
    "        return y_pred.detach().numpy()"
   ]
  },
  {
   "cell_type": "markdown",
   "metadata": {},
   "source": [
    "### Now we will run the SPO model and save the regret and MSE  on test and train data\n",
    "#### We will be running for multiple epochs to form a leanring curve. So this will take some time."
   ]
  },
  {
   "cell_type": "code",
   "execution_count": null,
   "metadata": {},
   "outputs": [],
   "source": [
    "spo_df = pd.DataFrame()\n",
    "for epoch in range(1,11,2):\n",
    "    scoring = {'Regret': make_scorer(regret_score),\n",
    "                'MSE': make_scorer(mse)}\n",
    "    model = SPO(optim=optim.SGD, epochs=epoch,lr= 0.01)\n",
    "    cv = repeatrun(len(y_train),len(y_test))\n",
    "    scores = cross_validate(model, x,y, scoring=scoring,cv=cv, return_train_score=True)\n",
    "    scores = pd.DataFrame.from_dict(scores)\n",
    "    scores['epoch'] = epoch\n",
    "    spo_df = spo_df.append(scores)\n",
    "spo_df['model'] =\"SPO\"\n",
    "spo_df.reset_index(inplace=True)"
   ]
  },
  {
   "cell_type": "markdown",
   "metadata": {},
   "source": [
    "#### save and load earlier result"
   ]
  },
  {
   "cell_type": "code",
   "execution_count": null,
   "metadata": {},
   "outputs": [],
   "source": [
    "spo_df.to_pickle('SPO.pkl')\n",
    "spo_df = pd.read_pickle('SPO.pkl')"
   ]
  },
  {
   "cell_type": "code",
   "execution_count": null,
   "metadata": {},
   "outputs": [],
   "source": [
    "\n",
    "rslt_df =  pd.concat([spo_df,regression_df],ignore_index=True)"
   ]
  },
  {
   "cell_type": "markdown",
   "metadata": {},
   "source": [
    "### Now we compare SPO and two-stage approach, First we look at the regret on training instances."
   ]
  },
  {
   "cell_type": "code",
   "execution_count": null,
   "metadata": {},
   "outputs": [],
   "source": [
    "sns.lineplot(y='train_Regret', x='epoch',\n",
    "#                  markers=['o', 'v', 'D', 'P', 'X', 'h', 'H',  'd', '^', '8','<', '>', '*', 's', 'p',], \n",
    "                 dashes=False,legend=\"full\",\n",
    "                 hue=\"model\",\n",
    "                palette=sns.color_palette('bright',n_colors=2),\n",
    "                 data = rslt_df)"
   ]
  },
  {
   "cell_type": "markdown",
   "metadata": {},
   "source": [
    "### Next we compare MSE loss on training instances."
   ]
  },
  {
   "cell_type": "code",
   "execution_count": null,
   "metadata": {},
   "outputs": [],
   "source": [
    "sns.lineplot(y='train_MSE', x='epoch',\n",
    "#                  markers=['o', 'v', 'D', 'P', 'X', 'h', 'H',  'd', '^', '8','<', '>', '*', 's', 'p',], \n",
    "                 dashes=False,legend=\"full\",\n",
    "                 hue=\"model\",\n",
    "                palette=sns.color_palette('bright',n_colors=2),\n",
    "                 data = rslt_df)"
   ]
  },
  {
   "cell_type": "markdown",
   "metadata": {},
   "source": [
    "### SPO model induces lower regret even though MSE loss is high."
   ]
  },
  {
   "cell_type": "markdown",
   "metadata": {},
   "source": [
    "### Now we examine the performance on test data."
   ]
  },
  {
   "cell_type": "code",
   "execution_count": null,
   "metadata": {},
   "outputs": [],
   "source": [
    "rslt_df[rslt_df.epoch==9].groupby(['model']).agg({'test_Regret':['mean','std'],'test_MSE': ['mean','std'],'fit_time':['mean','std']})"
   ]
  },
  {
   "cell_type": "markdown",
   "metadata": {},
   "source": [
    "## Because we repeatedly call solver while training SPO model, the model fitting time is high for SPO."
   ]
  },
  {
   "cell_type": "markdown",
   "metadata": {},
   "source": [
    "## We see, on test data, regret is significantly lower for SPO, confirming the superiority of this approach."
   ]
  },
  {
   "cell_type": "code",
   "execution_count": null,
   "metadata": {},
   "outputs": [],
   "source": []
  }
 ],
 "metadata": {
  "kernelspec": {
   "display_name": "Python 3",
   "language": "python",
   "name": "python3"
  },
  "language_info": {
   "codemirror_mode": {
    "name": "ipython",
    "version": 3
   },
   "file_extension": ".py",
   "mimetype": "text/x-python",
   "name": "python",
   "nbconvert_exporter": "python",
   "pygments_lexer": "ipython3",
   "version": "3.7.3"
  }
 },
 "nbformat": 4,
 "nbformat_minor": 2
}
