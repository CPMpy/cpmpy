{
 "cells": [
  {
   "cell_type": "markdown",
   "metadata": {},
   "source": [
    "## TIas: do you really need all those packages??"
   ]
  },
  {
   "cell_type": "code",
   "execution_count": 19,
   "metadata": {},
   "outputs": [],
   "source": [
    "import torch\n",
    "from torch import nn, optim\n",
    "import numpy as np\n",
    "import pandas as pd\n",
    "\n",
    "from sklearn.preprocessing import StandardScaler\n",
    "from sklearn.metrics import mean_squared_error as mse\n",
    "from sklearn.model_selection import cross_validate\n",
    "from sklearn.metrics import make_scorer\n",
    "import sklearn\n",
    "import torch.utils.data as data_utils\n",
    "import seaborn as sns\n",
    "from cpmpy import *\n",
    "# sns.set_theme()\n",
    "sns.set_context(\"notebook\", font_scale=1.5, rc={\"lines.linewidth\": 2.5})"
   ]
  },
  {
   "cell_type": "markdown",
   "metadata": {},
   "source": [
    "#### First we  load the data. We have training and test data."
   ]
  },
  {
   "cell_type": "code",
   "execution_count": 3,
   "metadata": {},
   "outputs": [
    {
     "name": "stdout",
     "output_type": "stream",
     "text": [
      "(26496, 8) (11376, 8)\n"
     ]
    }
   ],
   "source": [
    "import requests\n",
    "import io\n",
    "\n",
    "response = requests.get('https://github.com/JayMan91/aaai_predit_then_optimize/raw/master/Data.npz')\n",
    "response.raise_for_status()\n",
    "data = np.load(io.BytesIO(response.content))\n",
    "x_train,  x_test, y_train,y_test = data['X_1gtrain'],data['X_1gtest'],data['y_train'],data['y_test']\n",
    "x_train = x_train[:,1:]\n",
    "x_test = x_test[:,1:]\n",
    "# x_valid, x_test = x_test[0:2880,:], x_test[2880:,:]\n",
    "# y_valid, y_test = y_test[0:2880], y_test[2880:]\n",
    "print(x_train.shape,x_test.shape)"
   ]
  },
  {
   "cell_type": "markdown",
   "metadata": {},
   "source": [
    "#### 8 features: HolidayFlag, DayOfWeek, WeekOfYear, Month, ForecastWindProduction, Forecasted SystemLoad,  Forecasted Energy price, Forecasted CO2Intensity\n",
    "#### And the predictor variable: Energy Price"
   ]
  },
  {
   "cell_type": "markdown",
   "metadata": {},
   "source": [
    "#### First we standardize the feature variables."
   ]
  },
  {
   "cell_type": "code",
   "execution_count": 4,
   "metadata": {},
   "outputs": [],
   "source": [
    "scaler = StandardScaler()\n",
    "x_train = scaler.fit_transform(x_train)\n",
    "x_test = scaler.transform(x_test)\n"
   ]
  },
  {
   "cell_type": "markdown",
   "metadata": {},
   "source": [
    "### We will use this data in the context of knapsack problem. The predicted  Energy Price forms the value of knapsack. In our setup, each knapsack instance consists of 48 items. "
   ]
  },
  {
   "cell_type": "code",
   "execution_count": 5,
   "metadata": {},
   "outputs": [
    {
     "name": "stdout",
     "output_type": "stream",
     "text": [
      "240\n"
     ]
    }
   ],
   "source": [
    "weights = [data['weights'].tolist()]\n",
    "weights = np.array(weights)\n",
    "n_items = 48\n",
    "capacity = 60\n",
    "print(np.sum(weights))"
   ]
  },
  {
   "cell_type": "markdown",
   "metadata": {},
   "source": [
    "#### The weights are the costs of each item. The weights are kept same for each instance. The summation of 48 weights are 240. The knapsack capacity in this example is 60"
   ]
  },
  {
   "cell_type": "markdown",
   "metadata": {},
   "source": [
    "#### We reshape the data in groups of 48 so that each group is an instance."
   ]
  },
  {
   "cell_type": "code",
   "execution_count": 6,
   "metadata": {},
   "outputs": [
    {
     "name": "stdout",
     "output_type": "stream",
     "text": [
      "(552, 48, 8) (237, 48, 8)\n"
     ]
    }
   ],
   "source": [
    "x_train = x_train.reshape(-1,48,x_train.shape[1])\n",
    "y_train = y_train.reshape(-1,48)\n",
    "x_test = x_test.reshape(-1,48,x_test.shape[1])\n",
    "y_test = y_test.reshape(-1,48)\n",
    "print(x_train.shape,x_test.shape)"
   ]
  },
  {
   "cell_type": "markdown",
   "metadata": {},
   "source": [
    "#### As we see, we have 552 training instances and 237 test instances"
   ]
  },
  {
   "cell_type": "markdown",
   "metadata": {},
   "source": [
    "#### Next we wil randomize the training and test data"
   ]
  },
  {
   "cell_type": "code",
   "execution_count": 7,
   "metadata": {},
   "outputs": [],
   "source": [
    "\n",
    "x = np.concatenate((x_train, x_test), axis=0)\n",
    "y = np.concatenate((y_train,y_test), axis=0)\n",
    "x,y = sklearn.utils.shuffle(x,y,random_state=0)\n"
   ]
  },
  {
   "cell_type": "markdown",
   "metadata": {},
   "source": [
    "## This is the knpacak solver on CPMPY"
   ]
  },
  {
   "cell_type": "code",
   "execution_count": 8,
   "metadata": {},
   "outputs": [],
   "source": [
    "\n",
    "def knapsack_solver(y, weights,capacity,n_items):\n",
    "    x = boolvar(shape=n_items, name=\"x\")\n",
    "\n",
    "    model = Model(sum(x*weights[0]) <= capacity, maximize=sum(x*(1000*y).astype(int)))\n",
    "    # We have to convert the y variable into integer, as ORtools only accepts integer variable\n",
    "    model.solve()\n",
    "    return x.value()"
   ]
  },
  {
   "cell_type": "markdown",
   "metadata": {},
   "source": [
    "#### Now we create an wrapper object, which repeatedly solve the knapsack problem where the cost are fed as pytorch tensor"
   ]
  },
  {
   "cell_type": "code",
   "execution_count": 9,
   "metadata": {},
   "outputs": [],
   "source": [
    "class problem_solver:\n",
    "    def __init__(self,weights,capacity,n_items):\n",
    "        self.weights = weights\n",
    "        self.capacity =  capacity\n",
    "        self.n_items = n_items\n",
    "    def solve_from_torch(self,y):\n",
    "        # y is a pytorch tensor object\n",
    "        return torch.from_numpy(knapsack_solver(y.detach().numpy(),\n",
    "            self.weights,self.capacity,self.n_items)).float()"
   ]
  },
  {
   "cell_type": "markdown",
   "metadata": {},
   "source": [
    "### The desirable goal to minimze the regret,\n",
    "### Regret is the loss in the objective value for using the solution of predicted value rather than the solution of true value (which we do not know).\n"
   ]
  },
  {
   "cell_type": "markdown",
   "metadata": {},
   "source": [
    "### If $c$ are the true values and $\\hat{c}$ are the predicted values and $w^\\star(c)$ and $w^\\star(\\hat{c})$ are their solutions. \n",
    "### Then regret $=c^\\top( w^\\star(c) -w^\\star(\\hat{c}) )$"
   ]
  },
  {
   "cell_type": "code",
   "execution_count": 10,
   "metadata": {},
   "outputs": [],
   "source": [
    "\n",
    "def regret_score(y,y_pred,weights,capacity,n_items):\n",
    "        total_loss =0 \n",
    "\n",
    "        for i in range(len(y)):\n",
    "            sol_true = knapsack_solver(y[i],\n",
    "               weights,capacity,n_items)\n",
    "            sol = knapsack_solver(y_pred[i],\n",
    "                weights,capacity,n_items)\n",
    "            total_loss +=  ((sol_true - sol).dot(y[i]))\n",
    "        return total_loss/len(y)"
   ]
  },
  {
   "cell_type": "markdown",
   "metadata": {},
   "source": [
    "#### We will use the sklearn module for model training and scoring. For that we need a scoring function which will compute average regret of the instances. "
   ]
  },
  {
   "cell_type": "code",
   "execution_count": 12,
   "metadata": {},
   "outputs": [],
   "source": [
    "# we need a function that...\n",
    "def score_fucn(model,X,y,weights,capacity,n_items):\n",
    "    model.eval()\n",
    "    y_pred = model(torch.from_numpy(X).float()).squeeze()\n",
    "    total_loss =0 \n",
    "\n",
    "    for i in range(len(y)):\n",
    "\n",
    "        sol_true = knapsack_solver(y[i],\n",
    "            weights,capacity,n_items)\n",
    "        sol = knapsack_solver(y_pred[i].detach().numpy(),\n",
    "            weights,capacity,n_items)\n",
    "        total_loss +=  ((sol_true - sol).dot(y[i]))\n",
    "    model.train()\n",
    "    return total_loss/len(y)"
   ]
  },
  {
   "cell_type": "markdown",
   "metadata": {},
   "source": [
    "#### We will also need a dataloder module, which will segregate the training data into batches"
   ]
  },
  {
   "cell_type": "code",
   "execution_count": 11,
   "metadata": {},
   "outputs": [],
   "source": [
    "\n",
    "class Dataloader():\n",
    "    def __init__(self, X,y,weights,capacity,n_items):\n",
    "        self.X = X.astype(np.float32)\n",
    "        self.y = y.astype(np.float32)\n",
    "\n",
    "        \n",
    "        sol = []\n",
    "        for i in range(len(y)):\n",
    "            x_sol = knapsack_solver(y[i],\n",
    "               weights,capacity,n_items)            \n",
    "            sol.append( x_sol)\n",
    "        self.sol = np.array(sol)\n",
    "        \n",
    "    def __len__(self):\n",
    "        return len(self.y)\n",
    "    \n",
    "    def __getitem__(self, idx):\n",
    "        return  self.X[idx],self.y[idx],self.sol[idx]"
   ]
  },
  {
   "cell_type": "markdown",
   "metadata": {},
   "source": [
    "## Two-stage Regression Model"
   ]
  },
  {
   "cell_type": "code",
   "execution_count": 12,
   "metadata": {},
   "outputs": [],
   "source": [
    "class reg:\n",
    "    def __init__(self, net = nn.Linear(8,1),\n",
    "                 epochs=8,optim=optim.Adam,batch_size=24,capacity= 100,\n",
    "                 weights=np.array([1 for i in range(48)]),n_items=48,lr=1,**kwg):\n",
    "        self.net = net\n",
    "        self.epochs = epochs\n",
    "        self.batch_size = batch_size\n",
    "        self.weights = weights\n",
    "        self.capacity = capacity\n",
    "        self.n_items = n_items\n",
    "        self.kwg = kwg\n",
    "        self.optim = optim\n",
    "        self.lr = lr\n",
    "\n",
    "    def get_params(self, deep=True):\n",
    "        para_dict =  {\"net\": self.net, \"epochs\": self.epochs,\n",
    "        \"batch_size\":self.batch_size,\"weights\":self.weights,\n",
    "        \"capacity\": self.capacity,\"n_items\":self.n_items,\"optim\":self.optim,\n",
    "        \"lr\":self.lr}\n",
    "        return para_dict\n",
    "    def set_params(self, **parameters):\n",
    "        for parameter, value in parameters.items():\n",
    "            setattr(self, parameter, value)\n",
    "        return self\n",
    "\n",
    "    def fit(self,X,y):\n",
    "        self.model = self.net\n",
    "        self.optimizer = self.optim(self.model.parameters(),lr=self.lr, **self.kwg)\n",
    "        criterion = nn.MSELoss(reduction='mean')\n",
    "\n",
    "        train_df = Dataloader(X,y,self.weights,self.capacity,self.n_items)\n",
    "        for e in range(self.epochs):\n",
    "            train_dl = data_utils.DataLoader(train_df, batch_size=self.batch_size,shuffle=True)\n",
    "            for x_train,y_train,sol_train in train_dl:\n",
    "                self.optimizer.zero_grad()\n",
    "                y_pred = self.model(x_train).squeeze()\n",
    "                loss= criterion(y_pred,y_train)\n",
    "                loss.retain_grad()\n",
    "                y_pred.retain_grad()\n",
    "                loss.backward()                \n",
    "                self.optimizer.step()\n",
    "\n",
    "    def score(self,X,y):\n",
    "        return score_fucn(self.model,X,y,self.weights,self.capacity,self.n_items)\n",
    "\n",
    "    def predict(self,X):\n",
    "        self.model.eval()\n",
    "        y_pred = self.model(torch.from_numpy(X).float()).squeeze()\n",
    "        self.model.train()\n",
    "        return y_pred.detach().numpy()        \n",
    "\n"
   ]
  },
  {
   "cell_type": "markdown",
   "metadata": {},
   "source": [
    "#### A wrapper module to to train and test multiple times. We will use the inbuilt cross_validate module to train and test `n_run` times."
   ]
  },
  {
   "cell_type": "code",
   "execution_count": 13,
   "metadata": {},
   "outputs": [],
   "source": [
    "def repeatrun(n_train, n_test,n_run=10):\n",
    "    i = 0\n",
    "    while i < n_run:\n",
    "        idx1 = np.arange(0, n_train , dtype=int)\n",
    "        idx2 = np.arange(n_train, n_train+n_test, dtype=int)\n",
    "        yield idx1, idx2\n",
    "        i += 1\n"
   ]
  },
  {
   "cell_type": "markdown",
   "metadata": {},
   "source": [
    "### Now we will run the two-stage model and save the regret and MSE  on test and train data\n",
    "#### We will be running for multiple epochs to form a leanring curve. So this will take some time."
   ]
  },
  {
   "cell_type": "code",
   "execution_count": 14,
   "metadata": {},
   "outputs": [
    {
     "name": "stderr",
     "output_type": "stream",
     "text": [
      "/home/jayanta/anaconda3/lib/python3.7/site-packages/torch/autograd/__init__.py:132: UserWarning: CUDA initialization: Found no NVIDIA driver on your system. Please check that you have an NVIDIA GPU and installed a driver from http://www.nvidia.com/Download/index.aspx (Triggered internally at  /pytorch/c10/cuda/CUDAFunctions.cpp:100.)\n",
      "  allow_unreachable=True)  # allow_unreachable flag\n"
     ]
    }
   ],
   "source": [
    "regression_df = pd.DataFrame()\n",
    "for epoch in range(1,11,2):\n",
    "    scoring = {'Regret': make_scorer(regret_score,\n",
    "            weights = weights,capacity =capacity,n_items= n_items),\n",
    "                'MSE': make_scorer(mse)}\n",
    "    model = reg(optim=optim.SGD, epochs=epoch,lr= 0.01,\n",
    "            weights = weights,capacity =capacity,\n",
    "            n_items= n_items)\n",
    "    cv = repeatrun(len(y_train),len(y_test))\n",
    "    scores = cross_validate(model, x,y, scoring=scoring,cv=cv, return_train_score=True)\n",
    "    scores = pd.DataFrame.from_dict(scores)\n",
    "    scores['epoch'] = epoch\n",
    "    regression_df = regression_df.append(scores)"
   ]
  },
  {
   "cell_type": "code",
   "execution_count": 22,
   "metadata": {},
   "outputs": [],
   "source": [
    "regression_df['model'] =\"Two-stage\"\n",
    "regression_df.reset_index(inplace=True)"
   ]
  },
  {
   "cell_type": "markdown",
   "metadata": {},
   "source": [
    "### First examine the learning curve"
   ]
  },
  {
   "cell_type": "code",
   "execution_count": 26,
   "metadata": {},
   "outputs": [
    {
     "data": {
      "text/plain": [
       "<matplotlib.axes._subplots.AxesSubplot at 0x7fcf19b5cbe0>"
      ]
     },
     "execution_count": 26,
     "metadata": {},
     "output_type": "execute_result"
    },
    {
     "data": {
      "image/png": "[encoded data removed]",
      "text/plain": [
       "<Figure size 432x288 with 1 Axes>"
      ]
     },
     "metadata": {},
     "output_type": "display_data"
    }
   ],
   "source": [
    "# This needs title: learning curve\n",
    "sns.lineplot(y='train_MSE', x='epoch',\n",
    "#                  markers=['o', 'v', 'D', 'P', 'X', 'h', 'H',  'd', '^', '8','<', '>', '*', 's', 'p',], \n",
    "                 dashes=False,legend=\"full\",data = regression_df)"
   ]
  },
  {
   "cell_type": "markdown",
   "metadata": {},
   "source": [
    "### The MSE is going down as expected"
   ]
  },
  {
   "cell_type": "code",
   "execution_count": 27,
   "metadata": {},
   "outputs": [
    {
     "data": {
      "text/plain": [
       "<matplotlib.axes._subplots.AxesSubplot at 0x7fcf19a143c8>"
      ]
     },
     "execution_count": 27,
     "metadata": {},
     "output_type": "execute_result"
    },
    {
     "data": {
      "image/png": "[encoded data removed]",
      "text/plain": [
       "<Figure size 432x288 with 1 Axes>"
      ]
     },
     "metadata": {},
     "output_type": "display_data"
    }
   ],
   "source": [
    "\n",
    "\n",
    "sns.lineplot(y='train_Regret', x='epoch',\n",
    "#                  markers=['o', 'v', 'D', 'P', 'X', 'h', 'H',  'd', '^', '8','<', '>', '*', 's', 'p',], \n",
    "                 dashes=False,legend=\"full\",data = regression_df)"
   ]
  },
  {
   "cell_type": "markdown",
   "metadata": {},
   "source": [
    "### But regret is going up"
   ]
  },
  {
   "cell_type": "markdown",
   "metadata": {},
   "source": [
    "## Smart Predict and Optimize Regression Model Model"
   ]
  },
  {
   "cell_type": "code",
   "execution_count": 28,
   "metadata": {},
   "outputs": [],
   "source": [
    "class SPO:\n",
    "    def __init__(self, net = nn.Linear(8,1),\n",
    "                 epochs=8,optim=optim.Adam,batch_size=24,capacity= 100,\n",
    "                 weights=np.array([1 for i in range(48)]),n_items=48,lr=1,\n",
    "                 **kwg):\n",
    "        self.net = net\n",
    "        self.epochs = epochs\n",
    "        self.batch_size = batch_size\n",
    "        self.weights = weights\n",
    "        self.capacity = capacity\n",
    "        self.n_items = n_items\n",
    "        self.kwg = kwg\n",
    "        self.optim = optim\n",
    "        self.lr = lr\n",
    "\n",
    "    def get_params(self, deep=True):\n",
    "        para_dict =  {\"net\": self.net, \"epochs\": self.epochs,\n",
    "        \"batch_size\":self.batch_size,\"weights\":self.weights,\n",
    "        \"capacity\": self.capacity,\"n_items\":self.n_items,\"optim\":self.optim,\n",
    "        \"lr\":self.lr}\n",
    "        # print({**self.kwg})\n",
    "        # print (dict(para_dict, **self.kwg))\n",
    "        return para_dict\n",
    "    def set_params(self, **parameters):\n",
    "        for parameter, value in parameters.items():\n",
    "            setattr(self, parameter, value)\n",
    "        return self\n",
    "\n",
    "\n",
    "    def fit(self,X,y):\n",
    "        self.model = self.net\n",
    "        self.optimizer = self.optim(self.model.parameters(),lr=self.lr, **self.kwg)\n",
    "        \n",
    "        train_df = Dataloader(X,y,self.weights,self.capacity,self.n_items)\n",
    "        solver_call = problem_solver(self.weights,self.capacity,self.n_items)\n",
    "        for e in range(self.epochs):\n",
    "            train_dl = data_utils.DataLoader(train_df, batch_size=self.batch_size,shuffle=True)\n",
    "            for x_train,y_train,sol_train in train_dl:\n",
    "                self.optimizer.zero_grad()\n",
    "                y_pred = self.model(x_train).squeeze()\n",
    "                \n",
    "                # START: This part different from MSE-based regression  (add such a style comment)\n",
    "                y_spo = 2*y_pred - y_train\n",
    "                grad_list = []\n",
    "                for i in range(len(y_train)):\n",
    "\n",
    "                    sol_spo = solver_call.solve_from_torch(y_spo[i])\n",
    "      \n",
    "                    # We compute the (sub)gradients directly, see SPO paper\n",
    "                    grad = sol_spo - sol_train[i]\n",
    "                    grad_list.append(grad)\n",
    "                grad = torch.stack(grad_list,0)\n",
    "                y_pred.retain_grad()\n",
    "                # gradients do not come from a loss , but we use SPO subgradients   \n",
    "                y_pred.backward(gradient=grad)\n",
    "                # This is where this differes from the Two-stage model\n",
    "                self.optimizer.step()\n",
    "\n",
    "    def score(self,X,y):\n",
    "        return score_fucn(self.model,X,y,self.weights,self.capacity,self.n_items)\n",
    "\n",
    "    def predict(self,X):\n",
    "        self.model.eval()\n",
    "        y_pred = self.model(torch.from_numpy(X).float()).squeeze()\n",
    "        self.model.train()\n",
    "        return y_pred.detach().numpy()"
   ]
  },
  {
   "cell_type": "markdown",
   "metadata": {},
   "source": [
    "### Now we will run the SPO model and save the regret and MSE  on test and train data\n",
    "#### We will be running for multiple epochs to form a leanring curve. So this will take some time."
   ]
  },
  {
   "cell_type": "code",
   "execution_count": 29,
   "metadata": {},
   "outputs": [],
   "source": [
    "spo_df = pd.DataFrame()\n",
    "for epoch in range(1,11,2):\n",
    "    scoring = {'Regret': make_scorer(regret_score,\n",
    "            weights = weights,capacity =capacity,n_items= n_items),\n",
    "                'MSE': make_scorer(mse)}\n",
    "    model = SPO(optim=optim.SGD, epochs=epoch,lr= 0.01,\n",
    "            weights = weights,capacity =capacity,\n",
    "            n_items= n_items)\n",
    "    cv = repeatrun(len(y_train),len(y_test))\n",
    "    scores = cross_validate(model, x,y, scoring=scoring,cv=cv, return_train_score=True)\n",
    "    scores = pd.DataFrame.from_dict(scores)\n",
    "    scores['epoch'] = epoch\n",
    "    spo_df = spo_df.append(scores)"
   ]
  },
  {
   "cell_type": "code",
   "execution_count": 30,
   "metadata": {},
   "outputs": [],
   "source": [
    "spo_df['model'] =\"SPO\"\n",
    "rslt_df =  pd.concat([spo_df,regression_df],ignore_index=True)"
   ]
  },
  {
   "cell_type": "markdown",
   "metadata": {},
   "source": [
    "### Now we compare SPO and two-stage approach"
   ]
  },
  {
   "cell_type": "code",
   "execution_count": 31,
   "metadata": {},
   "outputs": [
    {
     "data": {
      "text/plain": [
       "<matplotlib.axes._subplots.AxesSubplot at 0x7fcead9702b0>"
      ]
     },
     "execution_count": 31,
     "metadata": {},
     "output_type": "execute_result"
    },
    {
     "data": {
      "image/png": "[encoded data removed]",
      "text/plain": [
       "<Figure size 432x288 with 1 Axes>"
      ]
     },
     "metadata": {},
     "output_type": "display_data"
    }
   ],
   "source": [
    "sns.lineplot(y='train_Regret', x='epoch',\n",
    "#                  markers=['o', 'v', 'D', 'P', 'X', 'h', 'H',  'd', '^', '8','<', '>', '*', 's', 'p',], \n",
    "                 dashes=False,legend=\"full\",\n",
    "                 hue=\"model\",\n",
    "                palette=sns.color_palette('bright',n_colors=2),\n",
    "                 data = rslt_df)"
   ]
  },
  {
   "cell_type": "code",
   "execution_count": 32,
   "metadata": {},
   "outputs": [
    {
     "data": {
      "text/plain": [
       "<matplotlib.axes._subplots.AxesSubplot at 0x7fce9d2bdd68>"
      ]
     },
     "execution_count": 32,
     "metadata": {},
     "output_type": "execute_result"
    },
    {
     "data": {
      "image/png": "[encoded data removed]",
      "text/plain": [
       "<Figure size 432x288 with 1 Axes>"
      ]
     },
     "metadata": {},
     "output_type": "display_data"
    }
   ],
   "source": [
    "sns.lineplot(y='train_MSE', x='epoch',\n",
    "#                  markers=['o', 'v', 'D', 'P', 'X', 'h', 'H',  'd', '^', '8','<', '>', '*', 's', 'p',], \n",
    "                 dashes=False,legend=\"full\",\n",
    "                 hue=\"model\",\n",
    "                palette=sns.color_palette('bright',n_colors=2),\n",
    "                 data = rslt_df)"
   ]
  },
  {
   "cell_type": "markdown",
   "metadata": {},
   "source": [
    "### SPO model induces lower regret even though MSE loss is high."
   ]
  },
  {
   "cell_type": "markdown",
   "metadata": {},
   "source": [
    "### Now we examine the performance on test data."
   ]
  },
  {
   "cell_type": "code",
   "execution_count": 34,
   "metadata": {},
   "outputs": [
    {
     "data": {
      "text/html": [
       "<div>\n",
       "<style scoped>\n",
       "    .dataframe tbody tr th:only-of-type {\n",
       "        vertical-align: middle;\n",
       "    }\n",
       "\n",
       "    .dataframe tbody tr th {\n",
       "        vertical-align: top;\n",
       "    }\n",
       "\n",
       "    .dataframe thead tr th {\n",
       "        text-align: left;\n",
       "    }\n",
       "\n",
       "    .dataframe thead tr:last-of-type th {\n",
       "        text-align: right;\n",
       "    }\n",
       "</style>\n",
       "<table border=\"1\" class=\"dataframe\">\n",
       "  <thead>\n",
       "    <tr>\n",
       "      <th></th>\n",
       "      <th colspan=\"2\" halign=\"left\">test_Regret</th>\n",
       "      <th colspan=\"2\" halign=\"left\">test_MSE</th>\n",
       "      <th colspan=\"2\" halign=\"left\">fit_time</th>\n",
       "    </tr>\n",
       "    <tr>\n",
       "      <th></th>\n",
       "      <th>mean</th>\n",
       "      <th>std</th>\n",
       "      <th>mean</th>\n",
       "      <th>std</th>\n",
       "      <th>mean</th>\n",
       "      <th>std</th>\n",
       "    </tr>\n",
       "    <tr>\n",
       "      <th>model</th>\n",
       "      <th></th>\n",
       "      <th></th>\n",
       "      <th></th>\n",
       "      <th></th>\n",
       "      <th></th>\n",
       "      <th></th>\n",
       "    </tr>\n",
       "  </thead>\n",
       "  <tbody>\n",
       "    <tr>\n",
       "      <th>SPO</th>\n",
       "      <td>802.398861</td>\n",
       "      <td>1.385137</td>\n",
       "      <td>70441.801823</td>\n",
       "      <td>64.230748</td>\n",
       "      <td>103.615881</td>\n",
       "      <td>0.559706</td>\n",
       "    </tr>\n",
       "    <tr>\n",
       "      <th>Two-stage</th>\n",
       "      <td>1036.817222</td>\n",
       "      <td>0.181314</td>\n",
       "      <td>32040.900162</td>\n",
       "      <td>2.088218</td>\n",
       "      <td>12.774621</td>\n",
       "      <td>0.641340</td>\n",
       "    </tr>\n",
       "  </tbody>\n",
       "</table>\n",
       "</div>"
      ],
      "text/plain": [
       "           test_Regret                test_MSE               fit_time  \\\n",
       "                  mean       std          mean        std        mean   \n",
       "model                                                                   \n",
       "SPO         802.398861  1.385137  70441.801823  64.230748  103.615881   \n",
       "Two-stage  1036.817222  0.181314  32040.900162   2.088218   12.774621   \n",
       "\n",
       "                     \n",
       "                std  \n",
       "model                \n",
       "SPO        0.559706  \n",
       "Two-stage  0.641340  "
      ]
     },
     "execution_count": 34,
     "metadata": {},
     "output_type": "execute_result"
    }
   ],
   "source": [
    "rslt_df[rslt_df.epoch==9].groupby(['model']).agg({'test_Regret':['mean','std'],'test_MSE': ['mean','std'],'fit_time':['mean','std']})"
   ]
  },
  {
   "cell_type": "markdown",
   "metadata": {},
   "source": [
    "## Because we repeatedly call solver while training SPO model, the model fitting time is high for SPO."
   ]
  },
  {
   "cell_type": "markdown",
   "metadata": {},
   "source": [
    "## We see, on test data, regret is significantly lower for SPO, confirming the superiority of this approach."
   ]
  },
  {
   "cell_type": "code",
   "execution_count": null,
   "metadata": {},
   "outputs": [],
   "source": []
  }
 ],
 "metadata": {
  "kernelspec": {
   "display_name": "Python 3",
   "language": "python",
   "name": "python3"
  },
  "language_info": {
   "codemirror_mode": {
    "name": "ipython",
    "version": 3
   },
   "file_extension": ".py",
   "mimetype": "text/x-python",
   "name": "python",
   "nbconvert_exporter": "python",
   "pygments_lexer": "ipython3",
   "version": "3.7.3"
  }
 },
 "nbformat": 4,
 "nbformat_minor": 2
}
