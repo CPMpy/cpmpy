{
 "cells": [
  {
   "cell_type": "code",
   "execution_count": 23,
   "metadata": {},
   "outputs": [],
   "source": [
    "from cpmpy import *\n",
    "## torch for training neural network\n",
    "import torch\n",
    "from torch import nn, optim\n",
    "import torch.utils.data as data_utils\n",
    "import numpy as np\n",
    "import pandas as pd\n",
    "## sklean module for data transforming and model running\n",
    "from sklearn.preprocessing import StandardScaler\n",
    "from sklearn.metrics import mean_squared_error as mse\n",
    "from sklearn.model_selection import cross_validate\n",
    "from sklearn.metrics import make_scorer\n",
    "import sklearn\n",
    "#seaborn for creating nice plot\n",
    "import seaborn as sns\n",
    "import time\n",
    "from tqdm import tqdm\n",
    "# sns.set_theme()\n",
    "sns.set_context(\"notebook\", font_scale=1.5, rc={\"lines.linewidth\": 2.5})\n",
    "import os\n",
    "## tensorboard to look at learning curve\n",
    "from torch.utils.tensorboard import SummaryWriter\n",
    "from sklearn.model_selection import learning_curve\n",
    "writer = SummaryWriter('runs/CPMPY')\n",
    "%load_ext tensorboard"
   ]
  },
  {
   "cell_type": "markdown",
   "metadata": {},
   "source": [
    "#### First we  load the data. We have training and test data."
   ]
  },
  {
   "cell_type": "code",
   "execution_count": 5,
   "metadata": {},
   "outputs": [
    {
     "name": "stdout",
     "output_type": "stream",
     "text": [
      "(26496, 8) (11376, 8)\n"
     ]
    }
   ],
   "source": [
    "if not os.path.exists('Data.npz'):\n",
    "    torch.hub.download_url_to_file(\"https://github.com/JayMan91/aaai_predit_then_optimize/raw/master/Data.npz\", \"Data.npz\")\n",
    "data = np.load(\"Data.npz\")\n",
    "x_train,  x_test, y_train,y_test = data['X_1gtrain'],data['X_1gtest'],data['y_train'],data['y_test']\n",
    "x_train = x_train[:,1:]\n",
    "x_test = x_test[:,1:]\n",
    "print(x_train.shape,x_test.shape)"
   ]
  },
  {
   "cell_type": "markdown",
   "metadata": {},
   "source": [
    "#### 8 features: HolidayFlag, DayOfWeek, WeekOfYear, Month, ForecastWindProduction, Forecasted SystemLoad,  Forecasted Energy price, Forecasted CO2Intensity\n",
    "#### And the predictor variable: Energy Price"
   ]
  },
  {
   "cell_type": "markdown",
   "metadata": {},
   "source": [
    "#### First we standardize the feature variables. We also reshape the data in groups of 48 so that each group is an instance."
   ]
  },
  {
   "cell_type": "code",
   "execution_count": 6,
   "metadata": {},
   "outputs": [
    {
     "name": "stdout",
     "output_type": "stream",
     "text": [
      "Number of instances in training (552, 48, 8) and testing (50, 48, 8)\n"
     ]
    }
   ],
   "source": [
    "scaler = StandardScaler()\n",
    "x_train = scaler.fit_transform(x_train)\n",
    "x_test = scaler.transform(x_test)\n",
    "x_train = x_train.reshape(-1,48,x_train.shape[1])\n",
    "y_train = y_train.reshape(-1,48)\n",
    "x_test = x_test.reshape(-1,48,x_test.shape[1])\n",
    "y_test = y_test.reshape(-1,48)\n",
    "x_test = x_test[:50]\n",
    "y_test = y_test[:50]\n",
    "print(\"Number of instances in training {} and testing {}\".format(x_train.shape, x_test.shape))\n",
    "## we now randomize the training and test data\n",
    "x = np.concatenate((x_train, x_test), axis=0)\n",
    "y = np.concatenate((y_train,y_test), axis=0)\n",
    "x,y = sklearn.utils.shuffle(x,y,random_state=0)"
   ]
  },
  {
   "cell_type": "markdown",
   "metadata": {},
   "source": [
    "#### As we see, we have 552 training instances and test on 50 instances."
   ]
  },
  {
   "cell_type": "markdown",
   "metadata": {},
   "source": [
    "### We will use this data in the context of knapsack problem. The predicted  Energy Price forms the value of knapsack. In our setup, each knapsack instance consists of 48 items. "
   ]
  },
  {
   "cell_type": "code",
   "execution_count": 7,
   "metadata": {},
   "outputs": [
    {
     "name": "stdout",
     "output_type": "stream",
     "text": [
      "240\n"
     ]
    }
   ],
   "source": [
    "weights = [data['weights'].tolist()]\n",
    "weights = np.array(weights)\n",
    "n_items = 48\n",
    "capacity = 60\n",
    "print(np.sum(weights))"
   ]
  },
  {
   "cell_type": "markdown",
   "metadata": {},
   "source": [
    "### The weights are the costs of each item. The weights are kept same for each instance. The summation of 48 weights are 240. The knapsack capacity in this example is 60"
   ]
  },
  {
   "cell_type": "markdown",
   "metadata": {},
   "source": [
    "## Now, first write the knpacak solver on CPMPY"
   ]
  },
  {
   "cell_type": "markdown",
   "metadata": {},
   "source": [
    "#### Now we create an wrapper object, which repeatedly solve the knapsack problem where the cost are fed as pytorch tensor"
   ]
  },
  {
   "cell_type": "code",
   "execution_count": 8,
   "metadata": {},
   "outputs": [],
   "source": [
    "class problem_solver:\n",
    "    def __init__(self,weights,capacity,n_items):\n",
    "        self.weights = weights\n",
    "        self.capacity =  capacity\n",
    "        self.n_items = n_items\n",
    "        self.x = boolvar(shape=n_items, name=\"x\")\n",
    "        self.model = Model(sum(self.x*weights[0]) <= capacity)\n",
    "        \n",
    "    def solve_knapsack(self,cost):\n",
    "        cost_ = (1000*cost).astype(int)\n",
    "        # We have to convert the cost variable into integer, as ORtools only accepts integer variable\n",
    "        self.model.maximize((self.x*cost_).sum())\n",
    "        self.model.solve()\n",
    "        return self.x.value()\n",
    "        \n",
    "        \n",
    "    def solve_from_pytorch(self,cost_inpytorch):\n",
    "        # cost_inpytorch is a pytorch tensor object\n",
    "        cost_ = cost_inpytorch.detach().numpy()\n",
    "        x = self.solve_knapsack(cost_)\n",
    "        return torch.from_numpy(x).float()"
   ]
  },
  {
   "cell_type": "markdown",
   "metadata": {},
   "source": [
    "### Next, we create a solver instance with the specified weights and capacity"
   ]
  },
  {
   "cell_type": "code",
   "execution_count": 9,
   "metadata": {},
   "outputs": [],
   "source": [
    "knapsack_solver = problem_solver(weights,capacity,n_items)"
   ]
  },
  {
   "cell_type": "markdown",
   "metadata": {},
   "source": [
    "### The desirable goal to minimze the regret,\n",
    "### Regret is the loss in the objective value for using the solution of predicted value rather than the solution of true value (which we do not know).\n"
   ]
  },
  {
   "cell_type": "markdown",
   "metadata": {},
   "source": [
    "### If $c$ are the true values and $\\hat{c}$ are the predicted values and $w^\\star(c)$ and $w^\\star(\\hat{c})$ are their solutions. \n",
    "### Then regret $=c^\\top( w^\\star(c) -w^\\star(\\hat{c}) )$"
   ]
  },
  {
   "cell_type": "code",
   "execution_count": 10,
   "metadata": {},
   "outputs": [],
   "source": [
    "## A function to compute regret\n",
    "def regret_score(y,y_pred):\n",
    "        total_loss =0 \n",
    "        for i in range(len(y)):\n",
    "            sol_true = knapsack_solver.solve_knapsack(y[i])\n",
    "            sol = knapsack_solver.solve_knapsack(y_pred[i])\n",
    "            total_loss +=  ((sol_true - sol).dot(y[i]))\n",
    "        return total_loss/len(y)"
   ]
  },
  {
   "cell_type": "markdown",
   "metadata": {},
   "source": [
    "#### We will use the sklearn module for model training and scoring. For that we need a scoring function which will compute average regret of the instances. "
   ]
  },
  {
   "cell_type": "code",
   "execution_count": 11,
   "metadata": {},
   "outputs": [],
   "source": [
    "@torch.no_grad()\n",
    "def score_fucn(model,X,y):\n",
    "    model.eval()\n",
    "    y_pred = model(torch.from_numpy(X).float()).squeeze()\n",
    "    regret = regret_score(y,y_pred)\n",
    "    model.train()\n",
    "    return regret"
   ]
  },
  {
   "cell_type": "markdown",
   "metadata": {},
   "source": [
    "#### We will also need a dataloder module, which will segregate the training data into batches"
   ]
  },
  {
   "cell_type": "code",
   "execution_count": 12,
   "metadata": {},
   "outputs": [],
   "source": [
    "class Dataloader():\n",
    "    def __init__(self, X,y):\n",
    "        self.X = X.astype(np.float32)\n",
    "        self.y = y.astype(np.float32)\n",
    "\n",
    "        \n",
    "        sol = []\n",
    "        for i in range(len(y)):\n",
    "            x_sol = knapsack_solver.solve_knapsack(y[i])            \n",
    "            sol.append( x_sol)\n",
    "        self.sol = np.array(sol)\n",
    "        \n",
    "    def __len__(self):\n",
    "        return len(self.y)\n",
    "    \n",
    "    def __getitem__(self, idx):\n",
    "        return  self.X[idx],self.y[idx],self.sol[idx]"
   ]
  },
  {
   "cell_type": "markdown",
   "metadata": {},
   "source": [
    "## Two-stage Regression Model"
   ]
  },
  {
   "cell_type": "code",
   "execution_count": 13,
   "metadata": {},
   "outputs": [],
   "source": [
    "class reg:\n",
    "    def __init__(self, net = nn.Linear(8,1),\n",
    "                 epochs=8,optim=optim.Adam,batch_size=24,lr=1,**kwg):\n",
    "        self.net = net\n",
    "        self.epochs = epochs\n",
    "        self.batch_size = batch_size\n",
    "\n",
    "        self.kwg = kwg\n",
    "        self.optim = optim\n",
    "        self.lr = lr\n",
    "\n",
    "    def get_params(self, deep=True):\n",
    "        para_dict =  {\"net\": self.net, \"epochs\": self.epochs,\n",
    "        \"batch_size\":self.batch_size,\n",
    "        \"optim\":self.optim,\"lr\":self.lr}\n",
    "        return para_dict\n",
    "    def set_params(self, **parameters):\n",
    "        for parameter, value in parameters.items():\n",
    "            setattr(self, parameter, value)\n",
    "        return self\n",
    "\n",
    "    def fit(self,X,y):\n",
    "        self.model = self.net\n",
    "        self.optimizer = self.optim(self.model.parameters(),lr=self.lr, **self.kwg)\n",
    "        criterion = nn.MSELoss(reduction='mean')\n",
    "\n",
    "        train_df = Dataloader(X,y)\n",
    "        fit_time= 0\n",
    "        \n",
    "        for e in tqdm(range(self.epochs)):\n",
    "            train_dl = data_utils.DataLoader(train_df, batch_size=self.batch_size,shuffle=True)\n",
    "            bb = 0\n",
    "            for x_train,y_train,sol_train in train_dl:\n",
    "                start_time = time.time()\n",
    "                self.optimizer.zero_grad()\n",
    "                y_pred = self.model(x_train).squeeze()\n",
    "                loss= criterion(y_pred,y_train)\n",
    "                loss.retain_grad()\n",
    "                y_pred.retain_grad()\n",
    "                loss.backward()                \n",
    "                self.optimizer.step()\n",
    "                end_training = time.time()\n",
    "                ## now  we will save mse and regret and traininng data, this will take more time\n",
    "                if (e+1)%3==0:\n",
    "                    mse_loss =  loss.item()\n",
    "\n",
    "                    regret_loss = regret_score(y_train.detach().numpy(),y_pred.detach().numpy())\n",
    "                    end_regret = time.time()\n",
    "                    fit_time += end_training - start_time\n",
    "                    writer.add_scalar('Two stage MSE loss',mse_loss, e + bb/self.batch_size, fit_time)\n",
    "                    writer.add_scalar('Two stage Regret',regret_loss, e + bb/self.batch_size, fit_time)\n",
    "                bb =+1\n",
    "\n",
    "    def score(self,X,y):\n",
    "        return score_fucn(self.model,X,y)\n",
    "\n",
    "    def predict(self,X):\n",
    "        self.model.eval()\n",
    "        y_pred = self.model(torch.from_numpy(X).float()).squeeze()\n",
    "        self.model.train()\n",
    "        return y_pred.detach().numpy()        \n",
    "\n"
   ]
  },
  {
   "cell_type": "markdown",
   "metadata": {},
   "source": [
    "#### A wrapper module to to train and test multiple times. We will use the inbuilt cross_validate module to train and test `n_run` times."
   ]
  },
  {
   "cell_type": "code",
   "execution_count": 14,
   "metadata": {},
   "outputs": [],
   "source": [
    "def repeatrun(n_train, n_test,n_run=1):\n",
    "    i = 0\n",
    "    while i < n_run:\n",
    "        idx1 = np.arange(0, n_train , dtype=int)\n",
    "        idx2 = np.arange(n_train, n_train+n_test, dtype=int)\n",
    "        yield idx1, idx2\n",
    "        i += 1\n"
   ]
  },
  {
   "cell_type": "markdown",
   "metadata": {},
   "source": [
    "### Now we will run the two-stage model and save the regret and MSE  on test and train data\n",
    "#### We also monitor the leanring curve. It will take 1 minute."
   ]
  },
  {
   "cell_type": "code",
   "execution_count": 15,
   "metadata": {},
   "outputs": [
    {
     "name": "stderr",
     "output_type": "stream",
     "text": [
      "  0%|          | 0/10 [00:00<?, ?it/s]/home/jayanta/anaconda3/lib/python3.7/site-packages/torch/autograd/__init__.py:132: UserWarning: CUDA initialization: Found no NVIDIA driver on your system. Please check that you have an NVIDIA GPU and installed a driver from http://www.nvidia.com/Download/index.aspx (Triggered internally at  /pytorch/c10/cuda/CUDAFunctions.cpp:100.)\n",
      "  allow_unreachable=True)  # allow_unreachable flag\n",
      "100%|██████████| 10/10 [00:32<00:00,  3.23s/it]\n"
     ]
    }
   ],
   "source": [
    "regression_df = pd.DataFrame()\n",
    "epoch=10\n",
    "scoring = {'Regret': make_scorer(regret_score),\n",
    "            'MSE': make_scorer(mse)}\n",
    "model = reg(optim=optim.SGD, epochs=epoch,lr= 0.01)\n",
    "cv = repeatrun(len(y_train),len(y_test))\n",
    "scores = cross_validate(model, x,y, scoring=scoring,cv=cv, return_train_score=True)\n",
    "scores = pd.DataFrame.from_dict(scores)\n",
    "scores['epoch'] = epoch\n",
    "regression_df = regression_df.append(scores)\n",
    "regression_df['model'] =\"Two-stage\"\n",
    "regression_df.reset_index(inplace=True)"
   ]
  },
  {
   "cell_type": "markdown",
   "metadata": {},
   "source": [
    "## Smart Predict and Optimize Regression Model "
   ]
  },
  {
   "cell_type": "code",
   "execution_count": 16,
   "metadata": {},
   "outputs": [],
   "source": [
    "class SPO:\n",
    "    def __init__(self, net = nn.Linear(8,1),\n",
    "                 epochs=8,optim=optim.Adam,batch_size=24,lr=1,\n",
    "                 **kwg):\n",
    "        self.net = net\n",
    "        self.epochs = epochs\n",
    "        self.batch_size = batch_size\n",
    "        self.kwg = kwg\n",
    "        self.optim = optim\n",
    "        self.lr = lr\n",
    "\n",
    "    def get_params(self, deep=True):\n",
    "        para_dict =  {\"net\": self.net, \"epochs\": self.epochs,\n",
    "        \"batch_size\":self.batch_size,\"optim\":self.optim,\n",
    "        \"lr\":self.lr}\n",
    "        return para_dict\n",
    "    def set_params(self, **parameters):\n",
    "        for parameter, value in parameters.items():\n",
    "            setattr(self, parameter, value)\n",
    "        return self\n",
    "\n",
    "\n",
    "    def fit(self,X,y):\n",
    "        self.model = self.net\n",
    "        self.optimizer = self.optim(self.model.parameters(),lr=self.lr, **self.kwg)\n",
    "        \n",
    "        train_df = Dataloader(X,y)\n",
    "        criterion = nn.MSELoss(reduction='mean')\n",
    "        fit_time= 0\n",
    "        \n",
    "        for e in tqdm(range(self.epochs)):\n",
    "            train_dl = data_utils.DataLoader(train_df, batch_size=self.batch_size,shuffle=True)\n",
    "            bb = 0\n",
    "            for x_train,y_train,sol_train in train_dl:\n",
    "                start_time = time.time()\n",
    "                self.optimizer.zero_grad()\n",
    "                y_pred = self.model(x_train).squeeze()\n",
    "                \n",
    "                # The difference from the Two-stage approah is that,\n",
    "                # the loss function considers what happen after solving the knapsack instances\n",
    "                y_spo = 2*y_pred - y_train\n",
    "                grad_list = []\n",
    "                # we have to solve the knpsack problem for all training instances with the predicted energy price\n",
    "                for i in range(len(y_train)):\n",
    "                    sol_spo = knapsack_solver.solve_from_pytorch(y_spo[i])\n",
    "                    # We compute the (sub)gradients directly, see SPO paper\n",
    "                    grad = sol_spo - sol_train[i]\n",
    "                    grad_list.append(grad)\n",
    "                grad = torch.stack(grad_list,0)\n",
    "                y_pred.retain_grad()\n",
    "                # gradients do not come from a loss , but we use SPO subgradients   \n",
    "                y_pred.backward(gradient=grad)\n",
    "                # This is where SPO differes from the Two-stage model\n",
    "                self.optimizer.step()\n",
    "                end_training = time.time()\n",
    "                ## now  we will save mse and regret and traininng data, this will take more time\n",
    "                if (e+1)%3==0:\n",
    "                    mse_loss = criterion(y_pred,y_train).item()\n",
    "                    regret_loss = regret_score(y_train.detach().numpy(),y_pred.detach().numpy())\n",
    "                    end_regret = time.time()\n",
    "                    fit_time += end_training - start_time\n",
    "                    writer.add_scalar('SPO MSE loss',mse_loss, e + bb/self.batch_size,fit_time)\n",
    "                    writer.add_scalar('SPO Regret',regret_loss, e + bb/self.batch_size,fit_time)\n",
    "                bb =+1\n",
    "\n",
    "    def score(self,X,y):\n",
    "        return score_fucn(self.model,X,y)\n",
    "\n",
    "    def predict(self,X):\n",
    "        self.model.eval()\n",
    "        y_pred = self.model(torch.from_numpy(X).float()).squeeze()\n",
    "        self.model.train()\n",
    "        return y_pred.detach().numpy()"
   ]
  },
  {
   "cell_type": "markdown",
   "metadata": {},
   "source": [
    "### Now we will run the SPO model and save the regret and MSE  on test and train data\n",
    "####  We also monitor the leanring curve. It will take 2-3 minutes."
   ]
  },
  {
   "cell_type": "code",
   "execution_count": 18,
   "metadata": {},
   "outputs": [
    {
     "name": "stderr",
     "output_type": "stream",
     "text": [
      "100%|██████████| 10/10 [01:23<00:00,  8.34s/it]\n"
     ]
    }
   ],
   "source": [
    "spo_df = pd.DataFrame()\n",
    "\n",
    "scoring = {'Regret': make_scorer(regret_score),\n",
    "            'MSE': make_scorer(mse)}\n",
    "model = SPO(optim=optim.Adam, epochs=epoch,lr= 0.01)\n",
    "cv = repeatrun(len(y_train),len(y_test))\n",
    "scores = cross_validate(model, x,y, scoring=scoring,cv=cv, return_train_score=True)\n",
    "scores = pd.DataFrame.from_dict(scores)\n",
    "scores['epoch'] = epoch\n",
    "spo_df = spo_df.append(scores)\n",
    "spo_df['model'] =\"SPO\"\n",
    "spo_df.reset_index(inplace=True)"
   ]
  },
  {
   "cell_type": "markdown",
   "metadata": {},
   "source": [
    "### We will see the learning curve on tensorboard"
   ]
  },
  {
   "cell_type": "code",
   "execution_count": 28,
   "metadata": {},
   "outputs": [
    {
     "data": {
      "text/html": [
       "\n",
       "      <iframe id=\"tensorboard-frame-378294e51915e05a\" width=\"100%\" height=\"800\" frameborder=\"0\">\n",
       "      </iframe>\n",
       "      <script>\n",
       "        (function() {\n",
       "          const frame = document.getElementById(\"tensorboard-frame-378294e51915e05a\");\n",
       "          const url = new URL(\"/\", window.location);\n",
       "          const port = 6005;\n",
       "          if (port) {\n",
       "            url.port = port;\n",
       "          }\n",
       "          frame.src = url;\n",
       "        })();\n",
       "      </script>\n",
       "    "
      ],
      "text/plain": [
       "<IPython.core.display.HTML object>"
      ]
     },
     "metadata": {},
     "output_type": "display_data"
    }
   ],
   "source": [
    "%tensorboard --logdir=runs --port=6005"
   ]
  },
  {
   "cell_type": "markdown",
   "metadata": {},
   "source": [
    "## For a two-stage model even though MSE goes down, regret goes up\n",
    "## For SPO, Regret goes down"
   ]
  },
  {
   "cell_type": "markdown",
   "metadata": {},
   "source": [
    "### Now we examine the performance on test data."
   ]
  },
  {
   "cell_type": "code",
   "execution_count": 29,
   "metadata": {},
   "outputs": [
    {
     "data": {
      "text/html": [
       "<div>\n",
       "<style scoped>\n",
       "    .dataframe tbody tr th:only-of-type {\n",
       "        vertical-align: middle;\n",
       "    }\n",
       "\n",
       "    .dataframe tbody tr th {\n",
       "        vertical-align: top;\n",
       "    }\n",
       "\n",
       "    .dataframe thead tr th {\n",
       "        text-align: left;\n",
       "    }\n",
       "\n",
       "    .dataframe thead tr:last-of-type th {\n",
       "        text-align: right;\n",
       "    }\n",
       "</style>\n",
       "<table border=\"1\" class=\"dataframe\">\n",
       "  <thead>\n",
       "    <tr>\n",
       "      <th></th>\n",
       "      <th>test_Regret</th>\n",
       "      <th>test_MSE</th>\n",
       "      <th>fit_time</th>\n",
       "    </tr>\n",
       "    <tr>\n",
       "      <th></th>\n",
       "      <th>mean</th>\n",
       "      <th>mean</th>\n",
       "      <th>mean</th>\n",
       "    </tr>\n",
       "    <tr>\n",
       "      <th>model</th>\n",
       "      <th></th>\n",
       "      <th></th>\n",
       "      <th></th>\n",
       "    </tr>\n",
       "  </thead>\n",
       "  <tbody>\n",
       "    <tr>\n",
       "      <th>SPO</th>\n",
       "      <td>778.197613</td>\n",
       "      <td>143247.205448</td>\n",
       "      <td>88.768923</td>\n",
       "    </tr>\n",
       "    <tr>\n",
       "      <th>Two-stage</th>\n",
       "      <td>972.689750</td>\n",
       "      <td>32204.801679</td>\n",
       "      <td>37.515941</td>\n",
       "    </tr>\n",
       "  </tbody>\n",
       "</table>\n",
       "</div>"
      ],
      "text/plain": [
       "          test_Regret       test_MSE   fit_time\n",
       "                 mean           mean       mean\n",
       "model                                          \n",
       "SPO        778.197613  143247.205448  88.768923\n",
       "Two-stage  972.689750   32204.801679  37.515941"
      ]
     },
     "execution_count": 29,
     "metadata": {},
     "output_type": "execute_result"
    }
   ],
   "source": [
    "rslt_df =  pd.concat([spo_df,regression_df],ignore_index=True)\n",
    "rslt_df.groupby(['model']).agg({'test_Regret':['mean'],'test_MSE': ['mean'],'fit_time':['mean'] })"
   ]
  },
  {
   "cell_type": "markdown",
   "metadata": {},
   "source": [
    "## We see, on test data, regret is significantly lower for SPO, confirming the superiority of this approach."
   ]
  },
  {
   "cell_type": "markdown",
   "metadata": {},
   "source": [
    "## Because we repeatedly call solver while training SPO model, the model fitting time is high for SPO."
   ]
  },
  {
   "cell_type": "markdown",
   "metadata": {},
   "source": [
    "### Previous Code"
   ]
  },
  {
   "cell_type": "markdown",
   "metadata": {},
   "source": [
    "## Two stage model without tensorboard"
   ]
  },
  {
   "cell_type": "code",
   "execution_count": 30,
   "metadata": {},
   "outputs": [],
   "source": [
    "class reg:\n",
    "    def __init__(self, net = nn.Linear(8,1),\n",
    "                 epochs=8,optim=optim.Adam,batch_size=24,lr=1,**kwg):\n",
    "        self.net = net\n",
    "        self.epochs = epochs\n",
    "        self.batch_size = batch_size\n",
    "\n",
    "        self.kwg = kwg\n",
    "        self.optim = optim\n",
    "        self.lr = lr\n",
    "\n",
    "    def get_params(self, deep=True):\n",
    "        para_dict =  {\"net\": self.net, \"epochs\": self.epochs,\n",
    "        \"batch_size\":self.batch_size,\n",
    "        \"optim\":self.optim,\"lr\":self.lr}\n",
    "        return para_dict\n",
    "    def set_params(self, **parameters):\n",
    "        for parameter, value in parameters.items():\n",
    "            setattr(self, parameter, value)\n",
    "        return self\n",
    "\n",
    "    def fit(self,X,y):\n",
    "        self.model = self.net\n",
    "        self.optimizer = self.optim(self.model.parameters(),lr=self.lr, **self.kwg)\n",
    "        criterion = nn.MSELoss(reduction='mean')\n",
    "\n",
    "        train_df = Dataloader(X,y)\n",
    "        fit_time= 0\n",
    "        \n",
    "        for e in range(self.epochs):\n",
    "            train_dl = data_utils.DataLoader(train_df, batch_size=self.batch_size,shuffle=True)\n",
    "            bb = 0\n",
    "            for x_train,y_train,sol_train in train_dl:\n",
    "                start_time = time.time()\n",
    "                self.optimizer.zero_grad()\n",
    "                y_pred = self.model(x_train).squeeze()\n",
    "                loss= criterion(y_pred,y_train)\n",
    "                loss.retain_grad()\n",
    "                y_pred.retain_grad()\n",
    "                loss.backward()                \n",
    "                self.optimizer.step()\n",
    "                end_training = time.time()\n",
    "                bb =+1\n",
    "\n",
    "    def score(self,X,y):\n",
    "        return score_fucn(self.model,X,y)\n",
    "\n",
    "    def predict(self,X):\n",
    "        self.model.eval()\n",
    "        y_pred = self.model(torch.from_numpy(X).float()).squeeze()\n",
    "        self.model.train()\n",
    "        return y_pred.detach().numpy()        "
   ]
  },
  {
   "cell_type": "markdown",
   "metadata": {},
   "source": [
    "## SPO model without tensorboard"
   ]
  },
  {
   "cell_type": "code",
   "execution_count": 31,
   "metadata": {},
   "outputs": [],
   "source": [
    "class SPO:\n",
    "    def __init__(self, net = nn.Linear(8,1),\n",
    "                 epochs=8,optim=optim.Adam,batch_size=24,lr=1,\n",
    "                 **kwg):\n",
    "        self.net = net\n",
    "        self.epochs = epochs\n",
    "        self.batch_size = batch_size\n",
    "        self.kwg = kwg\n",
    "        self.optim = optim\n",
    "        self.lr = lr\n",
    "\n",
    "    def get_params(self, deep=True):\n",
    "        para_dict =  {\"net\": self.net, \"epochs\": self.epochs,\n",
    "        \"batch_size\":self.batch_size,\"optim\":self.optim,\n",
    "        \"lr\":self.lr}\n",
    "        return para_dict\n",
    "    def set_params(self, **parameters):\n",
    "        for parameter, value in parameters.items():\n",
    "            setattr(self, parameter, value)\n",
    "        return self\n",
    "\n",
    "\n",
    "    def fit(self,X,y):\n",
    "        self.model = self.net\n",
    "        self.optimizer = self.optim(self.model.parameters(),lr=self.lr, **self.kwg)\n",
    "        \n",
    "        train_df = Dataloader(X,y)\n",
    "        criterion = nn.MSELoss(reduction='mean')\n",
    "        fit_time= 0\n",
    "        \n",
    "        for e in range(self.epochs):\n",
    "            train_dl = data_utils.DataLoader(train_df, batch_size=self.batch_size,shuffle=True)\n",
    "            bb = 0\n",
    "            for x_train,y_train,sol_train in train_dl:\n",
    "                start_time = time.time()\n",
    "                self.optimizer.zero_grad()\n",
    "                y_pred = self.model(x_train).squeeze()\n",
    "                \n",
    "                # The difference from the Two-stage approah is that,\n",
    "                # the loss function considers what happen after solving the knapsack instances\n",
    "                y_spo = 2*y_pred - y_train\n",
    "                grad_list = []\n",
    "                # we have to solve the knpsack problem for all training instances with the predicted energy price\n",
    "                for i in range(len(y_train)):\n",
    "                    sol_spo = knapsack_solver.solve_from_pytorch(y_spo[i])\n",
    "                    # We compute the (sub)gradients directly, see SPO paper\n",
    "                    grad = sol_spo - sol_train[i]\n",
    "                    grad_list.append(grad)\n",
    "                grad = torch.stack(grad_list,0)\n",
    "                y_pred.retain_grad()\n",
    "                # gradients do not come from a loss , but we use SPO subgradients   \n",
    "                y_pred.backward(gradient=grad)\n",
    "                # This is where SPO differes from the Two-stage model\n",
    "                self.optimizer.step()\n",
    "                end_training = time.time()\n",
    "                bb =+1\n",
    "\n",
    "    def score(self,X,y):\n",
    "        return score_fucn(self.model,X,y)\n",
    "\n",
    "    def predict(self,X):\n",
    "        self.model.eval()\n",
    "        y_pred = self.model(torch.from_numpy(X).float()).squeeze()\n",
    "        self.model.train()\n",
    "        return y_pred.detach().numpy()"
   ]
  },
  {
   "cell_type": "markdown",
   "metadata": {},
   "source": [
    "#### First we run the two stage model for epochs 3,6 and 9. It will take 2 minutes."
   ]
  },
  {
   "cell_type": "code",
   "execution_count": 32,
   "metadata": {},
   "outputs": [
    {
     "name": "stderr",
     "output_type": "stream",
     "text": [
      "100%|██████████| 4/4 [01:12<00:00, 18.16s/it]\n"
     ]
    }
   ],
   "source": [
    "regression_df = pd.DataFrame()\n",
    "for epoch in tqdm(range(0,10,3)):\n",
    "    scoring = {'Regret': make_scorer(regret_score),\n",
    "                'MSE': make_scorer(mse)}\n",
    "    model = reg(optim=optim.SGD, epochs=epoch,lr= 0.01)\n",
    "    cv = repeatrun(len(y_train),len(y_test))\n",
    "    scores = cross_validate(model, x,y, scoring=scoring,cv=cv, return_train_score=True)\n",
    "    scores = pd.DataFrame.from_dict(scores)\n",
    "    scores['epoch'] = epoch\n",
    "    regression_df = regression_df.append(scores)\n",
    "regression_df['model'] =\"Two-stage\"\n",
    "regression_df.reset_index(inplace=True)"
   ]
  },
  {
   "cell_type": "markdown",
   "metadata": {},
   "source": [
    "#### Now we run the SPO model for epochs 3,6 and 9. It will take 3 minutes."
   ]
  },
  {
   "cell_type": "code",
   "execution_count": 33,
   "metadata": {},
   "outputs": [
    {
     "name": "stderr",
     "output_type": "stream",
     "text": [
      "100%|██████████| 4/4 [02:45<00:00, 41.35s/it]\n"
     ]
    }
   ],
   "source": [
    "spo_df = pd.DataFrame()\n",
    "for epoch in tqdm(range(0,10,3)):\n",
    "    scoring = {'Regret': make_scorer(regret_score),\n",
    "                'MSE': make_scorer(mse)}\n",
    "    model = SPO(optim=optim.Adam, epochs=epoch,lr= 0.01)\n",
    "    cv = repeatrun(len(y_train),len(y_test))\n",
    "    scores = cross_validate(model, x,y, scoring=scoring,cv=cv, return_train_score=True)\n",
    "    scores = pd.DataFrame.from_dict(scores)\n",
    "    scores['epoch'] = epoch\n",
    "    spo_df = spo_df.append(scores)\n",
    "spo_df['model'] =\"SPO\"\n",
    "spo_df.reset_index(inplace=True)"
   ]
  },
  {
   "cell_type": "code",
   "execution_count": 34,
   "metadata": {},
   "outputs": [],
   "source": [
    "rslt_df =  pd.concat([spo_df,regression_df],ignore_index=True)"
   ]
  },
  {
   "cell_type": "markdown",
   "metadata": {},
   "source": [
    "## Next we examine how learning progress for the two models"
   ]
  },
  {
   "cell_type": "code",
   "execution_count": 35,
   "metadata": {},
   "outputs": [
    {
     "data": {
      "text/plain": [
       "Text(0.5, 1.0, 'MSE Learning Curve Comparison')"
      ]
     },
     "execution_count": 35,
     "metadata": {},
     "output_type": "execute_result"
    },
    {
     "data": {
      "image/png": "[encoded data removed]",
      "text/plain": [
       "<Figure size 432x288 with 1 Axes>"
      ]
     },
     "metadata": {
      "needs_background": "light"
     },
     "output_type": "display_data"
    }
   ],
   "source": [
    "# This needs title: learning curve\n",
    "sns.lineplot(y='train_MSE', x='epoch',\n",
    "#                  markers=['o', 'v', 'D', 'P', 'X', 'h', 'H',  'd', '^', '8','<', '>', '*', 's', 'p',], \n",
    "             dashes=False,legend=\"full\",\n",
    "                 hue=\"model\",palette=sns.color_palette('bright',n_colors=2),\n",
    "             data = rslt_df).set_title(\"MSE Learning Curve Comparison\")\n"
   ]
  },
  {
   "cell_type": "code",
   "execution_count": 36,
   "metadata": {},
   "outputs": [
    {
     "data": {
      "text/plain": [
       "Text(0.5, 1.0, 'Regret Learning Curve Comparison ')"
      ]
     },
     "execution_count": 36,
     "metadata": {},
     "output_type": "execute_result"
    },
    {
     "data": {
      "image/png": "[encoded data removed]",
      "text/plain": [
       "<Figure size 432x288 with 1 Axes>"
      ]
     },
     "metadata": {
      "needs_background": "light"
     },
     "output_type": "display_data"
    }
   ],
   "source": [
    "sns.lineplot(y='train_Regret', x='epoch',\n",
    "#                  markers=['o', 'v', 'D', 'P', 'X', 'h', 'H',  'd', '^', '8','<', '>', '*', 's', 'p',], \n",
    "                 dashes=False,legend=\"full\",\n",
    "                 hue=\"model\",palette=sns.color_palette('bright',n_colors=2),\n",
    "                 data = rslt_df).set_title(\"Regret Learning Curve Comparison \")"
   ]
  },
  {
   "cell_type": "markdown",
   "metadata": {},
   "source": [
    "## For a two-stage model even though MSE goes down, regret goes up\n",
    "## For SPO, Regret goes down"
   ]
  },
  {
   "cell_type": "markdown",
   "metadata": {},
   "source": [
    "### Now we examine the performance on test data."
   ]
  },
  {
   "cell_type": "code",
   "execution_count": 37,
   "metadata": {},
   "outputs": [
    {
     "data": {
      "text/html": [
       "<div>\n",
       "<style scoped>\n",
       "    .dataframe tbody tr th:only-of-type {\n",
       "        vertical-align: middle;\n",
       "    }\n",
       "\n",
       "    .dataframe tbody tr th {\n",
       "        vertical-align: top;\n",
       "    }\n",
       "\n",
       "    .dataframe thead tr th {\n",
       "        text-align: left;\n",
       "    }\n",
       "\n",
       "    .dataframe thead tr:last-of-type th {\n",
       "        text-align: right;\n",
       "    }\n",
       "</style>\n",
       "<table border=\"1\" class=\"dataframe\">\n",
       "  <thead>\n",
       "    <tr>\n",
       "      <th></th>\n",
       "      <th>test_Regret</th>\n",
       "      <th>test_MSE</th>\n",
       "      <th>fit_time</th>\n",
       "    </tr>\n",
       "    <tr>\n",
       "      <th></th>\n",
       "      <th>mean</th>\n",
       "      <th>mean</th>\n",
       "      <th>mean</th>\n",
       "    </tr>\n",
       "    <tr>\n",
       "      <th>model</th>\n",
       "      <th></th>\n",
       "      <th></th>\n",
       "      <th></th>\n",
       "    </tr>\n",
       "  </thead>\n",
       "  <tbody>\n",
       "    <tr>\n",
       "      <th>SPO</th>\n",
       "      <td>737.539009</td>\n",
       "      <td>143795.787924</td>\n",
       "      <td>52.469133</td>\n",
       "    </tr>\n",
       "    <tr>\n",
       "      <th>Two-stage</th>\n",
       "      <td>972.689750</td>\n",
       "      <td>32179.587660</td>\n",
       "      <td>5.965457</td>\n",
       "    </tr>\n",
       "  </tbody>\n",
       "</table>\n",
       "</div>"
      ],
      "text/plain": [
       "          test_Regret       test_MSE   fit_time\n",
       "                 mean           mean       mean\n",
       "model                                          \n",
       "SPO        737.539009  143795.787924  52.469133\n",
       "Two-stage  972.689750   32179.587660   5.965457"
      ]
     },
     "execution_count": 37,
     "metadata": {},
     "output_type": "execute_result"
    }
   ],
   "source": [
    "rslt_df[rslt_df.epoch==9].groupby(['model']).agg({'test_Regret':['mean'],'test_MSE': ['mean'],'fit_time':['mean']  })"
   ]
  },
  {
   "cell_type": "markdown",
   "metadata": {},
   "source": [
    "## Because we repeatedly call solver while training SPO model, the model fitting time is high for SPO."
   ]
  },
  {
   "cell_type": "markdown",
   "metadata": {},
   "source": [
    "## We see, on test data, regret is significantly lower for SPO, confirming the superiority of this approach."
   ]
  }
 ],
 "metadata": {
  "kernelspec": {
   "display_name": "Python 3",
   "language": "python",
   "name": "python3"
  },
  "language_info": {
   "codemirror_mode": {
    "name": "ipython",
    "version": 3
   },
   "file_extension": ".py",
   "mimetype": "text/x-python",
   "name": "python",
   "nbconvert_exporter": "python",
   "pygments_lexer": "ipython3",
   "version": "3.7.3"
  }
 },
 "nbformat": 4,
 "nbformat_minor": 2
}
