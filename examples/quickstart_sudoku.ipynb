{
 "cells": [
  {
   "cell_type": "markdown",
   "metadata": {},
   "source": [
    "# Quick start, sudoku example\n",
    "\n",
    "If you want to run this on your local machine, make sure to install CPMpy first:\n",
    "\n",
    "    pip3 install cpmpy\n",
    "    \n",
    "## Loading the libraries\n"
   ]
  },
  {
   "cell_type": "code",
   "execution_count": 1,
   "metadata": {},
   "outputs": [],
   "source": [
    "# load the libraries\n",
    "import numpy as np\n",
    "from cpmpy import *"
   ]
  },
  {
   "cell_type": "markdown",
   "metadata": {},
   "source": [
    "## A sudoku puzzle\n",
    "\n",
    "Sudoku is a logic-based number puzzle, played on a partially filled 9x9 grid. The goal is to find the unique solution by filling in the empty grid cells with numbers from 1 to 9 in such a way that each row, each column and each of the nine 3x3 subgrids contain all the numbers from 1 to 9 once and only once.\n",
    "\n",
    "We now define an example 9x9 puzzle, with some grid cells given and some empty:"
   ]
  },
  {
   "cell_type": "code",
   "execution_count": 2,
   "metadata": {},
   "outputs": [],
   "source": [
    "e = 0 # value for empty cells\n",
    "given = np.array([\n",
    "    [e, e, e,  2, e, 5,  e, e, e],\n",
    "    [e, 9, e,  e, e, e,  7, 3, e],\n",
    "    [e, e, 2,  e, e, 9,  e, 6, e],\n",
    "\n",
    "    [2, e, e,  e, e, e,  4, e, 9],\n",
    "    [e, e, e,  e, 7, e,  e, e, e],\n",
    "    [6, e, 9,  e, e, e,  e, e, 1],\n",
    "\n",
    "    [e, 8, e,  4, e, e,  1, e, e],\n",
    "    [e, 6, 3,  e, e, e,  e, 8, e],\n",
    "    [e, e, e,  6, e, 8,  e, e, e]])"
   ]
  },
  {
   "cell_type": "markdown",
   "metadata": {},
   "source": [
    "Note how we use `e` to represent the empty cells, where `e` is a standard python variable that we gave value `0`, e.g. the cells with a `0` value are the ones we seek.\n",
    "\n",
    "## Variables and domains\n",
    "Let's have a look at the problem description again:\n",
    "\n",
    "* The goal is to find the unique solution by filling in the empty grid cells with numbers from 1 to 9\n",
    "    \n",
    "We will model this with Integer Decision Variables with a value of at least 1 and at most 9, arranged in a matrix just like the given puzzle:"
   ]
  },
  {
   "cell_type": "code",
   "execution_count": 3,
   "metadata": {},
   "outputs": [],
   "source": [
    "# Variables\n",
    "puzzle = intvar(1, 9, shape=given.shape, name=\"puzzle\")"
   ]
  },
  {
   "cell_type": "markdown",
   "metadata": {},
   "source": [
    "## Modeling the constraints\n",
    "\n",
    "* each row, \n",
    "* each column and\n",
    "* each of the nine 3x3 subgrids contain all the numbers from 1 to 9 once and only once.\n",
    "\n",
    "We will use the `AllDifferent()` global constraint for this."
   ]
  },
  {
   "cell_type": "code",
   "execution_count": 4,
   "metadata": {},
   "outputs": [],
   "source": [
    "# we create a model with the row/column constraints\n",
    "model = Model(\n",
    "    # Constraints on rows and columns\n",
    "    [AllDifferent(row) for row in puzzle],\n",
    "    [AllDifferent(col) for col in puzzle.T], # numpy's Transpose\n",
    ")\n",
    "\n",
    "# we extend it with the block constraints\n",
    "# Constraints on blocks\n",
    "for i in range(0,9, 3):\n",
    "    for j in range(0,9, 3):\n",
    "        model += AllDifferent(puzzle[i:i+3, j:j+3]) # python's indexing\n",
    "\n",
    "# Constraints on values (cells that are not empty)\n",
    "model += (puzzle[given!=e] == given[given!=e]) # numpy's indexing"
   ]
  },
  {
   "cell_type": "markdown",
   "metadata": {},
   "source": [
    "The last constraint ensures that grid cells that are not empty (e.g. `given != e`) receive their given value.\n",
    "\n",
    "## Solving\n",
    "\n",
    "With the data, variables and constraints set, we can now combine these in a CP model, and use a solver to solve it:"
   ]
  },
  {
   "cell_type": "code",
   "execution_count": 5,
   "metadata": {},
   "outputs": [
    {
     "name": "stdout",
     "output_type": "stream",
     "text": [
      "[[3 7 8 2 6 5 9 1 4]\n",
      " [5 9 6 8 1 4 7 3 2]\n",
      " [1 4 2 7 3 9 5 6 8]\n",
      " [2 1 7 3 8 6 4 5 9]\n",
      " [8 5 4 9 7 1 6 2 3]\n",
      " [6 3 9 5 4 2 8 7 1]\n",
      " [7 8 5 4 2 3 1 9 6]\n",
      " [4 6 3 1 9 7 2 8 5]\n",
      " [9 2 1 6 5 8 3 4 7]]\n"
     ]
    }
   ],
   "source": [
    "# Solve and print\n",
    "if model.solve():\n",
    "    print(puzzle.value())\n",
    "else:\n",
    "    print(\"No solution found\")"
   ]
  },
  {
   "cell_type": "markdown",
   "metadata": {},
   "source": [
    "More examples can be found in the `examples/` folder.\n",
    "\n",
    "Have fun!"
   ]
  }
 ],
 "metadata": {
  "kernelspec": {
   "display_name": "Python 3",
   "language": "python",
   "name": "python3"
  },
  "language_info": {
   "codemirror_mode": {
    "name": "ipython",
    "version": 3
   },
   "file_extension": ".py",
   "mimetype": "text/x-python",
   "name": "python",
   "nbconvert_exporter": "python",
   "pygments_lexer": "ipython3",
   "version": "3.7.3"
  }
 },
 "nbformat": 4,
 "nbformat_minor": 2
}
