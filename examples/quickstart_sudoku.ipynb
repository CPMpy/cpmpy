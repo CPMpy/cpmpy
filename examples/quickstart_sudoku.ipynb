{
 "cells": [
  {
   "cell_type": "markdown",
   "metadata": {},
   "source": [
    "# Quick start, sudoku example\n",
    "\n",
    "If you want to run this on your local machine, make sure to install CPMpy first:\n",
    "\n",
    "    pip3 install cpmpy\n",
    "    \n",
    "## Loading the libraries\n"
   ]
  },
  {
   "cell_type": "code",
   "execution_count": 1,
   "metadata": {},
   "outputs": [],
   "source": [
    "# load the libraries\n",
    "import numpy as np\n",
    "from cpmpy import *"
   ]
  },
  {
   "cell_type": "markdown",
   "metadata": {},
   "source": [
    "## A sudoku puzzle\n",
    "\n",
    "Sudoku is a logic-based number puzzle, played on a partially filled 9x9 grid. The goal is to find the unique solution by filling in the empty grid cells with numbers from 1 to 9 in such a way that each row, each column and each of the nine 3x3 subgrids contain all the numbers from 1 to 9 once and only once.\n",
    "\n",
    "We now define an example 9x9 puzzle, with some grid cells given and some empty:"
   ]
  },
  {
   "cell_type": "code",
   "execution_count": 2,
   "metadata": {},
   "outputs": [],
   "source": [
    "e = 0 # value for empty cells\n",
    "given = np.array([\n",
    "    [e, e, 2,  4, 1, e,  e, e, 5],\n",
    "    [1, e, 4,  3, e, e,  e, e, e],\n",
    "    [e, 8, e,  2, 7, 5,  3, 4, 1],\n",
    "\n",
    "    [e, e, e,  e, 3, 1,  e, e, e],\n",
    "    [7, 9, e,  e, e, e,  e, 2, e],\n",
    "    [e, e, e,  e, e, e,  e, e, e],\n",
    "\n",
    "    [e, e, e,  e, e, 4,  e, 6, e],\n",
    "    [5, e, e,  8, e, e,  4, e, 9],\n",
    "    [e, 4, e,  1, e, 3,  5, 7, e]])"
   ]
  },
  {
   "cell_type": "markdown",
   "metadata": {},
   "source": [
    "Note how we use `e` to represent the empty cells, where `e` is a standard python variable that we gave value `0`, e.g. the cells with a `0` value are the ones we seek.\n",
    "\n",
    "## Variables and domains\n",
    "Let's have a look at the problem description again:\n",
    "\n",
    "* The goal is to find the unique solution by filling in the empty grid cells with numbers from 1 to 9\n",
    "    \n",
    "We will model this with Integer Decision Variables with a value of at least 1 and at most 9, arranged in a matrix just like the given puzzle:"
   ]
  },
  {
   "cell_type": "code",
   "execution_count": null,
   "metadata": {},
   "outputs": [],
   "source": [
    "model = Model()\n",
    "\n",
    "# Variables\n",
    "puzzle = intvar(1, 9, shape=given.shape, name=\"puzzle\")\n",
    "\n",
    "# Constraints on rows and columns\n",
    "model += [AllDifferent(row) for row in puzzle]\n",
    "model += [AllDifferent(col) for col in puzzle.T]\n",
    "\n",
    "# Constraints on blocks\n",
    "for i in range(0,9, 3):\n",
    "    for j in range(0,9, 3):\n",
    "        model += AllDifferent(puzzle[i:i+3, j:j+3])\n",
    "\n",
    "# Constraints on values (cells that are not empty)\n",
    "model += (puzzle[given!=e] == given[given!=e])\n",
    "\n",
    "\n",
    "model.solve()"
   ]
  },
  {
   "cell_type": "code",
   "execution_count": null,
   "metadata": {},
   "outputs": [],
   "source": []
  },
  {
   "cell_type": "code",
   "execution_count": 3,
   "metadata": {},
   "outputs": [],
   "source": [
    "# Variables\n",
    "puzzle = intvar(1, 9, shape=given.shape, name=\"puzzle\")"
   ]
  },
  {
   "cell_type": "markdown",
   "metadata": {},
   "source": [
    "## Modeling the constraints\n",
    "\n",
    "* each row, \n",
    "* each column and\n",
    "* each of the nine 3x3 subgrids contain all the numbers from 1 to 9 once and only once.\n",
    "\n",
    "We will use the `AllDifferent()` global constraint for this."
   ]
  },
  {
   "cell_type": "code",
   "execution_count": 4,
   "metadata": {},
   "outputs": [],
   "source": [
    "# we create a model with the row/column constraints\n",
    "model = Model(\n",
    "    # Constraints on rows and columns\n",
    "\n",
    ")\n",
    "\n",
    "# we extend it with the block constraints\n",
    "# Constraints on blocks\n",
    "for i in range(0,9, 3):\n",
    "    for j in range(0,9, 3):\n",
    "        model += AllDifferent(puzzle[i:i+3, j:j+3]) # python's indexing\n",
    "\n",
    "# Constraints on values (cells that are not empty)\n",
    "model += (puzzle[given!=e] == given[given!=e]) # numpy's indexing"
   ]
  },
  {
   "cell_type": "markdown",
   "metadata": {},
   "source": [
    "The last constraint ensures that grid cells that are not empty (e.g. `given != e`) receive their given value.\n",
    "\n",
    "## Solving\n",
    "\n",
    "With the data, variables and constraints set, we can now combine these in a CP model, and use a solver to solve it:"
   ]
  },
  {
   "cell_type": "code",
   "execution_count": 5,
   "metadata": {},
   "outputs": [
    {
     "name": "stdout",
     "output_type": "stream",
     "text": [
      "[[3 7 2 4 1 9 6 8 5]\n",
      " [1 5 4 3 8 6 2 9 7]\n",
      " [6 8 9 2 7 5 3 4 1]\n",
      " [2 6 8 9 3 1 7 5 4]\n",
      " [7 9 3 5 4 8 1 2 6]\n",
      " [4 1 5 6 2 7 9 3 8]\n",
      " [9 2 1 7 5 4 8 6 3]\n",
      " [5 3 7 8 6 2 4 1 9]\n",
      " [8 4 6 1 9 3 5 7 2]]\n"
     ]
    }
   ],
   "source": [
    "# Solve and print\n",
    "if model.solve():\n",
    "    print(puzzle.value())\n",
    "else:\n",
    "    print(\"No solution found\")"
   ]
  },
  {
   "cell_type": "markdown",
   "metadata": {},
   "source": [
    "More examples can be found in the `examples/` folder.\n",
    "\n",
    "Have fun!"
   ]
  }
 ],
 "metadata": {
  "kernelspec": {
   "display_name": "Python 3",
   "language": "python",
   "name": "python3"
  },
  "language_info": {
   "codemirror_mode": {
    "name": "ipython",
    "version": 3
   },
   "file_extension": ".py",
   "mimetype": "text/x-python",
   "name": "python",
   "nbconvert_exporter": "python",
   "pygments_lexer": "ipython3",
   "version": "3.9.2"
  }
 },
 "nbformat": 4,
 "nbformat_minor": 2
}
