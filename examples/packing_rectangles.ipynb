{
 "cells": [
  {
   "cell_type": "markdown",
   "id": "meaningful-hybrid",
   "metadata": {},
   "source": [
    "# Packing problem in CPMpy, with visualization\n",
    "\n",
    "Based on Alexander Schiendorfer's, but with simplified visualization\n",
    "https://github.com/Alexander-Schiendorfer/cp-examples/tree/main/packing\n",
    "\n",
    "Given some 2D rectangels, find the (minimum) 2D area to pack them.\n",
    "\n",
    "This example requires you to install _matplotlib_."
   ]
  },
  {
   "cell_type": "code",
   "execution_count": 1,
   "id": "8b247c9d",
   "metadata": {},
   "outputs": [],
   "source": [
    "! pip install matplotlib --quiet"
   ]
  },
  {
   "cell_type": "code",
   "execution_count": 2,
   "id": "least-understanding",
   "metadata": {},
   "outputs": [],
   "source": [
    "import matplotlib.pyplot as plt\n",
    "from cpmpy import *\n",
    "from cpmpy.expressions.utils import all_pairs"
   ]
  },
  {
   "cell_type": "code",
   "execution_count": 3,
   "id": "consolidated-kingston",
   "metadata": {},
   "outputs": [],
   "source": [
    "# the CPMpy model and variables\n",
    "def model_packing_rectangular(widths, heights):\n",
    "    # Number of different items\n",
    "    n = len(widths)\n",
    "\n",
    "    # max dimensions of the whole area\n",
    "    area_min_x, area_max_x = max(widths), sum(widths)\n",
    "    area_min_y, area_max_y = max(heights), sum(heights)\n",
    "\n",
    "    # Decision variables\n",
    "    pos_x = intvar(0, area_max_x, shape=n)\n",
    "    pos_y = intvar(0, area_max_y, shape=n)\n",
    "\n",
    "    total_x = intvar(area_min_x, area_max_x)\n",
    "    total_y = intvar(area_min_y, area_max_y)\n",
    "\n",
    "    m = Model()\n",
    "\n",
    "    ## Necessary constraints\n",
    "    # Every item has to be within the overall area\n",
    "    m += [pos_x + widths <= total_x,\n",
    "          pos_y + heights <= total_y]\n",
    "\n",
    "    # No-overlap: every item has to be fully above, below or next to every other item\n",
    "    for i,j in all_pairs(range(n)):\n",
    "        m += ((pos_x[i] + widths[i] <= pos_x[j]) |\n",
    "              (pos_x[j] + widths[j] <= pos_x[i]) |\n",
    "              (pos_y[i] + heights[i] <= pos_y[j]) |\n",
    "              (pos_y[j] + heights[j] <= pos_y[i]))\n",
    "\n",
    "    # Minimize wrt the overall area\n",
    "    m.minimize(total_x*total_y)\n",
    "    \n",
    "    ## Optional constraints\n",
    "    # The needed space needs to be wider than taller\n",
    "    # m += (total_x > total_y),\n",
    "\n",
    "    # The needed space has to have a width larger than 10\n",
    "    # m += (total_x >= 10),\n",
    "\n",
    "    # The needed space has to have a height larger than 10\n",
    "    # m += (total_y >= 10)\n",
    "\n",
    "    return m, (pos_x, pos_y, total_x, total_y)"
   ]
  },
  {
   "cell_type": "code",
   "execution_count": 4,
   "id": "adult-stephen",
   "metadata": {},
   "outputs": [],
   "source": [
    "# the visualisation: add rectangles to a matplotlib figure\n",
    "def visualize_packing(widths, heights, pos_x, pos_y):\n",
    "    n = len(widths) # Amount of items\n",
    "\n",
    "    fig, ax = plt.subplots(figsize=(10,10))\n",
    "\n",
    "    ax.set_xlim((0, max(pos_x + widths)))\n",
    "    ax.set_ylim((0, max(pos_y + heights)))\n",
    "    ax.set_aspect('equal') # same scales\n",
    "\n",
    "    for (x,y,w,h) in zip(pos_x, pos_y, widths, heights):\n",
    "        ax.add_patch(plt.Rectangle((x,y),\n",
    "                                   w, h,\n",
    "                                   edgecolor='white'))\n",
    "        ax.annotate(f\"{w} x {h}\", (x+w/2.0, y+h/2.0), ha='center', va='center',\n",
    "                    color='white', fontsize=12)\n",
    "\n",
    "    plt.title(f\"Area: {max(pos_x + widths)*max(pos_y + heights)}\")\n",
    "    return plt.show()"
   ]
  },
  {
   "cell_type": "code",
   "execution_count": 5,
   "id": "wireless-retreat",
   "metadata": {},
   "outputs": [],
   "source": [
    "# Example data for rectangle packing, 2D dimensions of the rectangles to pack\n",
    "widths  = [5, 6, 4, 3, 2, 4, 3, 1, 2, 1, 7, 3]\n",
    "heights = [1, 2, 3, 2, 1, 2, 4, 6, 5, 1, 1, 2]"
   ]
  },
  {
   "cell_type": "code",
   "execution_count": 6,
   "id": "virtual-slave",
   "metadata": {},
   "outputs": [
    {
     "name": "stdout",
     "output_type": "stream",
     "text": [
      "Total area: 88\n",
      "pos_x: [2 2 3 5 0 3 0 7 0 0 1 2]\n",
      "pos_y: [ 5  8  2  6  9  0  0  0  4 10 10  6]\n"
     ]
    },
    {
     "data": {
      "image/png": "[encoded data removed]",
      "text/plain": [
       "<Figure size 1000x1000 with 1 Axes>"
      ]
     },
     "metadata": {},
     "output_type": "display_data"
    }
   ],
   "source": [
    "# model, solve, visualize\n",
    "(model, (pos_x, pos_y, total_x, total_y)) = model_packing_rectangular(widths, heights)\n",
    "\n",
    "sat = model.solve()\n",
    "if not sat: raise Exception(\"No solution found.\")\n",
    "\n",
    "# text output\n",
    "print(f\"Total area: {total_x.value()*total_y.value()}\")\n",
    "print(\"pos_x:\", pos_x.value())\n",
    "print(\"pos_y:\", pos_y.value())\n",
    "\n",
    "# visualization\n",
    "visualize_packing(widths, heights, pos_x.value(), pos_y.value())"
   ]
  },
  {
   "cell_type": "code",
   "execution_count": null,
   "id": "responsible-celtic",
   "metadata": {},
   "outputs": [],
   "source": []
  }
 ],
 "metadata": {
  "kernelspec": {
   "display_name": "Python 3 (ipykernel)",
   "language": "python",
   "name": "python3"
  },
  "language_info": {
   "codemirror_mode": {
    "name": "ipython",
    "version": 3
   },
   "file_extension": ".py",
   "mimetype": "text/x-python",
   "name": "python",
   "nbconvert_exporter": "python",
   "pygments_lexer": "ipython3",
   "version": "3.10.9"
  }
 },
 "nbformat": 4,
 "nbformat_minor": 5
}
