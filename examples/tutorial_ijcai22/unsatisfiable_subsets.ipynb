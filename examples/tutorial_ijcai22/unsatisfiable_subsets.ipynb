{
 "cells": [
  {
   "cell_type": "code",
   "execution_count": 7,
   "id": "d4966989",
   "metadata": {},
   "outputs": [],
   "source": [
    "import numpy as np\n",
    "from cpmpy import *\n",
    "\n",
    "import timeit\n",
    "from IPython.display import display, HTML # display some titles\n",
    "import random"
   ]
  },
  {
   "cell_type": "markdown",
   "id": "069c14d5",
   "metadata": {},
   "source": [
    "TODO: \n",
    "\n",
    "- add a description of MUS as an explanation for unsatisfiability\n",
    "- Smallest MUS\n",
    "- Adding preferences or weights to the constraints "
   ]
  },
  {
   "cell_type": "markdown",
   "id": "5cd840aa",
   "metadata": {},
   "source": [
    "# Unsatisfiable int model"
   ]
  },
  {
   "cell_type": "code",
   "execution_count": 16,
   "id": "2ebcd884",
   "metadata": {},
   "outputs": [],
   "source": [
    "def unsat_int_model():\n",
    "    # weights correspond to prefrences or difficutly of a constraint when\n",
    "    # computing an OCUS\n",
    "    # SMUS: assign unit weights \n",
    "    # weights = [1] * 10\n",
    "    weights = [10, 10, 10, 1, 1, 40, 20, 20, 20, 1]\n",
    "\n",
    "    x = intvar(-9, 9, name=\"x\")\n",
    "    y = intvar(-9, 9, name=\"y\")\n",
    "\n",
    "    m = Model(\n",
    "        x < 0, \n",
    "        x < 1,\n",
    "        x > 2,\n",
    "        x == 4,\n",
    "        y == 4, \n",
    "        (x + y > 0) | (y < 0),\n",
    "        (y >= 0) | (x >= 0),\n",
    "        (y < 0) | (x < 0),\n",
    "        (y > 0) | (x < 0),\n",
    "        AllDifferent(x,y) # invalid for musx_assum\n",
    "    )\n",
    "    assert (m.solve() is False)\n",
    "\n",
    "    return m, weights"
   ]
  },
  {
   "cell_type": "markdown",
   "id": "6673464d",
   "metadata": {},
   "source": [
    "# SUDOKU  "
   ]
  },
  {
   "cell_type": "code",
   "execution_count": 9,
   "id": "c07a3867",
   "metadata": {},
   "outputs": [],
   "source": [
    "def print_sudoku(grid):\n",
    "    # Puzzel dimensions\n",
    "    nrow = ncol = len(grid)\n",
    "    n = int(nrow ** (1/2))\n",
    "\n",
    "    out = \"\"    \n",
    "    for r in range(0,nrow):\n",
    "        for c in range(0,ncol):\n",
    "            out += str(grid[r, c] if grid[r, c] > 0 else ' ')\n",
    "            out += '  ' if grid[r, c] else '  '\n",
    "            if (c+1) % n == 0 and c != nrow-1: # end of block\n",
    "                out += '| '\n",
    "        out += '\\n'\n",
    "        if (r+1) % n == 0 and r != nrow-1: # end of block\n",
    "            out += ('-'*(n + 2*n))\n",
    "            out += ('+' + '-'*(n + 2*n + 1)) *(n-1) + '\\n'\n",
    "    print(out)   \n",
    "\n",
    "def model_sudoku(given):\n",
    "    #empty cell\n",
    "    e = 0\n",
    "    # Dimensions of the sudoku problem\n",
    "    ncol = nrow = len(given)\n",
    "    n = int(ncol ** (1/2))\n",
    "\n",
    "    # Model Variables\n",
    "    cells = intvar(1,ncol,shape=given.shape,name=\"cells\")\n",
    "    \n",
    "    # sudoku must start from initial clues\n",
    "    facts = list(cells[given != e] == given[given != e])\n",
    "    # rows constraint\n",
    "    row_cons = [AllDifferent(row) for row in cells]\n",
    "    # columns constraint\n",
    "    col_cons = [AllDifferent(col) for col in cells.T]\n",
    "    # blocks constraint\n",
    "    # Constraints on blocks\n",
    "    block_cons = []\n",
    "\n",
    "    for i in range(0,nrow, n):\n",
    "        for j in range(0,ncol, n):\n",
    "            block_cons += [AllDifferent(cells[i:i+n, j:j+n])]\n",
    "\n",
    "    return cells, facts, row_cons + col_cons + block_cons\n",
    "\n",
    "def extract_solution(constraints, variables):\n",
    "    solved = Model(constraints).solve()\n",
    "    assert solved, \"Model is unsatisfiable.\"     \n",
    "    return variables.value()\n"
   ]
  },
  {
   "cell_type": "markdown",
   "id": "144dded8",
   "metadata": {},
   "source": [
    "# OCUS-based explanations of Unsatisfiability\n",
    "\n",
    "OCUS, or Optimal Constrained Unsatisfiable SUbsets, is a cost-optimal unsatisfiable subset that has a structural constraint.\n",
    "The OCUS algorithm takes advantage of the implicit hitting set duality to efficiently compute an OCUS. \n",
    "\n",
    "## OCUS without assumptions "
   ]
  },
  {
   "cell_type": "code",
   "execution_count": 15,
   "id": "fe97e379",
   "metadata": {},
   "outputs": [],
   "source": [
    "def OCUS(soft, soft_weights, hard=[], solver='ortools', verbose=1):\n",
    "    ## Mip model\n",
    "    if Model(hard+soft).solve():\n",
    "        if verbose:\n",
    "            print(\"Unexpectedly, the model is SAT\")\n",
    "        return []\n",
    "\n",
    "    # decision variables of hitting set problem\n",
    "    hs_vars = boolvar(shape=len(soft), name=\"hs_vars\")\n",
    "\n",
    "    hs_model = Model(\n",
    "        # Objective: min sum(w_l * x_l)\n",
    "        minimize=sum(soft_weights[id] * var for id, var in enumerate(hs_vars))\n",
    "    )\n",
    "\n",
    "    # instantiate hitting set solver\n",
    "    hittingset_solver = SolverLookup.lookup(solver)(hs_model)\n",
    "\n",
    "    while(True):\n",
    "        # Get hitting set\n",
    "        hittingset_solver.solve()\n",
    "        hs_ids = np.where(hs_vars.value() == 1)[0]\n",
    "\n",
    "        hs_soft = [soft[i] for i in hs_ids]\n",
    "\n",
    "        # instantiate model every loop\n",
    "        if not Model(hard+hs_soft).solve():\n",
    "            return hs_soft\n",
    "\n",
    "        # compute complement of model in formula F\n",
    "        C = hs_vars[hs_vars.value() != 1]\n",
    "\n",
    "        # Add complement as a new set to hit: sum x[j] * hij >= 1\n",
    "        hittingset_solver += (sum(C) >= 1)"
   ]
  },
  {
   "cell_type": "markdown",
   "id": "70562027",
   "metadata": {},
   "source": [
    "## OCUS with assumptions "
   ]
  },
  {
   "cell_type": "code",
   "execution_count": 11,
   "id": "11d22a31",
   "metadata": {},
   "outputs": [],
   "source": [
    "def OCUS_assum(soft, soft_weights, hard=[], solver='ortools', verbose=1):\n",
    "    # init with hard constraints\n",
    "    assum_model = Model(hard)\n",
    "\n",
    "    # make assumption indicators, add reified constraints\n",
    "    ind = BoolVar(shape=len(soft), name=\"ind\")\n",
    "    for i,bv in enumerate(ind):\n",
    "        assum_model += [bv.implies(soft[i])]\n",
    "    # to map indicator variable back to soft_constraints\n",
    "    indmap = dict((v,i) for (i,v) in enumerate(ind))\n",
    "\n",
    "    assum_solver = SolverLookup.lookup(solver)(assum_model)\n",
    "\n",
    "    if assum_solver.solve(assumptions=ind):\n",
    "        return []\n",
    "\n",
    "    ## \n",
    "    hs_model = Model(\n",
    "        # Objective: min sum(x_l * w_l)\n",
    "        minimize=sum(x_l * w_l for x_l, w_l in zip(ind, soft_weights))\n",
    "    )\n",
    "\n",
    "    # instantiate hitting set solver\n",
    "    hittingset_solver = SolverLookup.lookup(solver)(hs_model)\n",
    "\n",
    "    while(True):\n",
    "        hittingset_solver.solve()\n",
    "\n",
    "        # Get hitting set\n",
    "        hs = ind[ind.value() == 1]\n",
    "\n",
    "\n",
    "        if not assum_solver.solve(assumptions=hs):\n",
    "            return soft[ind.value() == 1]\n",
    "\n",
    "        # compute complement of model in formula F\n",
    "        C = ind[ind.value() != 1]\n",
    "\n",
    "        # Add complement as a new set to hit: sum x[j] * hij >= 1\n",
    "        hittingset_solver += (sum(C) >= 1)"
   ]
  },
  {
   "cell_type": "markdown",
   "id": "9c13d513",
   "metadata": {},
   "source": [
    "# Testing the speed of OCUS with and without assumptions\n",
    "## OCUS for unsat int model"
   ]
  },
  {
   "cell_type": "code",
   "execution_count": 13,
   "id": "bdb0a64f",
   "metadata": {},
   "outputs": [
    {
     "name": "stdout",
     "output_type": "stream",
     "text": [
      "OCUS without assumptions:\n",
      "\tExecution time is 0.0454317678399093 seconds\n",
      "OCUS with assumptions:\n",
      "\tExecution time is 0.050682117760006806 seconds\n"
     ]
    }
   ],
   "source": [
    "model, weights = unsat_int_model()\n",
    "# Number of times the OCUS is \n",
    "n = 100\n",
    "\n",
    "# calculate total execution time\n",
    "result_ocus = timeit.timeit(\n",
    "    lambda: OCUS(soft=model.constraints, soft_weights=weights, hard=[]), \n",
    "    number=n\n",
    ")\n",
    "print(f\"OCUS without assumptions:\\n\\tExecution time is {result_ocus / n} seconds\")\n",
    "\n",
    "result_ocus_assum = timeit.timeit(\n",
    "    lambda: OCUS_assum(soft=np.array(model.constraints), soft_weights=weights, hard=[]), \n",
    "    number=n\n",
    ")\n",
    "print(f\"OCUS with assumptions:\\n\\tExecution time is {result_ocus_assum / n} seconds\")"
   ]
  },
  {
   "cell_type": "markdown",
   "id": "0c885bcf",
   "metadata": {},
   "source": [
    "## Explaining an unsatisfiable SUDOKU\n",
    "\n",
    "In this part, we test the speed of solving a small unsatisfiable sudoku with and without assumptions.\n",
    "We start from a given satisfiable sudoku, and solve it. \n",
    "\n",
    "To make the sudoku unsatisfiable, we select an empty cell at position (i,j) ***cell[i, j]*** with its corresponding target value **sol[i,j]** and add the inequality **[cell[i, j] != sol[i,j]]** to the constraints of the model.\n",
    "\n",
    "For instance:\n",
    "\n",
    "       3  | 4     \n",
    "    4     |    2  \n",
    "    ------+-------\n",
    "    1     |    3  \n",
    "       2  | 1     \n",
    "       \n",
    "\n",
    "We know that in the satisfying solution cell[0,0] must be value 2. To make our model unsatisfiable, we add  ___cell[0,0] != sol[0,0]___."
   ]
  },
  {
   "cell_type": "markdown",
   "id": "14e8bdfc",
   "metadata": {},
   "source": [
    "### Sudoku model"
   ]
  },
  {
   "cell_type": "code",
   "execution_count": 14,
   "id": "f46c9443",
   "metadata": {},
   "outputs": [
    {
     "data": {
      "text/html": [
       "<h3> INPUT SUDOKU</h3>"
      ],
      "text/plain": [
       "<IPython.core.display.HTML object>"
      ]
     },
     "metadata": {},
     "output_type": "display_data"
    },
    {
     "name": "stdout",
     "output_type": "stream",
     "text": [
      "   3  | 4     \n",
      "4     |    2  \n",
      "------+-------\n",
      "1     |    3  \n",
      "   2  | 1     \n",
      "\n"
     ]
    },
    {
     "data": {
      "text/html": [
       "<h3> SOLUTION </h3>"
      ],
      "text/plain": [
       "<IPython.core.display.HTML object>"
      ]
     },
     "metadata": {},
     "output_type": "display_data"
    },
    {
     "name": "stdout",
     "output_type": "stream",
     "text": [
      "2  3  | 4  1  \n",
      "4  1  | 3  2  \n",
      "------+-------\n",
      "1  4  | 2  3  \n",
      "3  2  | 1  4  \n",
      "\n"
     ]
    }
   ],
   "source": [
    "e = 0\n",
    "\n",
    "given_4x4 = np.array([\n",
    "    [ e, 3, 4, e ],\n",
    "    [ 4, e, e, 2 ],\n",
    "    [ 1, e, e, 3 ],\n",
    "    [ e, 2, 1, e ],\n",
    "])\n",
    "\n",
    "given = given_4x4\n",
    "\n",
    "display(HTML('<h3> INPUT SUDOKU</h3>'))\n",
    "print_sudoku(given)\n",
    "\n",
    "sudoku_vars, sudoku_facts, sudoku_constraints = model_sudoku(given)\n",
    "\n",
    "sudoku_sol = extract_solution(\n",
    "    constraints=sudoku_constraints + sudoku_facts, \n",
    "    variables=sudoku_vars\n",
    ")\n",
    "\n",
    "display(HTML('<h3> SOLUTION </h3>'))\n",
    "print_sudoku(sudoku_sol)"
   ]
  },
  {
   "cell_type": "markdown",
   "id": "6ccd7278",
   "metadata": {},
   "source": [
    "### Speed of OCUS for SUDOKU"
   ]
  },
  {
   "cell_type": "code",
   "execution_count": null,
   "id": "71fcf831",
   "metadata": {},
   "outputs": [],
   "source": [
    "all_cons = sudoku_constraints + list(sudoku_facts)\n",
    "weights = [20] * len(sudoku_constraints) + [1] * (len(sudoku_facts) + 1)\n",
    "\n",
    "unassigned_negated = [\n",
    "    (var != sol_val) \n",
    "    for val, sol_val, var in zip(given.flatten(), sudoku_sol.flatten(), sudoku_vars.flatten())\n",
    "    if val == e\n",
    "]\n",
    "\n",
    "n = len(unassigned_negated)\n",
    "\n",
    "iter_ocus_negated = iter(unassigned_negated)\n",
    "\n",
    "result_ocus = timeit.timeit(\n",
    "    lambda: OCUS(soft=all_cons + [next(iter_ocus_negated)], soft_weights=weights, hard=[]), \n",
    "    number=n\n",
    ")\n",
    "print(f\"OCUS without assumptions:\\n\\tExecution time is {result_ocus / n} seconds\")\n",
    "\n",
    "iter_ocus_ass_negated = iter(unassigned_negated)\n",
    "result_ocus_assum = timeit.timeit(\n",
    "    lambda: OCUS_assum(soft=np.array(all_cons  + [next(iter_ocus_ass_negated)]), soft_weights=weights, hard=[]),\n",
    "    number=n\n",
    ")\n",
    "print(f\"OCUS with assumptions:\\n\\tExecution time is {result_ocus_assum / n} seconds\")"
   ]
  }
 ],
 "metadata": {
  "kernelspec": {
   "display_name": "Python 3 (ipykernel)",
   "language": "python",
   "name": "python3"
  },
  "language_info": {
   "codemirror_mode": {
    "name": "ipython",
    "version": 3
   },
   "file_extension": ".py",
   "mimetype": "text/x-python",
   "name": "python",
   "nbconvert_exporter": "python",
   "pygments_lexer": "ipython3",
   "version": "3.10.2"
  }
 },
 "nbformat": 4,
 "nbformat_minor": 5
}
