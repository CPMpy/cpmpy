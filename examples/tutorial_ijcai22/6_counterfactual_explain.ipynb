{
 "cells": [
  {
   "cell_type": "code",
   "execution_count": 1,
   "id": "43a83340",
   "metadata": {},
   "outputs": [],
   "source": [
    "from cpmpy import *"
   ]
  },
  {
   "cell_type": "code",
   "execution_count": 2,
   "id": "98498701",
   "metadata": {},
   "outputs": [],
   "source": [
    "from numpy.random import randint\n",
    "import numpy as np\n",
    "from numpy.linalg import norm\n",
    "\n",
    "INFTY = 10000"
   ]
  },
  {
   "cell_type": "markdown",
   "id": "28a41271",
   "metadata": {},
   "source": [
    "## Knapsack problem"
   ]
  },
  {
   "cell_type": "code",
   "execution_count": 3,
   "id": "67f1c369",
   "metadata": {},
   "outputs": [],
   "source": [
    "#knapsack problem\n",
    "def get_knapsack_problem(N=8, capacity=35):\n",
    "    np.random.seed(0)\n",
    "    \n",
    "    items = boolvar(shape=N, name=\"items\")\n",
    "\n",
    "    values = randint(0,10,size=N)\n",
    "    weights = randint(0,10, size=N)\n",
    "\n",
    "    model = Model(maximize=sum(items * values))\n",
    "    model += sum(items * weights) <= capacity\n",
    "    \n",
    "    return model, (items, values, weights, capacity)"
   ]
  },
  {
   "cell_type": "code",
   "execution_count": 4,
   "id": "077fd142",
   "metadata": {},
   "outputs": [
    {
     "name": "stdout",
     "output_type": "stream",
     "text": [
      "Objective value: 32\n",
      "Used capacity: 31\n",
      "values = array([5, 0, 3, 3, 7, 9, 3, 5])\n",
      "weights = array([2, 4, 7, 6, 8, 8, 1, 6])\n",
      "capacity = 35\n",
      "Items = [ True False False  True  True  True  True  True]\n"
     ]
    }
   ],
   "source": [
    "model, (items, values, weights, capacity) = get_knapsack_problem()\n",
    "assert model.solve()\n",
    "print(\"Objective value:\",model.objective_value())\n",
    "print(\"Used capacity:\", sum(items.value() * weights))\n",
    "\n",
    "print(f\"{values = }\")\n",
    "print(f\"{weights = }\")\n",
    "print(f\"{capacity = }\")\n",
    "\n",
    "print(f\"Items = {items.value()}\")"
   ]
  },
  {
   "cell_type": "code",
   "execution_count": 5,
   "id": "31f2c9d9",
   "metadata": {},
   "outputs": [
    {
     "name": "stdout",
     "output_type": "stream",
     "text": [
      "Objective value: 29\n",
      "Used capacity: 35\n",
      "Items: [ True  True  True False  True  True False  True]\n"
     ]
    }
   ],
   "source": [
    "# User query\n",
    "# \"I want my solution to really contain item 1 and 2\"\n",
    "model += all(items[[1,2]])\n",
    "assert model.solve()\n",
    "\n",
    "x_hat = items.value()\n",
    "print(\"Objective value:\",model.objective_value())\n",
    "print(\"Used capacity:\", sum(x_hat * weights))\n",
    "\n",
    "print(f\"Items: {x_hat}\")"
   ]
  },
  {
   "cell_type": "markdown",
   "id": "f892309f",
   "metadata": {},
   "source": [
    "## Inverse optimize\n",
    "Apply the cutting plane algorithm for mixed integer inverse optimization.\n",
    "Here, the goal is to find new cutting planes restricting the inverse feasible space. This space determines the set of coefficients of the objective function that makes the given x_hat solution optimal.\n",
    "\n",
    "For this we define a master problem (MP) and sub-problem (SP). The master problem iteratively perturbes the objective vector. The SP - which is the orignal forward problem - is then solved to optimality using this new objective function. Lastly, this newly found solution is used to create a new cut in the master problem."
   ]
  },
  {
   "cell_type": "code",
   "execution_count": 7,
   "id": "8a173778",
   "metadata": {},
   "outputs": [
    {
     "name": "stdout",
     "output_type": "stream",
     "text": [
      "Original values: [5 0 3 3 7 9 3 5]\n",
      "New values = [5 0 3 3 7 9 3 5], \tNew cut = [ True False False  True  True  True  True  True]\n",
      "New values = [5 0 6 3 7 9 3 5], \tNew cut = [ True False  True False  True  True  True  True]\n",
      "New values = [5 3 3 3 7 9 3 5], \tNew cut = [ True  True False  True  True  True  True  True]\n",
      "New values = [5 3 6 3 7 9 3 5], \tNew cut = [ True  True False  True  True  True  True  True]\n"
     ]
    },
    {
     "data": {
      "text/plain": [
       "array([5, 3, 6, 3, 7, 9, 3, 5])"
      ]
     },
     "execution_count": 7,
     "metadata": {},
     "output_type": "execute_result"
    }
   ],
   "source": [
    "def inverse_optimize(SP, c, x, x_hat, keep_static=None):\n",
    "    \n",
    "    # Decision variable for new parameter vector\n",
    "    d = intvar(0,INFTY, shape=len(x_hat), name=\"d\")\n",
    "\n",
    "    # create the master problem\n",
    "    MP = SolverLookup.get(\"gurobi\")\n",
    "    MP.minimize(norm(c-d,1))\n",
    "    MP += SP.constraints\n",
    "    \n",
    "    if keep_static is not None:\n",
    "        MP += d[keep_static] == c[keep_static]\n",
    "\n",
    "    while MP.solve():\n",
    "        # find new d\n",
    "        new_d = d.value()\n",
    "        print(f\"New values = {new_d}\", end=\", \\t\")\n",
    "        \n",
    "        SP.maximize(sum(new_d * x))\n",
    "        SP.solve()\n",
    "        print(f\"New cut = {x.value()}\")\n",
    "\n",
    "        if sum(new_d * x_hat) >= sum(new_d * x.value()):\n",
    "            # solution is optimal\n",
    "            break\n",
    "\n",
    "        MP += sum(d * x_hat) >= sum(d * x.value())\n",
    "    return new_d\n",
    "\n",
    "SP, (x, values, weights,_) = get_knapsack_problem()\n",
    "\n",
    "print(\"Original values:\", values)\n",
    "keep_static = [0,3,4,5,6,7]\n",
    "inverse_optimize(SP, values, x, x_hat, keep_static)"
   ]
  }
 ],
 "metadata": {
  "kernelspec": {
   "display_name": "Python 3 (ipykernel)",
   "language": "python",
   "name": "python3"
  },
  "language_info": {
   "codemirror_mode": {
    "name": "ipython",
    "version": 3
   },
   "file_extension": ".py",
   "mimetype": "text/x-python",
   "name": "python",
   "nbconvert_exporter": "python",
   "pygments_lexer": "ipython3",
   "version": "3.9.12"
  }
 },
 "nbformat": 4,
 "nbformat_minor": 5
}
