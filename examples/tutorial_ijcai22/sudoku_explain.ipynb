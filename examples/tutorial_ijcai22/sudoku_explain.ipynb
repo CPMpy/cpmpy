{
 "cells": [
  {
   "cell_type": "markdown",
   "metadata": {},
   "source": [
    "# Explaining how to solve a Sudoku\n",
    "\n",
    "This notebook covers how to generate a sequence of explanations for Constraint Satisfaction problems. Here the use case is: \n",
    "\n",
    "You are solving a Sudoku, but at one point, you don't know how to continue. Is there a _HINT_ button I can press to help me out and tell me which number I should write next? \n",
    "\n",
    "The answer is YES! \n",
    "\n",
    "In this notebook, we present how the reasoning behind this button works in practice. We show how to generate these ___explanations___ and how you can adapt them in order to fit your preferences."
   ]
  },
  {
   "cell_type": "markdown",
   "metadata": {},
   "source": [
    "First we load the CPMpy library:"
   ]
  },
  {
   "cell_type": "code",
   "execution_count": 19,
   "metadata": {},
   "outputs": [],
   "source": [
    "# load the libraries\n",
    "import sys\n",
    "sys.path.append(\"/Users/emiliogamba/Documents/01_VUB/01_Research/01_Shared_Projects/07_CPMPY\")\n",
    "\n",
    "import numpy as np # data library\n",
    "from cpmpy import * # CP Modeling Library\n",
    "from IPython.display import display, HTML # display some titles"
   ]
  },
  {
   "cell_type": "markdown",
   "metadata": {},
   "source": [
    "## 1. Modeling the Sudoku\n",
    "\n",
    "In practice, some puzzlers like annotate their sudoku with the numbers that cannot be selected. To keep the explanations limited,in this notebook, we model the sudoku using integer variables and consider only explanations consisting of positive assignments. "
   ]
  },
  {
   "cell_type": "code",
   "execution_count": 2,
   "metadata": {},
   "outputs": [],
   "source": [
    "def model_sudoku(given):\n",
    "    # Variables\n",
    "    puzzle = intvar(1,9, shape=given.shape, name=\"puzzle\")\n",
    "\n",
    "    model = Model(\n",
    "        # Constraints on values (cells that are not empty)\n",
    "        puzzle[given!=e] == given[given!=e], # numpy's indexing, vectorized equality\n",
    "        # Constraints on rows and columns\n",
    "        [AllDifferent(row) for row in puzzle],\n",
    "        [AllDifferent(col) for col in puzzle.T], # numpy's Transpose\n",
    "    )\n",
    "\n",
    "    # Constraints on blocks\n",
    "    for i in range(0,9, 3):\n",
    "        for j in range(0,9, 3):\n",
    "            model += AllDifferent(puzzle[i:i+3, j:j+3]) # python's indexing\n",
    "\n",
    "    return model, puzzle"
   ]
  },
  {
   "cell_type": "markdown",
   "metadata": {},
   "source": [
    "Pretty printing of a sudoku grid"
   ]
  },
  {
   "cell_type": "code",
   "execution_count": 16,
   "metadata": {},
   "outputs": [],
   "source": [
    "def print_sudoku(grid):\n",
    "    out = \"\"\n",
    "    for r in range(0,9):\n",
    "        for c in range(0,9):\n",
    "            out += str(grid[r, c])\n",
    "            out += '* ' if grid[r, c] else '  '\n",
    "            if (c+1) % 3 == 0 and c != 8: # end of block\n",
    "                out += '| '\n",
    "        out += '\\n'\n",
    "        if (r+1) % 3 == 0 and r != 8: # end of block\n",
    "            out += ('-'*9)+'+-'+('-'*9)+'+'+('-'*9)+'\\n'\n",
    "    print(out)   "
   ]
  },
  {
   "cell_type": "markdown",
   "metadata": {},
   "source": [
    "## Solving the Sudoku\n",
    "\n",
    "Call the solver on the Sudoku model and extract the solution."
   ]
  },
  {
   "cell_type": "code",
   "execution_count": 17,
   "metadata": {},
   "outputs": [],
   "source": [
    "def extract_solution(model, variables, verbose=False):\n",
    "    ncols = nrows = 9\n",
    "    solved = model.solve()\n",
    "    assert solved, \"Model is unsatisfiable.\"\n",
    "    \n",
    "    sol = np.array([\n",
    "        [variables[r, c].value() for c in range(ncols)] for r in range(nrows)\n",
    "    ])\n",
    "     \n",
    "    return sol\n",
    "    "
   ]
  },
  {
   "cell_type": "markdown",
   "metadata": {},
   "source": [
    "## Example SUDOKU: Model and Solve\n",
    "\n",
    "The following grid is an example of a Sudoku grid, where the given values have a value greater than 0 and the others are fixed to 0."
   ]
  },
  {
   "cell_type": "code",
   "execution_count": 28,
   "metadata": {},
   "outputs": [
    {
     "data": {
      "text/html": [
       "<h3> ------- INPUT SUDOKU -------</h3>"
      ],
      "text/plain": [
       "<IPython.core.display.HTML object>"
      ]
     },
     "metadata": {},
     "output_type": "display_data"
    },
    {
     "name": "stdout",
     "output_type": "stream",
     "text": [
      "6* 9* 4* | 0  0  1* | 0  0  0  \n",
      "0  0  3* | 0  2* 0  | 0  4* 5* \n",
      "2* 7* 0  | 0  6* 0  | 0  0  0  \n",
      "---------+----------+---------\n",
      "0  0  1* | 0  0  4* | 0  7* 0  \n",
      "0  2* 6* | 0  8* 7* | 0  9* 3* \n",
      "3* 5* 7* | 0  0  0  | 4* 0  2* \n",
      "---------+----------+---------\n",
      "0  6* 9* | 0  0  0  | 0  0  1* \n",
      "1* 3* 0  | 6* 0  0  | 7* 0  0  \n",
      "0  0  0  | 1* 0  2* | 0  0  0  \n",
      "\n"
     ]
    },
    {
     "data": {
      "text/html": [
       "<h3>---------- SOLUTION ---------- </h3>"
      ],
      "text/plain": [
       "<IPython.core.display.HTML object>"
      ]
     },
     "metadata": {},
     "output_type": "display_data"
    },
    {
     "name": "stdout",
     "output_type": "stream",
     "text": [
      "6* 9* 4* | 8* 5* 1* | 2* 3* 7* \n",
      "8* 1* 3* | 7* 2* 9* | 6* 4* 5* \n",
      "2* 7* 5* | 4* 6* 3* | 9* 1* 8* \n",
      "---------+----------+---------\n",
      "9* 8* 1* | 2* 3* 4* | 5* 7* 6* \n",
      "4* 2* 6* | 5* 8* 7* | 1* 9* 3* \n",
      "3* 5* 7* | 9* 1* 6* | 4* 8* 2* \n",
      "---------+----------+---------\n",
      "7* 6* 9* | 3* 4* 5* | 8* 2* 1* \n",
      "1* 3* 2* | 6* 9* 8* | 7* 5* 4* \n",
      "5* 4* 8* | 1* 7* 2* | 3* 6* 9* \n",
      "\n"
     ]
    }
   ],
   "source": [
    "e = 0 # value for empty cells\n",
    "given = np.array([\n",
    "    [6, 9, 4,  e, e, 1,  e, e, e],\n",
    "    [e, e, 3,  e, 2, e,  e, 4, 5],\n",
    "    [2, 7, e,  e, 6, e,  e, e, e],\n",
    "\n",
    "    [e, e, 1,  e, e, 4,  e, 7, e],\n",
    "    [e, 2, 6,  e, 8, 7,  e, 9, 3],\n",
    "    [3, 5, 7,  e, e, e,  4, e, 2],\n",
    "\n",
    "    [e, 6, 9,  e, e, e,  e, e, 1],\n",
    "    [1, 3, e,  6, e, e,  7, e, e],\n",
    "    [e, e, e,  1, e, 2,  e, e, e]]\n",
    ")\n",
    "\n",
    "display(HTML('<h3> ------- INPUT SUDOKU -------</h3>'))\n",
    "print_sudoku(given)\n",
    "\n",
    "sudoku_model, sudoku_vars = model_sudoku(given)\n",
    "\n",
    "sudoku_solution = extract_solution(sudoku_model, sudoku_vars)\n",
    "\n",
    "\n",
    "display(HTML('<h3>---------- SOLUTION ---------- </h3>'))\n",
    "print_sudoku(sudoku_solution)"
   ]
  },
  {
   "cell_type": "markdown",
   "metadata": {},
   "source": [
    "## Explanations for SUDOKU: \n",
    "\n",
    "To explain a full sudoku from the givens to the solution, we generate a sequence of intermediate expalnation steps.\n",
    "Every explanation step is characterized by an *interpretation*, which corresponds to current status of the grid. \n",
    "The initial state of the gris is called the ***initial interpretation***, and the solution is also known as the ***end interpretation***.\n",
    "\n",
    "Every explanation step uses subset of the problem constraints and part of the interpretation in order to derive one or multiple new numbers. \n",
    "\n",
    "1. __C__' ⊂ __C__ A subset of the problem constraints (alldifferents on columns, rows and blocks).\n",
    "\n",
    "2. __I__' ⊂ __I__ A partial interpretation\n",
    "\n",
    "    - In the Sudoku case this corresponds to the numbers filled in the grid at the current explanation step (givens, and newly derived numbers).\n",
    "\n",
    "3. __N__ A newly found number to fill in the grid.\n",
    "\n",
    "Therefore at every step, the number \n",
    "\n",
    "To compute such explanations, we take advantage of the link between non-redundant explanations and Minimal Unsatisfiable Subsets introduced in [1]. \n",
    "\n",
    "\n",
    "[1] Bogaerts, B., Gamba, E., & Guns, T. (2021). A framework for step-wise explaining how to solve constraint satisfaction problems. Artificial Intelligence, 300, 103550.\n",
    "\n",
    "### Propagation of constraints \n"
   ]
  },
  {
   "cell_type": "code",
   "execution_count": 38,
   "metadata": {},
   "outputs": [],
   "source": [
    "def solution_intersection(model, solver=\"ortools\", verbose=False):\n",
    "    \"\"\"\n",
    "        solution_intersection produces the intersection of all models\n",
    "    \"\"\"\n",
    "    # Build sat model\n",
    "    sat_vars = get_variables_model(model)\n",
    "\n",
    "    SAT = SolverLookup.lookup(solver)(model)\n",
    "\n",
    "    assert SAT.solve(), \"Propagation of soft constraints only possible if model is SAT.\"\n",
    "    sat_model = set(bv if bv.value() else ~bv for bv in sat_vars)\n",
    "\n",
    "    while(SAT.solve()):\n",
    "        # negate the values of the model\n",
    "        sat_model &= set(bv if bv.value() else ~bv for bv in sat_vars)\n",
    "        blocking_clause = ~all(sat_model)\n",
    "\n",
    "        SAT += blocking_clause\n",
    "\n",
    "        if verbose:\n",
    "            print(\"\\n\\tBlocking clause:\", blocking_clause)\n",
    "\n",
    "    return sat_model"
   ]
  },
  {
   "cell_type": "code",
   "execution_count": 37,
   "metadata": {},
   "outputs": [
    {
     "name": "stdout",
     "output_type": "stream",
     "text": [
      "[puzzle[0,0] == 6, puzzle[0,1] == 9, puzzle[0,2] == 4, puzzle[0,5] == 1, puzzle[1,2] == 3, puzzle[1,4] == 2, puzzle[1,7] == 4, puzzle[1,8] == 5, puzzle[2,0] == 2, puzzle[2,1] == 7, puzzle[2,4] == 6, puzzle[3,2] == 1, puzzle[3,5] == 4, puzzle[3,7] == 7, puzzle[4,1] == 2, puzzle[4,2] == 6, puzzle[4,4] == 8, puzzle[4,5] == 7, puzzle[4,7] == 9, puzzle[4,8] == 3, puzzle[5,0] == 3, puzzle[5,1] == 5, puzzle[5,2] == 7, puzzle[5,6] == 4, puzzle[5,8] == 2, puzzle[6,1] == 6, puzzle[6,2] == 9, puzzle[6,8] == 1, puzzle[7,0] == 1, puzzle[7,1] == 3, puzzle[7,3] == 6, puzzle[7,6] == 7, puzzle[8,3] == 1, puzzle[8,5] == 2, alldifferent(puzzle[0,0],puzzle[0,1],puzzle[0,2],puzzle[0,3],puzzle[0,4],puzzle[0,5],puzzle[0,6],puzzle[0,7],puzzle[0,8]), alldifferent(puzzle[1,0],puzzle[1,1],puzzle[1,2],puzzle[1,3],puzzle[1,4],puzzle[1,5],puzzle[1,6],puzzle[1,7],puzzle[1,8]), alldifferent(puzzle[2,0],puzzle[2,1],puzzle[2,2],puzzle[2,3],puzzle[2,4],puzzle[2,5],puzzle[2,6],puzzle[2,7],puzzle[2,8]), alldifferent(puzzle[3,0],puzzle[3,1],puzzle[3,2],puzzle[3,3],puzzle[3,4],puzzle[3,5],puzzle[3,6],puzzle[3,7],puzzle[3,8]), alldifferent(puzzle[4,0],puzzle[4,1],puzzle[4,2],puzzle[4,3],puzzle[4,4],puzzle[4,5],puzzle[4,6],puzzle[4,7],puzzle[4,8]), alldifferent(puzzle[5,0],puzzle[5,1],puzzle[5,2],puzzle[5,3],puzzle[5,4],puzzle[5,5],puzzle[5,6],puzzle[5,7],puzzle[5,8]), alldifferent(puzzle[6,0],puzzle[6,1],puzzle[6,2],puzzle[6,3],puzzle[6,4],puzzle[6,5],puzzle[6,6],puzzle[6,7],puzzle[6,8]), alldifferent(puzzle[7,0],puzzle[7,1],puzzle[7,2],puzzle[7,3],puzzle[7,4],puzzle[7,5],puzzle[7,6],puzzle[7,7],puzzle[7,8]), alldifferent(puzzle[8,0],puzzle[8,1],puzzle[8,2],puzzle[8,3],puzzle[8,4],puzzle[8,5],puzzle[8,6],puzzle[8,7],puzzle[8,8]), alldifferent(puzzle[0,0],puzzle[1,0],puzzle[2,0],puzzle[3,0],puzzle[4,0],puzzle[5,0],puzzle[6,0],puzzle[7,0],puzzle[8,0]), alldifferent(puzzle[0,1],puzzle[1,1],puzzle[2,1],puzzle[3,1],puzzle[4,1],puzzle[5,1],puzzle[6,1],puzzle[7,1],puzzle[8,1]), alldifferent(puzzle[0,2],puzzle[1,2],puzzle[2,2],puzzle[3,2],puzzle[4,2],puzzle[5,2],puzzle[6,2],puzzle[7,2],puzzle[8,2]), alldifferent(puzzle[0,3],puzzle[1,3],puzzle[2,3],puzzle[3,3],puzzle[4,3],puzzle[5,3],puzzle[6,3],puzzle[7,3],puzzle[8,3]), alldifferent(puzzle[0,4],puzzle[1,4],puzzle[2,4],puzzle[3,4],puzzle[4,4],puzzle[5,4],puzzle[6,4],puzzle[7,4],puzzle[8,4]), alldifferent(puzzle[0,5],puzzle[1,5],puzzle[2,5],puzzle[3,5],puzzle[4,5],puzzle[5,5],puzzle[6,5],puzzle[7,5],puzzle[8,5]), alldifferent(puzzle[0,6],puzzle[1,6],puzzle[2,6],puzzle[3,6],puzzle[4,6],puzzle[5,6],puzzle[6,6],puzzle[7,6],puzzle[8,6]), alldifferent(puzzle[0,7],puzzle[1,7],puzzle[2,7],puzzle[3,7],puzzle[4,7],puzzle[5,7],puzzle[6,7],puzzle[7,7],puzzle[8,7]), alldifferent(puzzle[0,8],puzzle[1,8],puzzle[2,8],puzzle[3,8],puzzle[4,8],puzzle[5,8],puzzle[6,8],puzzle[7,8],puzzle[8,8]), alldifferent(puzzle[0,0],puzzle[0,1],puzzle[0,2],puzzle[1,0],puzzle[1,1],puzzle[1,2],puzzle[2,0],puzzle[2,1],puzzle[2,2]), alldifferent(puzzle[0,3],puzzle[0,4],puzzle[0,5],puzzle[1,3],puzzle[1,4],puzzle[1,5],puzzle[2,3],puzzle[2,4],puzzle[2,5]), alldifferent(puzzle[0,6],puzzle[0,7],puzzle[0,8],puzzle[1,6],puzzle[1,7],puzzle[1,8],puzzle[2,6],puzzle[2,7],puzzle[2,8]), alldifferent(puzzle[3,0],puzzle[3,1],puzzle[3,2],puzzle[4,0],puzzle[4,1],puzzle[4,2],puzzle[5,0],puzzle[5,1],puzzle[5,2]), alldifferent(puzzle[3,3],puzzle[3,4],puzzle[3,5],puzzle[4,3],puzzle[4,4],puzzle[4,5],puzzle[5,3],puzzle[5,4],puzzle[5,5]), alldifferent(puzzle[3,6],puzzle[3,7],puzzle[3,8],puzzle[4,6],puzzle[4,7],puzzle[4,8],puzzle[5,6],puzzle[5,7],puzzle[5,8]), alldifferent(puzzle[6,0],puzzle[6,1],puzzle[6,2],puzzle[7,0],puzzle[7,1],puzzle[7,2],puzzle[8,0],puzzle[8,1],puzzle[8,2]), alldifferent(puzzle[6,3],puzzle[6,4],puzzle[6,5],puzzle[7,3],puzzle[7,4],puzzle[7,5],puzzle[8,3],puzzle[8,4],puzzle[8,5]), alldifferent(puzzle[6,6],puzzle[6,7],puzzle[6,8],puzzle[7,6],puzzle[7,7],puzzle[7,8],puzzle[8,6],puzzle[8,7],puzzle[8,8])]\n"
     ]
    }
   ],
   "source": [
    "## Examining the Model constraints$\n",
    "from cpmpy.transformations.flatten_model import flatten_constraint\n",
    "\n",
    "falttened_constraints = flatten_constraint(sudoku_model.constraints)"
   ]
  },
  {
   "cell_type": "code",
   "execution_count": null,
   "metadata": {},
   "outputs": [],
   "source": [
    "for constraint in sudoku_model.constraints:\n",
    "    print(f\"{constraint=}\")\n",
    "    print(f\"{flatten_constraint(constraint)=}\")\n"
   ]
  },
  {
   "cell_type": "code",
   "execution_count": null,
   "metadata": {},
   "outputs": [],
   "source": [
    "def explain_sequence(soft, soft_weights=None,  hard=[], solver=\"ortools\", verbose=0):\n",
    "    '''\n",
    "        A SAT-based explanation sequence generating algorithm using assumption\n",
    "        variables and weighted UNSAT core (Optimal Constrained Unsatisfiable Subset)\n",
    "        extraction. [1, 2]\n",
    "\n",
    "        [1] Bogaerts, B., Gamba, E., Claes, J., & Guns, T. (2020). Step-wise explanations\n",
    "        of constraint satisfaction problems. In ECAI 2020-24th European Conference on\n",
    "        Artificial Intelligence, 29 August-8 September 2020, Santiago de Compostela,\n",
    "        Spain, August 29-September 8, 2020-Including 10th Conference on Prestigious\n",
    "        Applications of Artificial Intelligence (PAIS 2020) (Vol. 325, pp. 640-647).\n",
    "        IOS Press; https://doi. org/10.3233/FAIA200149.\n",
    "\n",
    "        [2] Bogaerts, B., Gamba, E., & Guns, T. (2021). A framework for step-wise explaining\n",
    "        how to solve constraint satisfaction problems. Artificial Intelligence, 300, 103550.\n",
    "    '''\n",
    "    curr_sol = set()\n",
    "    # compute all derivable literals\n",
    "    full_sol = solution_intersection(Model(hard + soft), solver, verbose)\n",
    "\n",
    "    # prep soft constraint formulation with a literal for each soft constraint\n",
    "    # (so we can iteratively use an assumption solver on softliterals)\n",
    "    soft_lit = BoolVar(shape=len(soft), name=\"ind\")\n",
    "    reified_soft = []\n",
    "    for i,bv in enumerate(soft_lit):\n",
    "        reified_soft += [bv.implies(soft[i])]\n",
    "    # to map indicator variable back to soft_constraints\n",
    "    indmap = dict((v,i) for (i,v) in enumerate(soft_lit))\n",
    "\n",
    "    # Cost function returns cost of soft weight if a constraint is used\n",
    "    # otherwhise returns 1 (i.e. using a literal)\n",
    "    cost = cost_func(list(soft_lit), soft_weights)\n",
    "\n",
    "    if verbose > 0:\n",
    "        print(\"\\nCurrent Model\\n\\t\", curr_sol)\n",
    "        print(\"\\nFull Model  (holds in all models) \\n\\t\", full_sol)\n",
    "        print(\"\\nRemaining to explain:\\n\\t\", full_sol-curr_sol)\n",
    "\n",
    "    \n",
    "    # we will explain literal by literal\n",
    "    explanation_sequence = []\n",
    "    while(curr_sol != full_sol):\n",
    "        # explain 1 step using ocus\n",
    "        remaining_to_explain = full_sol - curr_sol\n",
    "        all_lit = set(soft_lit) | curr_sol\n",
    "\n",
    "        ocus_expl = explain_one_step_ocus(hard + reified_soft, all_lit, cost, remaining_to_explain, solver, verbose)\n",
    "\n",
    "        # project on known facts and constraints\n",
    "        cons_used =  [soft[indmap[con]] for con in set(soft_lit) & ocus_expl]\n",
    "        facts_used = curr_sol & ocus_expl\n",
    "        derived = set(~v for v in ocus_expl - set(soft_lit) - facts_used)\n",
    "\n",
    "        # Add newly derived information\n",
    "        curr_sol |= derived\n",
    "\n",
    "        explanation = {\n",
    "            \"constraints\": list(cons_used),\n",
    "            \"facts\": list(facts_used),\n",
    "            \"derived\": list(derived),\n",
    "            \"cost\": sum(cost(con) for con in ocus_expl)\n",
    "        }\n",
    "\n",
    "        explanation_sequence.append(explanation)\n",
    "\n",
    "        if verbose > 0:\n",
    "            print(f\"\\n Using:\\t {explanation['constraints']} /\\\\ {explanation['facts']} => {explanation['derived']} [cost: {explanation['cost']}]\")\n",
    "\n",
    "    # return the list of original (non-flattened) constraints\n",
    "    return explanation_sequence"
   ]
  },
  {
   "cell_type": "code",
   "execution_count": null,
   "metadata": {},
   "outputs": [],
   "source": [
    "def explain_one_step_ocus(hard, soft_lit, cost, remaining_sol_to_explain, solver=\"ortools\", verbose=False):\n",
    "    \"\"\"\n",
    "        Optimal Constrained Unsatisfiable Subsets (OCUS) for CSP explanations [1]\n",
    "\n",
    "        explain_one_step_ocus relies on the implicit hitting set duality between\n",
    "        MUSes and MCSes for a given formula F [2, 3]:\n",
    "\n",
    "            - A set S subseteq F is an MCS of F iff it is a minimal hitting set\n",
    "             of MUSs(F).\n",
    "            - A set S subseteq F is a MUS of F iff it is a minimal hitting set\n",
    "             of MCSs(F).\n",
    "\n",
    "        Builds a MIP model for computing minimal (optimal) hitting sets. Repeatedly\n",
    "        checks for satisfiability until UNSAT, which means an OCUS is found.\n",
    "        If SAT, and sat solver computes a model. The complement w.r.t F is\n",
    "        computed and added as a new set-to-hit.\n",
    "\n",
    "        MIP MODEL\n",
    "        ---------\n",
    "\n",
    "        The constrained optimal hitting set is described by:\n",
    "\n",
    "            - x_l={0,1} is a boolean decision variable if the literal is inside the\n",
    "                        hitting set or not.\n",
    "            - w_l=f(l) is the cost assigned to having the literal in the hitting\n",
    "                        set.\n",
    "            - c_lj={0,1} is 1 (0) if the literal l is (not) present in the set-to-hit j.\n",
    "\n",
    "        Objective:\n",
    "                min sum(x_l * w_l) over all l in I + (-Iend setminus -I)\n",
    "\n",
    "        Subject to:\n",
    "            (1) sum x_l * c_lj >= 1 for all hitting sets j.\n",
    "                = The hitting set must hit all sets-to-hit.\n",
    "\n",
    "            (2) sum x_l == 1 for l in (-Iend setminus -I)\n",
    "                = exactly 1 literal explained at a time\n",
    "\n",
    "        Args\n",
    "        ----\n",
    "\n",
    "            hard (list[cpmpy.Expression]): Hard constraints\n",
    "\n",
    "            Iend (set): Cautious consequence, the set of literals that hold in\n",
    "                        all models.\n",
    "\n",
    "            I (set): partial interpretation (subset of Iend).\n",
    "\n",
    "        [1] Gamba, E., Bogaerts, B., & Guns, T. (8 2021). Efficiently Explaining CSPs\n",
    "        with Unsatisfiable Subset Optimization. In Z.-H. Zhou (Red), Proceedings of the\n",
    "        Thirtieth International Joint Conference on Artificial Intelligence,\n",
    "        IJCAI-21 (bll 1381–1388). doi:10.24963/ijcai.2021/191.\n",
    "\n",
    "        [2] Liffiton, M. H., & Sakallah, K. A. (2008). Algorithms for computing minimal\n",
    "        unsatisfiable subsets of constraints. Journal of Automated Reasoning, 40(1), 1-33.\n",
    "\n",
    "        [3] Reiter, R. (1987). A theory of diagnosis from first principles.\n",
    "        Artificial intelligence, 32(1), 57-95.\n",
    "    \"\"\"\n",
    "    ## Unsatisfiable Formula = soft constraints + (~remaining_to_explain)\n",
    "    neg_remaining_sol_to_explain = set(~var for var in remaining_sol_to_explain)\n",
    "    F = set(soft_lit) | neg_remaining_sol_to_explain\n",
    "\n",
    "\n",
    "    ## ----- CONDITIONAL OPTIMISATION MODEL------\n",
    "    ## -------------- VARIABLES -----------------\n",
    "    hs_vars = boolvar(shape=len(soft_lit) + len(remaining_sol_to_explain))\n",
    "\n",
    "    # id of variables that need to be explained\n",
    "    remaining_hs_vars = hs_vars[[id for id, var in enumerate(F) if var in neg_remaining_sol_to_explain]]\n",
    "    # mapping between hitting set variables hs_var <-> Iend\n",
    "    varmap_hs_sat = dict( (hs_vars[id], var) for id, var in enumerate(F))\n",
    "    varmap_sat_hs = dict( (var, hs_vars[id]) for id, var in enumerate(F))\n",
    "\n",
    "    ## ----------------- MODEL ------------------\n",
    "    hs_mip_model = Model(\n",
    "         # exactly one variable to explain!\n",
    "        sum(remaining_hs_vars) == 1,\n",
    "        # Objective: min sum(x_l * w_l) over all l in I + (-Iend \\ -I)\n",
    "        minimize=sum(hs_var * cost(varmap_hs_sat[hs_var]) for hs_var in hs_vars) \n",
    "    )\n",
    "\n",
    "    # instantiate hitting set solver\n",
    "    hittingset_solver = SolverLookup.lookup(solver)(hs_mip_model)\n",
    "\n",
    "\n",
    "    ## ----- SAT solver model ----\n",
    "    SAT = SolverLookup.lookup(solver)(Model(hard))\n",
    "\n",
    "    while(True):\n",
    "        hittingset_solver.solve()\n",
    "\n",
    "        # Get hitting set\n",
    "        hs = hs_vars[hs_vars.value() == 1]\n",
    "\n",
    "        # map to vars of formula F\n",
    "        S = set(varmap_hs_sat[hs_var] for hs_var in hs)\n",
    "\n",
    "        if verbose > 1:\n",
    "            print(\"\\n\\t hs =\", hs, S)\n",
    "\n",
    "        # SAT check and computation of model\n",
    "        if not SAT.solve(assumptions=S):\n",
    "            if verbose > 1:\n",
    "                print(\"\\n\\t ===> OCUS =\", S)\n",
    "\n",
    "            return S\n",
    "\n",
    "        # satisfying model\n",
    "        S = set(v if v.value() else ~v for v in F)\n",
    "\n",
    "        # compute complement of model in formula F\n",
    "        C =  F - S\n",
    "\n",
    "        set_to_hit = set(varmap_sat_hs[var] for var in C)\n",
    "\n",
    "        # Add complement as a new set to hit: sum x[j] * hij >= 1\n",
    "        hittingset_solver += (sum(set_to_hit) >= 1)\n",
    "\n",
    "        if verbose > 1:\n",
    "            print(\"\\t Complement =\", C)\n",
    "            print(\"\\t set-to-hit =\", set_to_hit)\n",
    "\n"
   ]
  },
  {
   "cell_type": "code",
   "execution_count": null,
   "metadata": {},
   "outputs": [],
   "source": [
    "def cost_func(soft, soft_weights):\n",
    "    '''\n",
    "        Example cost function with mapping of indicator constraints to\n",
    "        corresponding given weight.\n",
    "\n",
    "        Variables not in the indicator map have a unit weight, which\n",
    "        corresponds to using a unit boolean variable.\n",
    "    '''\n",
    "\n",
    "    def cost_lit(cons):\n",
    "        # return soft weight if constraint is a soft constraint\n",
    "        if len(set({cons}) & set(soft)) > 0:\n",
    "            return soft_weights[soft.index(cons)]\n",
    "        else:\n",
    "            return 1\n",
    "\n",
    "    return cost_lit\n"
   ]
  }
 ],
 "metadata": {
  "kernelspec": {
   "display_name": "Python 3",
   "language": "python",
   "name": "python3"
  },
  "language_info": {
   "codemirror_mode": {
    "name": "ipython",
    "version": 3
   },
   "file_extension": ".py",
   "mimetype": "text/x-python",
   "name": "python",
   "nbconvert_exporter": "python",
   "pygments_lexer": "ipython3",
   "version": "3.8.3"
  }
 },
 "nbformat": 4,
 "nbformat_minor": 4
}
