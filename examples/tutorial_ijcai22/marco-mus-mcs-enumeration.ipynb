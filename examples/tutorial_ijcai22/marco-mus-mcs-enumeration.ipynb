{
 "cells": [
  {
   "cell_type": "markdown",
   "id": "54d30441",
   "metadata": {},
   "source": [
    "# Enumeration of Minimal Unsatisfiable Cores and Maximal Satisfying Subsets\n",
    "\n",
    "This tutorial illustrates how to use (CPMpy) for extracting all minimal unsatisfiable\n",
    "cores together with all maximal satisfying subsets. \n",
    "\n",
    "## Origin\n",
    "\n",
    "The algorithm that we describe next represents the essence of the core extraction\n",
    "procedure by Liffiton and Malik and independently by Previti and Marques-Silva: \n",
    "\n",
    "    Enumerating Infeasibility: Finding Multiple MUSes Quickly\n",
    "    Mark H. Liffiton and Ammar Malik\n",
    "    in Proc. 10th International Conference on Integration of Artificial Intelligence (AI)\n",
    "    and Operations Research (OR) techniques in Constraint Programming (CPAIOR-2013), 160-175, May 2013. \n",
    "\n",
    "    Partial MUS Enumeration\n",
    "    Alessandro Previti, Joao Marques-Silva in Proc. AAAI-2013 July 2013 \n",
    "\n",
    "It illustrates the following features of CPMpy's Python-based direct access to or-tools:\n",
    "\n",
    "1. Using assumptions to track unsatisfiable cores. \n",
    "2. Using multiple models/solvers and passing constraints between them. \n",
    "\n"
   ]
  },
  {
   "cell_type": "code",
   "execution_count": 1,
   "id": "a5d85f3c",
   "metadata": {},
   "outputs": [],
   "source": [
    "import sys\n",
    "\n",
    "from cpmpy import *\n",
    "from cpmpy.transformations.get_variables import get_variables\n",
    "from cpmpy.solvers.ortools import CPM_ortools"
   ]
  },
  {
   "cell_type": "markdown",
   "id": "d70db940",
   "metadata": {},
   "source": [
    "## 1. MAP Solver\n",
    "\n",
    "The MapSolver is used to enumerate sets of clauses that are not already supersets of an existing unsatisfiable core and not already a subset of a maximal satisfying assignment. \n",
    "\n",
    "The MapSolver uses one unique atomic predicate per soft clause, so it enumerates sets of atomic predicates. \n",
    "\n",
    "- For each minimal unsatisfiable core, say, represented by predicates p1, p2, p5, the MapSolver contains the clause  !p1 | !p2 | !p5. \n",
    "\n",
    "- For each maximal satisfiable subset, say, represented by predicats p2, p3, p5, the MapSolver contains a clause corresponding to the disjunction of all literals not in the maximal satisfiable subset, p1 | p4 | p6. \n"
   ]
  },
  {
   "cell_type": "code",
   "execution_count": 2,
   "id": "65334ea1",
   "metadata": {},
   "outputs": [],
   "source": [
    "def next_seed(map_solver, ind_vars, verbose=False):\n",
    "    \n",
    "    if map_solver.solve() is False:\n",
    "            return None\n",
    "    if verbose:\n",
    "        print(\"\\nSeed:\", ind_vars[ind_vars.value()==1])\n",
    "    return ind_vars[ind_vars.value()==1]\n",
    "\n",
    "def block_down(map_solver, ind_vars, MSS, verbose=False):\n",
    "    \"\"\"Block down from a given set.\"\"\"\n",
    "    if verbose:\n",
    "        print(\"\\tblocking down:\", any(v for v in set(ind_vars)-set(MSS)))\n",
    "    map_solver += any(v for v in set(ind_vars)-set(MSS))\n",
    "\n",
    "def block_up(map_solver, MUS, verbose=False):\n",
    "    if verbose:\n",
    "        print(\"\\tblocking up:\", any(~v for v in MUS))\n",
    "    map_solver += any(~v for v in MUS)"
   ]
  },
  {
   "cell_type": "markdown",
   "id": "5c36586e",
   "metadata": {},
   "source": [
    "## 2. Subset Solver\n",
    "\n",
    "The SubsetSolver contains a set of soft clauses (clauses with the unique indicator atom occurring negated). \n",
    "\n",
    "The MapSolver feeds it a set of clauses (the indicator atoms). Recall that these are not already a superset of an existing minimal unsatisfiable core, or a subset of a maximal satisfying assignment: \n",
    "\n",
    "- If asserting these atoms makes the SubsetSolver context ***infeasible***, then it finds a minimal unsatisfiable subset corresponding to these atoms. \n",
    "- If asserting the atoms is ***consistent*** with the SubsetSolver, then it extends this set of atoms maximally to a satisfying set. "
   ]
  },
  {
   "cell_type": "code",
   "execution_count": 3,
   "id": "f457d066",
   "metadata": {},
   "outputs": [],
   "source": [
    "def grow(subset_solver, ind_vars, seed, verbose=False):\n",
    "    \"\"\"\n",
    "        Grow the satisfiable subset.\n",
    "    \"\"\"\n",
    "    current = list(seed)\n",
    "    if verbose:\n",
    "        print(f\"Growing ({current})\")\n",
    "    # Try to add the literals of seed's complement\n",
    "    for i in set(ind_vars) - set(seed):\n",
    "        if subset_solver.solve(assumptions=current + [i]):\n",
    "            if verbose:\n",
    "                print(\"\\t\\tSAT so\", i, \"in MSS:\\n\\t\\t\", current, \"->\", current + [i])\n",
    "            current.append(i)\n",
    "    return current\n",
    "\n",
    "def shrink(subset_solver, ind_vars, seed, verbose=False):\n",
    "    current = list(seed)\n",
    "    \n",
    "    # Try to add the literals of seed's complement\n",
    "    i = 0 # we wil dynamically shrink mus_vars\n",
    "    if verbose:\n",
    "        print(\"\\t -> Shrinking:\", current)\n",
    "    \n",
    "    while i < len(current):\n",
    "        # add all other remaining literals\n",
    "        assum_lits = current[:i] + current[i+1:]\n",
    "\n",
    "        if subset_solver.solve(assumptions=assum_lits):\n",
    "            # with all but 'i' it is SAT, so 'i' belongs to the MUS\n",
    "            if verbose:\n",
    "                print(\"\\t\\tSAT so\", current[i] ,\"in MUS, keeping\", )\n",
    "            i += 1\n",
    "        else:\n",
    "            # still UNSAT, 'i' does not belong to the MUS\n",
    "            if verbose:\n",
    "                print(\"\\t\\tUNSAT so\",current[i] , \"not in MUS:\", assum_lits)\n",
    "            # overwrite current 'i' and continue\n",
    "            # could do get_core but then have to check that mus_vars[:i] match\n",
    "            current = assum_lits\n",
    "\n",
    "    return current"
   ]
  },
  {
   "cell_type": "markdown",
   "id": "fe5b7889",
   "metadata": {},
   "source": [
    "## Idea of the Marco MUS/MCS Algorithm\n",
    "\n",
    "The main idea of the algorithm is to maintain two logical contexts and exchange information between the ***MapSolver*** and ***Subset Solver***."
   ]
  },
  {
   "cell_type": "code",
   "execution_count": 4,
   "id": "49b92b32",
   "metadata": {},
   "outputs": [],
   "source": [
    "def do_marco(constraints, solvername=\"ortools\", verbose=False): #csolver, map):\n",
    "    \"\"\"\n",
    "        Basic MUS/MCS enumeration, as a simple example.\n",
    "        \n",
    "        Warning: all constraints in 'mdl' must support reification!\n",
    "        Otherwise, you will get an \"Or-tools says: invalid\" error.\n",
    "    \"\"\"\n",
    "    # SUBSET solver\n",
    "    ## Adding indicator variables\n",
    "    ind_vars = BoolVar(shape=len(constraints))\n",
    "    idcache = dict((v,i) for (i,v) in enumerate(ind_vars))\n",
    "\n",
    "    ## Reifying constraints with indicator variables\n",
    "    mdl_reif = Model([ind_vars[i].implies(con) for i,con in enumerate(constraints)])\n",
    "    subset_solver = SolverLookup.lookup(solvername)(mdl_reif)\n",
    "    if verbose:\n",
    "        print(\"Reifying model\")\n",
    "        print(mdl_reif, \"\\n\")\n",
    "\n",
    "    # MAP solver\n",
    "    map_solver = SolverLookup.lookup(solvername)(Model([]))\n",
    "\n",
    "    while True:\n",
    "        seed = next_seed(map_solver, ind_vars, verbose=verbose)\n",
    "        if seed is None:\n",
    "            return\n",
    "\n",
    "        if subset_solver.solve(assumptions=seed):\n",
    "            MSS = grow(subset_solver, ind_vars, seed, verbose=verbose)\n",
    "            yield (\"MSS\", [constraints[idcache[i]] for i in MSS])\n",
    "            block_down(map_solver, ind_vars, MSS, verbose=verbose)\n",
    "        else:\n",
    "            MUS = shrink(subset_solver, ind_vars, seed, verbose=verbose)\n",
    "            yield (\"MUS\", [constraints[idcache[i]] for i in MUS])\n",
    "            block_up(map_solver, MUS, verbose=verbose)"
   ]
  },
  {
   "cell_type": "markdown",
   "id": "fa6a56d3",
   "metadata": {},
   "source": [
    "## Small Unsatisfiable Model"
   ]
  },
  {
   "cell_type": "code",
   "execution_count": 5,
   "id": "7d11aa5c",
   "metadata": {},
   "outputs": [
    {
     "name": "stdout",
     "output_type": "stream",
     "text": [
      "\n",
      "Start MUS/MSS enumeration:\n",
      "MSS [((x) + (y) > 0) or (y < 0), x > 2, (y < 0) or (x < 0), (y >= 0) or (x >= 0)]\n",
      "MUS [x < 0, x > 2]\n",
      "MSS [x < 0, ((x) + (y) > 0) or (y < 0), (y >= 0) or (x >= 0), (y < 0) or (x < 0), x < 1, (y > 0) or (x < 0)]\n",
      "MUS [x < 1, x > 2]\n",
      "MUS [x > 2, (y < 0) or (x < 0), (y > 0) or (x < 0)]\n",
      "MSS [x > 2, (y > 0) or (x < 0), (y >= 0) or (x >= 0), ((x) + (y) > 0) or (y < 0)]\n"
     ]
    }
   ],
   "source": [
    "\n",
    "x = intvar(-9, 9, name=\"x\")\n",
    "y = intvar(-9, 9, name=\"y\")\n",
    "\n",
    "unsat_model = Model(\n",
    "    x < 0, \n",
    "    x < 1,\n",
    "    x > 2,\n",
    "    (x + y > 0) | (y < 0),\n",
    "    (y >= 0) | (x >= 0),\n",
    "    (y < 0) | (x < 0),\n",
    "    (y > 0) | (x < 0),\n",
    ")\n",
    "assert (unsat_model.solve() is False)\n",
    "\n",
    "print(\"\\nStart MUS/MSS enumeration:\")\n",
    "\n",
    "# Warning, all constraints must support reification...\n",
    "# SET verbose to True for more details\n",
    "for kind, exprs in do_marco(unsat_model.constraints, verbose=False):\n",
    "    print(f\"{kind} {exprs}\")"
   ]
  }
 ],
 "metadata": {
  "kernelspec": {
   "display_name": "Python 3 (ipykernel)",
   "language": "python",
   "name": "python3"
  },
  "language_info": {
   "codemirror_mode": {
    "name": "ipython",
    "version": 3
   },
   "file_extension": ".py",
   "mimetype": "text/x-python",
   "name": "python",
   "nbconvert_exporter": "python",
   "pygments_lexer": "ipython3",
   "version": "3.10.2"
  }
 },
 "nbformat": 4,
 "nbformat_minor": 5
}
