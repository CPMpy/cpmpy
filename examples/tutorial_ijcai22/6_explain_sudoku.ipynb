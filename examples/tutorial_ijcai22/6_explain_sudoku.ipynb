{
 "cells": [
  {
   "cell_type": "markdown",
   "metadata": {},
   "source": [
    "# Explaining how to solve a Sudoku\n",
    "\n",
    "This notebook covers how to generate a sequence of explanations for Constraint Satisfaction problems. Here the use case is: \n",
    "\n",
    "You are solving a Sudoku, but at one point, you don't know how to continue. Is there a _HINT_ button I can press to help me out and tell me which number I should write next? \n",
    "\n",
    "The answer is YES! \n",
    "\n",
    "In this notebook, we present how the reasoning behind this button works in practice. We show how to generate these ___explanations___ and how you can adapt them in order to fit your preferences.\n",
    "\n",
    "First we load the CPMpy library:\n"
   ]
  },
  {
   "cell_type": "code",
   "execution_count": null,
   "metadata": {},
   "outputs": [],
   "source": [
    "from cpmpy import *\n",
    "from cpmpy.transformations.get_variables import get_variables\n",
    "\n",
    "import numpy as np\n",
    "from time import time\n",
    "from tqdm import tqdm\n",
    "\n",
    "from IPython.display import display, HTML # display some titles"
   ]
  },
  {
   "cell_type": "markdown",
   "metadata": {},
   "source": [
    "## 1. Modeling the Sudoku\n",
    "\n",
    "In practice, some puzzlers like annotate their sudoku with the numbers that cannot be selected. To keep the explanations limited,in this notebook, we model the sudoku using integer variables and consider only explanations consisting of positive assignments. "
   ]
  },
  {
   "cell_type": "code",
   "execution_count": null,
   "metadata": {},
   "outputs": [],
   "source": [
    "def model_sudoku(given):\n",
    "    #empty cell\n",
    "    e = 0\n",
    "    # Dimensions of the sudoku problem\n",
    "    ncol = nrow = len(given)\n",
    "    n = int(ncol ** (1/2))\n",
    "\n",
    "    # Model Variables\n",
    "    cells = intvar(1,ncol,shape=given.shape,name=\"cells\")\n",
    "    \n",
    "    # sudoku must start from initial clues\n",
    "    facts = [cells[given != e] == given[given != e]]\n",
    "    # rows constraint\n",
    "    row_cons = [AllDifferent(row) for row in cells]\n",
    "    # columns constraint\n",
    "    col_cons = [AllDifferent(col) for col in cells.T]\n",
    "    # blocks constraint\n",
    "    # Constraints on blocks\n",
    "    block_cons = []\n",
    "\n",
    "    for i in range(0,nrow, n):\n",
    "        for j in range(0,ncol, n):\n",
    "            block_cons += [AllDifferent(cells[i:i+n, j:j+n])]\n",
    "\n",
    "    return cells, facts, row_cons + col_cons + block_cons"
   ]
  },
  {
   "cell_type": "markdown",
   "metadata": {},
   "source": [
    "## Solving the Sudoku\n",
    "\n",
    "Call the solver on the Sudoku model and extract the solution."
   ]
  },
  {
   "cell_type": "code",
   "execution_count": null,
   "metadata": {},
   "outputs": [],
   "source": [
    "def extract_solution(constraints, variables):\n",
    "    solved = Model(constraints).solve()\n",
    "    assert solved, \"Model is unsatisfiable.\"\n",
    "     \n",
    "    return variables.value()"
   ]
  },
  {
   "cell_type": "markdown",
   "metadata": {},
   "source": [
    "Pretty printing of a sudoku grid"
   ]
  },
  {
   "cell_type": "code",
   "execution_count": null,
   "metadata": {},
   "outputs": [],
   "source": [
    "def print_sudoku(grid):\n",
    "    # Puzzel dimensions\n",
    "    nrow = ncol = len(grid)\n",
    "    n = int(nrow ** (1/2))\n",
    "\n",
    "    out = \"\"    \n",
    "    for r in range(0,nrow):\n",
    "        for c in range(0,ncol):\n",
    "            out += str(grid[r, c] if grid[r, c] > 0 else ' ')\n",
    "            out += '  ' if grid[r, c] else '  '\n",
    "            if (c+1) % n == 0 and c != nrow-1: # end of block\n",
    "                out += '| '\n",
    "        out += '\\n'\n",
    "        if (r+1) % n == 0 and r != nrow-1: # end of block\n",
    "            out += ('-'*(n + 2*n))\n",
    "            out += ('+' + '-'*(n + 2*n + 1)) *(n-1) + '\\n'\n",
    "    print(out)   "
   ]
  },
  {
   "cell_type": "markdown",
   "metadata": {},
   "source": [
    "## Example SUDOKU: Model and Solve\n",
    "\n",
    "The following grid is an example of a Sudoku grid, where the given values have a value greater than 0 and the others are fixed to 0."
   ]
  },
  {
   "cell_type": "markdown",
   "metadata": {},
   "source": [
    "### Sample 4x4 sudoku grid"
   ]
  },
  {
   "cell_type": "code",
   "execution_count": null,
   "metadata": {
    "scrolled": true
   },
   "outputs": [],
   "source": [
    "e = 0\n",
    "given_4x4 = np.array([\n",
    "    [ e, 3, 4, e ],\n",
    "    [ 4, e, e, 2 ],\n",
    "    [ 1, e, e, 3 ],\n",
    "    [ e, 2, 1, e ],\n",
    "])\n",
    "\n",
    "display(HTML('<h3> INPUT SUDOKU</h3>'))\n",
    "print_sudoku(given_4x4)\n",
    "\n",
    "sudoku_4x4_vars, sudoku_4x4_facts, sudoku_4x4_constraints = model_sudoku(given_4x4)\n",
    "\n",
    "sudoku_4x4_solution = extract_solution(\n",
    "    constraints=sudoku_4x4_constraints + sudoku_4x4_facts, \n",
    "    variables=sudoku_4x4_vars\n",
    ")\n",
    "\n",
    "display(HTML('<h3> SOLUTION </h3>'))\n",
    "print_sudoku(sudoku_4x4_solution)"
   ]
  },
  {
   "cell_type": "markdown",
   "metadata": {},
   "source": [
    "### Sample 9x9 sudoku grid"
   ]
  },
  {
   "cell_type": "code",
   "execution_count": null,
   "metadata": {
    "scrolled": true
   },
   "outputs": [],
   "source": [
    "e = 0\n",
    "given_9x9 = np.array([\n",
    "    [e, e, e,  2, e, 5,  e, e, e],\n",
    "    [e, 9, e,  e, e, e,  7, 3, 2],\n",
    "    [e, e, 2,  e, e, 9,  e, 6, e],\n",
    "\n",
    "    [2, e, e,  e, e, e,  4, e, 9],\n",
    "    [e, e, e,  e, 7, e,  e, e, e],\n",
    "    [6, e, 9,  e, e, e,  e, e, 1],\n",
    "\n",
    "    [e, 8, e,  4, e, e,  1, e, e],\n",
    "    [e, 6, 3,  e, e, e,  e, 8, e],\n",
    "    [e, 2, e,  6, e, 8,  e, e, e]])\n",
    "\n",
    "display(HTML('<h3> INPUT SUDOKU</h3>'))\n",
    "print_sudoku(given_9x9)\n",
    "\n",
    "sudoku_9x9_vars, sudoku_9x9_facts, sudoku_9x9_constraints = model_sudoku(given_9x9)\n",
    "\n",
    "sudoku_9x9_solution = extract_solution(\n",
    "    constraints=sudoku_9x9_constraints + sudoku_9x9_facts, \n",
    "    variables=sudoku_9x9_vars\n",
    ")\n",
    "\n",
    "display(HTML('<h3> SOLUTION </h3>'))\n",
    "print_sudoku(sudoku_9x9_solution)"
   ]
  },
  {
   "cell_type": "markdown",
   "metadata": {},
   "source": [
    "## Explanations for SUDOKU: \n",
    "\n",
    "To explain a full sudoku from the givens to the solution, we generate a sequence of intermediate expalnation steps.\n",
    "Every explanation step is characterized by an *interpretation*, which corresponds to current status of the grid. \n",
    "The initial state of the gris is called the ***initial interpretation***, and the solution is also known as the ***end interpretation***.\n",
    "\n",
    "Every explanation step uses subset of the problem constraints and part of the interpretation in order to derive one or multiple new numbers. \n",
    "\n",
    "1. __C__' ⊂ __C__ A subset of the problem constraints (alldifferents on columns, rows and blocks).\n",
    "\n",
    "2. __I__' ⊂ __I__ A partial interpretation\n",
    "\n",
    "    - In the Sudoku case this corresponds to the numbers filled in the grid at the current explanation step (givens, and newly derived numbers).\n",
    "\n",
    "3. __N__ A newly found number to fill in the grid.\n",
    "\n",
    "Therefore at every step, the number \n",
    "\n",
    "To compute such explanations, we take advantage of the link between non-redundant explanations and Minimal Unsatisfiable Subsets introduced in [1]. \n",
    "\n",
    "\n",
    "[1] Bogaerts, B., Gamba, E., & Guns, T. (2021). A framework for step-wise explaining how to solve constraint satisfaction problems. Artificial Intelligence, 300, 103550.\n"
   ]
  },
  {
   "cell_type": "code",
   "execution_count": null,
   "metadata": {},
   "outputs": [],
   "source": [
    "class SMUSAlgo:\n",
    "\n",
    "    def __init__(self, soft, hard=[], solvername=\"ortools\", hs_solvername=\"gurobi\", disable_corr_enum=True):\n",
    "        \"\"\"\n",
    "            Smallest Minimal Unsatisfiable Subsets (SMUS) for CSP explanations [1,2]\n",
    "\n",
    "            SMUS relies on the implicit hitting set duality between\n",
    "            MUSes and MCSes for a given formula F [2, 3]:\n",
    "\n",
    "                - A set S \\subseteq of F is an MCS of F iff it is a minimal hitting set\n",
    "                 of MUSs(F).\n",
    "                - A set S \\subseteq F is a MUS of F iff it is a minimal hitting set\n",
    "                 of MCSs(F).\n",
    "\n",
    "            Builds a MIP model for computing minimal (optimal) hitting sets. Repeatedly\n",
    "            checks for satisfiability until UNSAT, which means an SMUS is found.\n",
    "\n",
    "            If SAT, and sat solver computes a model. The complement w.r.t F is\n",
    "            computed and added as a new set-to-hit.\n",
    "\n",
    "            Args\n",
    "            ----\n",
    "\n",
    "                hard : Hard constraints must be included in the MUS\n",
    "\n",
    "                soft : Soft Constraints can be selected by the MUS algorithm\n",
    "\n",
    "            [1] Ignatiev, A., Ignatiev, A., Previti, A., Liffiton, M. and Marques-Silva, J (2015).  \n",
    "            Smallest MUS extraction with minimal hitting set dualization. \n",
    "            International Conference on Principles and Practice of Constraint Programming. \n",
    "            Springer, Cham, 2015.\n",
    "\n",
    "            [2] Gamba, E., Bogaerts, B., & Guns, T. (8 2021). Efficiently Explaining CSPs\n",
    "            with Unsatisfiable Subset Optimization. In Z.-H. Zhou (Red), Proceedings of the\n",
    "            Thirtieth International Joint Conference on Artificial Intelligence,\n",
    "            IJCAI-21 (bll 1381–1388). doi:10.24963/ijcai.2021/191.\n",
    "\n",
    "            [3] Liffiton, M. H., & Sakallah, K. A. (2008). Algorithms for computing minimal\n",
    "            unsatisfiable subsets of constraints. Journal of Automated Reasoning, 40(1), 1-33.\n",
    "\n",
    "            [4] Reiter, R. (1987). A theory of diagnosis from first principles.\n",
    "            Artificial intelligence, 32(1), 57-95.\n",
    "        \"\"\"\n",
    "        self.soft = cpm_array(soft)\n",
    "        self.hard = hard\n",
    "        \n",
    "        self.assum_vars = boolvar(len(soft))\n",
    "\n",
    "        self.solver = SolverLookup.get(solvername)\n",
    "        self.solver += self.hard\n",
    "        self.solver += self.assum_vars.implies(self.soft)\n",
    "        \n",
    "        self.maxsat_solver = SolverLookup.get(solvername)\n",
    "        self.maxsat_solver += self.hard\n",
    "        self.maxsat_solver += self.assum_vars.implies(self.soft)\n",
    "        self.maxsat_solver.maximize(sum(self.assum_vars))\n",
    "\n",
    "        # Hitting Set MODEL is described by:\n",
    "        #     - x_l={0,1} if assumption variable is inside the hitting set (1) or not (0).\n",
    "        #     - c_lj={0,1} is 1 (0) if the literal l is (not) present in the set-to-hit j.\n",
    "        # Subject to:\n",
    "        #     (1) sum(x_l * c_lj) >= 1 for all hitting sets j.\n",
    "        #         = The hitting set must hit all sets-to-hit.\n",
    "        self.hs_solver= SolverLookup.get(hs_solvername)\n",
    "        self.hs_solver += sum(self.assum_vars) >= 1\n",
    "        # Objective:\n",
    "        #         min sum(x_l) \n",
    "        self.hs_solver.minimize(sum(self.assum_vars))\n",
    "\n",
    "        self.mus = None\n",
    "        self.disable_corr_enum = disable_corr_enum\n",
    "        \n",
    "    def iterate(self, n=1):\n",
    "        '''\n",
    "            SMUS-Core computes n iterations of the algorithm.\n",
    "        '''\n",
    "        for _ in range(n):\n",
    "            assert self.hs_solver.solve()\n",
    "            h = self.assum_vars.value() == 1\n",
    "            \n",
    "            if not self.solver.solve(assumptions=self.assum_vars[h]):\n",
    "                # UNSAT subset, return\n",
    "                self.mus = set(self.soft[self.assum_vars.value()])\n",
    "                return\n",
    "                \n",
    "            # Find disjunctive sets\n",
    "            mcses = self.corr_enum(h)\n",
    "\n",
    "            for mcs in mcses:\n",
    "                self.hs_solver += sum(self.assum_vars[mcs]) >= 1\n",
    "\n",
    "    def corr_enum(self, h):\n",
    "           \n",
    "        mcses = []\n",
    "        hp = np.array(h)\n",
    "\n",
    "        sat, ss = self.grow(hp)\n",
    "        \n",
    "        if self.disable_corr_enum:\n",
    "            return [~ss]\n",
    "\n",
    "        while(sat):\n",
    "            mcs = ~ss\n",
    "            mcses.append(mcs)\n",
    "            hp = hp | mcs\n",
    "            sat, ss = self.grow(hp)\n",
    "\n",
    "        return mcses            \n",
    "    \n",
    "    def grow(self, h):\n",
    "#         from time import time\n",
    "        start = time()\n",
    "        sat = self.maxsat_solver.solve(assumptions=self.assum_vars[h])\n",
    "\n",
    "        return sat, self.assum_vars.value() == 1"
   ]
  },
  {
   "cell_type": "markdown",
   "metadata": {},
   "source": [
    "## Explanation\n",
    "This part of the notebook finds the smallest step to take in solving the sudoku. <br>"
   ]
  },
  {
   "cell_type": "code",
   "execution_count": null,
   "metadata": {},
   "outputs": [],
   "source": [
    "def split_ocus(given, vars_to_expl, constraints, verbose=False):\n",
    "    \"\"\"\n",
    "        Split ocus first propagates the given variable-value assignments and \n",
    "        constraints to find a satisfying solution. \n",
    "        split_ocus keep track of a priority queue (PQ) of SMUS extractors \n",
    "        for every value assignment that needs to be explained. \n",
    "        The PQ is sorted using the size of the current hitting set of every \n",
    "        variable. Therefore, the element at the top of the PQ is the most likely\n",
    "        to lead to an small explanation. \n",
    "        At every iteration of the split_ocus algorithm:\n",
    "        \n",
    "            1. The element at the top of the PQ is popped.\n",
    "            2. One iteration in the SMUS algorithm is done.\n",
    "                - Its hitting set cost is updated \n",
    "            3. The element is pushed by into the list \n",
    "        \n",
    "        Args:\n",
    "        - given: dict variable-value\n",
    "        - vars_to_expl: collection of variables for which you want a potential\n",
    "        explanation.\n",
    "        - constraints: Reified-problem constraints\n",
    "        \n",
    "\n",
    "    \"\"\"\n",
    "    facts = [var == val for var, val in given.items()]\n",
    "    assert Model(facts + constraints).solve(), \"Model should be SAT!\"\n",
    "    sol = {var : var.value() for var in vars_to_expl}\n",
    "    \n",
    "    ## priority queue (PQ) of SMUS extractors for every value assignment\n",
    "    ## that needs to be explained\n",
    "    pq = [(var,0,SMUSAlgo(soft=facts + constraints, hard=[var != sol[var]])) \n",
    "          for var in vars_to_expl]\n",
    "    \n",
    "    i = 0\n",
    "    while 1:\n",
    "        var, obj_val, smus_algo = pq.pop(0)\n",
    "        if verbose:\n",
    "            print(f\"\\rContinuing computation on SMUS with obj {obj_val}\", end=\"\\t\"*5)\n",
    "        # pbar.set_description(f\"Best objective_score: {obj_val}\")\n",
    "        if smus_algo.mus is not None:\n",
    "            E = smus_algo.mus & set(facts)\n",
    "            S = smus_algo.mus & set(constraints)\n",
    "            N = [var == sol[var]]\n",
    "            return (E,S,N)\n",
    "        # Algo has not found a solution yet, continue\n",
    "        smus_algo.iterate()\n",
    "        pq.append((var,smus_algo.hs_solver.objective_value(),smus_algo))\n",
    "        pq.sort(key=lambda x : x[1])"
   ]
  },
  {
   "cell_type": "markdown",
   "metadata": {},
   "source": [
    "## Stepwise explanations\n",
    "\n",
    "For this, we build upon out work on stepwise explanations of SAT problems [2]."
   ]
  },
  {
   "cell_type": "code",
   "execution_count": null,
   "metadata": {},
   "outputs": [],
   "source": [
    "def explain_full_sudoku(given, vars_to_expl, constraints, verbose=False):\n",
    "    facts = [var == val for var, val in given.items()]\n",
    "    assert Model(facts + constraints).solve(), \"Model should be SAT!\"\n",
    "    sol = {var : var.value() for var in vars_to_expl}\n",
    "\n",
    "    remaining_vars_to_expl = set(vars_to_expl)\n",
    "    \n",
    "    explanation_sequence = []\n",
    "    \n",
    "    while(len(remaining_vars_to_expl) > 0):\n",
    "        E, S, N = split_ocus(given, remaining_vars_to_expl, constraints, verbose=verbose)\n",
    "        facts += N\n",
    "        var_N = get_variables(N)[0]\n",
    "        given[var_N] = sol[var_N]\n",
    "\n",
    "        remaining_vars_to_expl -= set(get_variables(N))\n",
    "        print(f\"\\n\\nFacts:\\n\\t{E=}\\nConstraints:\\n\\t{S=},\\n\\t => {N=}\\n\")\n",
    "        \n",
    "        explanation_sequence.append((E,S,N))\n",
    "    \n",
    "    return explanation_sequence"
   ]
  },
  {
   "cell_type": "markdown",
   "metadata": {},
   "source": [
    "## Generate a sample explanation for given Sudoku"
   ]
  },
  {
   "cell_type": "code",
   "execution_count": null,
   "metadata": {
    "scrolled": true
   },
   "outputs": [],
   "source": [
    "given = given_4x4\n",
    "\n",
    "cells, facts, constraints = model_sudoku(given)\n",
    "\n",
    "clues = {var : val for var, val in zip(cells.flatten(), given.flatten()) if val != e}\n",
    "vars_to_expl = set(get_variables(constraints)) - set(clues.keys())\n",
    "\n",
    "start = time()\n",
    "E,S,N = split_ocus(clues, vars_to_expl, constraints, verbose=True)\n",
    "\n",
    "print(f\"\\n\\nFacts:\\n\\t{E=}\\nConstraints:\\n\\t{S=},\\n\\t => {N=}\\n\")"
   ]
  },
  {
   "cell_type": "markdown",
   "metadata": {},
   "source": [
    "## Generate the full explanation sequence for given Sudoku"
   ]
  },
  {
   "cell_type": "code",
   "execution_count": null,
   "metadata": {},
   "outputs": [],
   "source": [
    "given = given_4x4\n",
    "\n",
    "cells, facts, constraints = model_sudoku(given)\n",
    "\n",
    "clues = {var : val for var, val in zip(cells.flatten(), given.flatten()) if val != e}\n",
    "vars_to_expl = set(get_variables(constraints)) - set(clues.keys())\n",
    "\n",
    "start = time()\n",
    "explain_full_sudoku(clues, vars_to_expl, constraints, verbose=True)"
   ]
  },
  {
   "cell_type": "code",
   "execution_count": null,
   "metadata": {},
   "outputs": [],
   "source": []
  }
 ],
 "metadata": {
  "kernelspec": {
   "display_name": "Python 3 (ipykernel)",
   "language": "python",
   "name": "python3"
  },
  "language_info": {
   "codemirror_mode": {
    "name": "ipython",
    "version": 3
   },
   "file_extension": ".py",
   "mimetype": "text/x-python",
   "name": "python",
   "nbconvert_exporter": "python",
   "pygments_lexer": "ipython3",
   "version": "3.10.2"
  },
  "vscode": {
   "interpreter": {
    "hash": "fcd96b95db2b94a24be489ec92406cf1ead50f40f9a7d6bf0b0cd38b7ff22b67"
   }
  }
 },
 "nbformat": 4,
 "nbformat_minor": 2
}
