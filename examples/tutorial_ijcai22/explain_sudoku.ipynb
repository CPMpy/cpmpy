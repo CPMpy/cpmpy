{
 "cells": [
  {
   "cell_type": "markdown",
   "metadata": {},
   "source": [
    "# Explaining how to solve a Sudoku\n",
    "\n",
    "This notebook covers how to generate a sequence of explanations for Constraint Satisfaction problems. Here the use case is: \n",
    "\n",
    "You are solving a Sudoku, but at one point, you don't know how to continue. Is there a _HINT_ button I can press to help me out and tell me which number I should write next? \n",
    "\n",
    "The answer is YES! \n",
    "\n",
    "In this notebook, we present how the reasoning behind this button works in practice. We show how to generate these ___explanations___ and how you can adapt them in order to fit your preferences.\n",
    "\n",
    "First we load the CPMpy library:\n"
   ]
  },
  {
   "cell_type": "code",
   "execution_count": 1,
   "metadata": {},
   "outputs": [],
   "source": [
    "from cpmpy import *\n",
    "from cpmpy.transformations.get_variables import get_variables\n",
    "\n",
    "import numpy as np\n",
    "from time import time\n",
    "from tqdm import tqdm\n",
    "\n",
    "from IPython.display import display, HTML # display some titles"
   ]
  },
  {
   "cell_type": "markdown",
   "metadata": {},
   "source": [
    "## 1. Modeling the Sudoku\n",
    "\n",
    "In practice, some puzzlers like annotate their sudoku with the numbers that cannot be selected. To keep the explanations limited,in this notebook, we model the sudoku using integer variables and consider only explanations consisting of positive assignments. "
   ]
  },
  {
   "cell_type": "code",
   "execution_count": 2,
   "metadata": {},
   "outputs": [],
   "source": [
    "def model_sudoku(given):\n",
    "    # Dimensions of the sudoku problem\n",
    "    ncol = nrow = len(given)\n",
    "    n = int(ncol ** (1/2))\n",
    "\n",
    "    # Model Variables\n",
    "    cells = intvar(1,ncol,shape=given.shape,name=\"cells\")\n",
    "    \n",
    "    # sudoku must start from initial clues\n",
    "    facts = [cells[given != e] == given[given != e]]\n",
    "    # rows constraint\n",
    "    row_cons = [AllDifferent(row) for row in cells]\n",
    "    # columns constraint\n",
    "    col_cons = [AllDifferent(col) for col in cells.T]\n",
    "    # blocks constraint\n",
    "    # Constraints on blocks\n",
    "    block_cons = []\n",
    "\n",
    "    for i in range(0,ncol, n):\n",
    "        for j in range(0,nrow, n):\n",
    "            block_cons += [AllDifferent(cells[i:i+n, j:j+n])]\n",
    "            \n",
    "    assert Model(facts + row_cons + col_cons + block_cons).solve()\n",
    "\n",
    "    return cells, facts, row_cons + col_cons + block_cons"
   ]
  },
  {
   "cell_type": "markdown",
   "metadata": {},
   "source": [
    "Pretty printing of a sudoku grid"
   ]
  },
  {
   "cell_type": "code",
   "execution_count": 3,
   "metadata": {},
   "outputs": [],
   "source": [
    "def print_sudoku(grid):\n",
    "    out = \"\"\n",
    "    nrow = ncol = len(grid)\n",
    "    n = int(nrow ** (1/2))\n",
    "    for r in range(0,nrow):\n",
    "        for c in range(0,ncol):\n",
    "            out += str(grid[r, c] if grid[r, c] > 0 else ' ')\n",
    "            out += '  ' if grid[r, c] else '  '\n",
    "            if (c+1) % n == 0 and c != nrow-1: # end of block\n",
    "                out += '| '\n",
    "        out += '\\n'\n",
    "        if (r+1) % n == 0 and r != nrow-1: # end of block\n",
    "            out += ('-'*(n + 2*n))\n",
    "            out += ('+' + '-'*(n + 2*n + 1)) *(n-1) + '\\n'\n",
    "    print(out)   "
   ]
  },
  {
   "cell_type": "markdown",
   "metadata": {},
   "source": [
    "# Example instances"
   ]
  },
  {
   "cell_type": "code",
   "execution_count": 4,
   "metadata": {},
   "outputs": [
    {
     "name": "stdout",
     "output_type": "stream",
     "text": [
      "   3  | 4     \n",
      "4     |    2  \n",
      "------+-------\n",
      "1     |    3  \n",
      "   2  | 1     \n",
      "\n"
     ]
    }
   ],
   "source": [
    "e = 0\n",
    "given_4x4 = np.array([\n",
    "    [ e, 3, 4, e ],\n",
    "    [ 4, e, e, 2 ],\n",
    "    [ 1, e, e, 3 ],\n",
    "    [ e, 2, 1, e ],\n",
    "])\n",
    "print_sudoku(given_4x4)"
   ]
  },
  {
   "cell_type": "markdown",
   "metadata": {},
   "source": [
    "## Example SUDOKU: Model and Solve\n",
    "\n",
    "The following grid is an example of a Sudoku grid, where the given values have a value greater than 0 and the others are fixed to 0."
   ]
  },
  {
   "cell_type": "code",
   "execution_count": 5,
   "metadata": {},
   "outputs": [
    {
     "name": "stdout",
     "output_type": "stream",
     "text": [
      "         | 2     5  |          \n",
      "   9     |          | 7  3     \n",
      "      2  |       9  |    6     \n",
      "---------+----------+----------\n",
      "2        |          | 4     9  \n",
      "         |    7     |          \n",
      "6     9  |          |       1  \n",
      "---------+----------+----------\n",
      "   8     | 4        | 1        \n",
      "   6  3  |          |    8     \n",
      "         | 6     8  |          \n",
      "\n"
     ]
    }
   ],
   "source": [
    "e = 0\n",
    "given_9x9 = np.array([\n",
    "    [e, e, e,  2, e, 5,  e, e, e],\n",
    "    [e, 9, e,  e, e, e,  7, 3, e],\n",
    "    [e, e, 2,  e, e, 9,  e, 6, e],\n",
    "\n",
    "    [2, e, e,  e, e, e,  4, e, 9],\n",
    "    [e, e, e,  e, 7, e,  e, e, e],\n",
    "    [6, e, 9,  e, e, e,  e, e, 1],\n",
    "\n",
    "    [e, 8, e,  4, e, e,  1, e, e],\n",
    "    [e, 6, 3,  e, e, e,  e, 8, e],\n",
    "    [e, e, e,  6, e, 8,  e, e, e]])\n",
    "\n",
    "print_sudoku(given_9x9)"
   ]
  },
  {
   "cell_type": "markdown",
   "metadata": {},
   "source": [
    "## Solving the Sudoku\n",
    "\n",
    "Call the solver on the Sudoku model and extract the solution."
   ]
  },
  {
   "cell_type": "code",
   "execution_count": 6,
   "metadata": {},
   "outputs": [],
   "source": [
    "def extract_solution(constraints, variables, verbose=False):\n",
    "    ncols = nrows = 9\n",
    "    solved = Model(constraints).solve()\n",
    "    assert solved, \"Model is unsatisfiable.\"\n",
    "    \n",
    "    sol = np.array([\n",
    "        [variables[r, c].value() \n",
    "         for c in range(ncols)] \n",
    "        for r in range(nrows)\n",
    "    ])\n",
    "     \n",
    "    return sol"
   ]
  },
  {
   "cell_type": "code",
   "execution_count": 7,
   "metadata": {},
   "outputs": [
    {
     "data": {
      "text/html": [
       "<h3> ------- INPUT SUDOKU -------</h3>"
      ],
      "text/plain": [
       "<IPython.core.display.HTML object>"
      ]
     },
     "metadata": {},
     "output_type": "display_data"
    },
    {
     "name": "stdout",
     "output_type": "stream",
     "text": [
      "6  9  4  |       1  |          \n",
      "      3  |    2     |    4  5  \n",
      "2  7     |    6     |          \n",
      "---------+----------+----------\n",
      "      1  |       4  |    7     \n",
      "   2  6  |    8  7  |    9  3  \n",
      "3  5  7  |          | 4     2  \n",
      "---------+----------+----------\n",
      "   6  9  |          |       1  \n",
      "1  3     | 6        | 7        \n",
      "         | 1     2  |          \n",
      "\n"
     ]
    },
    {
     "data": {
      "text/html": [
       "<h3>---------- SOLUTION ---------- </h3>"
      ],
      "text/plain": [
       "<IPython.core.display.HTML object>"
      ]
     },
     "metadata": {},
     "output_type": "display_data"
    },
    {
     "name": "stdout",
     "output_type": "stream",
     "text": [
      "6  9  4  | 8  5  1  | 2  3  7  \n",
      "8  1  3  | 7  2  9  | 6  4  5  \n",
      "2  7  5  | 4  6  3  | 9  1  8  \n",
      "---------+----------+----------\n",
      "9  8  1  | 2  3  4  | 5  7  6  \n",
      "4  2  6  | 5  8  7  | 1  9  3  \n",
      "3  5  7  | 9  1  6  | 4  8  2  \n",
      "---------+----------+----------\n",
      "7  6  9  | 3  4  5  | 8  2  1  \n",
      "1  3  2  | 6  9  8  | 7  5  4  \n",
      "5  4  8  | 1  7  2  | 3  6  9  \n",
      "\n"
     ]
    }
   ],
   "source": [
    "e = 0 # value for empty cells\n",
    "given = np.array([\n",
    "    [6, 9, 4,  e, e, 1,  e, e, e],\n",
    "    [e, e, 3,  e, 2, e,  e, 4, 5],\n",
    "    [2, 7, e,  e, 6, e,  e, e, e],\n",
    "\n",
    "    [e, e, 1,  e, e, 4,  e, 7, e],\n",
    "    [e, 2, 6,  e, 8, 7,  e, 9, 3],\n",
    "    [3, 5, 7,  e, e, e,  4, e, 2],\n",
    "\n",
    "    [e, 6, 9,  e, e, e,  e, e, 1],\n",
    "    [1, 3, e,  6, e, e,  7, e, e],\n",
    "    [e, e, e,  1, e, 2,  e, e, e]]\n",
    ")\n",
    "\n",
    "display(HTML('<h3> ------- INPUT SUDOKU -------</h3>'))\n",
    "print_sudoku(given)\n",
    "\n",
    "sudoku_vars, facts, constraints = model_sudoku(given)\n",
    "\n",
    "sudoku_solution = extract_solution(constraints + facts, sudoku_vars)\n",
    "\n",
    "display(HTML('<h3>---------- SOLUTION ---------- </h3>'))\n",
    "print_sudoku(sudoku_solution)"
   ]
  },
  {
   "cell_type": "markdown",
   "metadata": {},
   "source": [
    "## Explanations for SUDOKU: \n",
    "\n",
    "To explain a full sudoku from the givens to the solution, we generate a sequence of intermediate expalnation steps.\n",
    "Every explanation step is characterized by an *interpretation*, which corresponds to current status of the grid. \n",
    "The initial state of the gris is called the ***initial interpretation***, and the solution is also known as the ***end interpretation***.\n",
    "\n",
    "Every explanation step uses subset of the problem constraints and part of the interpretation in order to derive one or multiple new numbers. \n",
    "\n",
    "1. __C__' ⊂ __C__ A subset of the problem constraints (alldifferents on columns, rows and blocks).\n",
    "\n",
    "2. __I__' ⊂ __I__ A partial interpretation\n",
    "\n",
    "    - In the Sudoku case this corresponds to the numbers filled in the grid at the current explanation step (givens, and newly derived numbers).\n",
    "\n",
    "3. __N__ A newly found number to fill in the grid.\n",
    "\n",
    "Therefore at every step, the number \n",
    "\n",
    "To compute such explanations, we take advantage of the link between non-redundant explanations and Minimal Unsatisfiable Subsets introduced in [1]. \n",
    "\n",
    "\n",
    "[1] Bogaerts, B., Gamba, E., & Guns, T. (2021). A framework for step-wise explaining how to solve constraint satisfaction problems. Artificial Intelligence, 300, 103550.\n"
   ]
  },
  {
   "cell_type": "code",
   "execution_count": 8,
   "metadata": {},
   "outputs": [],
   "source": [
    "class SMUSAlgo:\n",
    "\n",
    "    def __init__(self, soft, hard=[], solvername=\"ortools\", hs_solvername=\"gurobi\", disable_corr_enum=False):\n",
    "\n",
    "        self.soft = cpm_array(soft)\n",
    "        self.hard = hard\n",
    "        \n",
    "        self.assum_vars = boolvar(len(soft))\n",
    "\n",
    "        self.solver = SolverLookup.get(solvername)\n",
    "        self.solver += self.hard\n",
    "        self.solver += self.assum_vars.implies(self.soft)\n",
    "        \n",
    "        self.maxsat_solver = SolverLookup.get(solvername)\n",
    "        self.maxsat_solver += self.hard\n",
    "        self.maxsat_solver += self.assum_vars.implies(self.soft)\n",
    "        self.maxsat_solver.maximize(sum(self.assum_vars))\n",
    "\n",
    "        self.hs_solver= SolverLookup.get(hs_solvername)\n",
    "        self.hs_solver.minimize(sum(self.assum_vars))\n",
    "\n",
    "        self.mus = None\n",
    "        self.disable_corr_enum = disable_corr_enum\n",
    "        \n",
    "    def iterate(self, n=1):\n",
    "        for _ in range(n):\n",
    "            assert self.hs_solver.solve()\n",
    "            h = self.assum_vars.value() == 1\n",
    "            \n",
    "            if not self.solver.solve(assumptions=self.assum_vars[h]):\n",
    "                # UNSAT subset, return\n",
    "                self.mus = set(self.soft[self.assum_vars.value()])\n",
    "                return\n",
    "                \n",
    "            # Find disjunctive sets\n",
    "            mcses = self.corr_enum(h)\n",
    "\n",
    "            for mcs in mcses:\n",
    "                self.hs_solver += sum(self.assum_vars[mcs]) >= 1\n",
    "\n",
    "    def corr_enum(self, h):\n",
    "           \n",
    "        mcses = []\n",
    "        hp = np.array(h)\n",
    "\n",
    "        sat, ss = self.grow(h)\n",
    "        \n",
    "        if self.disable_corr_enum:\n",
    "            return [~ss]\n",
    "\n",
    "        while(sat):\n",
    "            mcs = ~ss\n",
    "            mcses.append(mcs)\n",
    "            hp = hp | mcs\n",
    "            sat, ss = self.grow(hp)\n",
    "\n",
    "        return mcses            \n",
    "    \n",
    "    def grow(self, h):\n",
    "#         from time import time\n",
    "        start = time()\n",
    "        sat = self.maxsat_solver.solve(assumptions=self.assum_vars[h])\n",
    "\n",
    "        return sat, self.assum_vars.value() == 1"
   ]
  },
  {
   "cell_type": "markdown",
   "metadata": {},
   "source": [
    "## Explanation\n",
    "This part of the notebook finds the smallest step to take in solving the sudoku. <br>\n",
    "For this, we build upon out work on stepwise explanations of SAT problems [2]."
   ]
  },
  {
   "cell_type": "code",
   "execution_count": 9,
   "metadata": {},
   "outputs": [],
   "source": [
    "def split_ocus(given, vars_to_expl, constraints, verbose=False,disable_corr_enum=False):\n",
    "    facts = [var == val for var, val in given.items()]\n",
    "    assert Model(facts + constraints).solve(), \"Model should be SAT!\"\n",
    "    sol = {var : var.value() for var in vars_to_expl}\n",
    "    \n",
    "    pq = [(var,0,SMUSAlgo(soft=facts + constraints, hard=[var != sol[var]], disable_corr_enum=disable_corr_enum)) \n",
    "          for var in vars_to_expl]\n",
    "    \n",
    "    i = 0\n",
    "    while 1:\n",
    "        var, obj_val, smus_algo = pq.pop(0)\n",
    "        if verbose:\n",
    "            print(f\"\\rContinuing computation on SMUS with obj {obj_val}\", end=\"\\t\"*5)\n",
    "        # pbar.set_description(f\"Best objective_score: {obj_val}\")\n",
    "        if smus_algo.mus is not None:\n",
    "            E = smus_algo.mus & set(facts)\n",
    "            S = smus_algo.mus & set(constraints)\n",
    "            N = [var == sol[var]]\n",
    "            return (E,S,get_variables(N))\n",
    "        # Algo has not found a solution yet, continue\n",
    "        smus_algo.iterate()\n",
    "        pq.append((var,smus_algo.hs_solver.objective_value(),smus_algo))\n",
    "        pq.sort(key=lambda x : x[1])\n",
    "        # pbar.update()"
   ]
  },
  {
   "cell_type": "markdown",
   "metadata": {},
   "source": [
    "### Propagation of constraints \n",
    "\n",
    "Once an explanation is found, we check whether we can derive some other digits using the same constraints and the digits of the explanation."
   ]
  },
  {
   "cell_type": "code",
   "execution_count": 10,
   "metadata": {},
   "outputs": [],
   "source": [
    "def explain_ocus(given, vars_to_expl, constraints, verbose=False):\n",
    "    facts = [var == val for var, val in given.items()]\n",
    "    assert Model(facts + constraints).solve(), \"Model should be SAT!\"\n",
    "    sol = {var : var.value() for var in vars_to_expl}\n",
    "    \n",
    "    soft = facts + constraints + [var != var.value() for var in vars_to_expl]\n",
    "    cons_subset = np.append(np.zeros(len(facts) + len(constraints), dtype=bool),\n",
    "                            np.ones(len(vars_to_expl), dtype=bool))\n",
    "    \n",
    "    ocus_algp = OCUS_OneOfAlgo(soft, cons_subset)\n",
    "    \n",
    "    mus = ocus_algp.iterate(int(1e3))\n",
    "\n",
    "    E = ocus_algp.mus & set(facts)\n",
    "    S = ocus_algp.mus & set(constraints)\n",
    "    N = ocus_algp.mus - E - S\n",
    "    return (E,S,get_variables(N))"
   ]
  },
  {
   "cell_type": "code",
   "execution_count": 11,
   "metadata": {},
   "outputs": [],
   "source": [
    "def split_ocus_subsetmax(given, vars_to_expl, constraints, verbose=False):\n",
    "    facts = [var == val for var, val in given.items()]\n",
    "    assert Model(facts + constraints).solve(), \"Model should be SAT!\"\n",
    "    sol = {var : var.value() for var in vars_to_expl}\n",
    "    \n",
    "    pq = [(var,0,SMUSAlgo_subsetmax(soft=facts + constraints, hard=[var != sol[var]])) for var in vars_to_expl]\n",
    "    i = 0\n",
    "    while 1:\n",
    "        var, obj_val, smus_algo = pq.pop(0)\n",
    "        if verbose:\n",
    "            print(f\"\\rContinuing computation on SMUS with obj {obj_val}\", end=\"\\t\"*5)\n",
    "        # pbar.set_description(f\"Best objective_score: {obj_val}\")\n",
    "        if smus_algo.mus is not None:\n",
    "            E = smus_algo.mus & set(facts)\n",
    "            S = smus_algo.mus & set(constraints)\n",
    "            N = [var == sol[var]]\n",
    "            return (E,S,get_variables(N))\n",
    "        # Algo has not found a solution yet, continue\n",
    "        smus_algo.iterate()\n",
    "        pq.append((var,smus_algo.hs_solver.objective_value(),smus_algo))\n",
    "        pq.sort(key=lambda x : x[1])\n",
    "        # pbar.update()"
   ]
  },
  {
   "cell_type": "code",
   "execution_count": 12,
   "metadata": {},
   "outputs": [],
   "source": [
    "def split_ocus_subsetmax_corr_enum(given, vars_to_expl, constraints, verbose=False):\n",
    "    facts = [var == val for var, val in given.items()]\n",
    "    assert Model(facts + constraints).solve(), \"Model should be SAT!\"\n",
    "    sol = {var : var.value() for var in vars_to_expl}\n",
    "    \n",
    "    pq = [(var,0,SMUSAlgo_subsetmax_corr_enum(soft=facts + constraints, hard=[var != sol[var]])) for var in vars_to_expl]\n",
    "    i = 0\n",
    "    while 1:\n",
    "        var, obj_val, smus_algo = pq.pop(0)\n",
    "\n",
    "        if verbose:\n",
    "            print(f\"\\rContinuing computation on SMUS with obj {obj_val}\", end=\"\\t\"*5)\n",
    "            \n",
    "        # pbar.set_description(f\"Best objective_score: {obj_val}\")\n",
    "        if smus_algo.mus is not None:\n",
    "            E = smus_algo.mus & set(facts)\n",
    "            S = smus_algo.mus & set(constraints)\n",
    "            N = [var == sol[var]]\n",
    "            return (E,S,get_variables(N))\n",
    "\n",
    "        # Algo has not found a solution yet, continue\n",
    "        smus_algo.iterate()\n",
    "        pq.append((var,smus_algo.hs_solver.objective_value(),smus_algo))\n",
    "        pq.sort(key=lambda x : x[1])\n",
    "        # pbar.update()"
   ]
  },
  {
   "cell_type": "code",
   "execution_count": 13,
   "metadata": {},
   "outputs": [],
   "source": [
    "class SMUSAlgo_subsetmax(SMUSAlgo):\n",
    "    def __init__(self, soft, hard=[], solvername=\"ortools\", hs_solvername=\"gurobi\"):\n",
    "        self.soft = cpm_array(soft)\n",
    "        self.hard = hard\n",
    "        \n",
    "        self.assum_vars = boolvar(len(soft))\n",
    "\n",
    "        self.solver = SolverLookup.get(solvername)\n",
    "        self.solver += self.hard\n",
    "        self.solver += self.assum_vars.implies(self.soft)\n",
    "\n",
    "        self.hs_solver= SolverLookup.get(hs_solvername)\n",
    "        self.hs_solver.minimize(sum(self.assum_vars))\n",
    "\n",
    "        self.mus = None\n",
    "    \n",
    "    \n",
    "    def grow(self, h):\n",
    "\n",
    "        \n",
    "        sat = self.solver.solve(assumptions=self.assum_vars[h])\n",
    "        \n",
    "        ss = self.assum_vars.value() == 1\n",
    "\n",
    "        remaining_to_check = set(i for i, v in enumerate(ss) if not v)\n",
    "        \n",
    "        while(len(remaining_to_check) > 0):\n",
    "            i = remaining_to_check.pop()\n",
    "            \n",
    "            ssp = np.concatenate([ss[:i], [True], ss[i+1:]])\n",
    "\n",
    "            if self.solver.solve(assumptions=self.assum_vars[ssp]):\n",
    "                ss |= (self.assum_vars.value() == 1)\n",
    "                remaining_to_check -= set(i for i, v in enumerate(ss) if v)\n",
    "\n",
    "        return ss\n"
   ]
  },
  {
   "cell_type": "code",
   "execution_count": 14,
   "metadata": {},
   "outputs": [],
   "source": [
    "class SMUSAlgo_subsetmax_corr_enum(SMUSAlgo):\n",
    "    def __init__(self, soft, hard=[], solvername=\"ortools\", hs_solvername=\"gurobi\"):\n",
    "        super().__init__(soft, hard, solvername, hs_solvername)\n",
    "            \n",
    "    def grow(self, h):\n",
    "\n",
    "        sat = self.solver.solve(assumptions=self.assum_vars[h])\n",
    "\n",
    "        if not sat:\n",
    "            return sat, h\n",
    "\n",
    "        ss = self.assum_vars.value() == 1\n",
    "        \n",
    "        for i, val in enumerate(np.array(ss)):\n",
    "            if val:\n",
    "                continue\n",
    "            ssp = np.concatenate([ss[:i], [not val], ss[i+1:]])\n",
    "\n",
    "            if self.solver.solve(assumptions=self.assum_vars[ssp]):\n",
    "                ss = ssp\n",
    "\n",
    "        # self.maxsat_solver.solve(assumptions=self.assum_vars[h])\n",
    "        return sat, ss == 1"
   ]
  },
  {
   "cell_type": "code",
   "execution_count": 15,
   "metadata": {},
   "outputs": [],
   "source": [
    "class OCUS_OneOfAlgo(SMUSAlgo):\n",
    "\n",
    "    def __init__(self, soft, cons_subset, hard=[], solvername=\"ortools\", hs_solvername=\"gurobi\"):\n",
    "        super().__init__(soft, hard, solvername, hs_solvername)\n",
    "\n",
    "        self.hs_solver += sum(self.assum_vars[cons_subset]) == 1\n",
    "        # self.maxsat_solver += sum(self.assum_vars[cons_subset]) == 1"
   ]
  },
  {
   "cell_type": "markdown",
   "metadata": {},
   "source": []
  },
  {
   "cell_type": "markdown",
   "metadata": {},
   "source": [
    "## Run Stepwise explanations"
   ]
  },
  {
   "cell_type": "code",
   "execution_count": 16,
   "metadata": {},
   "outputs": [
    {
     "name": "stdout",
     "output_type": "stream",
     "text": [
      "Restricted license - for non-production use only - expires 2023-10-25\n",
      "Continuing computation on SMUS with obj 7.0\t\t\t\t\t\n",
      " Split OCUS - MaxSAT Corr Enum \t\t\t\t 281.7976357936859s\n"
     ]
    }
   ],
   "source": [
    "given = given_4x4\n",
    "#given = given_9x9\n",
    "cells, facts, constraints = model_sudoku(given)\n",
    "\n",
    "clues = {var : val for var, val in zip(cells.flatten(), given.flatten()) if val != e}\n",
    "vars_to_expl = set(get_variables(constraints)) - set(clues.keys())\n",
    "\n",
    "start = time()\n",
    "E,S,N = split_ocus(clues, vars_to_expl, constraints, verbose=True, disable_corr_enum=True)\n",
    "\n",
    "print(\"\\n Split OCUS - MaxSAT Corr Enum\", \"\\t\"*4, f\"{time()-start}s\")"
   ]
  },
  {
   "cell_type": "code",
   "execution_count": 17,
   "metadata": {},
   "outputs": [],
   "source": [
    "# helper function\n",
    "from cpmpy.expressions.utils import is_any_list\n",
    "def _unravel(lst):\n",
    "    if is_any_list(lst):\n",
    "        flatcons = [_unravel(e) for e in lst]\n",
    "        return [c for con in flatcons for c in con]\n",
    "    return [lst]"
   ]
  },
  {
   "cell_type": "markdown",
   "metadata": {},
   "source": [
    "# OCUS-based explanations"
   ]
  },
  {
   "cell_type": "code",
   "execution_count": 18,
   "metadata": {
    "scrolled": true
   },
   "outputs": [],
   "source": [
    "# start = time()\n",
    "\n",
    "# E,S,N = split_ocus_subsetmax(clues, vars_to_expl, constraints)\n",
    "\n",
    "# print(\"\\n Split OCUS - SubsetMAX\", \"\\t\"*4, f\"{time()-start}s\")"
   ]
  },
  {
   "cell_type": "markdown",
   "metadata": {},
   "source": [
    "# Adding correction subset enum for OCUS-based explanations"
   ]
  },
  {
   "cell_type": "code",
   "execution_count": 19,
   "metadata": {},
   "outputs": [],
   "source": [
    "# start = time()\n",
    "\n",
    "# E,S,N = split_ocus_subsetmax_corr_enum(clues, vars_to_expl, constraints)\n",
    "\n",
    "# print(\"\\n Split OCUS - Subsetmax Corr Enumeration\", \"\\t\"*4, f\"{time()-start}s\")"
   ]
  },
  {
   "cell_type": "code",
   "execution_count": 20,
   "metadata": {},
   "outputs": [],
   "source": [
    "# start = time()\n",
    "# E,S,N = split_ocus_subsetmax(clues, vars_to_expl, constraints)\n",
    "# print(\"\\n Split OCUS - Subsetmax\", \"\\t\"*4, f\"{time()-start}s\")"
   ]
  }
 ],
 "metadata": {
  "kernelspec": {
   "display_name": "Python 3 (ipykernel)",
   "language": "python",
   "name": "python3"
  },
  "language_info": {
   "codemirror_mode": {
    "name": "ipython",
    "version": 3
   },
   "file_extension": ".py",
   "mimetype": "text/x-python",
   "name": "python",
   "nbconvert_exporter": "python",
   "pygments_lexer": "ipython3",
   "version": "3.10.2"
  },
  "vscode": {
   "interpreter": {
    "hash": "fcd96b95db2b94a24be489ec92406cf1ead50f40f9a7d6bf0b0cd38b7ff22b67"
   }
  }
 },
 "nbformat": 4,
 "nbformat_minor": 2
}
