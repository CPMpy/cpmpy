{
 "cells": [
  {
   "cell_type": "code",
   "execution_count": 1,
   "id": "43a83340",
   "metadata": {},
   "outputs": [],
   "source": [
    "from cpmpy import *"
   ]
  },
  {
   "cell_type": "code",
   "execution_count": 2,
   "id": "98498701",
   "metadata": {},
   "outputs": [],
   "source": [
    "from numpy.random import randint\n",
    "import numpy as np\n",
    "from numpy.linalg import norm\n",
    "\n",
    "INFTY = 10000"
   ]
  },
  {
   "cell_type": "markdown",
   "id": "28a41271",
   "metadata": {},
   "source": [
    "## Knapsack problem"
   ]
  },
  {
   "cell_type": "code",
   "execution_count": 3,
   "id": "67f1c369",
   "metadata": {},
   "outputs": [],
   "source": [
    "#knapsack problem\n",
    "def get_knapsack_problem(N=8, capacity=35):\n",
    "    np.random.seed(0)\n",
    "    \n",
    "    items = boolvar(shape=N, name=\"items\")\n",
    "\n",
    "    values = randint(0,10,size=N)\n",
    "    weights = randint(0,10, size=N)\n",
    "\n",
    "    model = Model(maximize=sum(items * values))\n",
    "    model += sum(items * weights) <= capacity\n",
    "    \n",
    "    return model, (items, values, weights, capacity)"
   ]
  },
  {
   "cell_type": "code",
   "execution_count": 4,
   "id": "077fd142",
   "metadata": {},
   "outputs": [
    {
     "name": "stdout",
     "output_type": "stream",
     "text": [
      "Objective value: 32\n",
      "Used capacity: 31\n",
      "values = array([5, 0, 3, 3, 7, 9, 3, 5])\n",
      "weights = array([2, 4, 7, 6, 8, 8, 1, 6])\n",
      "capacity = 35\n"
     ]
    },
    {
     "data": {
      "text/plain": [
       "array([ True, False, False,  True,  True,  True,  True,  True])"
      ]
     },
     "execution_count": 4,
     "metadata": {},
     "output_type": "execute_result"
    }
   ],
   "source": [
    "model_knapsack, (items, values, weights, capacity) = get_knapsack_problem()\n",
    "assert model_knapsack.solve()\n",
    "print(\"Objective value:\",model_knapsack.objective_value())\n",
    "print(\"Used capacity:\", sum(items.value() * weights))\n",
    "\n",
    "print(f\"{values = }\")\n",
    "print(f\"{weights = }\")\n",
    "print(f\"{capacity = }\")\n",
    "\n",
    "items.value()"
   ]
  },
  {
   "cell_type": "markdown",
   "id": "alternative-masters",
   "metadata": {},
   "source": [
    "# Demonstrate multi-solver, with same syntax and variable sharing"
   ]
  },
  {
   "cell_type": "code",
   "execution_count": 5,
   "id": "silver-clone",
   "metadata": {},
   "outputs": [
    {
     "name": "stdout",
     "output_type": "stream",
     "text": [
      "\n",
      "Ortools: ExitStatus.OPTIMAL (0.002158058 seconds) : 32.0 [ True False False  True  True  True  True  True]\n",
      "Academic license - for non-commercial use only - expires 2022-10-21\n",
      "Using license file /home/tias/local/src/gurobi912/linux64/../gurobi.lic\n",
      "\n",
      "Gurobi: ExitStatus.OPTIMAL (0.0017571449279785156 seconds) : 32.0 [ True False  True False  True  True  True  True]\n",
      "\tGurobi's is a valid solution according to ortools: True\n"
     ]
    }
   ],
   "source": [
    "m_ort = SolverLookup.get(\"ortools\", model_knapsack)\n",
    "m_ort.solve()\n",
    "print(\"\\nOrtools:\", m_ort.status(), \":\", m_ort.objective_value(), items.value())\n",
    "\n",
    "m_grb = SolverLookup.get(\"gurobi\", model_knapsack)\n",
    "m_grb.solve()\n",
    "print(\"\\nGurobi:\", m_grb.status(), \":\", m_grb.objective_value(), items.value())\n",
    "\n",
    "# use ortools to verify the gurobi solution\n",
    "m_ort += (items == items.value())\n",
    "print(\"\\tGurobi's is a valid solution according to ortools:\", m_ort.solve())\n"
   ]
  }
 ],
 "metadata": {
  "kernelspec": {
   "display_name": "Python 3",
   "language": "python",
   "name": "python3"
  },
  "language_info": {
   "codemirror_mode": {
    "name": "ipython",
    "version": 3
   },
   "file_extension": ".py",
   "mimetype": "text/x-python",
   "name": "python",
   "nbconvert_exporter": "python",
   "pygments_lexer": "ipython3",
   "version": "3.9.2"
  }
 },
 "nbformat": 4,
 "nbformat_minor": 5
}
