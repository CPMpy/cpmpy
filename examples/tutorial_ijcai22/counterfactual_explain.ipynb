{
 "cells": [
  {
   "cell_type": "code",
   "execution_count": 12,
   "id": "43a83340",
   "metadata": {},
   "outputs": [],
   "source": [
    "from cpmpy import *"
   ]
  },
  {
   "cell_type": "code",
   "execution_count": 13,
   "id": "98498701",
   "metadata": {},
   "outputs": [],
   "source": [
    "from numpy.random import randint\n",
    "import numpy as np\n",
    "from numpy.linalg import norm\n",
    "\n",
    "INFTY = 10000"
   ]
  },
  {
   "cell_type": "markdown",
   "id": "28a41271",
   "metadata": {},
   "source": [
    "## Knapsack problem"
   ]
  },
  {
   "cell_type": "code",
   "execution_count": 14,
   "id": "67f1c369",
   "metadata": {},
   "outputs": [],
   "source": [
    "#knapsack problem\n",
    "def get_knapsack_problem(N=8, capacity=35):\n",
    "    np.random.seed(0)\n",
    "    \n",
    "    items = boolvar(shape=N, name=\"items\")\n",
    "\n",
    "    values = randint(0,10,size=N)\n",
    "    weights = randint(0,10, size=N)\n",
    "\n",
    "    model = Model(maximize=sum(items * values))\n",
    "    model += sum(items * weights) <= capacity\n",
    "    \n",
    "    return model, (items, values, weights, capacity)"
   ]
  },
  {
   "cell_type": "code",
   "execution_count": 21,
   "id": "077fd142",
   "metadata": {},
   "outputs": [
    {
     "name": "stdout",
     "output_type": "stream",
     "text": [
      "Objective value: 32\n",
      "Used capacity: 31\n",
      "values = array([5, 0, 3, 3, 7, 9, 3, 5])\n",
      "weights = array([2, 4, 7, 6, 8, 8, 1, 6])\n",
      "capacity = 35\n"
     ]
    },
    {
     "data": {
      "text/plain": [
       "array([ True, False, False,  True,  True,  True,  True,  True])"
      ]
     },
     "execution_count": 21,
     "metadata": {},
     "output_type": "execute_result"
    }
   ],
   "source": [
    "model, (items, values, weights, capacity) = get_knapsack_problem()\n",
    "assert model.solve()\n",
    "print(\"Objective value:\",model.objective_value())\n",
    "print(\"Used capacity:\", sum(items.value() * weights))\n",
    "\n",
    "print(f\"{values = }\")\n",
    "print(f\"{weights = }\")\n",
    "print(f\"{capacity = }\")\n",
    "\n",
    "items.value()"
   ]
  },
  {
   "cell_type": "code",
   "execution_count": 20,
   "id": "31f2c9d9",
   "metadata": {},
   "outputs": [
    {
     "name": "stdout",
     "output_type": "stream",
     "text": [
      "Objective value: 29\n",
      "Used capacity: 35\n"
     ]
    },
    {
     "data": {
      "text/plain": [
       "array([ True,  True,  True, False,  True,  True, False,  True])"
      ]
     },
     "execution_count": 20,
     "metadata": {},
     "output_type": "execute_result"
    }
   ],
   "source": [
    "# User query\n",
    "# \"I want my solution to really contain item 1 and 2\"\n",
    "model += all(items[[1,2]])\n",
    "assert model.solve()\n",
    "\n",
    "x_d = items.value()\n",
    "print(\"Objective value:\",model.objective_value())\n",
    "print(\"Used capacity:\", sum(x_d * weights))\n",
    "\n",
    "x_d"
   ]
  },
  {
   "cell_type": "markdown",
   "id": "f892309f",
   "metadata": {},
   "source": [
    "## Inverse optimize"
   ]
  },
  {
   "cell_type": "code",
   "execution_count": 23,
   "id": "8a173778",
   "metadata": {},
   "outputs": [
    {
     "name": "stdout",
     "output_type": "stream",
     "text": [
      "Original values: [5 0 3 3 7 9 3 5]\n",
      "new_d = array([5, 0, 3, 3, 7, 9, 3, 5])\n",
      "new_d = array([5, 0, 6, 3, 7, 9, 3, 5])\n",
      "new_d = array([5, 3, 3, 3, 7, 9, 3, 5])\n",
      "new_d = array([5, 3, 6, 3, 7, 9, 3, 5])\n"
     ]
    },
    {
     "data": {
      "text/plain": [
       "array([5, 3, 6, 3, 7, 9, 3, 5])"
      ]
     },
     "execution_count": 23,
     "metadata": {},
     "output_type": "execute_result"
    }
   ],
   "source": [
    "def inverse_optimize(SP, c, x, x_d, keep_static=None):\n",
    "    \n",
    "    # Decision variable for new parameter vector\n",
    "    d = intvar(0,INFTY, shape=len(x_d), name=\"d\")\n",
    "\n",
    "    # create the master problem\n",
    "    MP = SolverLookup.get(\"gurobi\")\n",
    "    MP.minimize(norm(c-d,1))\n",
    "    MP += SP.constraints\n",
    "    \n",
    "    if keep_static is not None:\n",
    "        MP += d[keep_static] == c[keep_static]\n",
    "\n",
    "    while MP.solve():\n",
    "        # find new d\n",
    "        new_d = d.value()\n",
    "        print(f\"{new_d = }\")\n",
    "        \n",
    "        SP.maximize(sum(new_d * x))\n",
    "        SP.solve()\n",
    "\n",
    "        if sum(new_d * x_d) >= sum(new_d * x.value()):\n",
    "            # solution is optimal\n",
    "            break\n",
    "\n",
    "        MP += sum(d * x_d) >= sum(d * x.value())\n",
    "    return new_d\n",
    "\n",
    "SP, (x, values, weights,_) = get_knapsack_problem()\n",
    "\n",
    "print(\"Original values:\", values)\n",
    "keep_static = [0,3,4,5,6,7]\n",
    "inverse_optimize(SP, values, x, x_d, keep_static)"
   ]
  },
  {
   "cell_type": "code",
   "execution_count": null,
   "id": "e9d2fa13",
   "metadata": {},
   "outputs": [],
   "source": []
  },
  {
   "cell_type": "code",
   "execution_count": null,
   "id": "e11b41e7",
   "metadata": {},
   "outputs": [],
   "source": []
  }
 ],
 "metadata": {
  "kernelspec": {
   "display_name": "Python 3 (ipykernel)",
   "language": "python",
   "name": "python3"
  },
  "language_info": {
   "codemirror_mode": {
    "name": "ipython",
    "version": 3
   },
   "file_extension": ".py",
   "mimetype": "text/x-python",
   "name": "python",
   "nbconvert_exporter": "python",
   "pygments_lexer": "ipython3",
   "version": "3.9.12"
  }
 },
 "nbformat": 4,
 "nbformat_minor": 5
}
